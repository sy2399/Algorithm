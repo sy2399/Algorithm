{
 "cells": [
  {
   "cell_type": "markdown",
   "metadata": {},
   "source": [
    "# p2382. 미생물 격리\n",
    "\n",
    "https://swexpertacademy.com/main/code/problem/problemDetail.do?contestProbId=AV597vbqAH0DFAVl"
   ]
  },
  {
   "cell_type": "markdown",
   "metadata": {},
   "source": [
    "## Try1 - timeout"
   ]
  },
  {
   "cell_type": "code",
   "execution_count": 29,
   "metadata": {
    "ExecuteTime": {
     "end_time": "2020-03-09T09:11:18.516108Z",
     "start_time": "2020-03-09T09:10:56.408549Z"
    }
   },
   "outputs": [
    {
     "name": "stdout",
     "output_type": "stream",
     "text": [
      "1\n",
      "7 2 9\n",
      "1 1 7 1\n",
      "2 1 7 1\n",
      "5 1 5 4\n",
      "3 2 8 4\n",
      "4 3 14 1\n",
      "3 4 3 3\n",
      "1 5 8 2\n",
      "3 5 100 1\n",
      "5 5 1 1\n",
      "time :  0 x, y : [[0, 1], [1, 1], [5, 2], [3, 3], [3, 3], [3, 3], [2, 5], [2, 5], [4, 5]] count :  [3, 7, 5, 8, 14, 3, 8, 100, 1]\n",
      "time :  1 x, y : [[1, 1], [0, 1], [5, 3], [3, 4], [2, 3], [3, 2], [3, 5], [1, 5], [3, 5]] count :  [3, 3, 5, 8, 14, 3, 8, 100, 1]\n",
      "#1 145\n"
     ]
    }
   ],
   "source": [
    "import math\n",
    "import os\n",
    "import random\n",
    "import re\n",
    "import sys\n",
    "\n",
    "\n",
    "#!/bin/python3\n",
    "\n",
    "import math\n",
    "import os\n",
    "import random\n",
    "import re\n",
    "import sys\n",
    "\n",
    "class virus:\n",
    "    def __init__(self, x, y, count, direction):\n",
    "        self.x = x\n",
    "        self.y = y\n",
    "        self.count = count\n",
    "        self.direction = direction\n",
    "        \n",
    "# Complete the climbingLeaderboard function below.\n",
    "def solution(N, M, loc_list, count_list, direction_list):\n",
    "    sum_ = 0 # 전체 미생물수의 합 \n",
    "    \n",
    "        \n",
    "    for time in range(M):\n",
    "        \n",
    "        for index, dir_ in enumerate(direction_list):\n",
    "            ######### 1시간 마다 이동\n",
    "            if dir_ == 1: # 상\n",
    "                loc_list[index][0] -=1\n",
    "            elif dir_ == 2: #하\n",
    "                loc_list[index][0] += 1\n",
    "                \n",
    "            elif dir_ == 3: #좌\n",
    "                loc_list[index][1] -=1\n",
    "            elif dir_== 4: #우\n",
    "                loc_list[index][1]  += 1\n",
    "                \n",
    "            ######### 1)약품이 칠해진 셀에 도착하면 군집 내 미생물의 절반이 죽고  \n",
    "            ######### 2)이동방향이 반대로 바뀐다\n",
    "            if (loc_list[index][0]  == 0) | (loc_list[index][1]  == 0) | (loc_list[index][0] == N-1) | (loc_list[index][1] == N-1):\n",
    "                # 1.\n",
    "                count_list[index] = count_list[index] // 2\n",
    "                \n",
    "                #2.\n",
    "                if dir_ == 1:  # 상 --> 하\n",
    "                    direction_list[index] = 2\n",
    "                elif dir_ == 2: #하 --> 상\n",
    "                    direction_list[index]= 1\n",
    "                elif dir_ == 3: #좌 --> 우\n",
    "                    direction_list[index] = 4\n",
    "                elif dir_ == 4: #우 --> 좌\n",
    "                    direction_list[index] = 3\n",
    "        ## end for loop\n",
    "        \n",
    "        \n",
    "        ######### 이동 후 두 개 이상의 군집이 한 셀에 모이는 경우 \n",
    "        ######### 군집들이 합쳐지게 된다.         \n",
    "        for index, loc in loc_list:\n",
    "            duplicate = [i for i,x in enumerate(loc_list) if x==loc] \n",
    "            if len(duplicate)>1:\n",
    "                count_tmp = [count_list[i] for i in duplicate]\n",
    "                max_tmp = max(count_tmp)\n",
    "                max_idx = [i for i in duplicate if count_list[i] == max_tmp]\n",
    "                \n",
    "                # max 값을 가진 군집을 제외한 나머지 제거! (count 합친 후)\n",
    "                count_list[max_idx] = sum([count_list[i] for i in duplicate])\n",
    "                for idx in duplicate:\n",
    "                    if idx != max_idx:\n",
    "                        loc_list.pop(idx)\n",
    "                        count_list.pop(idx)\n",
    "                        direction_list.pop(idx)\n",
    "\n",
    "                \n",
    "                \n",
    "        print(\"time : \", time, \"x, y :\", loc_list, \"count : \", count_list)\n",
    "            \n",
    "    for index, i in enumerate(count_list):\n",
    "        sum_ += i   \n",
    "        \n",
    "    return sum_\n",
    "    \n",
    "    \n",
    "if __name__ == '__main__':\n",
    "    \n",
    "    n = input() ## 테스트케이스 수\n",
    "    loc_list = list() # x,y\n",
    "    count_list = list() # 미생물 수\n",
    "    direction_list = list() # 이동방향\n",
    "    \n",
    "    for num in range(int(n)):\n",
    "        N, M, K = list(map(int, input().rstrip().split()))\n",
    "        \n",
    "        # 미생물 군집의 수만큼 (세로 위치, 가로위치, 미생물 수, 이동방향)\n",
    "        for k in range(K):\n",
    "            row, col, count, direction = list(map(int, input().rstrip().split()))\n",
    "            loc_list.append([row, col])\n",
    "            count_list.append(count)\n",
    "            direction_list.append(direction)\n",
    "            \n",
    "        sum_ = solution(N, M, loc_list, count_list, direction_list) \n",
    "        \n",
    "        print(\"#\"+ str(num+1), sum_)\n",
    "    \n",
    "#     queries = []\n",
    "\n",
    "#     for _ in range(queries_count):\n",
    "#         queries_item = int(input())\n",
    "#         queries.append(queries_item)"
   ]
  },
  {
   "cell_type": "markdown",
   "metadata": {},
   "source": [
    "## Try2 - list 대신 dict (class 사용)\n",
    "\n",
    "***초기화 잘하기!!***\n",
    "- 테스트 케이스 여러개인데 초기화를 엉뚱한 데서 하면 데이터가 누적된다!!"
   ]
  },
  {
   "cell_type": "code",
   "execution_count": 4,
   "metadata": {
    "ExecuteTime": {
     "end_time": "2020-03-17T09:23:40.852831Z",
     "start_time": "2020-03-17T09:23:17.351934Z"
    }
   },
   "outputs": [
    {
     "name": "stdout",
     "output_type": "stream",
     "text": [
      "1\n",
      "7 2 9\n",
      "1 1 7 1\n",
      "2 1 7 1\n",
      "5 1 5 4\n",
      "3 2 8 4\n",
      "4 3 14 1\n",
      "3 4 3 3\n",
      "1 5 8 2\n",
      "3 5 100 1\n",
      "5 5 1 1\n",
      "#1 145\n"
     ]
    }
   ],
   "source": [
    "class virus:\n",
    "    def __init__(self, x, y, count, direction):\n",
    "        self.x = x\n",
    "        self.y = y\n",
    "        self.count = count\n",
    "        self.direction = direction\n",
    " \n",
    "    def toString(self):\n",
    "        return '{} {} {} {}'.format(self.x, self.y, self.count, self.direction)\n",
    " \n",
    " \n",
    "def move(value, N):\n",
    " \n",
    "    ######### 1시간 마다 이동\n",
    "    if value.direction == 1:  # 상\n",
    "        value.x -= 1\n",
    "    elif value.direction == 2:  # 하\n",
    "        value.x += 1\n",
    "    elif value.direction == 3:  # 좌\n",
    "        value.y -= 1\n",
    "    elif value.direction == 4:  # 우\n",
    "        value.y += 1\n",
    " \n",
    "    ######### 1시간 마다 이동했을때 약품 칠해진 셀에 도착하면\n",
    "    if (value.x == 0) or (value.x == N - 1) or (value.y == 0) or (value.y == N - 1):\n",
    "        value.count = value.count // 2\n",
    " \n",
    "        if value.direction == 1:  # 상\n",
    "            value.direction = 2\n",
    " \n",
    "        elif value.direction == 2:  # 하\n",
    "            value.direction = 1\n",
    " \n",
    "        elif value.direction == 3:  # 좌\n",
    "            value.direction = 4\n",
    " \n",
    "        elif value.direction == 4:  # 우\n",
    "            value.direction = 3\n",
    " \n",
    "        # Complete the climbingLeaderboard function below.\n",
    " \n",
    " \n",
    "def solution(N, M, virus_dict):\n",
    "    sum_ = 0  # 전체 미생물수의 합\n",
    "    checkList = {}\n",
    "    while M:\n",
    "         \n",
    "        for key, value in virus_dict.items():\n",
    "            move(value, N)\n",
    " \n",
    "        ######## 모든 군집이 한번 이동 완료.\n",
    " \n",
    "        ######## 위치 중복 여부 확인\n",
    "        # 두개 이상의 군집 모이면 합쳐짐\n",
    " \n",
    "        for key, value in virus_dict.items():\n",
    "            if (value.x, value.y) in checkList:\n",
    "                checkList[(value.x, value.y)].append(key)\n",
    "            else:\n",
    "                checkList[(value.x, value.y)] = [key]\n",
    " \n",
    "        temp = []\n",
    " \n",
    "        for key, list in checkList.items():\n",
    "            if len(list) <= 1:\n",
    "                temp.append(key)\n",
    "        for idx in temp:\n",
    "            del checkList[idx]\n",
    " \n",
    "        ######## 중복된 위치를 갖는 군집 중 최대 값(count) 를 가진거 찾기\n",
    "        for key, value in checkList.items():\n",
    "            ## key : 위치값 (x,y)\n",
    "            ## value : 해당 위치에 존재하는 군집의 리스트(군집번호)\n",
    "            maxIdx = -1\n",
    "            maxVal = -1\n",
    " \n",
    "            for idx in value:\n",
    "                if maxVal < virus_dict[idx].count:\n",
    "                    maxVal = virus_dict[idx].count\n",
    "                    maxIdx = idx\n",
    " \n",
    "            subList = []\n",
    "            for idx in value:\n",
    "                if idx != maxIdx:\n",
    "                    virus_dict[maxIdx].count += virus_dict[idx].count\n",
    "                    del virus_dict[idx]\n",
    " \n",
    "        M -= 1\n",
    "        checkList = {}\n",
    " \n",
    "    for key, value in virus_dict.items():\n",
    "        sum_ += value.count\n",
    "    return sum_\n",
    " \n",
    " \n",
    " \n",
    "if __name__ == '__main__':\n",
    " \n",
    "    n = input()  ## 테스트케이스 수\n",
    " \n",
    "    for num in range(int(n)):\n",
    "        virus_dict = {}\n",
    "        N, M, K = list(map(int, input().rstrip().split()))\n",
    " \n",
    "        # 미생물 군집의 수만큼 (세로 위치, 가로위치, 미생물 수, 이동방향)\n",
    "        for k in range(K):\n",
    "            row, col, count, direction = map(int, input().rstrip().split())\n",
    "            v = virus(row, col, count, direction)\n",
    "            virus_dict[k] = v\n",
    " \n",
    "        sum_ = solution(N, M, virus_dict)\n",
    " \n",
    "        print(\"#\" + str(num + 1), sum_)"
   ]
  },
  {
   "cell_type": "markdown",
   "metadata": {},
   "source": [
    "# p2383. 점심 식사시간\n",
    "https://swexpertacademy.com/main/code/problem/problemDetail.do?contestProbId=AV5-BEE6AK0DFAVl&"
   ]
  },
  {
   "cell_type": "code",
   "execution_count": 2,
   "metadata": {
    "ExecuteTime": {
     "end_time": "2020-03-18T08:37:03.295128Z",
     "start_time": "2020-03-18T08:37:03.285653Z"
    }
   },
   "outputs": [
    {
     "data": {
      "text/plain": [
       "3"
      ]
     },
     "execution_count": 2,
     "metadata": {},
     "output_type": "execute_result"
    }
   ],
   "source": [
    "tmp_list = [1,2,3]\n",
    "len(tmp_list)    "
   ]
  },
  {
   "cell_type": "code",
   "execution_count": null,
   "metadata": {},
   "outputs": [],
   "source": []
  },
  {
   "cell_type": "code",
   "execution_count": null,
   "metadata": {},
   "outputs": [],
   "source": []
  },
  {
   "cell_type": "code",
   "execution_count": null,
   "metadata": {},
   "outputs": [],
   "source": []
  },
  {
   "cell_type": "code",
   "execution_count": null,
   "metadata": {},
   "outputs": [],
   "source": []
  },
  {
   "cell_type": "code",
   "execution_count": null,
   "metadata": {},
   "outputs": [],
   "source": []
  }
 ],
 "metadata": {
  "kernelspec": {
   "display_name": "Python 3",
   "language": "python",
   "name": "python3"
  },
  "language_info": {
   "codemirror_mode": {
    "name": "ipython",
    "version": 3
   },
   "file_extension": ".py",
   "mimetype": "text/x-python",
   "name": "python",
   "nbconvert_exporter": "python",
   "pygments_lexer": "ipython3",
   "version": "3.7.4"
  },
  "toc": {
   "base_numbering": 1,
   "nav_menu": {},
   "number_sections": true,
   "sideBar": true,
   "skip_h1_title": false,
   "title_cell": "Table of Contents",
   "title_sidebar": "Contents",
   "toc_cell": false,
   "toc_position": {},
   "toc_section_display": true,
   "toc_window_display": true
  },
  "varInspector": {
   "cols": {
    "lenName": 16,
    "lenType": 16,
    "lenVar": 40
   },
   "kernels_config": {
    "python": {
     "delete_cmd_postfix": "",
     "delete_cmd_prefix": "del ",
     "library": "var_list.py",
     "varRefreshCmd": "print(var_dic_list())"
    },
    "r": {
     "delete_cmd_postfix": ") ",
     "delete_cmd_prefix": "rm(",
     "library": "var_list.r",
     "varRefreshCmd": "cat(var_dic_list()) "
    }
   },
   "types_to_exclude": [
    "module",
    "function",
    "builtin_function_or_method",
    "instance",
    "_Feature"
   ],
   "window_display": false
  }
 },
 "nbformat": 4,
 "nbformat_minor": 2
}
