{
 "cells": [
  {
   "cell_type": "markdown",
   "metadata": {},
   "source": [
    "# 데모 테스트-1. 직사각형 좌표 찾기"
   ]
  },
  {
   "cell_type": "code",
   "execution_count": 27,
   "metadata": {
    "ExecuteTime": {
     "end_time": "2020-05-09T04:20:50.454562Z",
     "start_time": "2020-05-09T04:20:50.447386Z"
    }
   },
   "outputs": [],
   "source": [
    "import collections\n",
    "\n",
    "def solution(v):\n",
    "    answer = []\n",
    "    x_points = []\n",
    "    y_points = []\n",
    "\n",
    "    for x, y in v:\n",
    "        x_points.append(x)\n",
    "        y_points.append(y)\n",
    "\n",
    "    \n",
    "    count_x = collections.Counter(x_points)\n",
    "    count_y = collections.Counter(y_points)\n",
    "\n",
    "    answer.append(list(count_x.keys())[list(count_x.values()).index(1)])\n",
    "    answer.append(list(count_y.keys())[list(count_y.values()).index(1)])\n",
    "    \n",
    "    return answer"
   ]
  },
  {
   "cell_type": "code",
   "execution_count": 28,
   "metadata": {
    "ExecuteTime": {
     "end_time": "2020-05-09T04:20:50.650417Z",
     "start_time": "2020-05-09T04:20:50.643275Z"
    }
   },
   "outputs": [
    {
     "name": "stdout",
     "output_type": "stream",
     "text": [
      "[1, 2, 1]\n",
      "[1, 2, 2]\n",
      "Counter({1: 2, 2: 1})\n",
      "Counter({2: 2, 1: 1})\n"
     ]
    },
    {
     "data": {
      "text/plain": [
       "[2, 1]"
      ]
     },
     "execution_count": 28,
     "metadata": {},
     "output_type": "execute_result"
    }
   ],
   "source": [
    "v = [[1, 1], [2, 2], [1, 2]]\n",
    "\n",
    "solution(v)"
   ]
  },
  {
   "cell_type": "markdown",
   "metadata": {},
   "source": [
    "# 데모 테스트-2. \n",
    "\n",
    "별(*) 문자를 이용해 가로의 길이가 n, 세로의 길이가 m인 직사각형 형태를 출력해보세요."
   ]
  },
  {
   "cell_type": "code",
   "execution_count": 35,
   "metadata": {
    "ExecuteTime": {
     "end_time": "2020-05-09T04:25:32.813272Z",
     "start_time": "2020-05-09T04:25:31.605616Z"
    }
   },
   "outputs": [
    {
     "name": "stdout",
     "output_type": "stream",
     "text": [
      "5 3\n",
      "*****\n",
      "*****\n",
      "*****\n"
     ]
    }
   ],
   "source": [
    "a, b = map(int, input().strip().split(' '))\n",
    "\n",
    "for i in range(b):\n",
    "    print('*' * a)"
   ]
  },
  {
   "cell_type": "markdown",
   "metadata": {},
   "source": [
    "# 키패드"
   ]
  },
  {
   "cell_type": "code",
   "execution_count": 76,
   "metadata": {
    "ExecuteTime": {
     "end_time": "2020-05-09T05:33:04.028472Z",
     "start_time": "2020-05-09T05:33:04.015303Z"
    }
   },
   "outputs": [],
   "source": [
    "import math\n",
    "\n",
    "class Point:\n",
    "    def __init__(self, x, y):\n",
    "        self.x = x\n",
    "        self.y = y\n",
    "        \n",
    "def distance(hand_point, click):\n",
    "    dist = abs(click[0] - hand_point.x) + abs(click[1] - hand_point.y)\n",
    "    return dist\n",
    "    \n",
    "def solution(numbers, hand):\n",
    "    answer = ''\n",
    "    keys =  [[3, 1],\n",
    "             [0, 0], [0, 1], [0, 2],\n",
    "             [1, 0], [1,1], [1,2],\n",
    "             [2,0], [2,1], [2,2],\n",
    "             [3,0], [3,2]]\n",
    "    # 0 = [3,1]\n",
    "    # * = [3, 0]\n",
    "    # # = [3, 2]\n",
    "    \n",
    "    left_point = Point(3, 0)\n",
    "    right_point = Point(3, 1)\n",
    "\n",
    "    for click in numbers:\n",
    "#         print(\"\\n CLICK : \", click)\n",
    "        if click in [1,4,7]:\n",
    "            answer += \"L\"\n",
    "            left_point = Point(keys[click][0], keys[click][1])\n",
    "            \n",
    "        elif click in [3,6,9]:\n",
    "            answer += \"R\"\n",
    "            right_point = Point(keys[click][0], keys[click][1])\n",
    "            \n",
    "        else:\n",
    "            # 왼손의 위치, 오른손의 위치에 따라\n",
    "            # 오른손잡이인지, 왼손잡이인지\n",
    "            \n",
    "            left_dist = distance(left_point, keys[click])\n",
    "            right_dist = distance(right_point, keys[click])\n",
    "            \n",
    "            if left_dist == right_dist:\n",
    "                if hand == \"right\":\n",
    "                    answer += \"R\"\n",
    "                    right_point = Point(keys[click][0], keys[click][1])\n",
    "                else:\n",
    "                    answer += \"L\"\n",
    "                    left_point = Point(keys[click][0], keys[click][1])\n",
    "\n",
    "                    \n",
    "            else:\n",
    "                if left_dist < right_dist:\n",
    "                    answer += \"L\"\n",
    "                    left_point = Point(keys[click][0], keys[click][1])\n",
    "                else:\n",
    "                    answer += \"R\"\n",
    "                    right_point = Point(keys[click][0], keys[click][1])\n",
    "\n",
    "    return answer"
   ]
  },
  {
   "cell_type": "code",
   "execution_count": 77,
   "metadata": {
    "ExecuteTime": {
     "end_time": "2020-05-09T05:33:04.570297Z",
     "start_time": "2020-05-09T05:33:04.562875Z"
    },
    "scrolled": true
   },
   "outputs": [
    {
     "name": "stdout",
     "output_type": "stream",
     "text": [
      "\n",
      " CLICK :  7\n",
      "ANSWER :  L\n",
      "REAL** :  LRLLRRLLLRR\n",
      "\n",
      " CLICK :  0\n",
      "ANSWER :  LR\n",
      "REAL** :  LRLLRRLLLRR\n",
      "\n",
      " CLICK :  8\n",
      "ANSWER :  LRL\n",
      "REAL** :  LRLLRRLLLRR\n",
      "\n",
      " CLICK :  2\n",
      "ANSWER :  LRLL\n",
      "REAL** :  LRLLRRLLLRR\n",
      "\n",
      " CLICK :  8\n",
      "ANSWER :  LRLLL\n",
      "REAL** :  LRLLRRLLLRR\n",
      "\n",
      " CLICK :  3\n",
      "ANSWER :  LRLLLR\n",
      "REAL** :  LRLLRRLLLRR\n",
      "\n",
      " CLICK :  1\n",
      "ANSWER :  LRLLLRL\n",
      "REAL** :  LRLLRRLLLRR\n",
      "\n",
      " CLICK :  5\n",
      "ANSWER :  LRLLLRLL\n",
      "REAL** :  LRLLRRLLLRR\n",
      "\n",
      " CLICK :  7\n",
      "ANSWER :  LRLLLRLLL\n",
      "REAL** :  LRLLRRLLLRR\n",
      "\n",
      " CLICK :  6\n",
      "ANSWER :  LRLLLRLLLR\n",
      "REAL** :  LRLLRRLLLRR\n",
      "\n",
      " CLICK :  2\n",
      "ANSWER :  LRLLLRLLLRR\n",
      "REAL** :  LRLLRRLLLRR\n"
     ]
    },
    {
     "data": {
      "text/plain": [
       "'LRLLLRLLLRR'"
      ]
     },
     "execution_count": 77,
     "metadata": {},
     "output_type": "execute_result"
    }
   ],
   "source": [
    "numbers = [7, 0, 8, 2, 8, 3, 1, 5, 7, 6, 2]\n",
    "hand = \"left\"\n",
    "# 13458214595\n",
    "# LRLLRRLLLRR\n",
    "\n",
    "solution(numbers, hand)"
   ]
  },
  {
   "cell_type": "markdown",
   "metadata": {
    "ExecuteTime": {
     "end_time": "2020-05-09T05:15:01.834343Z",
     "start_time": "2020-05-09T05:15:01.827277Z"
    }
   },
   "source": [
    "# 연산 우선순위"
   ]
  },
  {
   "cell_type": "code",
   "execution_count": 163,
   "metadata": {
    "ExecuteTime": {
     "end_time": "2020-05-09T06:35:40.069551Z",
     "start_time": "2020-05-09T06:35:40.058319Z"
    }
   },
   "outputs": [],
   "source": [
    "import re\n",
    "from itertools import permutations\n",
    "\n",
    "def solution(expression):\n",
    "    answer = 0\n",
    "    number = re.split(r'[`\\-=~!@#$%^&*()_+\\[\\]{};\\'\\\\:\"|<,./<>?]', expression)\n",
    "    operator = re.findall('[`\\-=~!@#$%^&*()_+\\[\\]{};\\'\\\\:\"|<,./<>?]', expression)\n",
    "    \n",
    "    unique_op = set(operator)\n",
    "    op_rank = list(permutations(unique_op))\n",
    "    print(op_rank)\n",
    "    \n",
    "    math_exp = \"(\"\n",
    "\n",
    "    for combi in op_rank:\n",
    "        print(\"\\nRANK :\", combi)\n",
    "        tmp_op = []\n",
    "        tmp_bracket = []\n",
    "        tmp_bracket.append(\"(\")\n",
    "        \n",
    "        for idx, num in enumerate(number):\n",
    "            print(\"NUM : \", num)\n",
    "            if idx < len(operator):\n",
    "                current_op = operator[idx]\n",
    "                \n",
    "                if len(tmp_op) == 0:\n",
    "                    tmp_op.append(current_op)\n",
    "                    \n",
    "                    # 뒤에 나올 연산자와의 관계도 고려해야 함\n",
    "                    if idx+2 < len(operator):\n",
    "                        if combi.index(current_op) < combi.index(operator[idx+2])\n",
    "                    \n",
    "                    math_exp += num\n",
    "                    \n",
    "                    \n",
    "                else:\n",
    "#                     print(\"\\nCOMPARE : \", tmp_op[-1],\" VS  \", current_op, \"\\n\" )\n",
    "                    \n",
    "                    if combi.index(current_op) > combi.index(tmp_op[-1]):\n",
    "#                         print( tmp_op[-1], \"  > \", current_op)\n",
    "                        math_exp += num\n",
    "                        math_exp += \")\"\n",
    "                        if tmp_bracket[-1] == \"(\":\n",
    "                            tmp_bracket.pop()\n",
    "                        \n",
    "                    else:\n",
    "#                         print( tmp_op[-1], \"  < \", current_op)\n",
    "                        print(\"CASE2\")\n",
    "                        # 뒤에 나올 연산자와의 관계도 고려해야 함\n",
    "    \n",
    "    \n",
    "                        math_exp += \"(\" \n",
    "                        math_exp += num\n",
    "                        tmp_bracket.append(\"(\")\n",
    "                        \n",
    "                    tmp_op.append(current_op)\n",
    "\n",
    "                math_exp += current_op \n",
    "            else:\n",
    "                math_exp += num\n",
    "                math_exp += \")\"\n",
    "                \n",
    "                \n",
    "                if tmp_bracket[-1] == \"(\":\n",
    "                    tmp_bracket.pop()\n",
    "            \n",
    "            print(math_exp)\n",
    "        if len(tmp_bracket) > 0:\n",
    "            math_exp += \")\"\n",
    "        \n",
    "        new_answer = abs(eval(math_exp))\n",
    "#         print(\"EXP : \" ,math_exp , \"= \", new_answer)\n",
    "            \n",
    "        if new_answer > answer:\n",
    "            answer = new_answer\n",
    "            \n",
    "        math_exp = \"(\"\n",
    "            \n",
    "            \n",
    "       \n",
    "        \n",
    "        \n",
    "    \n",
    "    return answer"
   ]
  },
  {
   "cell_type": "code",
   "execution_count": 260,
   "metadata": {
    "ExecuteTime": {
     "end_time": "2020-05-09T07:22:06.803367Z",
     "start_time": "2020-05-09T07:22:06.791846Z"
    }
   },
   "outputs": [],
   "source": [
    "import re\n",
    "from itertools import permutations\n",
    "\n",
    "def replaceExp(tmp_exp, replace_Num, replace_idx):\n",
    "    \n",
    "    min_idx = min(replace_idx)\n",
    "    print(replace_idx, min_idx)\n",
    "    \n",
    "\n",
    "    \n",
    "    tmp_exp[min_idx] = str(replace_Num)\n",
    "\n",
    "    replace_changed= [x+1 for x in replace_idx]\n",
    "    \n",
    "    \n",
    "    del tmp_exp[min(replace_changed):max(replace_changed)]\n",
    "    \n",
    "    print(tmp_exp)\n",
    "\n",
    "    return tmp_exp\n",
    "    \n",
    "    \n",
    "    \n",
    "def solution(expression):\n",
    "    answer = 0\n",
    "    number = re.split(r'[`\\-=~!@#$%^&*()_+\\[\\]{};\\'\\\\:\"|<,./<>?]', expression)\n",
    "    operator = re.findall('[`\\-=~!@#$%^&*()_+\\[\\]{};\\'\\\\:\"|<,./<>?]', expression)\n",
    "\n",
    "    \n",
    "    exp = []\n",
    "    for idx, num in enumerate(number):\n",
    "        exp.append(num)\n",
    "        if idx < len(operator):\n",
    "            exp.append(operator[idx])\n",
    "        \n",
    "\n",
    "    \n",
    "    \n",
    "    unique_op = set(operator)\n",
    "    op_rank = list(permutations(unique_op))\n",
    "    \n",
    "    for combi in op_rank:\n",
    "        print(combi)\n",
    "        tmp_exp = exp\n",
    "        \n",
    "        for op in combi:\n",
    "            \n",
    "            #우선순위 연산자부터 계산해주기\n",
    "#             indexs = [i for i, x in enumerate(tmp_exp) if x == op]\n",
    "#             print(\"\\n\", op, \"의 위치 : \", sorted(indexs))\n",
    "\n",
    "            print(\"***\", index , \"번째\", op)\n",
    "\n",
    "            print(tmp_exp[index-1], op, tmp_exp[index+1])\n",
    "\n",
    "            replace_idx = range((index-1),(index+2))\n",
    "            replaceNum = eval(tmp_exp[index-1] + op + tmp_exp[index+1])\n",
    "            print(replaceNum)\n",
    "            tmp_exp = replaceExp(tmp_exp, replaceNum, replace_idx, op_index)\n",
    "            \n",
    "            \n",
    "            \n",
    "        break\n",
    "                      \n",
    "    return answer"
   ]
  },
  {
   "cell_type": "code",
   "execution_count": 261,
   "metadata": {
    "ExecuteTime": {
     "end_time": "2020-05-09T07:22:07.269358Z",
     "start_time": "2020-05-09T07:22:07.255553Z"
    }
   },
   "outputs": [
    {
     "name": "stdout",
     "output_type": "stream",
     "text": [
      "('+', '-', '*')\n",
      "\n",
      " + 의 위치 :  [7]\n",
      "*** 7 번째 +\n",
      "500 + 20\n",
      "520\n",
      "range(6, 9) 6\n",
      "['100', '-', '200', '*', '300', '-', '520', '-', '10']\n",
      "\n",
      " - 의 위치 :  [1, 5, 7]\n",
      "*** 1 번째 -\n",
      "100 - 200\n",
      "-100\n",
      "range(0, 3) 0\n",
      "['-100', '*', '300', '-', '520', '-', '10']\n",
      "*** 5 번째 -\n",
      "520 - 10\n",
      "510\n",
      "range(4, 7) 4\n",
      "['-100', '*', '300', '-', '510']\n",
      "*** 7 번째 -\n"
     ]
    },
    {
     "ename": "IndexError",
     "evalue": "list index out of range",
     "output_type": "error",
     "traceback": [
      "\u001b[0;31m---------------------------------------------------------------------------\u001b[0m",
      "\u001b[0;31mIndexError\u001b[0m                                Traceback (most recent call last)",
      "\u001b[0;32m<ipython-input-261-10e3d002aff1>\u001b[0m in \u001b[0;36m<module>\u001b[0;34m\u001b[0m\n\u001b[1;32m      1\u001b[0m \u001b[0mexpression\u001b[0m \u001b[0;34m=\u001b[0m \u001b[0;34m\"100-200*300-500+20-10\"\u001b[0m\u001b[0;34m\u001b[0m\u001b[0;34m\u001b[0m\u001b[0m\n\u001b[0;32m----> 2\u001b[0;31m \u001b[0msolution\u001b[0m\u001b[0;34m(\u001b[0m\u001b[0mexpression\u001b[0m\u001b[0;34m)\u001b[0m\u001b[0;34m\u001b[0m\u001b[0;34m\u001b[0m\u001b[0m\n\u001b[0m\u001b[1;32m      3\u001b[0m \u001b[0;34m\u001b[0m\u001b[0m\n",
      "\u001b[0;32m<ipython-input-260-27c3e13707d7>\u001b[0m in \u001b[0;36msolution\u001b[0;34m(expression)\u001b[0m\n\u001b[1;32m     53\u001b[0m                 \u001b[0mprint\u001b[0m\u001b[0;34m(\u001b[0m\u001b[0;34m\"***\"\u001b[0m\u001b[0;34m,\u001b[0m \u001b[0mindex\u001b[0m \u001b[0;34m,\u001b[0m \u001b[0;34m\"번째\"\u001b[0m\u001b[0;34m,\u001b[0m \u001b[0mop\u001b[0m\u001b[0;34m)\u001b[0m\u001b[0;34m\u001b[0m\u001b[0;34m\u001b[0m\u001b[0m\n\u001b[1;32m     54\u001b[0m \u001b[0;34m\u001b[0m\u001b[0m\n\u001b[0;32m---> 55\u001b[0;31m                 \u001b[0mprint\u001b[0m\u001b[0;34m(\u001b[0m\u001b[0mtmp_exp\u001b[0m\u001b[0;34m[\u001b[0m\u001b[0mindex\u001b[0m\u001b[0;34m-\u001b[0m\u001b[0;36m1\u001b[0m\u001b[0;34m]\u001b[0m\u001b[0;34m,\u001b[0m \u001b[0mop\u001b[0m\u001b[0;34m,\u001b[0m \u001b[0mtmp_exp\u001b[0m\u001b[0;34m[\u001b[0m\u001b[0mindex\u001b[0m\u001b[0;34m+\u001b[0m\u001b[0;36m1\u001b[0m\u001b[0;34m]\u001b[0m\u001b[0;34m)\u001b[0m\u001b[0;34m\u001b[0m\u001b[0;34m\u001b[0m\u001b[0m\n\u001b[0m\u001b[1;32m     56\u001b[0m \u001b[0;34m\u001b[0m\u001b[0m\n\u001b[1;32m     57\u001b[0m                 \u001b[0mreplace_idx\u001b[0m \u001b[0;34m=\u001b[0m \u001b[0mrange\u001b[0m\u001b[0;34m(\u001b[0m\u001b[0;34m(\u001b[0m\u001b[0mindex\u001b[0m\u001b[0;34m-\u001b[0m\u001b[0;36m1\u001b[0m\u001b[0;34m)\u001b[0m\u001b[0;34m,\u001b[0m\u001b[0;34m(\u001b[0m\u001b[0mindex\u001b[0m\u001b[0;34m+\u001b[0m\u001b[0;36m2\u001b[0m\u001b[0;34m)\u001b[0m\u001b[0;34m)\u001b[0m\u001b[0;34m\u001b[0m\u001b[0;34m\u001b[0m\u001b[0m\n",
      "\u001b[0;31mIndexError\u001b[0m: list index out of range"
     ]
    }
   ],
   "source": [
    "expression = \"100-200*300-500+20-10\"\n",
    "solution(expression)\n",
    "\n"
   ]
  },
  {
   "cell_type": "code",
   "execution_count": 262,
   "metadata": {
    "ExecuteTime": {
     "end_time": "2020-05-09T07:26:32.804550Z",
     "start_time": "2020-05-09T07:26:32.800886Z"
    }
   },
   "outputs": [],
   "source": [
    "def solution(gems):\n",
    "    answer = []\n",
    "    unique_gem = set(gems)\n",
    "    max_len = len(unoqie_gem)\n",
    "    \n",
    "    for idx in range(0, max_len):\n",
    "        print(gems[idx:idx+max+len])\n",
    "    return answer"
   ]
  },
  {
   "cell_type": "code",
   "execution_count": null,
   "metadata": {},
   "outputs": [],
   "source": [
    "gems = [\"DIA\", \"RUBY\", \"RUBY\", \"DIA\", \"DIA\", \"EMERALD\", \"SAPPHIRE\", \"DIA\"]\t\n",
    "\n",
    "\n"
   ]
  }
 ],
 "metadata": {
  "kernelspec": {
   "display_name": "Python 3",
   "language": "python",
   "name": "python3"
  },
  "language_info": {
   "codemirror_mode": {
    "name": "ipython",
    "version": 3
   },
   "file_extension": ".py",
   "mimetype": "text/x-python",
   "name": "python",
   "nbconvert_exporter": "python",
   "pygments_lexer": "ipython3",
   "version": "3.6.10"
  },
  "toc": {
   "base_numbering": 1,
   "nav_menu": {},
   "number_sections": true,
   "sideBar": true,
   "skip_h1_title": false,
   "title_cell": "Table of Contents",
   "title_sidebar": "Contents",
   "toc_cell": false,
   "toc_position": {},
   "toc_section_display": true,
   "toc_window_display": false
  },
  "varInspector": {
   "cols": {
    "lenName": 16,
    "lenType": 16,
    "lenVar": 40
   },
   "kernels_config": {
    "python": {
     "delete_cmd_postfix": "",
     "delete_cmd_prefix": "del ",
     "library": "var_list.py",
     "varRefreshCmd": "print(var_dic_list())"
    },
    "r": {
     "delete_cmd_postfix": ") ",
     "delete_cmd_prefix": "rm(",
     "library": "var_list.r",
     "varRefreshCmd": "cat(var_dic_list()) "
    }
   },
   "types_to_exclude": [
    "module",
    "function",
    "builtin_function_or_method",
    "instance",
    "_Feature"
   ],
   "window_display": false
  }
 },
 "nbformat": 4,
 "nbformat_minor": 4
}
