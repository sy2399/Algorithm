{
 "cells": [
  {
   "cell_type": "markdown",
   "metadata": {},
   "source": [
    "**2019 KAKAO 개발자 겨울 인턴십 코딩테스트 문제**\n",
    "\n",
    "- [x] 크레인 인형뽑기 (Stack)\n",
    "- [x] 튜플 (정규표현식)\n",
    "- [ ] 불량 사용자 (DFS + ***효율성***)\n",
    "- [ ] 호텔 방 배정\n",
    "- [ ] 징검다리 건너기"
   ]
  },
  {
   "cell_type": "markdown",
   "metadata": {},
   "source": [
    "# Q1. 크레인 인형뽑기\n",
    "\n",
    "일단 인형을 뽑아 저장하는 바구니를 Stack 이라고 생각 (first in last out)\n",
    "\n",
    "***\n",
    "출처: https://programmers.co.kr/learn/courses/30/lessons/64061\n",
    "\n",
    "*** \n",
    "2차원 리스트에서 특정 column 만 고르기 : https://emilkwak.github.io/python-2d-list-certain-column\n"
   ]
  },
  {
   "cell_type": "code",
   "execution_count": 100,
   "metadata": {
    "ExecuteTime": {
     "end_time": "2020-05-07T06:51:59.367890Z",
     "start_time": "2020-05-07T06:51:59.360177Z"
    }
   },
   "outputs": [],
   "source": [
    "import collections \n",
    "import numpy as np\n",
    "\n",
    "def solution(board, moves):\n",
    "    answer = 0\n",
    "    N = len(board)\n",
    "    box = collections.deque([])\n",
    "    col_list = []\n",
    "    \n",
    "    print(board)\n",
    "    for i in range(N):\n",
    "        dols = list(zip(*board))[i]\n",
    "        dol_dq = collections.deque([value for value in dols if value != 0])\n",
    "        col_list.append(dol_dq)\n",
    "\n",
    "#     print(\"col_list : \", col_list)\n",
    "    \n",
    "    for pick in moves:\n",
    "        print(\"pick : \", pick, \"col : \", col_list[pick-1])\n",
    "        if len(col_list[pick-1]) != 0:\n",
    "            pop_dol = col_list[pick-1].popleft()\n",
    "         \n",
    "            box.append(pop_dol)\n",
    "            if len(box) > 1:\n",
    "                if box[-1] == box[-2]:\n",
    "                    box.pop()\n",
    "                    box.pop()\n",
    "                    answer += 2 \n",
    "\n",
    "    \n",
    "\n",
    "                \n",
    "                \n",
    "    return answer"
   ]
  },
  {
   "cell_type": "code",
   "execution_count": 102,
   "metadata": {
    "ExecuteTime": {
     "end_time": "2020-05-07T06:52:00.707543Z",
     "start_time": "2020-05-07T06:52:00.699676Z"
    }
   },
   "outputs": [
    {
     "name": "stdout",
     "output_type": "stream",
     "text": [
      "[[0, 0, 0, 0, 0], [0, 0, 1, 0, 3], [0, 2, 5, 0, 1], [4, 2, 4, 4, 2], [3, 5, 1, 3, 1]]\n",
      "pick :  1 col :  deque([4, 3])\n",
      "pick :  5 col :  deque([3, 1, 2, 1])\n",
      "pick :  3 col :  deque([1, 5, 4, 1])\n",
      "pick :  5 col :  deque([1, 2, 1])\n",
      "pick :  1 col :  deque([3])\n",
      "pick :  2 col :  deque([2, 2, 5])\n",
      "pick :  1 col :  deque([])\n",
      "pick :  4 col :  deque([4, 3])\n"
     ]
    },
    {
     "data": {
      "text/plain": [
       "4"
      ]
     },
     "execution_count": 102,
     "metadata": {},
     "output_type": "execute_result"
    }
   ],
   "source": [
    "board = [[0,0,0,0,0],\n",
    "         [0,0,1,0,3],\n",
    "         [0,2,5,0,1],\n",
    "         [4,2,4,4,2],\n",
    "         [3,5,1,3,1]]\n",
    "\n",
    "moves = [1,5,3,5,1,2,1,4]\n",
    "\n",
    "col1_zip = list(zip(*board))[0]\n",
    "col1_np = np.array(board).T[0]\n",
    "# print(col1_np)\n",
    "\n",
    "# print(len(board))\n",
    "solution(board, moves)\n"
   ]
  },
  {
   "cell_type": "markdown",
   "metadata": {},
   "source": [
    "# Q2 튜플\n",
    "\n",
    "* 정규표현식 사용 : m = re.findall('\\{(.*?)\\}', s)\n",
    "\n",
    "출처 : https://programmers.co.kr/learn/courses/30/lessons/64065"
   ]
  },
  {
   "cell_type": "code",
   "execution_count": 247,
   "metadata": {
    "ExecuteTime": {
     "end_time": "2020-05-07T08:00:19.143755Z",
     "start_time": "2020-05-07T08:00:19.137175Z"
    }
   },
   "outputs": [],
   "source": [
    "import re \n",
    "def solution(s):\n",
    "    answer = []\n",
    "    num_list = []\n",
    "    \n",
    "    m = re.findall('\\{(.*?)\\}', s)\n",
    "    for num in m:\n",
    "        num = num.replace('{', '')\n",
    "        num = num.replace('}', '')\n",
    "        num = num.split(',')\n",
    "        num_list.append([num, len(num)])\n",
    "        \n",
    "        \n",
    "        \n",
    "    num_list = sorted(num_list, key = lambda number : number[1])\n",
    "\n",
    "    for num in num_list:\n",
    "        for n in num[0]:\n",
    "            if int(n) not in answer:\n",
    "                answer.append(int(n))\n",
    "            \n",
    "                    \n",
    "       \n",
    "\n",
    "    \n",
    "    \n",
    "    return answer"
   ]
  },
  {
   "cell_type": "code",
   "execution_count": 248,
   "metadata": {
    "ExecuteTime": {
     "end_time": "2020-05-07T08:00:19.321303Z",
     "start_time": "2020-05-07T08:00:19.316578Z"
    }
   },
   "outputs": [
    {
     "name": "stdout",
     "output_type": "stream",
     "text": [
      "[[['111'], 1], [['20', '111'], 2]]\n",
      "111 []\n",
      "20 [111]\n",
      "111 [111, 20]\n"
     ]
    },
    {
     "data": {
      "text/plain": [
       "[111, 20]"
      ]
     },
     "execution_count": 248,
     "metadata": {},
     "output_type": "execute_result"
    }
   ],
   "source": [
    "s = \"{{20,111},{111}}\"\n",
    "solution(s)"
   ]
  },
  {
   "cell_type": "markdown",
   "metadata": {},
   "source": [
    "# Q3 불량 사용자\n",
    "\n",
    "***\n",
    "dfs 안에서 dfs 재귀적으로 호출\n",
    "\n",
    "출처 : https://programmers.co.kr/learn/courses/30/lessons/64064"
   ]
  },
  {
   "cell_type": "code",
   "execution_count": 458,
   "metadata": {
    "ExecuteTime": {
     "end_time": "2020-05-08T11:04:51.935742Z",
     "start_time": "2020-05-08T11:04:51.924595Z"
    }
   },
   "outputs": [],
   "source": [
    "from copy import deepcopy\n",
    "combi = []\n",
    "\n",
    "def dfs_check(idx, match_list, arr, length):\n",
    "    global answer, combi\n",
    "    # 조합 끝까지 전부 확인한 경우\n",
    "    if idx == len(match_list):\n",
    "        # banned_id 길이와 일치하고, 중복된 조합이 아닐 경우\n",
    "        if len(arr) == length and arr not in combi:\n",
    "            # 조합 리스트에 저장\n",
    "            combi.append(deepcopy(arr))\n",
    "            print(combi)\n",
    "        return combi\n",
    "    \n",
    "    # 각 banned_id 패턴별로 가능한 경우의 수를 토대로 조합을 만든다\n",
    "    for each_id in match_list[idx]:\n",
    "        # 만약 조합에 id가 없을 경우\n",
    "        if each_id not in arr:\n",
    "            # 조합에 저장\n",
    "            arr.add(each_id)\n",
    "#             print(\"ARR before dfs : \", arr)\n",
    "            dfs_check(idx+1, match_list, arr, length)\n",
    "            # 백트래킹\n",
    "            arr.remove(each_id)\n",
    "#             print(\"ARR after dfs : \", arr)\n",
    "\n",
    "\n",
    "def solution(user_id, banned_id):\n",
    "    \n",
    "    \n",
    "    ban_list = []\n",
    "    user_list = []\n",
    "    match_list = []\n",
    "    \n",
    "    for ban in banned_id:\n",
    "        ban_str =list(ban)\n",
    "        ban_list.append(ban_str)\n",
    "        \n",
    "    for user in user_id:\n",
    "        user_str = list(user)\n",
    "        user_list.append(user_str)\n",
    "    \n",
    "    # Matching 되는 경우\n",
    "    for ban in ban_list:\n",
    "        user_compare = [value for value in user_list if len(value) == len(ban)]\n",
    "        \n",
    "        matches_tmp = []\n",
    "        for user in user_compare:\n",
    "            for ban_idx, ban_char in enumerate(ban):\n",
    "                check = True\n",
    "                if ban_char != \"*\":\n",
    "                    if ban_char != user[ban_idx]:\n",
    "                        check = False\n",
    "                        break\n",
    "             \n",
    "            if check == True:\n",
    "                matches_tmp.append(''.join(user))\n",
    "                \n",
    "        match_list.append(matches_tmp)\n",
    "        \n",
    "    dfs_check(0, match_list, set(), len(banned_id))\n",
    "    print(combi)\n",
    "   \n",
    "    return len(combi)\n"
   ]
  },
  {
   "cell_type": "code",
   "execution_count": 457,
   "metadata": {
    "ExecuteTime": {
     "end_time": "2020-05-08T11:04:12.560304Z",
     "start_time": "2020-05-08T11:04:12.555053Z"
    }
   },
   "outputs": [
    {
     "name": "stdout",
     "output_type": "stream",
     "text": [
      "[{'crodo', 'abc123', 'frodo', 'frodoc'}]\n",
      "[{'crodo', 'abc123', 'frodo', 'frodoc'}, {'fradi', 'abc123', 'frodo', 'frodoc'}]\n",
      "[{'crodo', 'abc123', 'frodo', 'frodoc'}, {'fradi', 'abc123', 'frodo', 'frodoc'}, {'fradi', 'crodo', 'abc123', 'frodoc'}]\n",
      "[{'crodo', 'abc123', 'frodo', 'frodoc'}, {'fradi', 'abc123', 'frodo', 'frodoc'}, {'fradi', 'crodo', 'abc123', 'frodoc'}]\n"
     ]
    },
    {
     "data": {
      "text/plain": [
       "3"
      ]
     },
     "execution_count": 457,
     "metadata": {},
     "output_type": "execute_result"
    }
   ],
   "source": [
    "user_id = [\"frodo\", \"fradi\", \"crodo\", \"abc123\", \"frodoc\"]\n",
    "banned_id = [\"fr*d*\", \"*rodo\", \"******\", \"******\"]\n",
    "\n",
    "solution(user_id, banned_id)\n",
    "\n"
   ]
  },
  {
   "cell_type": "markdown",
   "metadata": {},
   "source": [
    "# Q4. 호텔 방 배정\n",
    "\n",
    "출처 : https://programmers.co.kr/learn/courses/30/lessons/64063"
   ]
  },
  {
   "cell_type": "code",
   "execution_count": 528,
   "metadata": {
    "ExecuteTime": {
     "end_time": "2020-05-08T12:01:28.393944Z",
     "start_time": "2020-05-08T12:01:28.387945Z"
    }
   },
   "outputs": [],
   "source": [
    "from collections import deque\n",
    "\n",
    "def solution(k, room_number):\n",
    "    \n",
    "    sold = []\n",
    "    nums = [False] * (k+1)\n",
    "    nums[0] = True\n",
    "    \n",
    "    for no in room_number:\n",
    "#         print(no)\n",
    "        if no not in sold:\n",
    "            sold.append(no)\n",
    "            nums[no] = True\n",
    "        else:\n",
    "#             print(\"request : \", no, nums[no:10])\n",
    "            empty_room = deque([idx + no for idx, empty in enumerate(nums[no:]) if empty == False])\n",
    "            room_for_sold = empty_room.popleft()\n",
    "            sold.append(room_for_sold)\n",
    "            nums[room_for_sold] = True\n",
    "\n",
    "    return sold\n"
   ]
  },
  {
   "cell_type": "markdown",
   "metadata": {},
   "source": [
    "**효율성**\n",
    "\n",
    "K 값이 최대 10^12 이기 때문에 해당 크기만큼의 배열을 만들지 않도록 하기\n",
    "\n",
    "- 중복된 방에 대한 요청 처리를 효율적으로   \n",
    "2번 방을 여러명이 요청하면, 이전에 요청했던 사람이 몇번에 배정되었는지 확인하고 \n",
    "해당 방 넘버 + 1       \n",
    ",만약 그 값이 이미 sold 된 방이면 재귀로 또다른 빈방 찾기!\n",
    "\n",
    "***\n",
    "keypoint : 재귀로 빈방찾기\n",
    "\n",
    "cf. https://velog.io/@ansrjsdn/%ED%94%84%EB%A1%9C%EA%B7%B8%EB%9E%98%EB%A8%B8%EC%8A%A4-level4-%ED%98%B8%ED%85%94-%EB%B0%A9-%EB%B0%B0%EC%A0%95-Python\n"
   ]
  },
  {
   "cell_type": "code",
   "execution_count": 583,
   "metadata": {
    "ExecuteTime": {
     "end_time": "2020-05-09T03:52:49.497273Z",
     "start_time": "2020-05-09T03:52:49.491782Z"
    }
   },
   "outputs": [],
   "source": [
    "import sys\n",
    "sys.setrecursionlimit(10000000) # 설정해주지 않으면 재귀가 많이 일어나면서 런타임에러 등이 나타날 수 있다.\n",
    "\n",
    "def findEmptyRoom(number, rooms): # 빈방을 찾는 함수\n",
    "    if number not in rooms:        \n",
    "        rooms[number] = number + 1\n",
    "        print(\"After Find : \", rooms)\n",
    "        return number\n",
    "    \n",
    "    # keypoint : 재귀로 빈방찾기\n",
    "    empty = findEmptyRoom(rooms[number], rooms)\n",
    "    rooms[number] = empty + 1\n",
    "    return empty\n",
    "\n",
    "\n",
    "def solution(k, room_number):\n",
    "    answer = []\n",
    "    rooms = dict() # 몇번 방이 비어있는지 체크하는 딕셔너리\n",
    "\n",
    "    for number in room_number:\n",
    "        print(\"\\nRoom Request : \", number)\n",
    "        print(\"Before Find : \", rooms)\n",
    "        emptyRoom = findEmptyRoom(number, rooms)\n",
    "        answer.append(emptyRoom)\n",
    "    \n",
    "    return answer"
   ]
  },
  {
   "cell_type": "code",
   "execution_count": 584,
   "metadata": {
    "ExecuteTime": {
     "end_time": "2020-05-09T03:52:49.996630Z",
     "start_time": "2020-05-09T03:52:49.990007Z"
    }
   },
   "outputs": [
    {
     "name": "stdout",
     "output_type": "stream",
     "text": [
      "\n",
      "Room Request :  1\n",
      "Before Find :  {}\n",
      "After Find :  {1: 2}\n",
      "\n",
      "Room Request :  3\n",
      "Before Find :  {1: 2}\n",
      "After Find :  {1: 2, 3: 4}\n",
      "\n",
      "Room Request :  4\n",
      "Before Find :  {1: 2, 3: 4}\n",
      "After Find :  {1: 2, 3: 4, 4: 5}\n",
      "\n",
      "Room Request :  1\n",
      "Before Find :  {1: 2, 3: 4, 4: 5}\n",
      "After Find :  {1: 2, 3: 4, 4: 5, 2: 3}\n",
      "\n",
      "Room Request :  3\n",
      "Before Find :  {1: 3, 3: 4, 4: 5, 2: 3}\n",
      "After Find :  {1: 3, 3: 4, 4: 5, 2: 3, 5: 6}\n",
      "\n",
      "Room Request :  1\n",
      "Before Find :  {1: 3, 3: 6, 4: 6, 2: 3, 5: 6}\n",
      "After Find :  {1: 3, 3: 6, 4: 6, 2: 3, 5: 6, 6: 7}\n"
     ]
    },
    {
     "data": {
      "text/plain": [
       "[1, 3, 4, 2, 5, 6]"
      ]
     },
     "execution_count": 584,
     "metadata": {},
     "output_type": "execute_result"
    }
   ],
   "source": [
    "k = 10\n",
    "room_number = [1,3,4,1,3,1]\n",
    "\n",
    "solution(k, room_number)"
   ]
  },
  {
   "cell_type": "code",
   "execution_count": 580,
   "metadata": {
    "ExecuteTime": {
     "end_time": "2020-05-08T14:47:40.030502Z",
     "start_time": "2020-05-08T14:47:40.026515Z"
    }
   },
   "outputs": [
    {
     "name": "stdout",
     "output_type": "stream",
     "text": [
      "{1: 1, 3: 3, 4: 9}\n"
     ]
    }
   ],
   "source": [
    "dict_test = {1: 1, 3: 3, 4: 9}\n",
    "tmp = dict_test.get(5, 0)\n",
    "print(dict_test)"
   ]
  },
  {
   "cell_type": "code",
   "execution_count": null,
   "metadata": {},
   "outputs": [],
   "source": []
  },
  {
   "cell_type": "code",
   "execution_count": null,
   "metadata": {},
   "outputs": [],
   "source": []
  }
 ],
 "metadata": {
  "kernelspec": {
   "display_name": "Python 3",
   "language": "python",
   "name": "python3"
  },
  "language_info": {
   "codemirror_mode": {
    "name": "ipython",
    "version": 3
   },
   "file_extension": ".py",
   "mimetype": "text/x-python",
   "name": "python",
   "nbconvert_exporter": "python",
   "pygments_lexer": "ipython3",
   "version": "3.6.10"
  },
  "toc": {
   "base_numbering": 1,
   "nav_menu": {},
   "number_sections": true,
   "sideBar": true,
   "skip_h1_title": false,
   "title_cell": "Table of Contents",
   "title_sidebar": "Contents",
   "toc_cell": false,
   "toc_position": {},
   "toc_section_display": true,
   "toc_window_display": false
  },
  "varInspector": {
   "cols": {
    "lenName": 16,
    "lenType": 16,
    "lenVar": 40
   },
   "kernels_config": {
    "python": {
     "delete_cmd_postfix": "",
     "delete_cmd_prefix": "del ",
     "library": "var_list.py",
     "varRefreshCmd": "print(var_dic_list())"
    },
    "r": {
     "delete_cmd_postfix": ") ",
     "delete_cmd_prefix": "rm(",
     "library": "var_list.r",
     "varRefreshCmd": "cat(var_dic_list()) "
    }
   },
   "types_to_exclude": [
    "module",
    "function",
    "builtin_function_or_method",
    "instance",
    "_Feature"
   ],
   "window_display": false
  }
 },
 "nbformat": 4,
 "nbformat_minor": 4
}
