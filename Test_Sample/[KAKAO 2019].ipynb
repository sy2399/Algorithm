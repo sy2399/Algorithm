{
 "cells": [
  {
   "cell_type": "markdown",
   "metadata": {},
   "source": [
    "# Q1. 크레인 인형뽑기\n",
    "\n",
    "일단 인형을 뽑아 저장하는 바구니를 Stack 이라고 생각 (first in last out)\n",
    "\n",
    "***\n",
    "출처: https://programmers.co.kr/learn/courses/30/lessons/64061\n",
    "\n",
    "*** \n",
    "2차원 리스트에서 특정 column 만 고르기 : https://emilkwak.github.io/python-2d-list-certain-column\n"
   ]
  },
  {
   "cell_type": "code",
   "execution_count": 100,
   "metadata": {
    "ExecuteTime": {
     "end_time": "2020-05-07T06:51:59.367890Z",
     "start_time": "2020-05-07T06:51:59.360177Z"
    }
   },
   "outputs": [],
   "source": [
    "import collections \n",
    "import numpy as np\n",
    "\n",
    "def solution(board, moves):\n",
    "    answer = 0\n",
    "    N = len(board)\n",
    "    box = collections.deque([])\n",
    "    col_list = []\n",
    "    \n",
    "    print(board)\n",
    "    for i in range(N):\n",
    "        dols = list(zip(*board))[i]\n",
    "        dol_dq = collections.deque([value for value in dols if value != 0])\n",
    "        col_list.append(dol_dq)\n",
    "\n",
    "#     print(\"col_list : \", col_list)\n",
    "    \n",
    "    for pick in moves:\n",
    "        print(\"pick : \", pick, \"col : \", col_list[pick-1])\n",
    "        if len(col_list[pick-1]) != 0:\n",
    "            pop_dol = col_list[pick-1].popleft()\n",
    "         \n",
    "            box.append(pop_dol)\n",
    "            if len(box) > 1:\n",
    "                if box[-1] == box[-2]:\n",
    "                    box.pop()\n",
    "                    box.pop()\n",
    "                    answer += 2 \n",
    "\n",
    "    \n",
    "\n",
    "                \n",
    "                \n",
    "    return answer"
   ]
  },
  {
   "cell_type": "code",
   "execution_count": 102,
   "metadata": {
    "ExecuteTime": {
     "end_time": "2020-05-07T06:52:00.707543Z",
     "start_time": "2020-05-07T06:52:00.699676Z"
    }
   },
   "outputs": [
    {
     "name": "stdout",
     "output_type": "stream",
     "text": [
      "[[0, 0, 0, 0, 0], [0, 0, 1, 0, 3], [0, 2, 5, 0, 1], [4, 2, 4, 4, 2], [3, 5, 1, 3, 1]]\n",
      "pick :  1 col :  deque([4, 3])\n",
      "pick :  5 col :  deque([3, 1, 2, 1])\n",
      "pick :  3 col :  deque([1, 5, 4, 1])\n",
      "pick :  5 col :  deque([1, 2, 1])\n",
      "pick :  1 col :  deque([3])\n",
      "pick :  2 col :  deque([2, 2, 5])\n",
      "pick :  1 col :  deque([])\n",
      "pick :  4 col :  deque([4, 3])\n"
     ]
    },
    {
     "data": {
      "text/plain": [
       "4"
      ]
     },
     "execution_count": 102,
     "metadata": {},
     "output_type": "execute_result"
    }
   ],
   "source": [
    "board = [[0,0,0,0,0],\n",
    "         [0,0,1,0,3],\n",
    "         [0,2,5,0,1],\n",
    "         [4,2,4,4,2],\n",
    "         [3,5,1,3,1]]\n",
    "\n",
    "moves = [1,5,3,5,1,2,1,4]\n",
    "\n",
    "col1_zip = list(zip(*board))[0]\n",
    "col1_np = np.array(board).T[0]\n",
    "# print(col1_np)\n",
    "\n",
    "# print(len(board))\n",
    "solution(board, moves)\n"
   ]
  },
  {
   "cell_type": "markdown",
   "metadata": {},
   "source": [
    "# Q2 튜플\n",
    "\n",
    "* 정규표현식 사용 : m = re.findall('\\{(.*?)\\}', s)\n",
    "\n",
    "출처 : https://programmers.co.kr/learn/courses/30/lessons/64065"
   ]
  },
  {
   "cell_type": "code",
   "execution_count": 247,
   "metadata": {
    "ExecuteTime": {
     "end_time": "2020-05-07T08:00:19.143755Z",
     "start_time": "2020-05-07T08:00:19.137175Z"
    }
   },
   "outputs": [],
   "source": [
    "import re \n",
    "def solution(s):\n",
    "    answer = []\n",
    "    num_list = []\n",
    "    \n",
    "    m = re.findall('\\{(.*?)\\}', s)\n",
    "    for num in m:\n",
    "        num = num.replace('{', '')\n",
    "        num = num.replace('}', '')\n",
    "        num = num.split(',')\n",
    "        num_list.append([num, len(num)])\n",
    "        \n",
    "        \n",
    "        \n",
    "    num_list = sorted(num_list, key = lambda number : number[1])\n",
    "\n",
    "    for num in num_list:\n",
    "        for n in num[0]:\n",
    "            if int(n) not in answer:\n",
    "                answer.append(int(n))\n",
    "            \n",
    "                    \n",
    "       \n",
    "\n",
    "    \n",
    "    \n",
    "    return answer"
   ]
  },
  {
   "cell_type": "code",
   "execution_count": 248,
   "metadata": {
    "ExecuteTime": {
     "end_time": "2020-05-07T08:00:19.321303Z",
     "start_time": "2020-05-07T08:00:19.316578Z"
    }
   },
   "outputs": [
    {
     "name": "stdout",
     "output_type": "stream",
     "text": [
      "[[['111'], 1], [['20', '111'], 2]]\n",
      "111 []\n",
      "20 [111]\n",
      "111 [111, 20]\n"
     ]
    },
    {
     "data": {
      "text/plain": [
       "[111, 20]"
      ]
     },
     "execution_count": 248,
     "metadata": {},
     "output_type": "execute_result"
    }
   ],
   "source": [
    "s = \"{{20,111},{111}}\"\n",
    "solution(s)"
   ]
  },
  {
   "cell_type": "markdown",
   "metadata": {},
   "source": [
    "# Q3 불량 사용자\n",
    "\n",
    "출처 : https://programmers.co.kr/learn/courses/30/lessons/64064"
   ]
  },
  {
   "cell_type": "code",
   "execution_count": 301,
   "metadata": {
    "ExecuteTime": {
     "end_time": "2020-05-07T08:49:24.864846Z",
     "start_time": "2020-05-07T08:49:24.856475Z"
    }
   },
   "outputs": [],
   "source": [
    "import collections\n",
    "from itertools import product\n",
    "\n",
    "def solution(user_id, banned_id):\n",
    "    answer = 0\n",
    "    \n",
    "    ban_list = []\n",
    "    user_list = []\n",
    "    match_list = []\n",
    "    \n",
    "    for ban in banned_id:\n",
    "        ban_str =list(ban)\n",
    "        ban_list.append(ban_str)\n",
    "        \n",
    "    for user in user_id:\n",
    "        user_str = list(user)\n",
    "        user_list.append(user_str)\n",
    "    \n",
    "    # Matching 되는 경우\n",
    "    for ban in ban_list:\n",
    "        user_compare = [value for value in user_list if len(value) == len(ban)]\n",
    "        \n",
    "        matches_tmp = []\n",
    "        for user in user_compare:\n",
    "            for ban_idx, ban_char in enumerate(ban):\n",
    "                check = True\n",
    "                if ban_char != \"*\":\n",
    "                    if ban_char != user[ban_idx]:\n",
    "                        check = False\n",
    "                        break\n",
    "            \n",
    "            if check == True:\n",
    "                matches_tmp.append(''.join(user))\n",
    "                \n",
    "        match_list.append(matches_tmp)\n",
    " \n",
    "    print(match_list)\n",
    "\n",
    "    # 경우의 수 구하기\n",
    "\n",
    "       \n",
    "    combinations = set(list(product(*match_list)))\n",
    "    print(combinations)\n",
    "            \n",
    "    return answer"
   ]
  },
  {
   "cell_type": "code",
   "execution_count": 302,
   "metadata": {
    "ExecuteTime": {
     "end_time": "2020-05-07T08:49:25.279285Z",
     "start_time": "2020-05-07T08:49:25.274135Z"
    }
   },
   "outputs": [
    {
     "name": "stdout",
     "output_type": "stream",
     "text": [
      "[['frodo', 'fradi'], ['frodo', 'crodo'], ['abc123', 'frodoc'], ['abc123', 'frodoc']]\n",
      "{('fradi', 'frodo', 'abc123', 'abc123'), ('fradi', 'frodo', 'abc123', 'frodoc'), ('fradi', 'frodo', 'frodoc', 'abc123'), ('fradi', 'frodo', 'frodoc', 'frodoc'), ('frodo', 'crodo', 'abc123', 'abc123'), ('frodo', 'crodo', 'abc123', 'frodoc'), ('frodo', 'crodo', 'frodoc', 'abc123'), ('frodo', 'crodo', 'frodoc', 'frodoc'), ('fradi', 'crodo', 'abc123', 'abc123'), ('fradi', 'crodo', 'abc123', 'frodoc'), ('fradi', 'crodo', 'frodoc', 'abc123'), ('fradi', 'crodo', 'frodoc', 'frodoc'), ('frodo', 'frodo', 'abc123', 'abc123'), ('frodo', 'frodo', 'frodoc', 'abc123'), ('frodo', 'frodo', 'frodoc', 'frodoc'), ('frodo', 'frodo', 'abc123', 'frodoc')}\n"
     ]
    },
    {
     "data": {
      "text/plain": [
       "0"
      ]
     },
     "execution_count": 302,
     "metadata": {},
     "output_type": "execute_result"
    }
   ],
   "source": [
    "user_id = [\"frodo\", \"fradi\", \"crodo\", \"abc123\", \"frodoc\"]\n",
    "banned_id = [\"fr*d*\", \"*rodo\", \"******\", \"******\"]\n",
    "\n",
    "solution(user_id, banned_id)\n",
    "\n"
   ]
  },
  {
   "cell_type": "code",
   "execution_count": null,
   "metadata": {},
   "outputs": [],
   "source": []
  }
 ],
 "metadata": {
  "kernelspec": {
   "display_name": "Python 3",
   "language": "python",
   "name": "python3"
  },
  "language_info": {
   "codemirror_mode": {
    "name": "ipython",
    "version": 3
   },
   "file_extension": ".py",
   "mimetype": "text/x-python",
   "name": "python",
   "nbconvert_exporter": "python",
   "pygments_lexer": "ipython3",
   "version": "3.6.10"
  },
  "toc": {
   "base_numbering": 1,
   "nav_menu": {},
   "number_sections": true,
   "sideBar": true,
   "skip_h1_title": false,
   "title_cell": "Table of Contents",
   "title_sidebar": "Contents",
   "toc_cell": false,
   "toc_position": {},
   "toc_section_display": true,
   "toc_window_display": false
  },
  "varInspector": {
   "cols": {
    "lenName": 16,
    "lenType": 16,
    "lenVar": 40
   },
   "kernels_config": {
    "python": {
     "delete_cmd_postfix": "",
     "delete_cmd_prefix": "del ",
     "library": "var_list.py",
     "varRefreshCmd": "print(var_dic_list())"
    },
    "r": {
     "delete_cmd_postfix": ") ",
     "delete_cmd_prefix": "rm(",
     "library": "var_list.r",
     "varRefreshCmd": "cat(var_dic_list()) "
    }
   },
   "types_to_exclude": [
    "module",
    "function",
    "builtin_function_or_method",
    "instance",
    "_Feature"
   ],
   "window_display": false
  }
 },
 "nbformat": 4,
 "nbformat_minor": 4
}
