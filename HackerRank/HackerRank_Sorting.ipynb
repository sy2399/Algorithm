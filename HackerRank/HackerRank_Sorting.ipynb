{
 "cells": [
  {
   "cell_type": "markdown",
   "metadata": {},
   "source": [
    "# Big Sorting"
   ]
  },
  {
   "cell_type": "markdown",
   "metadata": {},
   "source": [
    "Timeout (Testcase3, 4)"
   ]
  },
  {
   "cell_type": "code",
   "execution_count": 21,
   "metadata": {
    "ExecuteTime": {
     "end_time": "2020-02-28T05:57:32.518958Z",
     "start_time": "2020-02-28T05:57:24.894119Z"
    }
   },
   "outputs": [
    {
     "name": "stdout",
     "output_type": "stream",
     "text": [
      "6\n",
      "31415926535897932384626433832795\n",
      "1\n",
      "3\n",
      "10\n",
      "3\n",
      "5\n",
      "['1', '3', '3', '5', '10', '31415926535897932384626433832795']\n"
     ]
    }
   ],
   "source": [
    "def bigSorting(unsorted):\n",
    "    sorted_arr = []\n",
    "    for i in sorted(sorted(unsorted), key=len):\n",
    "        sorted_arr.append(i)\n",
    "        \n",
    "    return sorted_arr\n",
    "\n",
    "if __name__ == '__main__':\n",
    "\n",
    "    n = int(input())\n",
    "\n",
    "    unsorted = []\n",
    "\n",
    "    for _ in range(n):\n",
    "        unsorted_item = input()\n",
    "        unsorted.append(unsorted_item)\n",
    "\n",
    "    result = bigSorting(unsorted)\n",
    "    \n",
    "    print(result)"
   ]
  },
  {
   "cell_type": "code",
   "execution_count": 23,
   "metadata": {
    "ExecuteTime": {
     "end_time": "2020-02-28T05:58:01.229878Z",
     "start_time": "2020-02-28T05:58:01.225635Z"
    }
   },
   "outputs": [
    {
     "data": {
      "text/plain": [
       "['1', '10', '3', '3', '31415926535897932384626433832795', '5']"
      ]
     },
     "execution_count": 23,
     "metadata": {},
     "output_type": "execute_result"
    }
   ],
   "source": [
    "sorted(unsorted)"
   ]
  },
  {
   "cell_type": "markdown",
   "metadata": {},
   "source": [
    "## quick sort"
   ]
  },
  {
   "cell_type": "code",
   "execution_count": 15,
   "metadata": {
    "ExecuteTime": {
     "end_time": "2020-02-28T05:28:26.833120Z",
     "start_time": "2020-02-28T05:28:26.824436Z"
    }
   },
   "outputs": [
    {
     "name": "stdout",
     "output_type": "stream",
     "text": [
      "[1, 3, 3, 5, 10, 31415926535897932384626433832795]\n"
     ]
    }
   ],
   "source": [
    "#!/bin/python3\n",
    "\n",
    "import math\n",
    "import os\n",
    "import random\n",
    "import re\n",
    "import sys\n",
    "\n",
    "# Complete the bigSorting function below.\n",
    "\n",
    "def quick_sort(unsorted):\n",
    "    if len(unsorted) <=1:\n",
    "        return unsorted\n",
    "    pivot = unsorted[len(unsorted) // 2]\n",
    "    \n",
    "    low_arr, equal_arr, high_arr = [], [], []\n",
    "    \n",
    "    for num in unsorted:\n",
    "        if num < pivot:\n",
    "            low_arr.append(num)\n",
    "        elif num > pivot:\n",
    "            high_arr.append(num)\n",
    "        else:\n",
    "            equal_arr.append(num)\n",
    "        \n",
    "    return quick_sort(low_arr) + equal_arr + quick_sort(high_arr)\n",
    "    \n",
    "        \n",
    "    \n",
    "def bigSorting(unsorted):\n",
    "    \n",
    "    result = quick_sort(unsorted)\n",
    "    return result\n",
    "    \n",
    "if __name__ == '__main__':\n",
    "    \n",
    "\n",
    "    unsorted = [1,10,3,3,31415926535897932384626433832795,5]\n",
    "    \n",
    "    result = bigSorting(unsorted)\n",
    "    print(result)\n"
   ]
  },
  {
   "cell_type": "markdown",
   "metadata": {},
   "source": [
    "## Sorting\n",
    "\n",
    "\n",
    "********\n",
    "- Simple    \n",
    "\n",
    "\n",
    "    1. Selection sort\n",
    "    : 각 루프에서 최대 원소를 찾아, 맨 오른쪽의 수와 교체하는 알고리즘\n",
    "\n",
    "\n",
    "    2. Insertion sort\n",
    "    : 자료 배열의 모든 요소를 앞에서부터 차례대로 이미 정렬된 배열 부분과 비교 하여, 자신의 위치를 찾아 삽입함으로써 정렬을 완성하는 알고리즘 (삽입 정렬은 두 번째 자료부터 시작하여 그 앞(왼쪽)의 자료들과 비교하여 삽입할 위치를 지정한 후 자료를 뒤로 옮기고 지정한 자리에 자료를 삽입하여 정렬)\n",
    "\n",
    "\n",
    "    3. Bubble sort\n",
    "    : 서로 인접한 두 원소를 검사하여 정렬하는 알고리즘 (인접한 2개의 수를 비교하여 크기가 순서대로 되어 있지 않으면 서로 교환)\n",
    "\n",
    "********\n",
    "- Divide & Conquer\n",
    "\n",
    "\n",
    "    4. Merge sort\n",
    "     : 하나의 리스트를 2 개의 같은 크기의 리스트로 분할하고, 분할된 리스트 정렬 후, 정렬된 리스트를 합친다\n",
    "    \n",
    "\n",
    "     5. Quick sort\n",
    "    : 리스트 안에 있는 한 요소를 선택해 pivot 설정, pivot 을 기준으로 왼쪽에는 pivot 보다 작은 수, 오른쪽에는 pivot 보다 큰 수\n",
    "     \n",
    "     --> Mergesort 처럼 divide & conquer 지만, 균등하게 나누는 게 아닌 pivot 을 기준으로 나눈다는 점이 다름\n",
    "     step1. partition --> pivot 의 위치 반환\n",
    "     step2. pivot 기준 왼쪽과 오른쪽의 리스트를 다시 sorting\n",
    "     \n",
    "     \n",
    "     6. Heap sort\n",
    "     : 내림차순을 기준으로 정렬\n",
    "        \n",
    "     * Heap : 완전 이진 트리의 일종으로 우선순위 큐를 위해 만들어진 자료구조\n",
    "      - 최대, 최소값을 쉽게 추출 가능\n",
    "\n",
    "\n",
    "********\n",
    "\n",
    "    7. Radix sort\n",
    "    : 자리수를 비교해서 정렬하는 방식\n",
    "    - 복잡도 = O(dn) (이때, d 는 가장 큰 데이터의 자리수)\n",
    "\n",
    "********\n",
    "overall :https://ict-nroo.tistory.com/52\n",
    "\n",
    "detail : https://gmlwjd9405.github.io/2018/05/06/algorithm-insertion-sort.html\n"
   ]
  },
  {
   "cell_type": "markdown",
   "metadata": {},
   "source": [
    "# Find the Median"
   ]
  },
  {
   "cell_type": "code",
   "execution_count": 2,
   "metadata": {
    "ExecuteTime": {
     "end_time": "2020-02-28T06:05:24.028680Z",
     "start_time": "2020-02-28T06:05:19.202676Z"
    }
   },
   "outputs": [
    {
     "name": "stdout",
     "output_type": "stream",
     "text": [
      "7\n",
      "0 1 2 4 6 5 3\n"
     ]
    }
   ],
   "source": [
    "#!/bin/python3\n",
    "\n",
    "import math\n",
    "import os\n",
    "import random\n",
    "import re\n",
    "import sys\n",
    "\n",
    "# Complete the findMedian function below.\n",
    "def findMedian(arr):\n",
    "    arr.sort(key=int)\n",
    "    mid_idx = len(arr)//2\n",
    "    return arr[mid_idx]\n",
    "if __name__ == '__main__':\n",
    "#     fptr = open(os.environ['OUTPUT_PATH'], 'w')\n",
    "\n",
    "    n = int(input())\n",
    "\n",
    "    arr = list(map(int, input().rstrip().split()))\n",
    "\n",
    "    result = findMedian(arr)\n",
    "    \n",
    "    print(result)\n",
    "#     fptr.write(str(result) + '\\n')\n",
    "\n",
    "#     fptr.close()\n"
   ]
  },
  {
   "cell_type": "markdown",
   "metadata": {},
   "source": [
    "# Lily's Homework (Medium)"
   ]
  },
  {
   "cell_type": "code",
   "execution_count": 72,
   "metadata": {
    "ExecuteTime": {
     "end_time": "2020-02-28T07:48:49.848693Z",
     "start_time": "2020-02-28T07:48:49.838188Z"
    }
   },
   "outputs": [
    {
     "name": "stdout",
     "output_type": "stream",
     "text": [
      "[3, 2, 1]\n",
      "unsorted: [3, 2, 1] sorted [1, 2, 3]\n",
      "[1, 2, 3]\n",
      "unsorted: [1, 2, 3] sorted [1, 2, 3]\n",
      "0\n"
     ]
    }
   ],
   "source": [
    "#!/bin/python3\n",
    "\n",
    "import math\n",
    "import os\n",
    "import random\n",
    "import re\n",
    "import sys\n",
    "\n",
    "# Complete the lilysHomework function below.\n",
    "def lilysHomework(arr):\n",
    "    print(arr)\n",
    "    map_dict = {}\n",
    "    unsorted_arr = []\n",
    "    count = 0\n",
    "    \n",
    "    for i in arr:\n",
    "        unsorted_arr.append(i)    \n",
    "        \n",
    "    arr.sort()\n",
    "    sorted_arr = arr\n",
    "\n",
    "    print(\"unsorted:\", unsorted_arr, \"sorted\", sorted_arr)\n",
    "    \n",
    "    for idx, bad in enumerate(unsorted_arr):\n",
    "        map_dict[bad] = idx\n",
    "\n",
    "    for i in range(len(arr)):\n",
    "        if unsorted_arr[i] != sorted_arr[i]:\n",
    "            count+=1\n",
    "            \n",
    "            ind_to_swap = map_dict[ sorted_arr[i] ]\n",
    "            map_dict[ unsorted_arr[i] ] = map_dict[ sorted_arr[i]]\n",
    "            unsorted_arr[i],unsorted_arr[ind_to_swap] = sorted_arr[i],unsorted_arr[i]\n",
    "        \n",
    "    \n",
    "    return count\n",
    "    \n",
    "    \n",
    "    \n",
    "if __name__ == '__main__':\n",
    "#     fptr = open(os.environ['OUTPUT_PATH'], 'w')\n",
    "\n",
    "    n = 4\n",
    "\n",
    "    arr = [3,2,1]\n",
    "    \n",
    "#     print(\"input :\", arr)\n",
    "#     print(\"input: \", list(reversed(arr)))\n",
    "    arr_reversed = list(reversed(arr))\n",
    "    \n",
    "    result_asc = lilysHomework(arr)\n",
    "\n",
    "    result_desc = lilysHomework(arr_reversed)\n",
    "        \n",
    "    result = min(result_asc, result_desc)\n",
    "    \n",
    "    print(result)\n",
    "#     fptr.write(str(result) + '\\n')\n",
    "\n",
    "#     fptr.close()\n"
   ]
  },
  {
   "cell_type": "markdown",
   "metadata": {},
   "source": [
    "# Fraudulent Activity Notifications"
   ]
  },
  {
   "cell_type": "code",
   "execution_count": 85,
   "metadata": {
    "ExecuteTime": {
     "end_time": "2020-02-28T08:35:02.783042Z",
     "start_time": "2020-02-28T08:35:02.773410Z"
    }
   },
   "outputs": [
    {
     "name": "stdout",
     "output_type": "stream",
     "text": [
      "0 40 [10, 20, 30]\n",
      "median_custom - sorted: [10, 20, 30]\n",
      "40 20\n",
      "1 50 [20, 30, 40]\n",
      "median_custom - sorted: [20, 30, 40]\n",
      "50 30\n",
      "result : 1\n"
     ]
    }
   ],
   "source": [
    "#!/bin/python3\n",
    "\n",
    "import math\n",
    "import os\n",
    "import random\n",
    "import re\n",
    "import sys\n",
    "\n",
    "\n",
    "def median_custom(lst):\n",
    "    sortedLst = sorted(lst)\n",
    "    print(\"median_custom - sorted:\", sortedLst)\n",
    "    lstLen = len(lst)\n",
    "    index = (lstLen - 1) // 2\n",
    "\n",
    "    if (lstLen % 2):\n",
    "        return sortedLst[index]\n",
    "    else:\n",
    "        return (sortedLst[index] + sortedLst[index + 1])/2.0\n",
    "    \n",
    "    \n",
    "# Complete the activityNotifications function below.\n",
    "def activityNotifications(expenditure, d):\n",
    "    start_idx = d\n",
    "    notice = 0\n",
    "    for idx, exp in enumerate(expenditure[d:]):\n",
    "        \n",
    "        trail = expenditure[idx:idx+d]\n",
    "        print(idx, exp, trail)\n",
    "        median_num = median_custom(trail)\n",
    "        \n",
    "        \n",
    "        print(exp, median_num)\n",
    "        if exp >= median_num*2:\n",
    "            notice+=1\n",
    "    return notice\n",
    "            \n",
    "        \n",
    "        \n",
    "if __name__ == '__main__':\n",
    "#     fptr = open(os.environ['OUTPUT_PATH'], 'w')\n",
    "\n",
    "    n = 5\n",
    "\n",
    "    d = 3\n",
    "\n",
    "    expenditure = [10,20,30,40,50]\n",
    "\n",
    "    result = activityNotifications(expenditure, d)\n",
    "\n",
    "    print(\"result :\", result)\n"
   ]
  },
  {
   "cell_type": "code",
   "execution_count": 83,
   "metadata": {
    "ExecuteTime": {
     "end_time": "2020-02-28T08:32:59.873896Z",
     "start_time": "2020-02-28T08:32:59.869461Z"
    }
   },
   "outputs": [
    {
     "data": {
      "text/plain": [
       "40.0"
      ]
     },
     "execution_count": 83,
     "metadata": {},
     "output_type": "execute_result"
    }
   ],
   "source": [
    "## median 구하기\n",
    "from numpy import median\n",
    "median([30,40,50])\n"
   ]
  },
  {
   "cell_type": "code",
   "execution_count": null,
   "metadata": {},
   "outputs": [],
   "source": []
  },
  {
   "cell_type": "code",
   "execution_count": null,
   "metadata": {},
   "outputs": [],
   "source": []
  },
  {
   "cell_type": "code",
   "execution_count": null,
   "metadata": {},
   "outputs": [],
   "source": []
  },
  {
   "cell_type": "code",
   "execution_count": null,
   "metadata": {},
   "outputs": [],
   "source": []
  },
  {
   "cell_type": "code",
   "execution_count": null,
   "metadata": {},
   "outputs": [],
   "source": []
  }
 ],
 "metadata": {
  "kernelspec": {
   "display_name": "Python 3",
   "language": "python",
   "name": "python3"
  },
  "language_info": {
   "codemirror_mode": {
    "name": "ipython",
    "version": 3
   },
   "file_extension": ".py",
   "mimetype": "text/x-python",
   "name": "python",
   "nbconvert_exporter": "python",
   "pygments_lexer": "ipython3",
   "version": "3.7.4"
  },
  "toc": {
   "base_numbering": 1,
   "nav_menu": {},
   "number_sections": true,
   "sideBar": true,
   "skip_h1_title": false,
   "title_cell": "Table of Contents",
   "title_sidebar": "Contents",
   "toc_cell": false,
   "toc_position": {},
   "toc_section_display": true,
   "toc_window_display": false
  },
  "varInspector": {
   "cols": {
    "lenName": 16,
    "lenType": 16,
    "lenVar": 40
   },
   "kernels_config": {
    "python": {
     "delete_cmd_postfix": "",
     "delete_cmd_prefix": "del ",
     "library": "var_list.py",
     "varRefreshCmd": "print(var_dic_list())"
    },
    "r": {
     "delete_cmd_postfix": ") ",
     "delete_cmd_prefix": "rm(",
     "library": "var_list.r",
     "varRefreshCmd": "cat(var_dic_list()) "
    }
   },
   "types_to_exclude": [
    "module",
    "function",
    "builtin_function_or_method",
    "instance",
    "_Feature"
   ],
   "window_display": false
  }
 },
 "nbformat": 4,
 "nbformat_minor": 2
}
