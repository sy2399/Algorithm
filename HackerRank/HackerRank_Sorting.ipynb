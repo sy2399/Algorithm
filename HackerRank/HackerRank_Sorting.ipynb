{
 "cells": [
  {
   "cell_type": "markdown",
   "metadata": {},
   "source": [
    "- Easy\n",
    "    - Big Sorting(***Qick sort로 시간 줄이기***)\n",
    "    - Find the Median\n",
    "- Medium\n",
    "    - Lily's Homework\n",
    "    - Fraudulent Activity Notifications (***Unsolved***)"
   ]
  },
  {
   "cell_type": "markdown",
   "metadata": {},
   "source": [
    "# Big Sorting\n",
    "\n",
    "https://www.hackerrank.com/challenges/big-sorting/problem\n",
    "\n",
    "- 큰 수가 포함된 리스트 Sorting 하기\n",
    "- Quick sort 이용하기"
   ]
  },
  {
   "cell_type": "markdown",
   "metadata": {},
   "source": [
    "Timeout (Testcase3, 4)"
   ]
  },
  {
   "cell_type": "code",
   "execution_count": 21,
   "metadata": {
    "ExecuteTime": {
     "end_time": "2020-02-28T05:57:32.518958Z",
     "start_time": "2020-02-28T05:57:24.894119Z"
    }
   },
   "outputs": [
    {
     "name": "stdout",
     "output_type": "stream",
     "text": [
      "6\n",
      "31415926535897932384626433832795\n",
      "1\n",
      "3\n",
      "10\n",
      "3\n",
      "5\n",
      "['1', '3', '3', '5', '10', '31415926535897932384626433832795']\n"
     ]
    }
   ],
   "source": [
    "def bigSorting(unsorted):\n",
    "    sorted_arr = []\n",
    "    for i in sorted(sorted(unsorted), key=len):\n",
    "        sorted_arr.append(i)\n",
    "        \n",
    "    return sorted_arr\n",
    "\n",
    "if __name__ == '__main__':\n",
    "\n",
    "    n = int(input())\n",
    "\n",
    "    unsorted = []\n",
    "\n",
    "    for _ in range(n):\n",
    "        unsorted_item = input()\n",
    "        unsorted.append(unsorted_item)\n",
    "\n",
    "    result = bigSorting(unsorted)\n",
    "    \n",
    "    print(result)"
   ]
  },
  {
   "cell_type": "code",
   "execution_count": 23,
   "metadata": {
    "ExecuteTime": {
     "end_time": "2020-02-28T05:58:01.229878Z",
     "start_time": "2020-02-28T05:58:01.225635Z"
    }
   },
   "outputs": [
    {
     "data": {
      "text/plain": [
       "['1', '10', '3', '3', '31415926535897932384626433832795', '5']"
      ]
     },
     "execution_count": 23,
     "metadata": {},
     "output_type": "execute_result"
    }
   ],
   "source": [
    "#!/bin/python3\n",
    "\n",
    "import math\n",
    "import os\n",
    "import random\n",
    "import re\n",
    "import sys\n",
    "\n",
    "# Complete the bigSorting function below.\n",
    "\n",
    "def quick_sort(unsorted):\n",
    "    if len(unsorted) <=1:\n",
    "        return unsorted\n",
    "    pivot = unsorted[len(unsorted) // 2]\n",
    "    \n",
    "    low_arr, equal_arr, high_arr = [], [], []\n",
    "    \n",
    "    for num in unsorted:\n",
    "        if num < pivot:\n",
    "            low_arr.append(num)\n",
    "        elif num > pivot:\n",
    "            high_arr.append(num)\n",
    "        else:\n",
    "            equal_arr.append(num)\n",
    "        \n",
    "    return quick_sort(low_arr) + equal_arr + quick_sort(high_arr)\n",
    "    \n",
    "        \n",
    "    \n",
    "def bigSorting(unsorted):\n",
    "    \n",
    "    result = quick_sort(unsorted)\n",
    "    return result\n",
    "    \n",
    "if __name__ == '__main__':\n",
    "    \n",
    "\n",
    "    unsorted = [1,10,3,3,31415926535897932384626433832795,5]\n",
    "    \n",
    "    result = bigSorting(unsorted)\n",
    "    print(result)\n"
   ]
  },
  {
   "cell_type": "markdown",
   "metadata": {},
   "source": [
    "# Find the Median\n",
    "\n",
    "https://www.hackerrank.com/challenges/find-the-median/problem\n",
    "\n",
    "- python .sort() 에서 ***key*** 사용하기!"
   ]
  },
  {
   "cell_type": "code",
   "execution_count": 2,
   "metadata": {
    "ExecuteTime": {
     "end_time": "2020-02-28T06:05:24.028680Z",
     "start_time": "2020-02-28T06:05:19.202676Z"
    }
   },
   "outputs": [
    {
     "name": "stdout",
     "output_type": "stream",
     "text": [
      "7\n",
      "0 1 2 4 6 5 3\n"
     ]
    }
   ],
   "source": [
    "#!/bin/python3\n",
    "\n",
    "import math\n",
    "import os\n",
    "import random\n",
    "import re\n",
    "import sys\n",
    "\n",
    "# Complete the findMedian function below.\n",
    "def findMedian(arr):\n",
    "    arr.sort(key=int)\n",
    "    mid_idx = len(arr)//2\n",
    "    return arr[mid_idx]\n",
    "\n",
    "if __name__ == '__main__':\n",
    "#     fptr = open(os.environ['OUTPUT_PATH'], 'w')\n",
    "\n",
    "    n = int(input())\n",
    "\n",
    "    arr = list(map(int, input().rstrip().split()))\n",
    "\n",
    "    result = findMedian(arr)\n",
    "    \n",
    "    print(result)\n",
    "#     fptr.write(str(result) + '\\n')\n",
    "\n",
    "#     fptr.close()\n"
   ]
  },
  {
   "cell_type": "markdown",
   "metadata": {},
   "source": [
    "# Lily's Homework (Medium)"
   ]
  },
  {
   "cell_type": "code",
   "execution_count": 72,
   "metadata": {
    "ExecuteTime": {
     "end_time": "2020-02-28T07:48:49.848693Z",
     "start_time": "2020-02-28T07:48:49.838188Z"
    }
   },
   "outputs": [
    {
     "name": "stdout",
     "output_type": "stream",
     "text": [
      "[3, 2, 1]\n",
      "unsorted: [3, 2, 1] sorted [1, 2, 3]\n",
      "[1, 2, 3]\n",
      "unsorted: [1, 2, 3] sorted [1, 2, 3]\n",
      "0\n"
     ]
    }
   ],
   "source": [
    "#!/bin/python3\n",
    "\n",
    "import math\n",
    "import os\n",
    "import random\n",
    "import re\n",
    "import sys\n",
    "\n",
    "# Complete the lilysHomework function below.\n",
    "def lilysHomework(arr):\n",
    "    print(arr)\n",
    "    map_dict = {}\n",
    "    unsorted_arr = []\n",
    "    count = 0\n",
    "    \n",
    "    for i in arr:\n",
    "        unsorted_arr.append(i)    \n",
    "        \n",
    "    arr.sort()\n",
    "    sorted_arr = arr\n",
    "\n",
    "    print(\"unsorted:\", unsorted_arr, \"sorted\", sorted_arr)\n",
    "    \n",
    "    for idx, bad in enumerate(unsorted_arr):\n",
    "        map_dict[bad] = idx\n",
    "\n",
    "    for i in range(len(arr)):\n",
    "        if unsorted_arr[i] != sorted_arr[i]:\n",
    "            count+=1\n",
    "            \n",
    "            ind_to_swap = map_dict[ sorted_arr[i] ]\n",
    "            map_dict[ unsorted_arr[i] ] = map_dict[ sorted_arr[i]]\n",
    "            unsorted_arr[i],unsorted_arr[ind_to_swap] = sorted_arr[i],unsorted_arr[i]\n",
    "        \n",
    "    \n",
    "    return count\n",
    "    \n",
    "    \n",
    "    \n",
    "if __name__ == '__main__':\n",
    "#     fptr = open(os.environ['OUTPUT_PATH'], 'w')\n",
    "\n",
    "    n = 4\n",
    "\n",
    "    arr = [3,2,1]\n",
    "    \n",
    "#     print(\"input :\", arr)\n",
    "#     print(\"input: \", list(reversed(arr)))\n",
    "    arr_reversed = list(reversed(arr))\n",
    "    \n",
    "    result_asc = lilysHomework(arr)\n",
    "\n",
    "    result_desc = lilysHomework(arr_reversed)\n",
    "        \n",
    "    result = min(result_asc, result_desc)\n",
    "    \n",
    "    print(result)\n",
    "#     fptr.write(str(result) + '\\n')\n",
    "\n",
    "#     fptr.close()\n"
   ]
  },
  {
   "cell_type": "markdown",
   "metadata": {},
   "source": [
    "# Fraudulent Activity Notifications\n",
    "\n",
    "https://www.hackerrank.com/challenges/fraudulent-activity-notifications/problem"
   ]
  },
  {
   "cell_type": "code",
   "execution_count": 85,
   "metadata": {
    "ExecuteTime": {
     "end_time": "2020-02-28T08:35:02.783042Z",
     "start_time": "2020-02-28T08:35:02.773410Z"
    }
   },
   "outputs": [
    {
     "name": "stdout",
     "output_type": "stream",
     "text": [
      "0 40 [10, 20, 30]\n",
      "median_custom - sorted: [10, 20, 30]\n",
      "40 20\n",
      "1 50 [20, 30, 40]\n",
      "median_custom - sorted: [20, 30, 40]\n",
      "50 30\n",
      "result : 1\n"
     ]
    }
   ],
   "source": [
    "#!/bin/python3\n",
    "\n",
    "import math\n",
    "import os\n",
    "import random\n",
    "import re\n",
    "import sys\n",
    "\n",
    "\n",
    "def median_custom(lst):\n",
    "    sortedLst = sorted(lst)\n",
    "    print(\"median_custom - sorted:\", sortedLst)\n",
    "    lstLen = len(lst)\n",
    "    index = (lstLen - 1) // 2\n",
    "\n",
    "    if (lstLen % 2):\n",
    "        return sortedLst[index]\n",
    "    else:\n",
    "        return (sortedLst[index] + sortedLst[index + 1])/2.0\n",
    "    \n",
    "    \n",
    "# Complete the activityNotifications function below.\n",
    "def activityNotifications(expenditure, d):\n",
    "    start_idx = d\n",
    "    notice = 0\n",
    "    for idx, exp in enumerate(expenditure[d:]):\n",
    "        \n",
    "        trail = expenditure[idx:idx+d]\n",
    "        print(idx, exp, trail)\n",
    "        median_num = median_custom(trail)\n",
    "        \n",
    "        \n",
    "        print(exp, median_num)\n",
    "        if exp >= median_num*2:\n",
    "            notice+=1\n",
    "    return notice\n",
    "            \n",
    "        \n",
    "        \n",
    "if __name__ == '__main__':\n",
    "#     fptr = open(os.environ['OUTPUT_PATH'], 'w')\n",
    "\n",
    "    n = 5\n",
    "\n",
    "    d = 3\n",
    "\n",
    "    expenditure = [10,20,30,40,50]\n",
    "\n",
    "    result = activityNotifications(expenditure, d)\n",
    "\n",
    "    print(\"result :\", result)\n"
   ]
  },
  {
   "cell_type": "code",
   "execution_count": null,
   "metadata": {},
   "outputs": [],
   "source": []
  },
  {
   "cell_type": "code",
   "execution_count": null,
   "metadata": {},
   "outputs": [],
   "source": []
  },
  {
   "cell_type": "code",
   "execution_count": null,
   "metadata": {},
   "outputs": [],
   "source": []
  },
  {
   "cell_type": "code",
   "execution_count": null,
   "metadata": {},
   "outputs": [],
   "source": []
  },
  {
   "cell_type": "code",
   "execution_count": null,
   "metadata": {},
   "outputs": [],
   "source": []
  }
 ],
 "metadata": {
  "kernelspec": {
   "display_name": "Python 3",
   "language": "python",
   "name": "python3"
  },
  "language_info": {
   "codemirror_mode": {
    "name": "ipython",
    "version": 3
   },
   "file_extension": ".py",
   "mimetype": "text/x-python",
   "name": "python",
   "nbconvert_exporter": "python",
   "pygments_lexer": "ipython3",
   "version": "3.7.4"
  },
  "toc": {
   "base_numbering": 1,
   "nav_menu": {},
   "number_sections": true,
   "sideBar": true,
   "skip_h1_title": false,
   "title_cell": "Table of Contents",
   "title_sidebar": "Contents",
   "toc_cell": false,
   "toc_position": {},
   "toc_section_display": true,
   "toc_window_display": true
  },
  "varInspector": {
   "cols": {
    "lenName": 16,
    "lenType": 16,
    "lenVar": 40
   },
   "kernels_config": {
    "python": {
     "delete_cmd_postfix": "",
     "delete_cmd_prefix": "del ",
     "library": "var_list.py",
     "varRefreshCmd": "print(var_dic_list())"
    },
    "r": {
     "delete_cmd_postfix": ") ",
     "delete_cmd_prefix": "rm(",
     "library": "var_list.r",
     "varRefreshCmd": "cat(var_dic_list()) "
    }
   },
   "types_to_exclude": [
    "module",
    "function",
    "builtin_function_or_method",
    "instance",
    "_Feature"
   ],
   "window_display": false
  }
 },
 "nbformat": 4,
 "nbformat_minor": 2
}
