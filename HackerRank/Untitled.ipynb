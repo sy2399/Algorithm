{
 "cells": [
  {
   "cell_type": "markdown",
   "metadata": {},
   "source": [
    "# 1번 Split Array"
   ]
  },
  {
   "cell_type": "code",
   "execution_count": 69,
   "metadata": {
    "ExecuteTime": {
     "end_time": "2020-03-02T09:38:35.585769Z",
     "start_time": "2020-03-02T09:38:31.492311Z"
    },
    "scrolled": false
   },
   "outputs": [
    {
     "name": "stdout",
     "output_type": "stream",
     "text": [
      "3\n",
      "10\n",
      "-5\n",
      "6\n",
      "{10, 5}\n"
     ]
    }
   ],
   "source": [
    "#!/bin/python3\n",
    "\n",
    "import math\n",
    "import os\n",
    "import random\n",
    "import re\n",
    "import sys\n",
    "\n",
    "\n",
    "\n",
    "#\n",
    "# Complete the 'splitIntoTwo' function below.\n",
    "#\n",
    "# The function is expected to return an INTEGER.\n",
    "# The function accepts INTEGER_ARRAY arr as parameter.\n",
    "#\n",
    "\n",
    "def splitIntoTwo(arr):\n",
    "    count = 0\n",
    "    \n",
    "    sum_div_2 = sum(arr) / 2\n",
    "    sum_set = set()\n",
    "    \n",
    "    tmp_sum = 0\n",
    "    for idx, num in enumerate(arr):\n",
    "        if idx < len(arr)-1:\n",
    "            tmp_sum += num\n",
    "            sum_set.add(tmp_sum)\n",
    "    \n",
    "    print(sum_set)\n",
    "        \n",
    "    \n",
    "   \n",
    "    count = len([x for x in sum_set if x > sum_div_2])\n",
    "    return count\n",
    "\n",
    "if __name__ == '__main__':\n",
    "#     fptr = open(os.environ['OUTPUT_PATH'], 'w')\n",
    "\n",
    "    arr_count = int(input().strip())\n",
    "\n",
    "    arr = []\n",
    "    \n",
    "    for _ in range(arr_count):\n",
    "        arr_item = int(input().strip())\n",
    "        arr.append(arr_item)\n",
    "\n",
    "    result = splitIntoTwo(arr)\n",
    "\n",
    "    \n",
    "#     fptr.write(str(result) + '\\n')\n",
    "\n",
    "#     fptr.close()\n"
   ]
  },
  {
   "cell_type": "markdown",
   "metadata": {},
   "source": [
    "# 2번 Local Web Hosting"
   ]
  },
  {
   "cell_type": "code",
   "execution_count": 1,
   "metadata": {
    "ExecuteTime": {
     "end_time": "2020-03-02T07:16:22.254411Z",
     "start_time": "2020-03-02T07:16:10.573133Z"
    }
   },
   "outputs": [
    {
     "name": "stdout",
     "output_type": "stream",
     "text": [
      "10\n",
      "1\n",
      "2\n",
      "2\n",
      "3\n",
      "4\n",
      "5\n",
      "6\n",
      "6\n",
      "13\n",
      "16\n",
      "2\n",
      "10\n",
      "15\n",
      "[1, 2, 2, 3, 4, 5, 6, 6, 13, 16]\n",
      "[10, 15]\n"
     ]
    }
   ],
   "source": [
    "#!/bin/python3\n",
    "\n",
    "import math\n",
    "import os\n",
    "import random\n",
    "import re\n",
    "import sys\n",
    "\n",
    "\n",
    "\n",
    "#\n",
    "# Complete the 'requestsServed' function below.\n",
    "#\n",
    "# The function is expected to return an INTEGER.\n",
    "# The function accepts following parameters:\n",
    "#  1. INTEGER_ARRAY timestamp\n",
    "#  2. INTEGER_ARRAY top\n",
    "#\n",
    "\n",
    "def requestsServed(timestamp, top):\n",
    "    # Write your code here\n",
    "    print(\"timestamp:\", timestamp)\n",
    "    print(\"top:\", top)\n",
    "    \n",
    "    request_time = 0\n",
    "    \n",
    "    for t in timestamp:\n",
    "        request_time += t\n",
    "        while(  request_time <top)\n",
    "        \n",
    "\n",
    "if __name__ == '__main__':\n",
    "#     fptr = open(os.environ['OUTPUT_PATH'], 'w')\n",
    "\n",
    "    timestamp_count = int(input().strip())\n",
    "\n",
    "    timestamp = []\n",
    "\n",
    "    for _ in range(timestamp_count):\n",
    "        timestamp_item = int(input().strip())\n",
    "        timestamp.append(timestamp_item)\n",
    "\n",
    "    top_count = int(input().strip())\n",
    "\n",
    "    top = []\n",
    "\n",
    "    for _ in range(top_count):\n",
    "        top_item = int(input().strip())\n",
    "        top.append(top_item)\n",
    "\n",
    "    result = requestsServed(timestamp, top)\n",
    "\n",
    "#     fptr.write(str(result) + '\\n')\n",
    "\n",
    "#     fptr.close()\n"
   ]
  },
  {
   "cell_type": "markdown",
   "metadata": {},
   "source": [
    "# 3번 Cereal Segments"
   ]
  },
  {
   "cell_type": "code",
   "execution_count": 81,
   "metadata": {
    "ExecuteTime": {
     "end_time": "2020-03-02T10:16:25.496404Z",
     "start_time": "2020-03-02T10:16:21.440278Z"
    }
   },
   "outputs": [
    {
     "name": "stdout",
     "output_type": "stream",
     "text": [
      "3\n",
      "5\n",
      "2\n",
      "5\n",
      "4\n",
      "6\n",
      "8\n",
      "x 3\n",
      "arr [2, 5, 4, 6, 8]\n",
      "{2, 4}\n"
     ]
    }
   ],
   "source": [
    "#!/bin/python3\n",
    "\n",
    "import math\n",
    "import os\n",
    "import random\n",
    "import re\n",
    "import sys\n",
    "\n",
    "\n",
    "#\n",
    "# Complete the 'segment' function below.\n",
    "#\n",
    "# The function is expected to return an INTEGER.\n",
    "# The function accepts following parameters:\n",
    "#  1. INTEGER x\n",
    "#  2. INTEGER_ARRAY arr\n",
    "#\n",
    "\n",
    "def segment(x, arr):\n",
    "    \n",
    "    print(\"x\", x)\n",
    "    print(\"arr\", arr)\n",
    "        \n",
    "    # Write your code here\n",
    "    ans_= set()\n",
    "    \n",
    "    sub_list_min = set(min(tmp_list[i:i+x]) for i in range(0,len(arr) - x +1))\n",
    "    \n",
    "    print(sub_list_min)\n",
    "    return max(sub_list_min)\n",
    "\n",
    "#     for i in  range(0, len(arr)-x+1):\n",
    "#         temp=[]\n",
    "#         for j in range(x):\n",
    "#             temp.append(arr[i+j])\n",
    "#         ans_.add(min(temp))\n",
    "#     print(max(ans_))\n",
    "\n",
    "#     return max(ans_)\n",
    "\n",
    "\n",
    "if __name__ == '__main__':\n",
    "#     fptr = open(os.environ['OUTPUT_PATH'], 'w')\n",
    "\n",
    "    x = int(input().strip())\n",
    "\n",
    "    arr_count = int(input().strip())\n",
    "\n",
    "    arr = []\n",
    "\n",
    "    for _ in range(arr_count):\n",
    "        arr_item = int(input().strip())\n",
    "        arr.append(arr_item)\n",
    "\n",
    "    result = segment(x, arr)\n",
    "\n",
    "#     fptr.write(str(result) + '\\n')\n",
    "\n",
    "#     fptr.close()\n"
   ]
  },
  {
   "cell_type": "code",
   "execution_count": 74,
   "metadata": {
    "ExecuteTime": {
     "end_time": "2020-03-02T10:11:44.707601Z",
     "start_time": "2020-03-02T10:11:44.701906Z"
    }
   },
   "outputs": [
    {
     "data": {
      "text/plain": [
       "[[2, 5, 4], [5, 4, 6], [4, 6, 8]]"
      ]
     },
     "execution_count": 74,
     "metadata": {},
     "output_type": "execute_result"
    }
   ],
   "source": [
    "tmp_list = [2,5,4,6,8]\n",
    "x = 3\n",
    "[tmp_list[i:i+x] for i in range(0,len(tmp_list) - x +1)]\n"
   ]
  },
  {
   "cell_type": "code",
   "execution_count": 88,
   "metadata": {
    "ExecuteTime": {
     "end_time": "2020-03-02T10:38:57.196238Z",
     "start_time": "2020-03-02T10:38:57.191805Z"
    }
   },
   "outputs": [
    {
     "data": {
      "text/plain": [
       "[5, 4, 3, 2, 1]"
      ]
     },
     "execution_count": 88,
     "metadata": {},
     "output_type": "execute_result"
    }
   ],
   "source": [
    "tmp = [1,2,3,4,5]\n",
    "\n",
    "list(reversed(tmp))"
   ]
  },
  {
   "cell_type": "code",
   "execution_count": null,
   "metadata": {},
   "outputs": [],
   "source": []
  }
 ],
 "metadata": {
  "kernelspec": {
   "display_name": "Python 3",
   "language": "python",
   "name": "python3"
  },
  "language_info": {
   "codemirror_mode": {
    "name": "ipython",
    "version": 3
   },
   "file_extension": ".py",
   "mimetype": "text/x-python",
   "name": "python",
   "nbconvert_exporter": "python",
   "pygments_lexer": "ipython3",
   "version": "3.7.4"
  },
  "toc": {
   "base_numbering": 1,
   "nav_menu": {},
   "number_sections": true,
   "sideBar": true,
   "skip_h1_title": false,
   "title_cell": "Table of Contents",
   "title_sidebar": "Contents",
   "toc_cell": false,
   "toc_position": {},
   "toc_section_display": true,
   "toc_window_display": false
  },
  "varInspector": {
   "cols": {
    "lenName": 16,
    "lenType": 16,
    "lenVar": 40
   },
   "kernels_config": {
    "python": {
     "delete_cmd_postfix": "",
     "delete_cmd_prefix": "del ",
     "library": "var_list.py",
     "varRefreshCmd": "print(var_dic_list())"
    },
    "r": {
     "delete_cmd_postfix": ") ",
     "delete_cmd_prefix": "rm(",
     "library": "var_list.r",
     "varRefreshCmd": "cat(var_dic_list()) "
    }
   },
   "types_to_exclude": [
    "module",
    "function",
    "builtin_function_or_method",
    "instance",
    "_Feature"
   ],
   "window_display": false
  }
 },
 "nbformat": 4,
 "nbformat_minor": 2
}
