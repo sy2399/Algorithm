{
 "cells": [
  {
   "cell_type": "markdown",
   "metadata": {},
   "source": [
    "- Easy\n",
    "    - Happy Ladybugs\n",
    "    - Kangaroo\n",
    "    - Day of the Programmer\n",
    "- Medium\n",
    "    - Forming a Magis Square\n",
    "    - Climbing the Leaderboard(***규칙찾기가 중요!***)\n",
    "    "
   ]
  },
  {
   "cell_type": "markdown",
   "metadata": {},
   "source": [
    "# Easy"
   ]
  },
  {
   "cell_type": "markdown",
   "metadata": {},
   "source": [
    "## Happy Ladybugs"
   ]
  },
  {
   "cell_type": "code",
   "execution_count": 59,
   "metadata": {
    "ExecuteTime": {
     "end_time": "2020-02-26T07:04:08.836827Z",
     "start_time": "2020-02-26T07:04:08.830847Z"
    }
   },
   "outputs": [
    {
     "name": "stdout",
     "output_type": "stream",
     "text": [
      "result  YES\n"
     ]
    }
   ],
   "source": [
    "#!/bin/python3\n",
    "\n",
    "import math\n",
    "import os\n",
    "import random\n",
    "import re\n",
    "import sys\n",
    "\n",
    "# Complete the happyLadybugs function below.\n",
    "## ladybug 는 empty cell 로만 이동 가능!\n",
    "\n",
    "def happyLadybugs(b):\n",
    "    for a in set(b):\n",
    "        if a != \"_\" and b.count(a) == 1:\n",
    "            return \"NO\"\n",
    "    \n",
    "    if b.count(\"_\") == 0:\n",
    "        for i in range(1,n-1):\n",
    "            if b[i-1]!=b[i] and b[i+1]!=b[i]:\n",
    "                return \"NO\"\n",
    "    return \"YES\"\n",
    "   \n",
    "\n",
    "n = 1;\n",
    "b = \"AABCBC\"\n",
    "\n",
    "result = happyLadybugs(b)\n",
    "\n",
    "print(\"result \", result)"
   ]
  },
  {
   "cell_type": "markdown",
   "metadata": {},
   "source": [
    "## Kangaroo"
   ]
  },
  {
   "cell_type": "code",
   "execution_count": 73,
   "metadata": {
    "ExecuteTime": {
     "end_time": "2020-02-26T07:39:58.611131Z",
     "start_time": "2020-02-26T07:39:58.602290Z"
    }
   },
   "outputs": [
    {
     "name": "stdout",
     "output_type": "stream",
     "text": [
      "0 4 0\n",
      "3 6 1\n",
      "6 8 2\n",
      "9 10 3\n",
      "12 12 4\n",
      "YES\n"
     ]
    }
   ],
   "source": [
    "#!/bin/python3\n",
    "\n",
    "import math\n",
    "import os\n",
    "import random\n",
    "import re\n",
    "import sys\n",
    "\n",
    "# Complete the kangaroo function below.\n",
    "## 동시에, 같은 곳에 위치할 수 있는지! ==> X1, X2 의 점프 횟수는 동일하게\n",
    "def kangaroo(x1, v1, x2, v2):\n",
    "    jump = 0\n",
    "    x1_next = 0\n",
    "    x2_next = 0\n",
    "    while(jump<=10000):\n",
    "        x1_next = x1 +  v1 * jump\n",
    "        x2_next = x2 +  v2 * jump\n",
    "        print(x1_next,x2_next,jump)\n",
    "        jump +=1;\n",
    "        \n",
    "        if(x1_next==x2_next):\n",
    "            result = \"YES\"\n",
    "            break\n",
    "        else:\n",
    "             result = \"NO\"\n",
    "    return result\n",
    "if __name__ == '__main__':\n",
    "    \n",
    "\n",
    "    x1V1X2V2 = [0,3,4,2]\n",
    "\n",
    "    x1 = int(x1V1X2V2[0])\n",
    "\n",
    "    v1 = int(x1V1X2V2[1])\n",
    "\n",
    "    x2 = int(x1V1X2V2[2])\n",
    "\n",
    "    v2 = int(x1V1X2V2[3])\n",
    "\n",
    "    result = kangaroo(x1, v1, x2, v2)\n",
    "    print(result)\n",
    "    "
   ]
  },
  {
   "cell_type": "markdown",
   "metadata": {},
   "source": [
    "## Day of the Programmer\n",
    "(https://www.hackerrank.com/challenges/day-of-the-programmer/problem)"
   ]
  },
  {
   "cell_type": "code",
   "execution_count": null,
   "metadata": {
    "ExecuteTime": {
     "end_time": "2020-03-09T06:56:31.040024Z",
     "start_time": "2020-03-09T06:56:10.520Z"
    }
   },
   "outputs": [],
   "source": [
    "#!/bin/python3\n",
    "\n",
    "import math\n",
    "import os\n",
    "import random\n",
    "import re\n",
    "import sys\n",
    "\n",
    "# Complete the dayOfProgrammer function below.\n",
    "def dayOfProgrammer(year):\n",
    "    ########[1,  2,  3,  4,  5,  6,  7,  8,  9,  10,  11,  12]\n",
    "    month = [31, 28, 31, 30, 31, 30, 31, 31, 30, 31, 30, 31]\n",
    "    \n",
    "    ## 1. Julian Cal vs Gregorian Cal\n",
    "    if year <= 1917: \n",
    "        ## 2. leap year \n",
    "        if (year % 4) == 0:\n",
    "            month[1] = 29\n",
    "    elif year == 1918:\n",
    "        month[1] = month[1] - 14 +1\n",
    "    else:\n",
    "        ## 2. leap year \n",
    "        if ((year % 400) == 0) | ((year % 4 == 0) & (year % 100 != 0)):\n",
    "            month[1] = 29\n",
    "            \n",
    "    diff = 256 - sum(month[:8])\n",
    "    \n",
    "    print(diff)\n",
    "\n",
    "        \n",
    "\n",
    "\n",
    "if __name__ == '__main__':\n",
    "#     fptr = open(os.environ['OUTPUT_PATH'], 'w')\n",
    "\n",
    "    year = 1800\n",
    "\n",
    "    result = dayOfProgrammer(year)\n",
    "\n",
    "#     fptr.write(result + '\\n')\n",
    "\n",
    "#     fptr.close()\n"
   ]
  },
  {
   "cell_type": "code",
   "execution_count": 4,
   "metadata": {
    "ExecuteTime": {
     "end_time": "2020-03-09T06:52:32.010495Z",
     "start_time": "2020-03-09T06:52:32.005717Z"
    }
   },
   "outputs": [
    {
     "data": {
      "text/plain": [
       "243"
      ]
     },
     "execution_count": 4,
     "metadata": {},
     "output_type": "execute_result"
    }
   ],
   "source": [
    "tmp = [31, 28, 31, 30, 31, 30, 31, 31, 30, 31, 30, 31]\n",
    "\n",
    "sum(tmp[:8])"
   ]
  },
  {
   "cell_type": "code",
   "execution_count": null,
   "metadata": {},
   "outputs": [],
   "source": []
  },
  {
   "cell_type": "code",
   "execution_count": null,
   "metadata": {},
   "outputs": [],
   "source": []
  },
  {
   "cell_type": "markdown",
   "metadata": {},
   "source": [
    "# Medium"
   ]
  },
  {
   "cell_type": "markdown",
   "metadata": {},
   "source": [
    "## Forming a Magic Square (Medium)"
   ]
  },
  {
   "cell_type": "code",
   "execution_count": 157,
   "metadata": {
    "ExecuteTime": {
     "end_time": "2020-02-26T09:13:19.395018Z",
     "start_time": "2020-02-26T09:13:19.378020Z"
    }
   },
   "outputs": [
    {
     "name": "stdout",
     "output_type": "stream",
     "text": [
      "0 30\n",
      "1 36\n",
      "2 4\n",
      "3 14\n",
      "4 26\n",
      "5 32\n",
      "6 14\n",
      "7 24\n"
     ]
    },
    {
     "data": {
      "text/plain": [
       "4"
      ]
     },
     "execution_count": 157,
     "metadata": {},
     "output_type": "execute_result"
    }
   ],
   "source": [
    "def formingMagicSquare(s):\n",
    "    ans = [\n",
    "    [[8, 1, 6],\n",
    "    [3, 5, 7],\n",
    "    [4, 9, 2]],\n",
    "    \n",
    "    [[6, 1, 8],\n",
    "    [7, 5, 3],\n",
    "    [2, 9, 4]],\n",
    "    \n",
    "    [[4, 9, 2],\n",
    "    [3, 5, 7],\n",
    "    [8, 1, 6]],\n",
    "    \n",
    "    [[2, 9, 4],\n",
    "    [7, 5, 3],\n",
    "    [6, 1, 8]], \n",
    "    \n",
    "    [[8, 3, 4], \n",
    "    [1, 5, 9], \n",
    "    [6, 7, 2]],\n",
    "    \n",
    "    [[4, 3, 8], \n",
    "    [9, 5, 1], \n",
    "    [2, 7, 6]], \n",
    "    \n",
    "    [[6, 7, 2], \n",
    "    [1, 5, 9], \n",
    "    [8, 3, 4]], \n",
    "    \n",
    "    [[2, 7, 6], \n",
    "    [9, 5, 1], \n",
    "    [4, 3, 8]]]\n",
    "    \n",
    "    min_cost = 100;\n",
    "    calc = 0;\n",
    "    \n",
    "    for n in range(8):\n",
    "        calc = 0;\n",
    "        for i in range(3):\n",
    "            for j in range(3):\n",
    "                calc += abs(s[i][j] - ans[n][i][j]);\n",
    "        \n",
    "        min_cost = min(calc, min_cost);\n",
    "        \n",
    "    return min_cost\n",
    "        \n",
    "tmp = [[4, 8, 2], [4, 5, 7], [6, 1, 6]]\n",
    "formingMagicSquare(tmp)"
   ]
  },
  {
   "cell_type": "markdown",
   "metadata": {},
   "source": [
    "## Climbing the Leaderboard (Medium)\n",
    "\n",
    "\n",
    "- timeout!!\n",
    "\n",
    "[1]. Binary Search \n",
    "\n",
    "이진 탐색이란 데이터가 정렬돼 있는 배열에서 특정한 값을 찾아내는 알고리즘이다. 배열의 중간에 있는 임의의 값을 선택하여 찾고자 하는 값 X와 비교한다. X가 중간 값보다 작으면 중간 값을 기준으로 좌측의 데이터들을 대상으로, X가 중간값보다 크면 배열의 우측을 대상으로 다시 탐색한다. 동일한 방법으로 다시 중간의 값을 임의로 선택하고 비교한다. 해당 값을 찾을 때까지 이 과정을 반복한다.\n",
    "\n",
    "(구현 방법)\n",
    "\n",
    "소스코드로 구현할 경우 어떻게 배열에 접근하고 종료 조건을 판단할 수 있을까?\n",
    "인덱스를 이용한다. 인덱스의 최소, 최대 값을 따로 저장하여 탐색이 진행될 때 마다 갱신하고 탐색하는 배열의 범위를 줄여나간다.\n",
    "\n",
    "[https://cjh5414.github.io/binary-search/]\n",
    "\n",
    "\n",
    "******\n",
    "[2]. Binary Search Tree\n",
    "\n",
    "이진탐색트리란 이진탐색(binary search)과 연결리스트(linked list)를 결합한 자료구조의 일종입니다. 이진탐색의 효율적인 탐색 능력을 유지하면서도, 빈번한 자료 입력과 삭제를 가능하게끔 고안됐습니다.\n",
    "\n",
    "[https://ratsgo.github.io/data%20structure&algorithm/2017/10/22/bst/]\n",
    "\n",
    "\n",
    "******\n",
    "중요! Alice 의 점수는 오름차순, Leaderboard 의 점수는 내림차순\n",
    "\n",
    "alice의 score가 점점 낮아질수록 leaderboard 앞에 순위는 굳이 판단할 필요가 없어집니다. 따라서 alice의 점수가 leaderboard보다 작을 경우 startIndex를 한칸씩 옮겨서 for문을 수행하였습니다. 이렇게 되면 수행시간이 짧아집니다.\n",
    "\n",
    "풀이 [https://ejiaah.com/algorithm/hackerrank/Climbing-the-Leaderboard/]"
   ]
  },
  {
   "cell_type": "code",
   "execution_count": 1,
   "metadata": {
    "ExecuteTime": {
     "end_time": "2020-03-09T06:16:22.356377Z",
     "start_time": "2020-03-09T06:15:47.715160Z"
    }
   },
   "outputs": [
    {
     "name": "stderr",
     "output_type": "stream",
     "text": [
      "\n",
      "KeyboardInterrupt\n",
      "\n"
     ]
    }
   ],
   "source": [
    "#!/bin/python3\n",
    "\n",
    "import math\n",
    "import os\n",
    "import random\n",
    "import re\n",
    "import sys\n",
    "\n",
    "# Complete the climbingLeaderboard function below.\n",
    "def climbingLeaderboard(scores, alice):\n",
    "    rank_dict = {}\n",
    "    rank = 1\n",
    "    alice_rank = alice\n",
    "    \n",
    "    for i in alice:\n",
    "        alice_rank.append(0)\n",
    "        \n",
    "    for sc in scores:\n",
    "        if sc not in rank_dict.keys():\n",
    "            rank_dict[sc] = rank\n",
    "            rank +=1\n",
    "            \n",
    "    alice.sort(reverse = True)\n",
    "    alice_len = len(alice)-1\n",
    "    startIdx=0\n",
    "    for index, alice_score in enumerate(alice):\n",
    "        \n",
    "        alice_rank[alice_len-index] = len(rank_dict)+1\n",
    "        \n",
    "        for idx in range(startIdx, len(rank_dict)):\n",
    "            print(\"alice\", alice_score, \"idx\", idx, \"rank_score\", list(rank_dict.keys())[idx])\n",
    "            if list(rank_dict.keys())[idx] <= alice_score:\n",
    "                alice_rank[alice_len-index] = idx+1\n",
    "                break\n",
    "            else:\n",
    "                print(\"increate startIdx +++++\")\n",
    "                startIdx += 1\n",
    "                \n",
    "    print(alice_rank)    \n",
    "    \n",
    "    \n",
    "if __name__ == '__main__':\n",
    "    \n",
    "\n",
    "    scores_count = 6\n",
    "\n",
    "    scores = [100, 90, 90, 80, 75, 60]\n",
    "\n",
    "    alice_count = 5\n",
    "\n",
    "    alice = [50, 65, 77, 90, 102]\n",
    "\n",
    "    result = climbingLeaderboard(scores, alice)\n",
    "    \n",
    "    print(result)"
   ]
  },
  {
   "cell_type": "code",
   "execution_count": null,
   "metadata": {},
   "outputs": [],
   "source": []
  }
 ],
 "metadata": {
  "kernelspec": {
   "display_name": "Python 3",
   "language": "python",
   "name": "python3"
  },
  "language_info": {
   "codemirror_mode": {
    "name": "ipython",
    "version": 3
   },
   "file_extension": ".py",
   "mimetype": "text/x-python",
   "name": "python",
   "nbconvert_exporter": "python",
   "pygments_lexer": "ipython3",
   "version": "3.7.4"
  },
  "toc": {
   "base_numbering": 1,
   "nav_menu": {},
   "number_sections": true,
   "sideBar": true,
   "skip_h1_title": false,
   "title_cell": "Table of Contents",
   "title_sidebar": "Contents",
   "toc_cell": false,
   "toc_position": {},
   "toc_section_display": true,
   "toc_window_display": false
  },
  "varInspector": {
   "cols": {
    "lenName": 16,
    "lenType": 16,
    "lenVar": 40
   },
   "kernels_config": {
    "python": {
     "delete_cmd_postfix": "",
     "delete_cmd_prefix": "del ",
     "library": "var_list.py",
     "varRefreshCmd": "print(var_dic_list())"
    },
    "r": {
     "delete_cmd_postfix": ") ",
     "delete_cmd_prefix": "rm(",
     "library": "var_list.r",
     "varRefreshCmd": "cat(var_dic_list()) "
    }
   },
   "types_to_exclude": [
    "module",
    "function",
    "builtin_function_or_method",
    "instance",
    "_Feature"
   ],
   "window_display": false
  }
 },
 "nbformat": 4,
 "nbformat_minor": 2
}
