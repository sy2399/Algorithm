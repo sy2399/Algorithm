{
 "cells": [
  {
   "cell_type": "markdown",
   "metadata": {},
   "source": [
    "# Heap\n",
    "\n",
    "- [x] 더 맵게 [Link](https://github.com/sy2399/Algorithm/blob/master/Programmers/Efficiency_Programmers.ipynb)\n",
    "- [ ] 디스크 컨트롤러\n",
    "- [ ] 이중우선순위큐"
   ]
  },
  {
   "cell_type": "markdown",
   "metadata": {},
   "source": [
    "***\n",
    "**Heap**\n",
    "- 우선순위 큐를 위해 만들어진 자료구조\n",
    "    - cf. 큐 : 먼저 들어간 데이터가 먼저 나옴\n",
    "    - cf. 스택 : 나중에 들어간 데이터가 먼저 나옴\n",
    "    - cf. 우선순위 큐 : 우선순위가 높은 데이터가 먼저 나옴\n",
    "        - 배열, 연결리스트, heap 기반으로 구현 가능\n",
    "        - 트래픽 제어, 스케쥴링, 시뮬레이션...\n",
    "        \n",
    "        \n",
    "- 완전 이진 트리의 일종\n",
    "    - cf. 완전 이진 트리란 ? : 마지막 레벨을 제외한 모든 레벨의 노드가 완전히 채워져 있으며, 마지막 레벨의 노드들은 가능한 한 왼쪽부터 채워져 있는 구조\n",
    "        - 레벨 k에 있는 최대 노드 수 = 2^(k-1)\n",
    "        - 높이가 h인 포화이진트리에 있는 노드의 수는 2^h -1\n",
    "        \n",
    "        \n",
    "- Heap 의 종류\n",
    "    - max heap : key(부모 노드) >= key(자식 노드)\n",
    "    - min heap : key(부모 노드) <= key(자식 노드)\n",
    "    \n",
    "***\n",
    "1. 더 맵게\n",
    "    - 하나의 리스트 안에서 단계마다 요소들을 섞어 최대값을 찾아 빼는 구조\n",
    "2. 디스크 컨트롤러\n",
    "    - \n"
   ]
  },
  {
   "cell_type": "markdown",
   "metadata": {},
   "source": [
    "## 더 맵게 \n",
    "\n",
    "[Programmers](https://programmers.co.kr/learn/courses/9877/lessons/55762)\n",
    "\n",
    "[풀이](https://github.com/sy2399/Algorithm/blob/master/Efficiency_Programmers.ipynb)\n",
    "\n",
    "\n",
    "**문제 설명**   \n",
    "매운 것을 좋아하는 Leo는 모든 음식의 스코빌 지수를 K 이상으로 만들고 싶습니다. 모든 음식의 스코빌 지수를 K 이상으로 만들기 위해 Leo는 스코빌 지수가 가장 낮은 두 개의 음식을 아래와 같이 특별한 방법으로 섞어 새로운 음식을 만듭니다.\n",
    "\n",
    "섞은 음식의 스코빌 지수 = 가장 맵지 않은 음식의 스코빌 지수 + (두 번째로 맵지 않은 음식의 스코빌 지수 * 2)\n",
    "\n",
    "Leo는 모든 음식의 스코빌 지수가 K 이상이 될 때까지 반복하여 섞습니다. Leo가 가진 음식의 스코빌 지수를 담은 배열 scoville과 원하는 스코빌 지수 K가 주어질 때, 모든 음식의 스코빌 지수를 K 이상으로 만들기 위해 섞어야 하는 최소 횟수를 return 하도록 solution 함수를 작성해주세요.\n",
    "\n",
    "**제한 사항**   \n",
    "- scoville의 길이는 1 이상 1,000,000 이하입니다.\n",
    "- K는 0 이상 1,000,000,000 이하입니다.\n",
    "- scoville의 원소는 각각 0 이상 1,000,000 이하입니다.\n",
    "- 모든 음식의 스코빌 지수를 K 이상으로 만들 수 없는 경우에는 -1을 return 합니다\n",
    "\n",
    "ex. scoville : [1, 2, 3, 9, 10, 12] // K = 7 // ----return 2"
   ]
  },
  {
   "cell_type": "code",
   "execution_count": 25,
   "metadata": {
    "ExecuteTime": {
     "end_time": "2020-11-17T08:27:49.848290Z",
     "start_time": "2020-11-17T08:27:49.842602Z"
    }
   },
   "outputs": [],
   "source": [
    "import heapq\n",
    "\n",
    "def solution(scoville, K):\n",
    "    answer = 0\n",
    "    scoville.sort()\n",
    "    heapq.heapify(scoville)\n",
    "    min_sco = heapq.heappop(scoville)\n",
    "    print(scoville)\n",
    "   \n",
    "    # 음식 섞기의 중단 조건\n",
    "        ## 1. 모든 음식의 scovile 점수가 K 이상\n",
    "    while min_sco < K:\n",
    "        if len(scoville) ==0:\n",
    "            answer = -1\n",
    "            break\n",
    "        else:\n",
    "            min_sco_2 = heapq.heappop(scoville) \n",
    "            new = min_sco + 2 * min_sco_2\n",
    "            heapq.heappush(scoville, new)\n",
    "            min_sco = heapq.heappop(scoville)\n",
    "            answer += 1\n",
    "        \n",
    "    ## 2. 😱😱모든 음식의 스코빌 지수를 K 이상으로 만들 수 없는 경우\n",
    "    \n",
    "        \n",
    "    return answer"
   ]
  },
  {
   "cell_type": "code",
   "execution_count": 26,
   "metadata": {
    "ExecuteTime": {
     "end_time": "2020-11-17T08:27:50.288375Z",
     "start_time": "2020-11-17T08:27:50.282786Z"
    }
   },
   "outputs": [
    {
     "name": "stdout",
     "output_type": "stream",
     "text": [
      "[2, 10, 9, 30, 12]\n"
     ]
    },
    {
     "data": {
      "text/plain": [
       "2"
      ]
     },
     "execution_count": 26,
     "metadata": {},
     "output_type": "execute_result"
    }
   ],
   "source": [
    "scoville = [1, 2, 30, 9, 10, 12] \n",
    "K = 7\n",
    "\n",
    "solution(scoville, K)"
   ]
  },
  {
   "cell_type": "markdown",
   "metadata": {
    "ExecuteTime": {
     "end_time": "2020-05-19T01:23:52.059012Z",
     "start_time": "2020-05-19T01:23:52.054911Z"
    }
   },
   "source": [
    "## 디스크 컨트롤러 \n",
    "\n",
    "[Programmers](https://programmers.co.kr/learn/courses/30/lessons/42627)\n",
    "\n",
    "문제 설명\n",
    "하드디스크는 한 번에 하나의 작업만 수행할 수 있습니다. 디스크 컨트롤러를 구현하는 방법은 여러 가지가 있습니다. 가장 일반적인 방법은 요청이 들어온 순서대로 처리하는 것입니다.\n",
    "\n",
    "예를들어\n",
    "\n",
    "- 0ms 시점에 3ms가 소요되는 A작업 요청\n",
    "- 1ms 시점에 9ms가 소요되는 B작업 요청\n",
    "- 2ms 시점에 6ms가 소요되는 C작업 요청\n",
    "\n",
    "한 번에 하나의 요청만을 수행할 수 있기 때문에 각각의 작업을 요청받은 순서대로 처리하면 다음과 같이 처리 됩니다.   \n",
    "\n",
    "- A: 3ms 시점에 작업 완료 (요청에서 종료까지 : 3ms)\n",
    "- B: 1ms부터 대기하다가, 3ms 시점에 작업을 시작해서 12ms 시점에 작업 완료(요청에서 종료까지 : 11ms)\n",
    "- C: 2ms부터 대기하다가, 12ms 시점에 작업을 시작해서 18ms 시점에 작업 완료(요청에서 종료까지 : 16ms)\n",
    "\n",
    "이 때 각 작업의 요청부터 종료까지 걸린 시간의 평균은 10ms(= (3 + 11 + 16) / 3)가 됩니다.\n",
    "\n",
    "하지만 A → C → B 순서대로 처리하면\n",
    "- A: 3ms 시점에 작업 완료(요청에서 종료까지 : 3ms)\n",
    "- C: 2ms부터 대기하다가, 3ms 시점에 작업을 시작해서 9ms 시점에 작업 완료(요청에서 종료까지 : 7ms)\n",
    "- B: 1ms부터 대기하다가, 9ms 시점에 작업을 시작해서 18ms 시점에 작업 완료(요청에서 종료까지 : 17ms)\n",
    "\n",
    "이렇게 A → C → B의 순서로 처리하면 각 작업의 요청부터 종료까지 걸린 시간의 평균은 9ms(= (3 + 7 + 17) / 3)가 됩니다.\n",
    "\n",
    "각 작업에 대해 [작업이 요청되는 시점, 작업의 소요시간]을 담은 2차원 배열 jobs가 매개변수로 주어질 때, 작업의 요청부터 종료까지 걸린 시간의 평균을 가장 줄이는 방법으로 처리하면 평균이 얼마가 되는지 return 하도록 solution 함수를 작성해주세요. (단, 소수점 이하의 수는 버립니다)\n",
    "\n",
    "제한 사항\n",
    "jobs의 길이는 1 이상 500 이하입니다.\n",
    "jobs의 각 행은 하나의 작업에 대한 [작업이 요청되는 시점, 작업의 소요시간] 입니다.\n",
    "각 작업에 대해 작업이 요청되는 시간은 0 이상 1,000 이하입니다.\n",
    "각 작업에 대해 작업의 소요시간은 1 이상 1,000 이하입니다.\n",
    "하드디스크가 작업을 수행하고 있지 않을 때에는 먼저 요청이 들어온 작업부터 처리합니다.\n"
   ]
  },
  {
   "cell_type": "markdown",
   "metadata": {},
   "source": [
    "***\n",
    "**Thinking**\n",
    "-  👩‍💻왜 heap 문제인가? 👩‍💻\n",
    "\n",
    "    - minheap 으로 각 job 이 걸리는 최소 시간을 빼낼 수 있어서?\n",
    "    - 스케쥴링 문제\n",
    "    \n",
    "    \n",
    "- **긴 작업부터 하게 되면, 뒤에 올 작업들의 대기시간이 길어지므로, 짧은 소요시간의 작업을 먼저 수행하도록 해야 함!!**\n",
    "- 고려할 예외 사항 [참고](https://davinci-ai.tistory.com/35)\n",
    "    - jobs는 순서대로 되어있지 않을 수 있습니다.\n",
    "    - 작업의 도착시간이 0으로 같은 경우가 있을 수 있습니다.\n",
    "    - 또한 작업이 끝났는데 대기중인 작업이 없이 쉬는 간격이 생길 수 있습니다.\n",
    "    - 하드디스크가 작업을 수행하고 있지 않을 때에는 먼저 요청이 들어온 작업부터 처리합니다.\n",
    "    - jobs : 각 작업의 [작업 요청 시점, 작업 소요시간]을 담은 2차원 배열입니다.\n",
    "    - 작업 요청부터 종료까지 걸린 시간의 평균 최솟값을 return하는 문제입니다.\n",
    "\n",
    "\n",
    "- Solution\n",
    "    - 우선, 작업들의 시작시간은 변하지 않습니다. 즉, `작업의 종료시간`만을 고려하여 평균을 계산하면 됩니다.\n",
    "    - jobs 배열을 `힙`으로 변경하여서 `시간 순서`로 정렬합니다.\n"
   ]
  },
  {
   "cell_type": "code",
   "execution_count": 150,
   "metadata": {
    "ExecuteTime": {
     "end_time": "2020-11-03T06:13:57.955123Z",
     "start_time": "2020-11-03T06:13:57.946367Z"
    },
    "code_folding": []
   },
   "outputs": [],
   "source": [
    "import heapq\n",
    "\n",
    "def solution(jobs):\n",
    "    n = len(jobs)\n",
    "    answer = 0\n",
    "    heapq.heapify(jobs)\n",
    "    \n",
    "    # 최소값의 작업 요청 시점 & 최소값의 작업 소요 시간을 가진 job을 꺼낸다\n",
    "    current, length = heapq.heappop(jobs)\n",
    "    current += length\n",
    "    answer += length\n",
    "    \n",
    "    # 처리한 작업수 😱😱\n",
    "    count = 1\n",
    "    \n",
    "    # 다음 작업으로 뭘 할지 결정하기 위한 리스트\n",
    "    ## 각각의 job + 첫번째 작업이 끝날때까지 기다린 시간\n",
    "    job_tmp = []\n",
    "    \n",
    "\n",
    "    while count < n:\n",
    "#         print(\"\\n ****\", count, jobs, job_tmp)\n",
    "        \n",
    "        while jobs:\n",
    "            tmp_start, tmp_length = heapq.heappop(jobs)\n",
    "            wait = abs(current - tmp_start)\n",
    "            heapq.heappush(job_tmp, ((wait + tmp_length), tmp_start, tmp_length))\n",
    "        \n",
    "#         print(\"\\n 1. job_tmp 채우기 \", job_tmp)\n",
    "        if job_tmp:\n",
    "            min_current, min_start, min_length = heapq.heappop(job_tmp)\n",
    "            current += min_length\n",
    "            answer += min_current\n",
    "\n",
    "#             print(\"\\n ##current\", current, \"answer\", answer)\n",
    "            count += 1\n",
    "#             print(\"\\n 2. job_tmp 에서 대기시간+작업소요 가 최소인 작업 빼기 \", job_tmp)\n",
    "        \n",
    "        while job_tmp:\n",
    "            _, tmp_start, tmp_length = heapq.heappop(job_tmp)\n",
    "            heapq.heappush(jobs, (tmp_start, tmp_length))\n",
    " \n",
    "    return (answer//n)\n",
    "\n"
   ]
  },
  {
   "cell_type": "code",
   "execution_count": 151,
   "metadata": {
    "ExecuteTime": {
     "end_time": "2020-11-03T06:13:58.238801Z",
     "start_time": "2020-11-03T06:13:58.232476Z"
    }
   },
   "outputs": [
    {
     "name": "stdout",
     "output_type": "stream",
     "text": [
      "\n",
      " **** 1 [[1, 9], [2, 6], [4, 6]] []\n",
      "\n",
      " 1. job_tmp 채우기  [(7, 2, 6), (11, 1, 9), (7, 4, 6)]\n",
      "\n",
      " ##current 9 answer 10\n",
      "\n",
      " 2. job_tmp 에서 대기시간+작업소요 가 최소인 작업 빼기  [(7, 4, 6), (11, 1, 9)]\n",
      "\n",
      " **** 2 [(1, 9), (4, 6)] []\n",
      "\n",
      " 1. job_tmp 채우기  [(11, 4, 6), (17, 1, 9)]\n",
      "\n",
      " ##current 15 answer 21\n",
      "\n",
      " 2. job_tmp 에서 대기시간+작업소요 가 최소인 작업 빼기  [(17, 1, 9)]\n",
      "\n",
      " **** 3 [(1, 9)] []\n",
      "\n",
      " 1. job_tmp 채우기  [(23, 1, 9)]\n",
      "\n",
      " ##current 24 answer 44\n",
      "\n",
      " 2. job_tmp 에서 대기시간+작업소요 가 최소인 작업 빼기  []\n"
     ]
    },
    {
     "data": {
      "text/plain": [
       "11"
      ]
     },
     "execution_count": 151,
     "metadata": {},
     "output_type": "execute_result"
    }
   ],
   "source": [
    "jobs = [[0, 3], [2, 6], [1, 9], [4, 6]]\n",
    "solution(jobs)"
   ]
  },
  {
   "cell_type": "code",
   "execution_count": 154,
   "metadata": {
    "ExecuteTime": {
     "end_time": "2020-11-03T06:17:26.154770Z",
     "start_time": "2020-11-03T06:17:26.147677Z"
    },
    "code_folding": []
   },
   "outputs": [],
   "source": [
    "import heapq\n",
    "def solution(jobs):\n",
    "    n = len(jobs)\n",
    "    time, end, queue = 0, -1, []\n",
    "    # 처리한 프로세스 개수\n",
    "    count = 0\n",
    "    \n",
    "    answer = 0\n",
    "    while count < n:\n",
    "        for i in jobs:\n",
    "          # i[0] = 프로세스 입력 시간, i[1] = 프로세스 끝날 때까지 걸리는 시간\n",
    "            if end < i[0] <= time:\n",
    "                # 현재 시간 기준, 프로세스가 queue에 들어가서 얼마나 기다렸는지.\n",
    "                answer += (time - i[0])\n",
    "                heapq.heappush(queue, i[1])\n",
    "        print(queue)\n",
    "        \n",
    "        if len(queue) > 0:\n",
    "            # 가장 빨리 끝나는 프로세스가 끝날 때까지는 queue에 있는 프로세스 전부 대기시간이므로 값을 추가한다.\n",
    "            answer += len(queue) * queue[0]\n",
    "            # 끝난 시간\n",
    "            end = time\n",
    "            # 가장 빨리 끝나는 프로세스가 걸린 시간을 더해준다\n",
    "            time += heapq.heappop(queue)\n",
    "            # 프로세스가 끝났으므로 count + 1 해준다.\n",
    "            count += 1\n",
    "        else:\n",
    "          # queue에 아직 아무것도 없으므로 시간을 +1 해준다.\n",
    "            time += 1\n",
    "            \n",
    "    return (int(answer / n))"
   ]
  },
  {
   "cell_type": "code",
   "execution_count": 155,
   "metadata": {
    "ExecuteTime": {
     "end_time": "2020-11-03T06:17:26.360238Z",
     "start_time": "2020-11-03T06:17:26.353971Z"
    }
   },
   "outputs": [
    {
     "name": "stdout",
     "output_type": "stream",
     "text": [
      "[3]\n",
      "[6, 9]\n",
      "[6, 9]\n",
      "[9]\n"
     ]
    },
    {
     "data": {
      "text/plain": [
       "11"
      ]
     },
     "execution_count": 155,
     "metadata": {},
     "output_type": "execute_result"
    }
   ],
   "source": [
    "jobs = [[0, 3], [2, 6], [1, 9], [4, 6]]\n",
    "solution(jobs)"
   ]
  },
  {
   "cell_type": "code",
   "execution_count": null,
   "metadata": {},
   "outputs": [],
   "source": []
  }
 ],
 "metadata": {
  "hide_input": false,
  "kernelspec": {
   "display_name": "Python 3",
   "language": "python",
   "name": "python3"
  },
  "language_info": {
   "codemirror_mode": {
    "name": "ipython",
    "version": 3
   },
   "file_extension": ".py",
   "mimetype": "text/x-python",
   "name": "python",
   "nbconvert_exporter": "python",
   "pygments_lexer": "ipython3",
   "version": "3.7.4"
  },
  "toc": {
   "base_numbering": 1,
   "nav_menu": {},
   "number_sections": true,
   "sideBar": true,
   "skip_h1_title": false,
   "title_cell": "Table of Contents",
   "title_sidebar": "Contents",
   "toc_cell": false,
   "toc_position": {},
   "toc_section_display": true,
   "toc_window_display": false
  },
  "varInspector": {
   "cols": {
    "lenName": 16,
    "lenType": 16,
    "lenVar": 40
   },
   "kernels_config": {
    "python": {
     "delete_cmd_postfix": "",
     "delete_cmd_prefix": "del ",
     "library": "var_list.py",
     "varRefreshCmd": "print(var_dic_list())"
    },
    "r": {
     "delete_cmd_postfix": ") ",
     "delete_cmd_prefix": "rm(",
     "library": "var_list.r",
     "varRefreshCmd": "cat(var_dic_list()) "
    }
   },
   "types_to_exclude": [
    "module",
    "function",
    "builtin_function_or_method",
    "instance",
    "_Feature"
   ],
   "window_display": false
  }
 },
 "nbformat": 4,
 "nbformat_minor": 2
}
