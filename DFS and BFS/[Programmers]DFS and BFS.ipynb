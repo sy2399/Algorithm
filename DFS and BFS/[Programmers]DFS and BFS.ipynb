{
 "cells": [
  {
   "cell_type": "markdown",
   "metadata": {},
   "source": [
    "# DFS and BFS\n",
    "\n",
    "- [x] 타겟넘버\n",
    "- [x] 네트워크\n",
    "- [ ] 단어 변환\n",
    "- [ ] 여행경로"
   ]
  },
  {
   "cell_type": "markdown",
   "metadata": {},
   "source": [
    "## 타겟넘버 \n",
    "\n",
    "[Programmers](https://programmers.co.kr/learn/courses/30/lessons/43165)\n",
    "\n",
    "**문제 설명**   \n",
    "n개의 음이 아닌 정수가 있습니다. 이 수를 적절히 더하거나 빼서 타겟 넘버를 만들려고 합니다. 예를 들어 [1, 1, 1, 1, 1]로 숫자 3을 만들려면 다음 다섯 방법을 쓸 수 있습니다.\n",
    "\n",
    "* -1+1+1+1+1 = 3   \n",
    "* +1-1+1+1+1 = 3\n",
    "* +1+1-1+1+1 = 3\n",
    "* +1+1+1-1+1 = 3\n",
    "* +1+1+1+1-1 = 3 \n",
    "\n",
    "사용할 수 있는 숫자가 담긴 배열 numbers, 타겟 넘버 target이 매개변수로 주어질 때 숫자를 적절히 더하고 빼서 타겟 넘버를 만드는 방법의 수를 return 하도록 solution 함수를 작성해주세요.\n",
    "\n",
    "**제한사항**   \n",
    "주어지는 숫자의 개수는 2개 이상 20개 이하입니다.\n",
    "각 숫자는 1 이상 50 이하인 자연수입니다.\n",
    "타겟 넘버는 1 이상 1000 이하인 자연수입니다.\n",
    "\n"
   ]
  },
  {
   "cell_type": "markdown",
   "metadata": {},
   "source": [
    "***\n",
    "🧐🤔이게 왜 DFS/BFS 문제일까?\n",
    "\n",
    "* Queue or Stack 을 이용하는 문제?\n",
    "* **DFS 문제는 Stack 또는 재귀를 통해 풀이가 가능하다**\n",
    "* 결국은 배열에 있는 요소가 하나의 노드라고 비유한다면, 배열의 인덱스는 깊이라고 비유할 수 있다. 결국은 각 깊이에 대해 모두 탐색하게 되고, 모든 경우의 수를 모두 탐색하게 된다.\n",
    "***\n",
    "- 1이 5개, target 의 값은 3, 부호가 들어갈 수 있는 자리는 5개\n",
    "- 맨 앞에도 부호가 들어갈 수 있음\n",
    "- 주어진 수를 모두 써야하나?\n",
    "- 모두 같은 수라면, '-' 부호 한개는 주어진 수 중 두개를 없애는 것과 동일\n",
    "\n",
    "***\n",
    "**[Simple Solution](https://train-validation-test.tistory.com/entry/Programmers-level-2-%ED%83%80%EA%B2%9F-%EB%84%98%EB%B2%84-python)**\n",
    "\n",
    "트리가 있다고 가정할 때, 트리를 한층 한층 밑으로 만들어 나가는 느낌이라고 보면될 것 같다. 한 노드에 숫자를 빼고 더한 결과를 자식 노드로 쌓는다."
   ]
  },
  {
   "cell_type": "code",
   "execution_count": 6,
   "metadata": {
    "ExecuteTime": {
     "end_time": "2020-11-11T05:56:20.999941Z",
     "start_time": "2020-11-11T05:56:20.995137Z"
    }
   },
   "outputs": [],
   "source": [
    "def solution(numbers, target):\n",
    "    answer = 0\n",
    "    exp = [0]\n",
    "    for i in numbers:\n",
    "        sub = []\n",
    "        for j in exp:\n",
    "            sub.append(j+i)\n",
    "            sub.append(j-i)\n",
    "            \n",
    "#         print(\"\\nSub tree : \", sub)\n",
    "        \n",
    "        exp = sub\n",
    "        \n",
    "    return exp.count(target)"
   ]
  },
  {
   "cell_type": "markdown",
   "metadata": {},
   "source": [
    "**😱[Recursive](https://velog.io/@leesj8115/%ED%94%84%EB%A1%9C%EA%B7%B8%EB%9E%98%EB%A8%B8%EC%8A%A4-43165)**\n",
    "\n",
    "![Tree](https://t1.daumcdn.net/cfile/tistory/99B7003A5C0D2D4039)\n",
    "\n",
    "1. numbers가 비었으며(= 모든 수를 계산했으며) target이 0일 때\n",
    "    - = target에 맞는 연산이므로 return 1\n",
    "2. number가 비었지만 target이 값이 0이 아닐 경우 (= 더하고 빼는 과정에서 target과 다른 값이 나왔을 경우)\n",
    "    - = target을 구하지 못했으므로 return 0\n",
    "3. 아직 numbers가 남아있을 경우\n",
    "    - = numbers가 남았다는 것은 모든 수를 연산하지 않았다는 것이므로, target에 대해 +- numbers[0] 연산을 하고, numbers[1:]으로 계속해서 재귀를 실행한다."
   ]
  },
  {
   "cell_type": "code",
   "execution_count": 40,
   "metadata": {
    "ExecuteTime": {
     "end_time": "2020-11-11T06:20:10.309422Z",
     "start_time": "2020-11-11T06:20:10.304836Z"
    }
   },
   "outputs": [],
   "source": [
    "def solution(numbers, target):\n",
    "    # not numbers : 비어있는지 체크\n",
    "    if not numbers and target == 0 :\n",
    "        return 1\n",
    "    elif not numbers:\n",
    "        return 0\n",
    "    else:\n",
    "        return solution(numbers[1:], target-numbers[0]) \\\n",
    "                        + solution(numbers[1:], target+numbers[0])\n",
    "    \n",
    "    "
   ]
  },
  {
   "cell_type": "code",
   "execution_count": 41,
   "metadata": {
    "ExecuteTime": {
     "end_time": "2020-11-11T06:20:11.557745Z",
     "start_time": "2020-11-11T06:20:11.553223Z"
    }
   },
   "outputs": [
    {
     "data": {
      "text/plain": [
       "5"
      ]
     },
     "execution_count": 41,
     "metadata": {},
     "output_type": "execute_result"
    }
   ],
   "source": [
    "numbers = [1,1,1,1,1]\n",
    "target = 3\n",
    "solution(numbers, target)"
   ]
  },
  {
   "cell_type": "markdown",
   "metadata": {},
   "source": [
    "## 네트워크\n",
    "\n",
    "[Programmers](https://programmers.co.kr/learn/courses/30/lessons/43162)\n",
    "\n",
    "**문제 설명**   \n",
    "네트워크란 컴퓨터 상호 간에 정보를 교환할 수 있도록 연결된 형태를 의미합니다. 예를 들어, 컴퓨터 A와 컴퓨터 B가 직접적으로 연결되어있고, 컴퓨터 B와 컴퓨터 C가 직접적으로 연결되어 있을 때 컴퓨터 A와 컴퓨터 C도 간접적으로 연결되어 정보를 교환할 수 있습니다. 따라서 컴퓨터 A, B, C는 모두 같은 네트워크 상에 있다고 할 수 있습니다.\n",
    "\n",
    "컴퓨터의 개수 n, 연결에 대한 정보가 담긴 2차원 배열 computers가 매개변수로 주어질 때, 네트워크의 개수를 return 하도록 solution 함수를 작성하시오.\n",
    "\n",
    "**제한사항**   \n",
    "- 컴퓨터의 개수 n은 1 이상 200 이하인 자연수입니다.\n",
    "- 각 컴퓨터는 0부터 n-1인 정수로 표현합니다.\n",
    "- i번 컴퓨터와 j번 컴퓨터가 연결되어 있으면 computers[i][j]를 1로 표현합니다.\n",
    "- computer[i][i]는 항상 1입니다.\n",
    "\n",
    "**입출력 예**   \n",
    "n\tcomputers\treturn\n",
    "- 3\t[[1, 1, 0], [1, 1, 0], [0, 0, 1]]\t2\n",
    "- 3\t[[1, 1, 0], [1, 1, 1], [0, 1, 1]]\t1\n",
    "\n",
    "***\n",
    "Graph가 인접행렬로 주어졌을 때 \n",
    "sub Graph 의 개수 세는 문제"
   ]
  },
  {
   "cell_type": "markdown",
   "metadata": {},
   "source": [
    "**[Simple Solution](https://jiss02.tistory.com/28)**\n",
    "\n",
    "1. 인접행렬 기반 generate graph\n",
    "2. vertex 개수만큼 for loop 돌면서 각각의 vertex에 대해 dfs 수행\n",
    "3. dfs\n",
    "\n",
    "--> 중복되는 코드가 많음."
   ]
  },
  {
   "cell_type": "code",
   "execution_count": 79,
   "metadata": {
    "ExecuteTime": {
     "end_time": "2020-11-13T06:34:31.319423Z",
     "start_time": "2020-11-13T06:34:31.310610Z"
    },
    "code_folding": []
   },
   "outputs": [],
   "source": [
    "from collections import defaultdict\n",
    "\n",
    "def generate_graph(n, computers):\n",
    "    graph = defaultdict(list)\n",
    "    for i in range(n):\n",
    "        for j in range(n):\n",
    "            if computers[i][j] == 1:\n",
    "                graph[i] += [j]\n",
    "        graph[i] = set(graph[i])\n",
    "    return graph\n",
    "\n",
    "def dfs(graph, start):\n",
    "    visited = []\n",
    "    stack = [start]\n",
    "    while stack:\n",
    "        node = stack.pop()\n",
    "        if node not in visited:\n",
    "            visited.append(node)\n",
    "            stack.extend(graph[node]-set(visited))\n",
    "    return visited\n",
    "\n",
    "def solution(n, computers):\n",
    "    answer = 0\n",
    "    g = generate_graph(n, computers)\n",
    "    start = 0\n",
    "    visited = []\n",
    "    \n",
    "    while len(visited) != n:\n",
    "        if start not in visited:\n",
    "            visited += dfs(g, start)\n",
    "            answer +=1\n",
    "        start += 1\n",
    "    return answer"
   ]
  },
  {
   "cell_type": "markdown",
   "metadata": {},
   "source": [
    "**Recursion**"
   ]
  },
  {
   "cell_type": "code",
   "execution_count": 84,
   "metadata": {
    "ExecuteTime": {
     "end_time": "2020-11-13T06:39:36.019212Z",
     "start_time": "2020-11-13T06:39:36.013524Z"
    }
   },
   "outputs": [],
   "source": [
    "def dfs(start, graph, visited):\n",
    "    visited[start] = 1\n",
    "    for i in range(len(graph)):\n",
    "        if visited[i] == 0 and graph[start][i] == 1:\n",
    "            dfs(i, graph, visited)\n",
    "    \n",
    "def solution(n, computers):\n",
    "    visited = [0] * n\n",
    "    answer = 0\n",
    "    \n",
    "    for i in range(n):\n",
    "        if visited[i] == 0:\n",
    "            dfs(i, computers, visited)\n",
    "            answer += 1\n",
    "        if 0 not in visited:\n",
    "            break\n",
    "    return answer"
   ]
  },
  {
   "cell_type": "code",
   "execution_count": 85,
   "metadata": {
    "ExecuteTime": {
     "end_time": "2020-11-13T06:39:36.290855Z",
     "start_time": "2020-11-13T06:39:36.286156Z"
    }
   },
   "outputs": [
    {
     "data": {
      "text/plain": [
       "2"
      ]
     },
     "execution_count": 85,
     "metadata": {},
     "output_type": "execute_result"
    }
   ],
   "source": [
    "n = 3\n",
    "computers = [[1, 1, 0], [1, 1, 0], [0, 0, 1]]\n",
    "solution(n, computers)"
   ]
  },
  {
   "cell_type": "code",
   "execution_count": 86,
   "metadata": {
    "ExecuteTime": {
     "end_time": "2020-11-13T06:39:37.924318Z",
     "start_time": "2020-11-13T06:39:37.918630Z"
    }
   },
   "outputs": [
    {
     "data": {
      "text/plain": [
       "1"
      ]
     },
     "execution_count": 86,
     "metadata": {},
     "output_type": "execute_result"
    }
   ],
   "source": [
    "n = 3\n",
    "computers = [[1, 1, 0], [1, 1, 1], [0, 1, 1]]\n",
    "solution(n, computers)"
   ]
  },
  {
   "cell_type": "markdown",
   "metadata": {},
   "source": [
    "## 단어 변환\n",
    "[Programmers](https://programmers.co.kr/learn/courses/30/lessons/43163)\n",
    "\n",
    "**문제 설명**   \n",
    "두 개의 단어 begin, target과 단어의 집합 words가 있습니다. 아래와 같은 규칙을 이용하여 begin에서 target으로 변환하는 가장 짧은 변환 과정을 찾으려고 합니다.\n",
    "\n",
    "1. 한 번에 한 개의 알파벳만 바꿀 수 있습니다.\n",
    "2. words에 있는 단어로만 변환할 수 있습니다.\n",
    "\n",
    "예를 들어 begin이 hit, target가 cog, words가 [hot,dot,dog,lot,log,cog]라면 hit -> hot -> dot -> dog -> cog와 같이 4단계를 거쳐 변환할 수 있습니다.\n",
    "\n",
    "두 개의 단어 begin, target과 단어의 집합 words가 매개변수로 주어질 때, 최소 몇 단계의 과정을 거쳐 begin을 target으로 변환할 수 있는지 return 하도록 solution 함수를 작성해주세요.\n",
    "\n",
    "**제한사항**\n",
    "- 각 단어는 알파벳 소문자로만 이루어져 있습니다.\n",
    "- 각 단어의 길이는 3 이상 10 이하이며 모든 단어의 길이는 같습니다.\n",
    "- words에는 3개 이상 50개 이하의 단어가 있으며 중복되는 단어는 없습니다.\n",
    "- begin과 target은 같지 않습니다.\n",
    "- 변환할 수 없는 경우에는 0를 return 합니다.\n",
    "\n",
    "***\n",
    "1. bfs 하면서 글자가 하나만 다른걸 찾고\n",
    "2. "
   ]
  },
  {
   "cell_type": "code",
   "execution_count": 87,
   "metadata": {
    "ExecuteTime": {
     "end_time": "2020-11-13T06:42:22.474560Z",
     "start_time": "2020-11-13T06:42:22.471506Z"
    }
   },
   "outputs": [],
   "source": [
    "def solution(begin, target, words):\n",
    "    answer = 0\n",
    "    n = len(words)\n",
    "    checked = [0] * n\n",
    "    \n",
    "    #예외 처리 : 변환할 수 없는 경우에는 0를 return 합니다.\n",
    "    if target not in words:\n",
    "        return 0\n",
    "    for i in range(n):\n",
    "        \n",
    "    return answer"
   ]
  },
  {
   "cell_type": "code",
   "execution_count": null,
   "metadata": {},
   "outputs": [],
   "source": [
    "begin = \"hit\"\n",
    "target = \"cog\"\n",
    "words = [\"hot\", \"dot\", \"dog\", \"lot\", \"log\", \"cog\"]"
   ]
  }
 ],
 "metadata": {
  "hide_input": false,
  "kernelspec": {
   "display_name": "Python 3",
   "language": "python",
   "name": "python3"
  },
  "language_info": {
   "codemirror_mode": {
    "name": "ipython",
    "version": 3
   },
   "file_extension": ".py",
   "mimetype": "text/x-python",
   "name": "python",
   "nbconvert_exporter": "python",
   "pygments_lexer": "ipython3",
   "version": "3.7.4"
  },
  "toc": {
   "base_numbering": 1,
   "nav_menu": {},
   "number_sections": true,
   "sideBar": true,
   "skip_h1_title": false,
   "title_cell": "Table of Contents",
   "title_sidebar": "Contents",
   "toc_cell": false,
   "toc_position": {},
   "toc_section_display": true,
   "toc_window_display": false
  },
  "varInspector": {
   "cols": {
    "lenName": 16,
    "lenType": 16,
    "lenVar": 40
   },
   "kernels_config": {
    "python": {
     "delete_cmd_postfix": "",
     "delete_cmd_prefix": "del ",
     "library": "var_list.py",
     "varRefreshCmd": "print(var_dic_list())"
    },
    "r": {
     "delete_cmd_postfix": ") ",
     "delete_cmd_prefix": "rm(",
     "library": "var_list.r",
     "varRefreshCmd": "cat(var_dic_list()) "
    }
   },
   "types_to_exclude": [
    "module",
    "function",
    "builtin_function_or_method",
    "instance",
    "_Feature"
   ],
   "window_display": false
  }
 },
 "nbformat": 4,
 "nbformat_minor": 2
}
