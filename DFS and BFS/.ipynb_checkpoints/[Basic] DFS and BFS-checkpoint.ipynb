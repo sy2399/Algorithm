{
 "cells": [
  {
   "cell_type": "markdown",
   "metadata": {},
   "source": [
    "***\n",
    "[참고1](https://yunyoung1819.tistory.com/86)\n",
    "[참고2](https://jeinalog.tistory.com/18)\n",
    "\n",
    "**DFS (stack 사용) **\n",
    "- 미로를 탐색할 때 한 방향으로 갈 수 있을 때까지 계속 가다가 더 이상 갈 수 없게 되면 다시 가장 가까운 갈림길로 돌아와 그곳에서 다시 다른 방향으로 탐색 진행\n",
    "- ***모든 노드를 방문하고자 하는 경우***\n",
    "- 재귀 알고리즘의 형태 or stack 이용\n",
    "- 어떤 노드를 방문했었는지 여부를 반드시 체크해야함 visited []\n",
    "\n",
    "\n",
    "**BFS (queue 사용) **\n",
    "- 시작 정점으로부터 가장 가까운 정점을 먼저 방문하고 멀리 떨어져 있는 정점을 나중에 방문\n",
    "- 두 노드 사이의 최단 경로 혹은 임의의 경로 찾고 싶을 때\n",
    "- 어떤 노드를 방문했었는지 여부를 반드시 체크해야함 visited []\n",
    "\n",
    "***\n",
    "* DFS : 모든 노드를 살펴보아야 할 수도 있음\n",
    "* BFS : 가까운 관계부터 탐색\n",
    "***\n",
    "[스택과 큐, 어떻게 다르고 왜 DFS에서 stack을, BFS에선 queue를 사용하는지](https://duwjdtn11.tistory.com/281)\n",
    "[자료구조가 필요한 이유](https://jeinalog.tistory.com/18)\n",
    "- 시도해 볼 수 있는 경우의 수가 10가지일때, 다른 9가지는 일단 잠시 두고 한가지에 대해서 그 다음 단계를 생각해 본다면 나머지 9가지는? ***어딘가에 잘 저장해두어야*** 지금 탐색할 선택지의 결말이 마음에 안 들었을 때 언제라도 다시 돌아와서 다른 선택지를 탐색\n",
    "\n",
    "***\n",
    "DFS에서는 한 단계에서 pop과 expand 두가지를 동시에 처리\n",
    "- pop : 스택의 맨 위 노드를 꺼내는 일\n",
    "- expand : pop으로 노드를 지우면서, 그 노드의 자식을 모두 스택에 넣는 일\n",
    "\n",
    "BFS또한 순서만 다를 뿐, pop과 expand 과정을 똑같이!\n",
    "**다만, 스택의 pop은 맨 뒤 요소를 꺼내지만, 큐는 맨 앞에서 꺼냄**\n"
   ]
  },
  {
   "cell_type": "markdown",
   "metadata": {},
   "source": [
    "# DFS"
   ]
  },
  {
   "cell_type": "markdown",
   "metadata": {
    "ExecuteTime": {
     "end_time": "2020-11-18T08:04:03.956253Z",
     "start_time": "2020-11-18T08:04:03.831492Z"
    }
   },
   "source": [
    "![DFS](https://img1.daumcdn.net/thumb/R1280x0/?scode=mtistory2&fname=https%3A%2F%2Fblog.kakaocdn.net%2Fdn%2FpekEp%2FbtqytthEgpj%2FYLuHXcUqgsKn5Ogt78w6Kk%2Fimg.png)\n",
    "![DFS_stack](https://img1.daumcdn.net/thumb/R1280x0/?scode=mtistory2&fname=https%3A%2F%2Fblog.kakaocdn.net%2Fdn%2Fb6i6l8%2FbtqyqT294ir%2FFv0Ba9TU5N2sAdw4jdFz5K%2Fimg.png)"
   ]
  },
  {
   "cell_type": "code",
   "execution_count": 55,
   "metadata": {
    "ExecuteTime": {
     "end_time": "2020-11-19T06:40:56.746332Z",
     "start_time": "2020-11-19T06:40:56.740703Z"
    }
   },
   "outputs": [],
   "source": [
    "def dfs(graph, start_node):\n",
    "    path = []\n",
    "    stack = [] # 다음에 방문할 node를 담기 위한 stack\n",
    "    \n",
    "    # 만약 작은 번호의 node부터 방문해야 한다면\n",
    "    # stack.pop()에서 작은 수부터 뽑아내기 위해 graph sorting\n",
    "    \n",
    "    for n in graph:\n",
    "        graph[n].sort(reverse=True)\n",
    "    print(\"sorted\", graph)\n",
    "    \n",
    "    stack.append(start_node)\n",
    "    while stack:\n",
    "        #2. 0번 노드부터 시작\n",
    "        node = stack.pop()\n",
    "        print(\"pop\", node)\n",
    "        if node not in path:\n",
    "            path.append(node)\n",
    "            \n",
    "            # 3. 방문한 노드에 연결된 노드 graph[next_node]\n",
    "            # --> 다음에 방문할 Node를 stack에 담는다\n",
    "            if node in graph:\n",
    "                stack.extend(graph[node])\n",
    "                print(\"stack\", stack)\n",
    "\n",
    "    return path\n"
   ]
  },
  {
   "cell_type": "code",
   "execution_count": 56,
   "metadata": {
    "ExecuteTime": {
     "end_time": "2020-11-19T06:40:57.185751Z",
     "start_time": "2020-11-19T06:40:57.176235Z"
    }
   },
   "outputs": [
    {
     "name": "stdout",
     "output_type": "stream",
     "text": [
      "Graph {'A': ['B', 'C', 'D'], 'B': ['E'], 'E': ['I', 'J'], 'C': ['F'], 'D': ['G', 'H'], 'H': ['K']}\n",
      "['B', 'C', 'D'] {'D', 'B', 'C'}\n",
      "sorted {'A': ['D', 'C', 'B'], 'B': ['E'], 'E': ['J', 'I'], 'C': ['F'], 'D': ['H', 'G'], 'H': ['K']}\n",
      "pop A\n",
      "stack ['D', 'C', 'B']\n",
      "pop B\n",
      "stack ['D', 'C', 'E']\n",
      "pop E\n",
      "stack ['D', 'C', 'J', 'I']\n",
      "pop I\n",
      "pop J\n",
      "pop C\n",
      "stack ['D', 'F']\n",
      "pop F\n",
      "pop D\n",
      "stack ['H', 'G']\n",
      "pop G\n",
      "pop H\n",
      "stack ['K']\n",
      "pop K\n"
     ]
    },
    {
     "data": {
      "text/plain": [
       "['A', 'B', 'E', 'I', 'J', 'C', 'F', 'D', 'G', 'H', 'K']"
      ]
     },
     "execution_count": 56,
     "metadata": {},
     "output_type": "execute_result"
    }
   ],
   "source": [
    "connections = [['A', 'B'], ['A','C'], ['A','D'], ['B', 'E'], ['E', 'I'], ['E', 'J'], \\\n",
    "               ['C', 'F'], ['D', 'G'], ['D', 'H'], ['H', 'K']]\n",
    "\n",
    "#1. undirected Graph 만들기\n",
    "graph = {}\n",
    "for con in connections:\n",
    "    graph[con[0]] = graph.get(con[0], []) + [con[1]]\n",
    "#     graph[con[1]] = graph.get(con[1], []) + [con[0]]\n",
    "print(\"Graph\", graph)\n",
    "\n",
    "print(graph['A'], set(graph['A']))\n",
    "dfs(graph, 'A')"
   ]
  },
  {
   "cell_type": "markdown",
   "metadata": {},
   "source": [
    "# BFS"
   ]
  },
  {
   "cell_type": "markdown",
   "metadata": {},
   "source": [
    "![BFS](https://img1.daumcdn.net/thumb/R1280x0/?scode=mtistory2&fname=https%3A%2F%2Fblog.kakaocdn.net%2Fdn%2FbpaaUI%2Fbtqyr5PwDJa%2F5iBNOkr3cNzlHNHtmptRZk%2Fimg.png)\n",
    "![BFS_queue](https://img1.daumcdn.net/thumb/R1280x0/?scode=mtistory2&fname=https%3A%2F%2Fblog.kakaocdn.net%2Fdn%2FbYlxqV%2FbtqyrExSf9r%2FQnJ9AmmlRpycvTMe9BHKP1%2Fimg.png)"
   ]
  },
  {
   "cell_type": "code",
   "execution_count": 62,
   "metadata": {
    "ExecuteTime": {
     "end_time": "2020-11-19T06:42:57.114695Z",
     "start_time": "2020-11-19T06:42:57.109800Z"
    }
   },
   "outputs": [],
   "source": [
    "from collections import deque\n",
    "\n",
    "def bfs(graph, start_node):\n",
    "    path = []\n",
    "    queue = deque([])\n",
    "    queue.append(start_node)\n",
    "    \n",
    "    while queue:\n",
    "        node = queue.popleft()\n",
    "\n",
    "        if node not in path:\n",
    "            path.append(node)\n",
    "            \n",
    "            if node in graph:\n",
    "                queue.extend(graph[node])\n",
    "                print(\"queue\", queue)\n",
    "    return path"
   ]
  },
  {
   "cell_type": "code",
   "execution_count": 63,
   "metadata": {
    "ExecuteTime": {
     "end_time": "2020-11-19T06:42:57.331703Z",
     "start_time": "2020-11-19T06:42:57.322647Z"
    }
   },
   "outputs": [
    {
     "name": "stdout",
     "output_type": "stream",
     "text": [
      "Graph {'A': ['B', 'C', 'D'], 'B': ['E'], 'E': ['I', 'J'], 'C': ['F'], 'D': ['G', 'H'], 'H': ['K']}\n",
      "queue deque(['B', 'C', 'D'])\n",
      "queue deque(['C', 'D', 'E'])\n",
      "queue deque(['D', 'E', 'F'])\n",
      "queue deque(['E', 'F', 'G', 'H'])\n",
      "queue deque(['F', 'G', 'H', 'I', 'J'])\n",
      "queue deque(['I', 'J', 'K'])\n"
     ]
    },
    {
     "data": {
      "text/plain": [
       "['A', 'B', 'C', 'D', 'E', 'F', 'G', 'H', 'I', 'J', 'K']"
      ]
     },
     "execution_count": 63,
     "metadata": {},
     "output_type": "execute_result"
    }
   ],
   "source": [
    "connections = [['A', 'B'], ['A','C'], ['A','D'], ['B', 'E'], ['E', 'I'], ['E', 'J'], \\\n",
    "               ['C', 'F'], ['D', 'G'], ['D', 'H'], ['H', 'K']]\n",
    "#1. undirected Graph 만들기\n",
    "graph = {}\n",
    "for con in connections:\n",
    "    graph[con[0]] = graph.get(con[0], []) + [con[1]]\n",
    "#     graph[con[1]] = graph.get(con[1], []) + [con[0]]\n",
    "print(\"Graph\", graph)\n",
    "\n",
    "bfs(graph, 'A')"
   ]
  },
  {
   "cell_type": "code",
   "execution_count": null,
   "metadata": {},
   "outputs": [],
   "source": []
  }
 ],
 "metadata": {
  "hide_input": false,
  "kernelspec": {
   "display_name": "Python 3",
   "language": "python",
   "name": "python3"
  },
  "language_info": {
   "codemirror_mode": {
    "name": "ipython",
    "version": 3
   },
   "file_extension": ".py",
   "mimetype": "text/x-python",
   "name": "python",
   "nbconvert_exporter": "python",
   "pygments_lexer": "ipython3",
   "version": "3.7.4"
  },
  "toc": {
   "base_numbering": 1,
   "nav_menu": {},
   "number_sections": true,
   "sideBar": true,
   "skip_h1_title": false,
   "title_cell": "Table of Contents",
   "title_sidebar": "Contents",
   "toc_cell": false,
   "toc_position": {},
   "toc_section_display": true,
   "toc_window_display": false
  },
  "varInspector": {
   "cols": {
    "lenName": 16,
    "lenType": 16,
    "lenVar": 40
   },
   "kernels_config": {
    "python": {
     "delete_cmd_postfix": "",
     "delete_cmd_prefix": "del ",
     "library": "var_list.py",
     "varRefreshCmd": "print(var_dic_list())"
    },
    "r": {
     "delete_cmd_postfix": ") ",
     "delete_cmd_prefix": "rm(",
     "library": "var_list.r",
     "varRefreshCmd": "cat(var_dic_list()) "
    }
   },
   "types_to_exclude": [
    "module",
    "function",
    "builtin_function_or_method",
    "instance",
    "_Feature"
   ],
   "window_display": false
  }
 },
 "nbformat": 4,
 "nbformat_minor": 2
}
