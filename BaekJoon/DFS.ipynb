{
 "cells": [
  {
   "cell_type": "markdown",
   "metadata": {},
   "source": [
    "*백준 DFS, BFS*\n",
    "\n",
    "- [x] p1260. DFS 와 BFS\n",
    "- [x] p2606. 바이러스\n",
    "- [ ] p2667. 단지번호붙이기"
   ]
  },
  {
   "cell_type": "markdown",
   "metadata": {},
   "source": [
    "# p1260. DFS 와 BFS\n",
    "***\n",
    "시작점에 연결된 edge 가 없는 경우에 대한 처리 해줘야 함!\n",
    "\n",
    "출처 : https://www.acmicpc.net/problem/1260"
   ]
  },
  {
   "cell_type": "code",
   "execution_count": 6,
   "metadata": {
    "ExecuteTime": {
     "end_time": "2020-05-08T09:24:18.908137Z",
     "start_time": "2020-05-08T09:24:12.761317Z"
    }
   },
   "outputs": [
    {
     "name": "stdout",
     "output_type": "stream",
     "text": [
      "1000 1 1\n",
      "999 1000\n",
      "{999: [1000], 1000: [999]}\n",
      "1\n",
      "1\n"
     ]
    }
   ],
   "source": [
    "def dfs(graph, v):\n",
    "    \"\"\"\n",
    "    DFS 깊이우선 탐색\n",
    "    \"\"\"\n",
    "    visit = []\n",
    "    stack = []\n",
    "    \n",
    "    stack.append(v)\n",
    "    \n",
    "    while stack:\n",
    "        node = stack.pop()\n",
    "        \n",
    "        if node not in visit:\n",
    "            visit.append(node)\n",
    "            # 정점 번호가 작은것부터 방문하도록 하기 위해, stack 에 넣을 때 역순으로\n",
    "            # 그럼 stack.pop() 할 때 작은것 부터 뽑히겟지!\n",
    "            if node in list(graph.keys()):\n",
    "                stack.extend(sorted(graph[node], reverse= True))\n",
    "        \n",
    "    print(\" \".join([str(i) for i in visit] ))\n",
    "    \n",
    "def bfs(graph, v):\n",
    "    \"\"\"\n",
    "    BFS 너비우선 탐색\n",
    "    \"\"\"\n",
    "    visit = []\n",
    "    queue = []\n",
    "    \n",
    "    queue.append(v)\n",
    "    \n",
    "    while queue:\n",
    "        \n",
    "        node = queue.pop(0)\n",
    "        \n",
    "        if node not in visit:\n",
    "            visit.append(node)\n",
    "            if node in list(graph.keys()):\n",
    "                queue.extend(sorted(graph[node], reverse= False))\n",
    "            \n",
    "\n",
    "    print(\" \".join([str(i) for i in visit] ))\n",
    "\n",
    "    \n",
    "def generate_graph(connections):\n",
    "    graph = {}\n",
    "    for con in connections:\n",
    "        graph[con[0]] = [con[1]] if con[0] not in graph else graph[con[0]] + [con[1],]\n",
    "        graph[con[1]] = [con[0]] if con[1] not in graph else graph[con[1]] + [con[0],]\n",
    "    return graph\n",
    "\n",
    "if __name__ == '__main__':\n",
    "\n",
    "    inputs = input().split()\n",
    "\n",
    "    n = int(inputs[0])\n",
    "\n",
    "    m = int(inputs[1])\n",
    "    \n",
    "    v = int(inputs[2])\n",
    "    \n",
    "    connections = []\n",
    "    \n",
    "    for _ in range(m):\n",
    "        edges = list(map(int, input().rstrip().split()))\n",
    "        \n",
    "        connections.append(edges)\n",
    "    \n",
    "    g = generate_graph(connections)\n",
    "    print(g)\n",
    "    \n",
    "    dfs(g, v)\n",
    "    bfs(g, v)\n",
    "    \n",
    "\n"
   ]
  },
  {
   "cell_type": "markdown",
   "metadata": {},
   "source": [
    "# p2606. 바이러스\n",
    "\n",
    "***\n",
    "연결된 그래프의 노드 수 찾는 문제\n",
    "\n",
    "출처 : https://www.acmicpc.net/problem/2606"
   ]
  },
  {
   "cell_type": "code",
   "execution_count": 12,
   "metadata": {
    "ExecuteTime": {
     "end_time": "2020-05-08T09:44:31.223050Z",
     "start_time": "2020-05-08T09:43:34.250445Z"
    }
   },
   "outputs": [
    {
     "name": "stdout",
     "output_type": "stream",
     "text": [
      "7\n",
      "6\n",
      "1 2\n",
      "2 3\n",
      "1 5\n",
      "5 2\n",
      "5 6\n",
      "4 7\n",
      "{1: [2, 5], 2: [1, 3, 5], 3: [2], 5: [1, 2, 6], 6: [5], 4: [7], 7: [4]}\n",
      "BFS result :  [1, 2, 5, 3, 6]\n"
     ]
    }
   ],
   "source": [
    "def bfs(graph, v):\n",
    "    \"\"\"\n",
    "    BFS 너비우선 탐색\n",
    "    \"\"\"\n",
    "    visit = []\n",
    "    queue = []\n",
    "    \n",
    "    queue.append(v)\n",
    "    \n",
    "    while queue:\n",
    "        \n",
    "        node = queue.pop(0)\n",
    "        \n",
    "        if node not in visit:\n",
    "            visit.append(node)\n",
    "            if node in list(graph.keys()):\n",
    "                queue.extend(graph[node])\n",
    "            \n",
    "    \n",
    "#     print(\" \".join([str(i) for i in visit] ))\n",
    "    return visit\n",
    "\n",
    "\n",
    "def generate_graph(connections):\n",
    "    graph = {}\n",
    "    for con in connections:\n",
    "        graph[con[0]] = [con[1]] if con[0] not in graph else graph[con[0]] + [con[1],]\n",
    "        graph[con[1]] = [con[0]] if con[1] not in graph else graph[con[1]] + [con[0],]\n",
    "    return graph\n",
    "\n",
    "if __name__ == '__main__':\n",
    "\n",
    "\n",
    "    n = int(input())\n",
    "\n",
    "    m = int(input())\n",
    "    \n",
    "    connections = []\n",
    "    \n",
    "    for _ in range(m):\n",
    "        edges = list(map(int, input().rstrip().split()))\n",
    "        \n",
    "        connections.append(edges)\n",
    "    \n",
    "    g = generate_graph(connections)\n",
    "    \n",
    "    \n",
    "    visit = bfs(g,1)\n",
    "    print(len(visit)-1)\n",
    "    \n",
    "   "
   ]
  },
  {
   "cell_type": "markdown",
   "metadata": {},
   "source": [
    "# p2667. 단지번호붙이기 "
   ]
  },
  {
   "cell_type": "code",
   "execution_count": null,
   "metadata": {},
   "outputs": [],
   "source": [
    "if __name__ == '__main__':\n",
    "\n",
    "    n = int(input())\n",
    "\n",
    "    apartments = []\n",
    "    for _ in range(n):\n",
    "        line = list(map(str, input().rstrip().split()))\n",
    "        apartments.append(line)\n",
    "    print(apartments)\n"
   ]
  }
 ],
 "metadata": {
  "kernelspec": {
   "display_name": "Python 3",
   "language": "python",
   "name": "python3"
  },
  "language_info": {
   "codemirror_mode": {
    "name": "ipython",
    "version": 3
   },
   "file_extension": ".py",
   "mimetype": "text/x-python",
   "name": "python",
   "nbconvert_exporter": "python",
   "pygments_lexer": "ipython3",
   "version": "3.6.10"
  },
  "toc": {
   "base_numbering": 1,
   "nav_menu": {},
   "number_sections": true,
   "sideBar": true,
   "skip_h1_title": false,
   "title_cell": "Table of Contents",
   "title_sidebar": "Contents",
   "toc_cell": false,
   "toc_position": {},
   "toc_section_display": true,
   "toc_window_display": false
  },
  "varInspector": {
   "cols": {
    "lenName": 16,
    "lenType": 16,
    "lenVar": 40
   },
   "kernels_config": {
    "python": {
     "delete_cmd_postfix": "",
     "delete_cmd_prefix": "del ",
     "library": "var_list.py",
     "varRefreshCmd": "print(var_dic_list())"
    },
    "r": {
     "delete_cmd_postfix": ") ",
     "delete_cmd_prefix": "rm(",
     "library": "var_list.r",
     "varRefreshCmd": "cat(var_dic_list()) "
    }
   },
   "types_to_exclude": [
    "module",
    "function",
    "builtin_function_or_method",
    "instance",
    "_Feature"
   ],
   "window_display": false
  }
 },
 "nbformat": 4,
 "nbformat_minor": 4
}
