{
 "cells": [
  {
   "cell_type": "markdown",
   "metadata": {},
   "source": [
    "# 역순 연결 리스트 2\n",
    "\n",
    "[leetcode92](https://leetcode.com/problems/reverse-linked-list-ii/)\n",
    "\n",
    "Reverse a linked list from position m to n. Do it in one-pass.\n",
    "\n",
    "Note: 1 ≤ m ≤ n ≤ length of list.\n",
    "\n",
    "- Input: 1->2->3->4->5->NULL, m = 2, n = 4\n",
    "- Output: 1->4->3->2->5->NULL"
   ]
  },
  {
   "cell_type": "markdown",
   "metadata": {},
   "source": [
    "***\n",
    "- 리스트로 변환 후?"
   ]
  },
  {
   "cell_type": "code",
   "execution_count": 10,
   "metadata": {
    "ExecuteTime": {
     "end_time": "2020-12-29T14:42:14.458064Z",
     "start_time": "2020-12-29T14:42:14.452781Z"
    }
   },
   "outputs": [],
   "source": [
    "# Definition for singly-linked list.\n",
    "# class ListNode(object):\n",
    "#     def __init__(self, val=0, next=None):\n",
    "#         self.val = val\n",
    "#         self.next = next\n",
    "\n",
    "class Solution(object):\n",
    "    def reverseBetween(self, head, m, n):\n",
    "        \"\"\"\n",
    "        :type head: ListNode\n",
    "        :type m: int\n",
    "        :type n: int\n",
    "        :rtype: ListNode\n",
    "        \"\"\"\n",
    "        \n",
    "        l = list()\n",
    "        if not head:\n",
    "            return head\n",
    "        \n",
    "        node = head\n",
    "        while node is not None:\n",
    "            l.append(node.val)\n",
    "            node = node.next\n",
    "            \n",
    "        m -= 1\n",
    "        n -= 1\n",
    "        l[m], l[n] = l[n], l[m]\n",
    "        \n",
    "        root = head = ListNode(l[0])\n",
    "        for i in l[1:]:\n",
    "            head.next = ListNode(i)\n",
    "            head = head.next\n",
    "        return root\n",
    "            \n",
    "        \n",
    "        "
   ]
  },
  {
   "cell_type": "code",
   "execution_count": 11,
   "metadata": {
    "ExecuteTime": {
     "end_time": "2020-12-29T14:42:14.687318Z",
     "start_time": "2020-12-29T14:42:14.684208Z"
    }
   },
   "outputs": [],
   "source": [
    "class ListNode(object):\n",
    "    def __init__(self, val=0, next=None):\n",
    "        self.val = val\n",
    "        self.next = next"
   ]
  },
  {
   "cell_type": "code",
   "execution_count": 12,
   "metadata": {
    "ExecuteTime": {
     "end_time": "2020-12-29T14:42:14.922650Z",
     "start_time": "2020-12-29T14:42:14.918571Z"
    }
   },
   "outputs": [],
   "source": [
    "input_data = [1,2,3,4,5]\n",
    "root = head = ListNode(1)\n",
    "\n",
    "for i in input_data[1:]:\n",
    "    head.next = ListNode(i)\n",
    "    head = head.next\n",
    "    \n",
    "m, n = 2, 4\n",
    "result = Solution.reverseBetween(Solution, root, m, n)\n",
    "\n"
   ]
  },
  {
   "cell_type": "markdown",
   "metadata": {},
   "source": [
    "# Solution : 반복 구조로 노드 뒤집기\n",
    "- start : 변경이 필요한 지점의 앞 노드\n",
    "- end : start.next\n"
   ]
  },
  {
   "cell_type": "code",
   "execution_count": 13,
   "metadata": {
    "ExecuteTime": {
     "end_time": "2020-12-29T14:46:56.807838Z",
     "start_time": "2020-12-29T14:46:56.803383Z"
    }
   },
   "outputs": [],
   "source": [
    "class Solution(object):\n",
    "    def reverseBetween(self, head, m, n):\n",
    "        \n",
    "        if not head or m==n:\n",
    "            return head\n",
    "        \n",
    "        root = start = ListNode(None)\n",
    "        root.next = head\n",
    "        \n",
    "        for _ in range(m-1):\n",
    "            start = start.next\n",
    "        end = start.next\n",
    "        \n",
    "        for _ in range(n-m):\n",
    "            tmp, start.next, end.next = start.next, end.next, end.next.next\n",
    "            start.next.next = tmp\n",
    "            \n",
    "        return root.next"
   ]
  },
  {
   "cell_type": "code",
   "execution_count": null,
   "metadata": {},
   "outputs": [],
   "source": []
  }
 ],
 "metadata": {
  "hide_input": false,
  "kernelspec": {
   "display_name": "Python 3",
   "language": "python",
   "name": "python3"
  },
  "language_info": {
   "codemirror_mode": {
    "name": "ipython",
    "version": 3
   },
   "file_extension": ".py",
   "mimetype": "text/x-python",
   "name": "python",
   "nbconvert_exporter": "python",
   "pygments_lexer": "ipython3",
   "version": "3.7.9"
  },
  "toc": {
   "base_numbering": 1,
   "nav_menu": {},
   "number_sections": true,
   "sideBar": true,
   "skip_h1_title": false,
   "title_cell": "Table of Contents",
   "title_sidebar": "Contents",
   "toc_cell": false,
   "toc_position": {},
   "toc_section_display": true,
   "toc_window_display": false
  },
  "varInspector": {
   "cols": {
    "lenName": 16,
    "lenType": 16,
    "lenVar": 40
   },
   "kernels_config": {
    "python": {
     "delete_cmd_postfix": "",
     "delete_cmd_prefix": "del ",
     "library": "var_list.py",
     "varRefreshCmd": "print(var_dic_list())"
    },
    "r": {
     "delete_cmd_postfix": ") ",
     "delete_cmd_prefix": "rm(",
     "library": "var_list.r",
     "varRefreshCmd": "cat(var_dic_list()) "
    }
   },
   "types_to_exclude": [
    "module",
    "function",
    "builtin_function_or_method",
    "instance",
    "_Feature"
   ],
   "window_display": false
  }
 },
 "nbformat": 4,
 "nbformat_minor": 2
}
