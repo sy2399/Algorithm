{
 "cells": [
  {
   "cell_type": "markdown",
   "metadata": {},
   "source": [
    "[leetcode 1](https://leetcode.com/problems/two-sum/)\n",
    "\n",
    "Given an array of integers nums and an integer target, return indices of the **two numbers** such that they add up to target.\n",
    "\n",
    "You may assume that each input would have ***exactly one solution***, and you may not use the same element twice.\n",
    "\n",
    "You can return the answer in any order.\n",
    "\n",
    "*Constraints:*\n",
    "- 2 <= nums.length <= 103\n",
    "- -10^9 <= nums[i] <= 109\n",
    "- -10^9 <= target <= 109\n",
    "- Only one valid answer exists.\n",
    "\n"
   ]
  },
  {
   "cell_type": "markdown",
   "metadata": {},
   "source": [
    "***\n",
    "**Cf. 배열**\n",
    "- 자료구조는 크게 메모리 공간 기반의 연속(Contiguous) 방식과 포인터 기반의 연결(Link)으로 나뉜다.\n",
    "- 배열은 연속 방식의 가장 기본이 되는 자료형이다.\n",
    "- 배열은 크기를 지정하고(`고정된 크기`) 해당 크기만큼의 `연속`된 메모리 공간을 할당받는 작업을 수행하는 자료형을 말한다\n",
    "- 배열은 어느 위치에나 O(1)에 조회가 가능하다는 장점이 있다\n",
    "\n",
    "- But, 미리 크기를 지정하지 않고 자동으로 조정할 수 있는 자료구조 필요 : `동적 배열`\n",
    "- 파이썬에서는 리스트가 동적 배열 자료형!\n",
    "- 동적 배열의 원리: 미리 초기값을 작게 잡아 배열을 생성하고, 데이터가 추가되면서 꽉 차면 늘려주고 모두 복사하는 방식 : 대개는 `더블링(Doubling)`이라 함.\n",
    "\n",
    "***\n",
    "- 어떻게 해야 for 문을 최소한으로 돌면서 빠르게 구할 수 있을까..\n",
    "- target 보다 작은 수여야 함\n",
    "- idx 를 알아야 함"
   ]
  },
  {
   "cell_type": "markdown",
   "metadata": {},
   "source": [
    "# Solution1. 브루트 포스로 계산\n",
    "- 배열을 2번 반목하면서 모든 조합을 더해서 일일이 확인해보는 무차별 대입 방식"
   ]
  },
  {
   "cell_type": "code",
   "execution_count": 3,
   "metadata": {
    "ExecuteTime": {
     "end_time": "2020-12-07T07:52:03.967315Z",
     "start_time": "2020-12-07T07:52:03.962852Z"
    }
   },
   "outputs": [],
   "source": [
    "class Solution(object):\n",
    "    def twoSum(self, nums, target):\n",
    "        \"\"\"\n",
    "        :type nums: List[int]\n",
    "        :type target: int\n",
    "        :rtype: List[int]\n",
    "        \"\"\"\n",
    "        for i in range(len(nums)):\n",
    "            for j in range(i+1, len(nums)):\n",
    "                if nums[i] + nums[j] == target:\n",
    "                    return [i,j]"
   ]
  },
  {
   "cell_type": "code",
   "execution_count": 4,
   "metadata": {
    "ExecuteTime": {
     "end_time": "2020-12-07T07:52:04.449528Z",
     "start_time": "2020-12-07T07:52:04.438209Z"
    }
   },
   "outputs": [
    {
     "data": {
      "text/plain": [
       "[0, 1]"
      ]
     },
     "execution_count": 4,
     "metadata": {},
     "output_type": "execute_result"
    }
   ],
   "source": [
    "nums = [2,7,11,15]\n",
    "target = 9\n",
    "\n",
    "Solution.twoSum(Solution, nums, target)"
   ]
  },
  {
   "cell_type": "markdown",
   "metadata": {},
   "source": [
    "# Solution2. in 을 이용한 탐색\n",
    "- 모든 조합을 비교하지 않고, target 에서 첫 번째 값을 뺀 값이 존재하는지 탐색\n",
    "- in의 시간 복잡도는 *O(n)*"
   ]
  },
  {
   "cell_type": "code",
   "execution_count": 5,
   "metadata": {
    "ExecuteTime": {
     "end_time": "2020-12-07T08:02:41.811049Z",
     "start_time": "2020-12-07T08:02:41.806330Z"
    }
   },
   "outputs": [],
   "source": [
    "class Solution(object):\n",
    "    def twoSum(self, nums, target):\n",
    "        \"\"\"\n",
    "        :type nums: List[int]\n",
    "        :type target: int\n",
    "        :rtype: List[int]\n",
    "        \"\"\"\n",
    "        for i, n in enumerate(nums):\n",
    "            complement = target - n\n",
    "            if complement in nums[i+1:]:\n",
    "                return [i, nums[i+1:].index(complement) + (i+1)]"
   ]
  },
  {
   "cell_type": "code",
   "execution_count": 7,
   "metadata": {
    "ExecuteTime": {
     "end_time": "2020-12-07T08:02:50.218549Z",
     "start_time": "2020-12-07T08:02:50.213862Z"
    }
   },
   "outputs": [
    {
     "data": {
      "text/plain": [
       "[0, 1]"
      ]
     },
     "execution_count": 7,
     "metadata": {},
     "output_type": "execute_result"
    }
   ],
   "source": [
    "nums = [2,7,11,15]\n",
    "target = 9\n",
    "\n",
    "Solution.twoSum(Solution, nums, target)"
   ]
  },
  {
   "cell_type": "markdown",
   "metadata": {},
   "source": [
    "# Solution3. 첫 번째 수를 뺀 결과 키 조회\n",
    "- 비교나 탐색 대신 한 번에 정답을 찾을 수 있는 방법\n",
    "    - target 에서 첫 번째 값을 뺀 값이 존재하는지 dictionary에서 탐색\n",
    "    - dictionary는 해시-테이블로 구현되어 있고, 조회의 시간 복잡도는 평균 *O(1)*,  최악의 경우 *O(n)*"
   ]
  },
  {
   "cell_type": "code",
   "execution_count": 13,
   "metadata": {
    "ExecuteTime": {
     "end_time": "2020-12-07T08:06:25.634539Z",
     "start_time": "2020-12-07T08:06:25.629449Z"
    }
   },
   "outputs": [],
   "source": [
    "class Solution(object):\n",
    "    def twoSum(self, nums, target):\n",
    "        \"\"\"\n",
    "        :type nums: List[int]\n",
    "        :type target: int\n",
    "        :rtype: List[int]\n",
    "        \"\"\"\n",
    "        nums_map = {}\n",
    "        # idx를 value로, Num 을 key 값으로 \n",
    "        for i, num in enumerate(nums):\n",
    "            nums_map[num] = i\n",
    "            \n",
    "        #target 에서 첫 번째 값을 뺀 값이 존재하는지 dictionary에서 탐색\n",
    "        for i, num in enumerate(nums):\n",
    "            if target-num in nums_map and i != nums_map[target-num]:\n",
    "                return [nums.index(num), nums_map[target-num]]\n",
    "            "
   ]
  },
  {
   "cell_type": "code",
   "execution_count": 14,
   "metadata": {
    "ExecuteTime": {
     "end_time": "2020-12-07T08:06:25.839417Z",
     "start_time": "2020-12-07T08:06:25.833874Z"
    }
   },
   "outputs": [
    {
     "data": {
      "text/plain": [
       "[0, 1]"
      ]
     },
     "execution_count": 14,
     "metadata": {},
     "output_type": "execute_result"
    }
   ],
   "source": [
    "nums = [2,7,11,15]\n",
    "target = 9\n",
    "\n",
    "Solution.twoSum(Solution, nums, target)"
   ]
  },
  {
   "cell_type": "markdown",
   "metadata": {},
   "source": [
    "# Solution4. 조회 구조 개선\n",
    "- 하나의 for문으로"
   ]
  },
  {
   "cell_type": "code",
   "execution_count": 15,
   "metadata": {
    "ExecuteTime": {
     "end_time": "2020-12-07T08:09:48.715074Z",
     "start_time": "2020-12-07T08:09:48.710710Z"
    }
   },
   "outputs": [],
   "source": [
    "class Solution(object):\n",
    "    def twoSum(self, nums, target):\n",
    "        \"\"\"\n",
    "        :type nums: List[int]\n",
    "        :type target: int\n",
    "        :rtype: List[int]\n",
    "        \"\"\"\n",
    "        nums_map = {}\n",
    "        # idx를 value로, Num 을 key 값으로 \n",
    "        for i, num in enumerate(nums):\n",
    "            if target - num in nums_map:\n",
    "                return [i, nums_map[target-num]]\n",
    "            nums_map[num] = i\n",
    "            \n",
    "       "
   ]
  },
  {
   "cell_type": "markdown",
   "metadata": {},
   "source": [
    "# Solution5. 투 포인터 이용\n",
    "- 왼쪽 포인터와 오른쪽 포인터의 합이 target 보다 크다면 오른쪽 포인터를 왼쪽으로, 작다면 왼쪽 포인터를 오른쪽으로 옮기면서 \n",
    "- but, 투포인터를 이용하려면 배열이 정렬되어 있어야 하는데, 정렬을 하게 되면 인덱스가 모두 엉망이 되어버림!\n",
    "- 이 문제는 투포인터로 풀 수 없음!"
   ]
  },
  {
   "cell_type": "code",
   "execution_count": 16,
   "metadata": {
    "ExecuteTime": {
     "end_time": "2020-12-07T08:13:01.629612Z",
     "start_time": "2020-12-07T08:13:01.624844Z"
    }
   },
   "outputs": [],
   "source": [
    "class Solution(object):\n",
    "    def twoSum(self, nums, target):\n",
    "        \"\"\"\n",
    "        :type nums: List[int]\n",
    "        :type target: int\n",
    "        :rtype: List[int]\n",
    "        \"\"\"\n",
    "        left, right = 0, len(nums)-1\n",
    "        \n",
    "        while not left == right:\n",
    "            if nums[left] + nums[right] > target:\n",
    "                right -=1\n",
    "            elif nums[left] + nums[right] < target:\n",
    "                left += 1\n",
    "            else:\n",
    "                return [left, right]"
   ]
  },
  {
   "cell_type": "code",
   "execution_count": null,
   "metadata": {},
   "outputs": [],
   "source": []
  }
 ],
 "metadata": {
  "hide_input": false,
  "kernelspec": {
   "display_name": "Python 3",
   "language": "python",
   "name": "python3"
  },
  "language_info": {
   "codemirror_mode": {
    "name": "ipython",
    "version": 3
   },
   "file_extension": ".py",
   "mimetype": "text/x-python",
   "name": "python",
   "nbconvert_exporter": "python",
   "pygments_lexer": "ipython3",
   "version": "3.7.4"
  },
  "toc": {
   "base_numbering": 1,
   "nav_menu": {},
   "number_sections": true,
   "sideBar": true,
   "skip_h1_title": false,
   "title_cell": "Table of Contents",
   "title_sidebar": "Contents",
   "toc_cell": false,
   "toc_position": {},
   "toc_section_display": true,
   "toc_window_display": false
  },
  "varInspector": {
   "cols": {
    "lenName": 16,
    "lenType": 16,
    "lenVar": 40
   },
   "kernels_config": {
    "python": {
     "delete_cmd_postfix": "",
     "delete_cmd_prefix": "del ",
     "library": "var_list.py",
     "varRefreshCmd": "print(var_dic_list())"
    },
    "r": {
     "delete_cmd_postfix": ") ",
     "delete_cmd_prefix": "rm(",
     "library": "var_list.r",
     "varRefreshCmd": "cat(var_dic_list()) "
    }
   },
   "types_to_exclude": [
    "module",
    "function",
    "builtin_function_or_method",
    "instance",
    "_Feature"
   ],
   "window_display": false
  }
 },
 "nbformat": 4,
 "nbformat_minor": 2
}
