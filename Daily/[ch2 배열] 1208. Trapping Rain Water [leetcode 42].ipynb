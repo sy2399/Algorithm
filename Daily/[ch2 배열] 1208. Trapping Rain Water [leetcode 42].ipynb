{
 "cells": [
  {
   "cell_type": "markdown",
   "metadata": {},
   "source": [
    "# 빗물 트래핑\n",
    "\n",
    "[leetcode 42](https://leetcode.com/problems/trapping-rain-water/)\n",
    "\n",
    "Given n non-negative integers representing an elevation map where the width of each bar is 1, compute how much water it can trap after raining.\n",
    "\n",
    "![example](https://assets.leetcode.com/uploads/2018/10/22/rainwatertrap.png)\n",
    "\n",
    "- Input: height = [0,1,0,2,1,0,1,3,2,1,2,1]\n",
    "- Output: 6\n",
    "- Explanation: The above elevation map (black section) is represented by array [0,1,0,2,1,0,1,3,2,1,2,1]. In this case, 6 units of rain water (blue section) are being trapped."
   ]
  },
  {
   "cell_type": "markdown",
   "metadata": {},
   "source": [
    "***\n",
    "- 빗물이 담기려면 현재 array의 값보다 큰 값이 나올 때\n",
    "    - if **height[0] == 0** 첫번째 값이 0일 때 \n",
    "    - elif **height[0] != 0** 첫번째 값이 0이 아닐때\n",
    "- 빗물이 담기려면 `양 쪽`에 0이 아닌 height 값이 있어야 해\n",
    "    - 투 포인터 이용?\n",
    "    \n",
    "***\n",
    "\n",
    "- 이 문제는 높이와 너비 모든 공간을 차례대로 모두 살펴보면 *O(n^2)*에 풀이가 가능하다\n",
    "- But, 좀 더 효율적인 풀이\n",
    "    - 투 포인터나 스택으로 풀이 가능"
   ]
  },
  {
   "cell_type": "markdown",
   "metadata": {},
   "source": [
    "# Solution1. `투 포인터`를 최대로 이동\n",
    "- 막대는 높고 낮음에 무관하게, 전체 부피에 영향을 끼치지 않으면서 그저 왼쪽과 오른쪽을 가르는 장벽 역할!\n",
    "- 최대 높이의 막대까지 각각 좌우 기둥 최대 높이 left_max, right_max가 현재 높이와의 차이만큼 물 높이를 더해 나간다\n",
    "- 낮은 쪽은 높은 쪽을 향해서, 포인터가 가운데로 점점 이동"
   ]
  },
  {
   "cell_type": "code",
   "execution_count": 1,
   "metadata": {
    "ExecuteTime": {
     "end_time": "2020-12-09T07:19:00.454623Z",
     "start_time": "2020-12-09T07:19:00.447306Z"
    }
   },
   "outputs": [],
   "source": [
    "class Solution(object):\n",
    "    def trap(self, height):\n",
    "        \"\"\"\n",
    "        :type height: List[int]\n",
    "        :rtype: int\n",
    "        \"\"\"\n",
    "        if not height:\n",
    "            return 0\n",
    "        \n",
    "        volumne = 0\n",
    "        left, right = 0, len(height)-1\n",
    "        left_max, right_max = height[left], height[right]\n",
    "        \n",
    "        while left < right:\n",
    "            left_max, right_max = max(height[left], left_max), \\\n",
    "            max(height[right], right_max)\n",
    "        \n",
    "            print(\"\\n left, \",left, \"right\", right)\n",
    "            print(\"left max\", left_max, \"right max\", right_max)\n",
    "            print(\"volumne\", volumne)\n",
    "            \n",
    "            # 더 높은 쪽을 향해 투 포인터 이동\n",
    "            if left_max <= right_max:\n",
    "                volumne += left_max - height[left]\n",
    "                left += 1\n",
    "                print(\"*****left += 1\")\n",
    "            else:\n",
    "                volumne += right_max - height[right]\n",
    "                right -=1\n",
    "                print(\"-----right -= 1\")\n",
    "                \n",
    "        return volumne\n",
    "    \n",
    "            \n",
    "        "
   ]
  },
  {
   "cell_type": "code",
   "execution_count": 2,
   "metadata": {
    "ExecuteTime": {
     "end_time": "2020-12-09T07:19:00.934321Z",
     "start_time": "2020-12-09T07:19:00.918771Z"
    },
    "scrolled": false
   },
   "outputs": [
    {
     "name": "stdout",
     "output_type": "stream",
     "text": [
      "\n",
      " left,  0 right 11\n",
      "left max 0 right max 1\n",
      "volumne 0\n",
      "*****left += 1\n",
      "\n",
      " left,  1 right 11\n",
      "left max 1 right max 1\n",
      "volumne 0\n",
      "*****left += 1\n",
      "\n",
      " left,  2 right 11\n",
      "left max 1 right max 1\n",
      "volumne 0\n",
      "*****left += 1\n",
      "\n",
      " left,  3 right 11\n",
      "left max 2 right max 1\n",
      "volumne 1\n",
      "-----right -= 1\n",
      "\n",
      " left,  3 right 10\n",
      "left max 2 right max 2\n",
      "volumne 1\n",
      "*****left += 1\n",
      "\n",
      " left,  4 right 10\n",
      "left max 2 right max 2\n",
      "volumne 1\n",
      "*****left += 1\n",
      "\n",
      " left,  5 right 10\n",
      "left max 2 right max 2\n",
      "volumne 2\n",
      "*****left += 1\n",
      "\n",
      " left,  6 right 10\n",
      "left max 2 right max 2\n",
      "volumne 4\n",
      "*****left += 1\n",
      "\n",
      " left,  7 right 10\n",
      "left max 3 right max 2\n",
      "volumne 5\n",
      "-----right -= 1\n",
      "\n",
      " left,  7 right 9\n",
      "left max 3 right max 2\n",
      "volumne 5\n",
      "-----right -= 1\n",
      "\n",
      " left,  7 right 8\n",
      "left max 3 right max 2\n",
      "volumne 6\n",
      "-----right -= 1\n"
     ]
    },
    {
     "data": {
      "text/plain": [
       "6"
      ]
     },
     "execution_count": 2,
     "metadata": {},
     "output_type": "execute_result"
    }
   ],
   "source": [
    "height = [0,1,0,2,1,0,1,3,2,1,2,1]\n",
    "Solution.trap(Solution, height)"
   ]
  },
  {
   "cell_type": "markdown",
   "metadata": {},
   "source": [
    "# Solution2 : `스택` 쌓기\n",
    "- 스택에 쌓아 나가면서 현재 높이가 이전 높이보다 높을 때, 즉 꺾이는 부분 변곡점을 기준으로 격차만큼 물 높이 채우기\n",
    "- *이전 높이는 고정된 형태가 아니라 들쑥날쑥하기 때문에 스택에서 하나씩 꺼내면서 이전과의 차이만큼 물 높이를 채워 나간다.*\n",
    "\n",
    "![img7-6](https://user-images.githubusercontent.com/25919167/101462768-e9bc6580-397f-11eb-8434-e378faa5ae92.png)"
   ]
  },
  {
   "cell_type": "code",
   "execution_count": 44,
   "metadata": {
    "ExecuteTime": {
     "end_time": "2020-12-08T09:39:44.271466Z",
     "start_time": "2020-12-08T09:39:44.264374Z"
    }
   },
   "outputs": [],
   "source": [
    "class Solution(object):\n",
    "    def trap(self, height):\n",
    "        \"\"\"\n",
    "        :type height: List[int]\n",
    "        :rtype: int\n",
    "        \"\"\"\n",
    "        stack = []\n",
    "        volumne = 0\n",
    "        \n",
    "        for i in range(len(height)):\n",
    "            # 변곡점을 만나는 경우\n",
    "            while stack and height[i] > height[stack[-1]]:\n",
    "                print(\"\\n idx : \", i, \"stack : \", stack)\n",
    "                \n",
    "                # 스택에서 꺼낸다 \n",
    "                # 현재 높이와 stack[-1] 비교해서, 현재 높이보다 작으면 stack 에서 제거\n",
    "                top = stack.pop()\n",
    "                \n",
    "                if not len(stack):\n",
    "                    break\n",
    "                    \n",
    "                print(\"pop:\", top, stack, stack[-1])   \n",
    "                \n",
    "                # 이전과의 차이만큼 물 높이 처리\n",
    "                distance = i - stack[-1] - 1\n",
    "                print(\"distance = \", i, \"-\", stack[-1], \"- 1 \")\n",
    "                \n",
    "                # 현재 높이, stack에 담긴 높이 중에 작은거\n",
    "                # \n",
    "                waters = min(height[i], height[stack[-1]]) - height[top]\n",
    "                print(\"waters\", \"min(\",height[i], \",\", height[stack[-1]],\")-\",  height[top])\n",
    "                \n",
    "                volumne += distance * waters\n",
    "                \n",
    "            stack.append(i)\n",
    "            \n",
    "        return volumne"
   ]
  },
  {
   "cell_type": "code",
   "execution_count": 45,
   "metadata": {
    "ExecuteTime": {
     "end_time": "2020-12-08T09:39:44.744674Z",
     "start_time": "2020-12-08T09:39:44.736637Z"
    }
   },
   "outputs": [
    {
     "name": "stdout",
     "output_type": "stream",
     "text": [
      "\n",
      " idx :  1 stack :  [0]\n",
      "\n",
      " idx :  3 stack :  [1, 2]\n",
      "pop: 2 [1] 1\n",
      "distance =  3 - 1 - 1 \n",
      "waters min( 2 , 1 )- 0\n",
      "\n",
      " idx :  3 stack :  [1]\n",
      "\n",
      " idx :  6 stack :  [3, 4, 5]\n",
      "pop: 5 [3, 4] 4\n",
      "distance =  6 - 4 - 1 \n",
      "waters min( 1 , 1 )- 0\n",
      "\n",
      " idx :  7 stack :  [3, 4, 6]\n",
      "pop: 6 [3, 4] 4\n",
      "distance =  7 - 4 - 1 \n",
      "waters min( 3 , 1 )- 1\n",
      "\n",
      " idx :  7 stack :  [3, 4]\n",
      "pop: 4 [3] 3\n",
      "distance =  7 - 3 - 1 \n",
      "waters min( 3 , 2 )- 1\n",
      "\n",
      " idx :  7 stack :  [3]\n",
      "\n",
      " idx :  10 stack :  [7, 8, 9]\n",
      "pop: 9 [7, 8] 8\n",
      "distance =  10 - 8 - 1 \n",
      "waters min( 2 , 2 )- 1\n"
     ]
    },
    {
     "data": {
      "text/plain": [
       "6"
      ]
     },
     "execution_count": 45,
     "metadata": {},
     "output_type": "execute_result"
    }
   ],
   "source": [
    "height = [0,1,0,2,1,0,1,3,2,1,2,1]\n",
    "Solution.trap(Solution, height)"
   ]
  },
  {
   "cell_type": "code",
   "execution_count": null,
   "metadata": {},
   "outputs": [],
   "source": []
  }
 ],
 "metadata": {
  "hide_input": false,
  "kernelspec": {
   "display_name": "Python 3",
   "language": "python",
   "name": "python3"
  },
  "language_info": {
   "codemirror_mode": {
    "name": "ipython",
    "version": 3
   },
   "file_extension": ".py",
   "mimetype": "text/x-python",
   "name": "python",
   "nbconvert_exporter": "python",
   "pygments_lexer": "ipython3",
   "version": "3.7.4"
  },
  "toc": {
   "base_numbering": 1,
   "nav_menu": {},
   "number_sections": true,
   "sideBar": true,
   "skip_h1_title": false,
   "title_cell": "Table of Contents",
   "title_sidebar": "Contents",
   "toc_cell": false,
   "toc_position": {},
   "toc_section_display": true,
   "toc_window_display": false
  },
  "varInspector": {
   "cols": {
    "lenName": 16,
    "lenType": 16,
    "lenVar": 40
   },
   "kernels_config": {
    "python": {
     "delete_cmd_postfix": "",
     "delete_cmd_prefix": "del ",
     "library": "var_list.py",
     "varRefreshCmd": "print(var_dic_list())"
    },
    "r": {
     "delete_cmd_postfix": ") ",
     "delete_cmd_prefix": "rm(",
     "library": "var_list.r",
     "varRefreshCmd": "cat(var_dic_list()) "
    }
   },
   "types_to_exclude": [
    "module",
    "function",
    "builtin_function_or_method",
    "instance",
    "_Feature"
   ],
   "window_display": false
  }
 },
 "nbformat": 4,
 "nbformat_minor": 2
}
