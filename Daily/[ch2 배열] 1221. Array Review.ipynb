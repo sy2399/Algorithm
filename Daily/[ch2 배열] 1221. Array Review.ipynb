{
 "cells": [
  {
   "cell_type": "markdown",
   "metadata": {},
   "source": [
    "# 빗물 트래핑\n",
    "- 배열의 값 다 살펴봐야 하니까 투포인터 방식 사용하기\n",
    "- left 인덱스 & left max 인덱스가 따로 움직임!"
   ]
  },
  {
   "cell_type": "code",
   "execution_count": 11,
   "metadata": {
    "ExecuteTime": {
     "end_time": "2020-12-22T04:04:32.036392Z",
     "start_time": "2020-12-22T04:04:32.030414Z"
    }
   },
   "outputs": [],
   "source": [
    "class Solution(object):\n",
    "    def trap(self, height):\n",
    "        \"\"\"\n",
    "        :type height: List[int]\n",
    "        :rtype: int\n",
    "        \"\"\"\n",
    "        volumne = 0\n",
    "        \n",
    "        left, right = 0, len(height)-1\n",
    "        left_max, right_max = height[left], height[right]\n",
    "        \n",
    "        while left < right:\n",
    "            left_max = max(height[left], left_max)\n",
    "            right_max = max(height[right], right_max)\n",
    "            \n",
    "            if left_max <= right_max:\n",
    "                volumne += left_max - height[left]\n",
    "                left += 1\n",
    "            else:\n",
    "                volumne += right_max - height[right]\n",
    "                right -=1\n",
    "        return volumne\n",
    "            \n",
    "        "
   ]
  },
  {
   "cell_type": "markdown",
   "metadata": {},
   "source": [
    "# 세 수의 합\n",
    "- sorting!\n",
    "- 🔥(현재값) & (left : 현재값의 Index + 1) & (right : 마지막 값)\n",
    "- 시간 단축 : 이전에 한번 체크한 값이면 넘어가기\n"
   ]
  },
  {
   "cell_type": "code",
   "execution_count": null,
   "metadata": {},
   "outputs": [],
   "source": [
    "class Solution(object):\n",
    "    def threeSum(self, nums):\n",
    "        \"\"\"\n",
    "        :type nums: List[int]\n",
    "        :rtype: List[List[int]]\n",
    "        \"\"\"\n",
    "        sol = []\n",
    "        nums.sort()\n",
    "        \n",
    "        for i in range(len(nums)-2): # 오른쪽에 left, right 있어야 하니까 -2\n",
    "            \n",
    "            # 시간 단축 : 이전에 한번 체크한 값이면 넘어가기\n",
    "            if i > 0 and nums[i]==nums[i-1]:\n",
    "                continue\n",
    "            \n",
    "            left_idx = i + 1\n",
    "            right_idx = len(nums)-1\n",
    "            \n",
    "            while left < right:\n",
    "                sum_tmp = nums[i] + nums[left_idf] + nums[right_idx]\n",
    "\n",
    "                if sum_tmp < 0 :\n",
    "                    left += 1\n",
    "                elif sum_tmp > 0:\n",
    "                     right -= 1\n",
    "                else:\n",
    "                    # 정답\n",
    "                    sol.append([nums[i], nums[left_idx], nums[right_idx]])\n",
    "                    \n",
    "                    # 다른 경우의수 체크하기 위해 left, right 이동\n",
    "                    while left < right and nums[left] == nums[left + 1]:\n",
    "                        left += 1\n",
    "                    while left < right and nums[right] == nums[right - 1]:\n",
    "                        right -= 1\n",
    "                        \n",
    "                    left += 1\n",
    "                    right -= 1\n",
    "        return results\n",
    "        \n",
    "        "
   ]
  },
  {
   "cell_type": "code",
   "execution_count": null,
   "metadata": {},
   "outputs": [],
   "source": []
  },
  {
   "cell_type": "markdown",
   "metadata": {},
   "source": [
    "# 자신을 제외한 배열의 곱\n",
    "- 각 index의 왼쪽 곱, 오른쪽 곱을 구해야 함!"
   ]
  },
  {
   "cell_type": "code",
   "execution_count": 9,
   "metadata": {
    "ExecuteTime": {
     "end_time": "2020-12-21T13:13:48.238130Z",
     "start_time": "2020-12-21T13:13:48.233005Z"
    }
   },
   "outputs": [],
   "source": [
    "class Solution(object):\n",
    "    def productExceptSelf(self, nums):\n",
    "        \n",
    "        p = 1 ## 양 끝에 1이 있다고 생각 --> 1은 곱셈에 영향을 주지 않기에!\n",
    "        mul = []\n",
    "        \n",
    "        # 왼쪽 곱\n",
    "        for i in nums:\n",
    "            mul.append(p)\n",
    "            p = p * i\n",
    "        \n",
    "        p = 1\n",
    "        # 오른쪽 곱\n",
    "        for i in range(len(nums)-1, 0-1, -1):\n",
    "            mul[i] = mul[i]*p\n",
    "            p = p * nums[i]\n",
    "        \n",
    "        return mul\n",
    "            \n",
    "            "
   ]
  },
  {
   "cell_type": "code",
   "execution_count": 10,
   "metadata": {
    "ExecuteTime": {
     "end_time": "2020-12-21T13:13:48.587251Z",
     "start_time": "2020-12-21T13:13:48.576284Z"
    }
   },
   "outputs": [
    {
     "data": {
      "text/plain": [
       "[24, 12, 8, 6]"
      ]
     },
     "execution_count": 10,
     "metadata": {},
     "output_type": "execute_result"
    }
   ],
   "source": [
    "nums = [1,2,3,4]\n",
    "Solution.productExceptSelf(Solution, nums)"
   ]
  },
  {
   "cell_type": "code",
   "execution_count": null,
   "metadata": {},
   "outputs": [],
   "source": []
  }
 ],
 "metadata": {
  "hide_input": false,
  "kernelspec": {
   "display_name": "Python 3",
   "language": "python",
   "name": "python3"
  },
  "language_info": {
   "codemirror_mode": {
    "name": "ipython",
    "version": 3
   },
   "file_extension": ".py",
   "mimetype": "text/x-python",
   "name": "python",
   "nbconvert_exporter": "python",
   "pygments_lexer": "ipython3",
   "version": "3.7.4"
  },
  "toc": {
   "base_numbering": 1,
   "nav_menu": {},
   "number_sections": true,
   "sideBar": true,
   "skip_h1_title": false,
   "title_cell": "Table of Contents",
   "title_sidebar": "Contents",
   "toc_cell": false,
   "toc_position": {},
   "toc_section_display": true,
   "toc_window_display": false
  },
  "varInspector": {
   "cols": {
    "lenName": 16,
    "lenType": 16,
    "lenVar": 40
   },
   "kernels_config": {
    "python": {
     "delete_cmd_postfix": "",
     "delete_cmd_prefix": "del ",
     "library": "var_list.py",
     "varRefreshCmd": "print(var_dic_list())"
    },
    "r": {
     "delete_cmd_postfix": ") ",
     "delete_cmd_prefix": "rm(",
     "library": "var_list.r",
     "varRefreshCmd": "cat(var_dic_list()) "
    }
   },
   "types_to_exclude": [
    "module",
    "function",
    "builtin_function_or_method",
    "instance",
    "_Feature"
   ],
   "window_display": false
  }
 },
 "nbformat": 4,
 "nbformat_minor": 2
}
