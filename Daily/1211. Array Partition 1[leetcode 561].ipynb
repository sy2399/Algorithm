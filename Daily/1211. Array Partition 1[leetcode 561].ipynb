{
 "cells": [
  {
   "cell_type": "markdown",
   "metadata": {},
   "source": [
    "# 배열 파티션 1\n",
    "\n",
    "[leetcode 561](https://leetcode.com/problems/array-partition-i/)\n",
    "\n",
    "Given an integer array nums of 2n integers, group these integers into n pairs (a1, b1), (a2, b2), ..., (an, bn) such that the sum of min(ai, bi) for all i is maximized. Return the maximized sum.\n",
    "\n"
   ]
  },
  {
   "cell_type": "markdown",
   "metadata": {},
   "source": [
    "***\n",
    "- 2n 개의 정수\n",
    "- (a1, b1) ...(an, bn) n개의 쌍을 만들었을 때, 각 쌍의 최솟값의 합이 최대가 되도록\n",
    "    - **작은값끼리, 큰 값끼리 묶어야 큰 값이 살아남아**\n",
    "    - nums sorting 후 **0, 2, 4, ,,,n-1**번째 수의 합\n"
   ]
  },
  {
   "cell_type": "code",
   "execution_count": 9,
   "metadata": {
    "ExecuteTime": {
     "end_time": "2020-12-11T05:24:58.595632Z",
     "start_time": "2020-12-11T05:24:58.591739Z"
    }
   },
   "outputs": [],
   "source": [
    "class Solution(object):\n",
    "    def arrayPairSum(self, nums):\n",
    "        \"\"\"\n",
    "        :type nums: List[int]\n",
    "        :rtype: int\n",
    "        \"\"\"\n",
    "        n = len(nums)//2\n",
    "        nums.sort()\n",
    "        \n",
    "        sum_min = 0\n",
    "        \n",
    "        for i in range(n):\n",
    "            sum_min += nums[2*i]\n",
    "    \n",
    "        return sum_min\n",
    "            \n",
    "        "
   ]
  },
  {
   "cell_type": "code",
   "execution_count": 10,
   "metadata": {
    "ExecuteTime": {
     "end_time": "2020-12-11T05:24:59.108888Z",
     "start_time": "2020-12-11T05:24:59.097465Z"
    }
   },
   "outputs": [
    {
     "data": {
      "text/plain": [
       "9"
      ]
     },
     "execution_count": 10,
     "metadata": {},
     "output_type": "execute_result"
    }
   ],
   "source": [
    "nums = [6,2,6,5,1,2]\n",
    "Solution.arrayPairSum(Solution, nums)"
   ]
  },
  {
   "cell_type": "markdown",
   "metadata": {},
   "source": [
    "# Solution1 : 오름차순 풀이\n",
    "\n",
    "- pair의 min을 합산했을 때, 최대값을 만들려면 결국 min값이 되도록 큰 값이 되야함"
   ]
  },
  {
   "cell_type": "code",
   "execution_count": 11,
   "metadata": {
    "ExecuteTime": {
     "end_time": "2020-12-11T05:28:49.318941Z",
     "start_time": "2020-12-11T05:28:49.314213Z"
    }
   },
   "outputs": [],
   "source": [
    "class Solution(object):\n",
    "    def arrayPairSum(self, nums):\n",
    "        \"\"\"\n",
    "        :type nums: List[int]\n",
    "        :rtype: int\n",
    "        \"\"\"\n",
    "        sum_pair = 0\n",
    "        pair = []\n",
    "        nums.sort()\n",
    "        \n",
    "        for n in nums:\n",
    "            pair.append(n)\n",
    "            if len(pair) == 2:\n",
    "                sum_pair += min(pair)\n",
    "                pair = []\n",
    "        return sum_pair\n",
    "        "
   ]
  },
  {
   "cell_type": "markdown",
   "metadata": {},
   "source": [
    "# Solution2 : 짝수 번째 값 계산\n",
    "- solution1 처럼 pair 에 대해 일일이 min 값을 구하지 않아도, 짝수번째 값을 더하면 됨!\n",
    "- 정렬된 상태에서는 짝수번째에 항상 작은 값이 존재하기 때문\n"
   ]
  },
  {
   "cell_type": "code",
   "execution_count": 12,
   "metadata": {
    "ExecuteTime": {
     "end_time": "2020-12-11T05:30:14.994376Z",
     "start_time": "2020-12-11T05:30:14.990074Z"
    }
   },
   "outputs": [],
   "source": [
    "class Solution(object):\n",
    "    def arrayPairSum(self, nums):\n",
    "        \"\"\"\n",
    "        :type nums: List[int]\n",
    "        :rtype: int\n",
    "        \"\"\"\n",
    "        sum_pair = 0\n",
    "        nums.sort()\n",
    "        \n",
    "        for i in enumerte(nums):\n",
    "            if i % 2 == 0:\n",
    "                sum += n\n",
    "        return sum_pair\n",
    "        "
   ]
  },
  {
   "cell_type": "code",
   "execution_count": null,
   "metadata": {},
   "outputs": [],
   "source": []
  }
 ],
 "metadata": {
  "hide_input": false,
  "kernelspec": {
   "display_name": "Python 3",
   "language": "python",
   "name": "python3"
  },
  "language_info": {
   "codemirror_mode": {
    "name": "ipython",
    "version": 3
   },
   "file_extension": ".py",
   "mimetype": "text/x-python",
   "name": "python",
   "nbconvert_exporter": "python",
   "pygments_lexer": "ipython3",
   "version": "3.7.4"
  },
  "toc": {
   "base_numbering": 1,
   "nav_menu": {},
   "number_sections": true,
   "sideBar": true,
   "skip_h1_title": false,
   "title_cell": "Table of Contents",
   "title_sidebar": "Contents",
   "toc_cell": false,
   "toc_position": {},
   "toc_section_display": true,
   "toc_window_display": false
  },
  "varInspector": {
   "cols": {
    "lenName": 16,
    "lenType": 16,
    "lenVar": 40
   },
   "kernels_config": {
    "python": {
     "delete_cmd_postfix": "",
     "delete_cmd_prefix": "del ",
     "library": "var_list.py",
     "varRefreshCmd": "print(var_dic_list())"
    },
    "r": {
     "delete_cmd_postfix": ") ",
     "delete_cmd_prefix": "rm(",
     "library": "var_list.r",
     "varRefreshCmd": "cat(var_dic_list()) "
    }
   },
   "types_to_exclude": [
    "module",
    "function",
    "builtin_function_or_method",
    "instance",
    "_Feature"
   ],
   "window_display": false
  }
 },
 "nbformat": 4,
 "nbformat_minor": 2
}
