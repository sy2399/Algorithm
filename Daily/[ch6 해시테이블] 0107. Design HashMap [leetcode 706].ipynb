{
 "cells": [
  {
   "cell_type": "markdown",
   "metadata": {},
   "source": [
    "**해시 테이블/해시 맵**\n",
    "- 키를 값에 매핑할 수 있는 구조인, 연관 배열 추상 자료형을 구현하는 자료구조\n",
    "- 해시 테이블의 가장 큰 특징은 대부분의 연산이 `분할 상환 분석`에 따른 시간 복잡도가 O(1)이라는 점\n",
    "\n",
    "**해시**\n",
    "- 해시 함수란 임의 크기 데이터를 고정 크기 값으로 매핑하는 데 사용할 수 있는 함수\n",
    "- 해싱: 정보를 가능한 한 빠르게 저장하고 검색하기 위해 사용하는 중요한 기법 중 하나\n",
    "- ***해시 테이블을 이용하여 원하는 기능 (문자열을 키로 해서 상수 시간에 접근이 가능한 기억 공간을 마련) 을 제공한다는 것이 핵심***\n",
    "    - Key : 배열의 index 대신 key 로 원소에 접근\n",
    "    - Hash Function\n",
    "    - Hash Bucket\n",
    "\n",
    "    - 만약 서로 다른 key 가 같은 hash bucket 에 할당되는 경우 --> 충돌 collision\n",
    "        - `Load Factor`: 해시 테이브렝 저장된 데이터 개수 n을 버킷의 수 k 로 나눈 것. 일반적로 로드 팩터가 증가할수록 해시 테이블의 성능은 감소(충돌 발생)하고, Java10의 경우 0.75를 기준으로 함.\n",
    "        $$\\textrm{load factor} = \\frac{k}{n}$$\n",
    "        - sol1 = `Seperate Chaning` : 같은 hash buket 에 값을 `연결리스트` 형태로 연달아 저장\n",
    "        - sol2 = `Open Addressing` : 충돌 발생시 탐사를 통해 빈 공간을 찾아나서는 방식\n",
    "\n",
    "\n",
    "- Python에서 Dictionary는 해시 테이블로 구현되어 있다. \n",
    "    - python 의 해시테이블은 충돌시에 open addressing 사용\n",
    "        - separate chaning을 사용하려면, 연결리스트를 만들어야 하고, 연결리스트를 위해서는 추가 메모리 할당이 필요한데, 추가 메모리 할당은 상대적으로 느린 작업이기에 python에선 open addressing 사용\n",
    "        \n",
    "![Hash](https://www.leeholmes.com/blog/wp-content/uploads/2019/07/image.png)\n",
    "***"
   ]
  },
  {
   "cell_type": "markdown",
   "metadata": {},
   "source": [
    "# 해시맵 디자인\n",
    "\n",
    "Design a HashMap without using any built-in hash table libraries.\n",
    "\n",
    "To be specific, your design should include these functions:\n",
    "\n",
    "put(key, value) : Insert a (key, value) pair into the HashMap. If the value already exists in the HashMap, update the value.\n",
    "get(key): Returns the value to which the specified key is mapped, or -1 if this map contains no mapping for the key.\n",
    "remove(key) : Remove the mapping for the value key if this map contains the mapping for the key."
   ]
  },
  {
   "cell_type": "markdown",
   "metadata": {},
   "source": [
    "# Solution : Separate Chaning 구현"
   ]
  },
  {
   "cell_type": "code",
   "execution_count": null,
   "metadata": {},
   "outputs": [],
   "source": [
    "import collections\n",
    "\n",
    "\n",
    "# Definition for singly-linked list.\n",
    "class ListNode:\n",
    "    def __init__(self, key=None, value=None):\n",
    "        self.key = key\n",
    "        self.value = value\n",
    "        self.next = None\n",
    "\n",
    "\n",
    "class MyHashMap:\n",
    "    # 초기화\n",
    "    def __init__(self):\n",
    "        self.size = 1000\n",
    "        self.table = collections.defaultdict(ListNode)\n",
    "\n",
    "    # 삽입\n",
    "    def put(self, key: int, value: int) -> None:\n",
    "        index = key % self.size\n",
    "        # 인덱스에 노드가 없다면 삽입 후 종료\n",
    "        if self.table[index].value is None:\n",
    "            self.table[index] = ListNode(key, value)\n",
    "            return\n",
    "\n",
    "        # 인덱스에 노드가 존재하는 경우 연결 리스트 처리\n",
    "        p = self.table[index]\n",
    "        while p:\n",
    "            if p.key == key:\n",
    "                p.value = value\n",
    "                return\n",
    "            if p.next is None:\n",
    "                break\n",
    "            p = p.next\n",
    "        p.next = ListNode(key, value)\n",
    "\n",
    "    # 조회\n",
    "    def get(self, key: int) -> int:\n",
    "        index = key % self.size\n",
    "        if self.table[index].value is None:\n",
    "            return -1\n",
    "\n",
    "        # 노드가 존재할때 일치하는 키 탐색\n",
    "        p = self.table[index]\n",
    "        while p:\n",
    "            if p.key == key:\n",
    "                return p.value\n",
    "            p = p.next\n",
    "        return -1\n",
    "\n",
    "    # 삭제\n",
    "    def remove(self, key: int) -> None:\n",
    "        index = key % self.size\n",
    "        if self.table[index].value is None:\n",
    "            return\n",
    "\n",
    "        # 인덱스의 첫 번째 노드일때 삭제 처리\n",
    "        p = self.table[index]\n",
    "        if p.key == key:\n",
    "            self.table[index] = ListNode() if p.next is None else p.next\n",
    "            return\n",
    "\n",
    "        # 연결 리스트 노드 삭제\n",
    "        prev = p\n",
    "        while p:\n",
    "            if p.key == key:\n",
    "                prev.next = p.next\n",
    "                return\n",
    "            prev, p = p, p.next"
   ]
  }
 ],
 "metadata": {
  "hide_input": false,
  "kernelspec": {
   "display_name": "Python 3",
   "language": "python",
   "name": "python3"
  },
  "language_info": {
   "codemirror_mode": {
    "name": "ipython",
    "version": 3
   },
   "file_extension": ".py",
   "mimetype": "text/x-python",
   "name": "python",
   "nbconvert_exporter": "python",
   "pygments_lexer": "ipython3",
   "version": "3.7.4"
  },
  "toc": {
   "base_numbering": 1,
   "nav_menu": {},
   "number_sections": true,
   "sideBar": true,
   "skip_h1_title": false,
   "title_cell": "Table of Contents",
   "title_sidebar": "Contents",
   "toc_cell": false,
   "toc_position": {},
   "toc_section_display": true,
   "toc_window_display": false
  },
  "varInspector": {
   "cols": {
    "lenName": 16,
    "lenType": 16,
    "lenVar": 40
   },
   "kernels_config": {
    "python": {
     "delete_cmd_postfix": "",
     "delete_cmd_prefix": "del ",
     "library": "var_list.py",
     "varRefreshCmd": "print(var_dic_list())"
    },
    "r": {
     "delete_cmd_postfix": ") ",
     "delete_cmd_prefix": "rm(",
     "library": "var_list.r",
     "varRefreshCmd": "cat(var_dic_list()) "
    }
   },
   "types_to_exclude": [
    "module",
    "function",
    "builtin_function_or_method",
    "instance",
    "_Feature"
   ],
   "window_display": false
  }
 },
 "nbformat": 4,
 "nbformat_minor": 2
}
