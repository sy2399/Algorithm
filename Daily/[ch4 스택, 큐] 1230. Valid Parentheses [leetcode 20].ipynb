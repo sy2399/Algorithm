{
 "cells": [
  {
   "cell_type": "markdown",
   "metadata": {},
   "source": [
    "cf. Stack, Queue\n",
    "- stack : LIFO (Last In Fist Out, 후입선출)\n",
    "- queue : FIFO (First In First Out, 선입선출)"
   ]
  },
  {
   "cell_type": "markdown",
   "metadata": {},
   "source": [
    "# 유효한 괄호\n",
    "\n",
    "[leetcode 20](https://leetcode.com/problems/valid-parentheses/)\n",
    "\n",
    "Given a string s containing just the characters '(', ')', '{', '}', '[' and ']', determine if the input string is valid.\n",
    "\n",
    "An input string is valid if:\n",
    "\n",
    "- Open brackets must be closed by the same type of brackets.\n",
    "- Open brackets must be closed in the correct order.\n",
    "\n"
   ]
  },
  {
   "cell_type": "code",
   "execution_count": 17,
   "metadata": {
    "ExecuteTime": {
     "end_time": "2020-12-30T04:53:02.865519Z",
     "start_time": "2020-12-30T04:53:02.858467Z"
    }
   },
   "outputs": [],
   "source": [
    "class Solution(object):\n",
    "    def isValid(self, s):\n",
    "        \"\"\"\n",
    "        :type s: str\n",
    "        :rtype: bool\n",
    "        \"\"\"\n",
    "        stack = list()\n",
    "        brac_open = ['(', '[', '{']\n",
    "        brac_close = [')', ']', '}']\n",
    "        \n",
    "        for i in s:\n",
    "            if len(stack) == 0:\n",
    "                stack.append(i)\n",
    "            else:\n",
    "                last_ch = stack[-1]\n",
    "                if (last_ch in brac_open) and (i in brac_close):\n",
    "                    if brac_open.index(last_ch) == brac_close.index(i):\n",
    "                        stack.pop()\n",
    "                    else:\n",
    "                        stack.append(i)\n",
    "                else:\n",
    "                    stack.append(i)\n",
    "            \n",
    "            print(\"Stack\", stack)\n",
    "        if len(stack) != 0:\n",
    "            return False\n",
    "        else:\n",
    "            return True\n",
    "                        \n",
    "            "
   ]
  },
  {
   "cell_type": "code",
   "execution_count": 18,
   "metadata": {
    "ExecuteTime": {
     "end_time": "2020-12-30T04:53:03.113691Z",
     "start_time": "2020-12-30T04:53:03.107136Z"
    }
   },
   "outputs": [
    {
     "name": "stdout",
     "output_type": "stream",
     "text": [
      "Stack ['(']\n",
      "Stack ['(', '{']\n",
      "Stack ['(', '{', '[']\n",
      "Stack ['(', '{', '[', ')']\n"
     ]
    },
    {
     "data": {
      "text/plain": [
       "False"
      ]
     },
     "execution_count": 18,
     "metadata": {},
     "output_type": "execute_result"
    }
   ],
   "source": [
    "s = \"({[)\"\n",
    "Solution.isValid(Solution, s)"
   ]
  },
  {
   "cell_type": "markdown",
   "metadata": {},
   "source": [
    "# Solution : 스택 일치 여부 판별\n",
    "- 먼저 `매핑 테이블` 만들어 놓기!"
   ]
  },
  {
   "cell_type": "code",
   "execution_count": 19,
   "metadata": {
    "ExecuteTime": {
     "end_time": "2020-12-30T04:57:48.951390Z",
     "start_time": "2020-12-30T04:57:48.947135Z"
    }
   },
   "outputs": [],
   "source": [
    "class Solution(object):\n",
    "    def isValid(self, s):\n",
    "        \"\"\"\n",
    "        :type s: str\n",
    "        :rtype: bool\n",
    "        \"\"\"\n",
    "        stack = []\n",
    "        table = {\n",
    "            ')': '(',\n",
    "            ']': '[',\n",
    "            '}': '{',\n",
    "        }\n",
    "        \n",
    "        for char in s:\n",
    "            if char not in table:\n",
    "                stack.append(char)\n",
    "            elif not stack or table[char] != stack.pop():\n",
    "                return False\n",
    "        \n",
    "        return len(stack) == 0\n",
    "                        \n",
    "            "
   ]
  },
  {
   "cell_type": "code",
   "execution_count": null,
   "metadata": {},
   "outputs": [],
   "source": []
  }
 ],
 "metadata": {
  "hide_input": false,
  "kernelspec": {
   "display_name": "Python 3",
   "language": "python",
   "name": "python3"
  },
  "language_info": {
   "codemirror_mode": {
    "name": "ipython",
    "version": 3
   },
   "file_extension": ".py",
   "mimetype": "text/x-python",
   "name": "python",
   "nbconvert_exporter": "python",
   "pygments_lexer": "ipython3",
   "version": "3.7.9"
  },
  "toc": {
   "base_numbering": 1,
   "nav_menu": {},
   "number_sections": true,
   "sideBar": true,
   "skip_h1_title": false,
   "title_cell": "Table of Contents",
   "title_sidebar": "Contents",
   "toc_cell": false,
   "toc_position": {},
   "toc_section_display": true,
   "toc_window_display": false
  },
  "varInspector": {
   "cols": {
    "lenName": 16,
    "lenType": 16,
    "lenVar": 40
   },
   "kernels_config": {
    "python": {
     "delete_cmd_postfix": "",
     "delete_cmd_prefix": "del ",
     "library": "var_list.py",
     "varRefreshCmd": "print(var_dic_list())"
    },
    "r": {
     "delete_cmd_postfix": ") ",
     "delete_cmd_prefix": "rm(",
     "library": "var_list.r",
     "varRefreshCmd": "cat(var_dic_list()) "
    }
   },
   "types_to_exclude": [
    "module",
    "function",
    "builtin_function_or_method",
    "instance",
    "_Feature"
   ],
   "window_display": false
  }
 },
 "nbformat": 4,
 "nbformat_minor": 4
}
