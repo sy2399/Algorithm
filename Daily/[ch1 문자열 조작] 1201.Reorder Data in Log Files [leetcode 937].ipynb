{
 "cells": [
  {
   "cell_type": "markdown",
   "metadata": {},
   "source": [
    "[leetcode 937](https://leetcode.com/problems/reorder-data-in-log-files/)\n",
    "\n",
    "You have an array of logs.  Each log is a space delimited string of words.   \n",
    "\n",
    "For each log, the first word in each log is an alphanumeric identifier.  Then, either:\n",
    "\n",
    "- Each word after the identifier will consist only of lowercase letters, or;\n",
    "- Each word after the identifier will consist only of digits.\n",
    "\n",
    "We will call these two varieties of logs `letter-logs` and `digit-logs`.  It is guaranteed that each log has at least one word after its identifier.   \n",
    "\n",
    "* Reorder the logs so that all of the letter-logs come before any digit-log.  \n",
    "* The letter-logs are ordered lexicographically ignoring identifier, with the identifier used in case of ties.  \n",
    "* The digit-logs should be put in their original order.   \n",
    "\n",
    "Return the final order of the logs.   \n",
    "\n",
    "Constraints:\n",
    "\n",
    "- 0 <= logs.length <= 100\n",
    "- 3 <= logs[i].length <= 100\n",
    "- logs[i] is guaranteed to have an identifier, and a word after the identifier.\n",
    " "
   ]
  },
  {
   "cell_type": "markdown",
   "metadata": {},
   "source": [
    "***\n",
    "**풀이과정**\n",
    "1. for 문을 돌면서 log가 letter-log인지, digit-log인지 확인\n",
    "    - identifier 확인 : split(\" \")을 사용해 공백 기준으로 첫번째 단어\n",
    "2. letter-log이면 letlog리스트에 digit-log이면 digitlist에 넣기\n",
    "3. letter-log는 사전식으로 정렬되어야 함\n",
    "    - ***identifer 사전순, identifier가 동일하면 뒤에 오는 단어 사전순***\n",
    "    - [python sorting by multiple attributes](https://stackoverflow.com/questions/4233476/sort-a-list-by-multiple-attributes)\n",
    "4. digit-log는 입력순이므로 정렬 필요 없음\n"
   ]
  },
  {
   "cell_type": "code",
   "execution_count": 57,
   "metadata": {
    "ExecuteTime": {
     "end_time": "2020-12-01T08:31:42.871479Z",
     "start_time": "2020-12-01T08:31:42.864399Z"
    }
   },
   "outputs": [],
   "source": [
    "\n",
    "class Solution(object):\n",
    "    def reorderLogFiles(self, logs):\n",
    "        \"\"\"\n",
    "        :type logs: List[str]\n",
    "        :rtype: List[str]\n",
    "        \"\"\"\n",
    "        \n",
    "        letlog = []\n",
    "        digitlog = []\n",
    "        for l in logs:\n",
    "            \n",
    "            identi = l.split(\" \")[0]\n",
    "            identi = ''.join(x for x in identi if x.isalpha())\n",
    "            log_type = l.split(\" \")[1].isalpha()\n",
    "            \n",
    "            if log_type:\n",
    "                letlog.append(l)\n",
    "            else:\n",
    "                digitlog.append(l)\n",
    "                \n",
    "        \n",
    "        \n",
    "        # letter-log는 사전순으로 정렬\n",
    "        ## 특정 기준으로 정렬하는 방법 (key-function, repr)\n",
    "        ## https://wayhome25.github.io/python/2017/03/07/key-function/\n",
    "        \n",
    "        letlog.sort(key=lambda x : (x.split()[1:], x.split()[0]))\n",
    "        \n",
    "            \n",
    "#         print(\"letlog\", letlog)\n",
    "#         print(\"digitlog\", digitlog)\n",
    "        \n",
    "        letlog.extend(digitlog)\n",
    "        return letlog\n",
    "        \n",
    "                "
   ]
  },
  {
   "cell_type": "code",
   "execution_count": 58,
   "metadata": {
    "ExecuteTime": {
     "end_time": "2020-12-01T08:31:43.208778Z",
     "start_time": "2020-12-01T08:31:43.203743Z"
    }
   },
   "outputs": [
    {
     "data": {
      "text/plain": [
       "['let1 art can',\n",
       " 'let3 art zero',\n",
       " 'a1 bsd ad aaa',\n",
       " 'let2 own kit dig',\n",
       " 'dig1 8 1 5 1',\n",
       " 'dig2 3 6']"
      ]
     },
     "execution_count": 58,
     "metadata": {},
     "output_type": "execute_result"
    }
   ],
   "source": [
    "logs = [\"dig1 8 1 5 1\",\\\n",
    "        \"let1 art can\",\\\n",
    "        \"dig2 3 6\",\\\n",
    "        \"let2 own kit dig\",\\\n",
    "        \"let3 art zero\",\\\n",
    "        \"a1 bsd ad aaa\"]\n",
    "\n",
    "Solution.reorderLogFiles(Solution, logs)"
   ]
  },
  {
   "cell_type": "markdown",
   "metadata": {},
   "source": [
    "## Solution : 람다와 + 연산자를 이용\n",
    "\n",
    "* 문자로 구성된 로그가 숫자 로그보다 이전에 오며, 숫자 로그는 입력순서대로 둔다\n",
    "    - 문자와 숫자 구분 : `isdigit()`\n",
    "    - 숫자는 나중에 그대로 이어 붙이기\n",
    "* 문자 로그 정렬\n",
    "    - `letters.sort(key=lambda x:(x.split()[1:], x.split()[0])`"
   ]
  },
  {
   "cell_type": "code",
   "execution_count": 59,
   "metadata": {
    "ExecuteTime": {
     "end_time": "2020-12-01T08:35:14.646818Z",
     "start_time": "2020-12-01T08:35:14.642030Z"
    }
   },
   "outputs": [],
   "source": [
    "def reorderLogFiles(self, logs):\n",
    "    letters, digits = [], []\n",
    "    for log in logs:\n",
    "        if log.split()[1].isdigit():\n",
    "            digits.append(log)\n",
    "        else:\n",
    "            letters.append(log)\n",
    "    letters.sort(key=lambda x : (x.split()[1:], x.splot()[0]))\n",
    "    return letters + digits"
   ]
  }
 ],
 "metadata": {
  "hide_input": false,
  "kernelspec": {
   "display_name": "Python 3",
   "language": "python",
   "name": "python3"
  },
  "language_info": {
   "codemirror_mode": {
    "name": "ipython",
    "version": 3
   },
   "file_extension": ".py",
   "mimetype": "text/x-python",
   "name": "python",
   "nbconvert_exporter": "python",
   "pygments_lexer": "ipython3",
   "version": "3.7.4"
  },
  "toc": {
   "base_numbering": 1,
   "nav_menu": {},
   "number_sections": true,
   "sideBar": true,
   "skip_h1_title": false,
   "title_cell": "Table of Contents",
   "title_sidebar": "Contents",
   "toc_cell": false,
   "toc_position": {},
   "toc_section_display": true,
   "toc_window_display": false
  },
  "varInspector": {
   "cols": {
    "lenName": 16,
    "lenType": 16,
    "lenVar": 40
   },
   "kernels_config": {
    "python": {
     "delete_cmd_postfix": "",
     "delete_cmd_prefix": "del ",
     "library": "var_list.py",
     "varRefreshCmd": "print(var_dic_list())"
    },
    "r": {
     "delete_cmd_postfix": ") ",
     "delete_cmd_prefix": "rm(",
     "library": "var_list.r",
     "varRefreshCmd": "cat(var_dic_list()) "
    }
   },
   "types_to_exclude": [
    "module",
    "function",
    "builtin_function_or_method",
    "instance",
    "_Feature"
   ],
   "window_display": false
  }
 },
 "nbformat": 4,
 "nbformat_minor": 2
}
