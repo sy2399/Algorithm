{
 "cells": [
  {
   "cell_type": "markdown",
   "metadata": {},
   "source": [
    "# 주식을 사고 팔기 가장 좋은 시점\n",
    "\n",
    "[leetcode 121](https://github.com/sy2399/Algorithm)\n",
    "\n",
    "Say you have an array for which the ith element is the price of a given stock on day i.\n",
    "\n",
    "If you were only permitted to complete at most one transaction (i.e., buy one and sell one share of the stock), design an algorithm to find the maximum profit.\n",
    "\n",
    "Note that you cannot sell a stock before you buy one."
   ]
  },
  {
   "cell_type": "markdown",
   "metadata": {},
   "source": [
    "***\n",
    "- 1) 이중 for loop - Time Limit"
   ]
  },
  {
   "cell_type": "code",
   "execution_count": 9,
   "metadata": {
    "ExecuteTime": {
     "end_time": "2020-12-15T06:06:22.951082Z",
     "start_time": "2020-12-15T06:06:22.946322Z"
    }
   },
   "outputs": [],
   "source": [
    "class Solution(object):\n",
    "    def maxProfit(self, prices):\n",
    "        \"\"\"\n",
    "        :type prices: List[int]\n",
    "        :rtype: int\n",
    "        \"\"\"\n",
    "        max_profit = 0\n",
    "        for i in range(len(prices)):\n",
    "            for j in range(i, len(prices)):\n",
    "                diff = prices[j]-prices[i]\n",
    "                if max_profit < diff:\n",
    "                    max_profit = diff\n",
    "        return max_profit"
   ]
  },
  {
   "cell_type": "code",
   "execution_count": 11,
   "metadata": {
    "ExecuteTime": {
     "end_time": "2020-12-15T06:06:29.359519Z",
     "start_time": "2020-12-15T06:06:29.355127Z"
    }
   },
   "outputs": [
    {
     "data": {
      "text/plain": [
       "0"
      ]
     },
     "execution_count": 11,
     "metadata": {},
     "output_type": "execute_result"
    }
   ],
   "source": [
    "prices = [7,6,4,3,1]\n",
    "Solution.maxProfit(Solution, prices)\n"
   ]
  },
  {
   "cell_type": "markdown",
   "metadata": {},
   "source": [
    "- 2) 투 포인터?\n",
    "    - 수익이 최대가 되려면 min 값일 때 사서, max 일 때 팔아야 해\n",
    "    - 왼쪽에 min, 오른쪽에 max \n",
    "    - left_min, right_max?\n",
    "    - 내림차순으로 되어 있으면 무조건 0\n",
    "    - Nope!\n",
    "- 3) i번째 값과, max(prices[i+1:])비교\n",
    "    \n",
    "    "
   ]
  },
  {
   "cell_type": "code",
   "execution_count": 31,
   "metadata": {
    "ExecuteTime": {
     "end_time": "2020-12-15T08:14:55.456347Z",
     "start_time": "2020-12-15T08:14:55.450998Z"
    }
   },
   "outputs": [],
   "source": [
    "class Solution(object):\n",
    "    def maxProfit(self, prices):\n",
    "        \"\"\"\n",
    "        :type prices: List[int]\n",
    "        :rtype: int\n",
    "        \"\"\"\n",
    "        \n",
    "        max_profit = 0\n",
    "        for i in range(len(prices)-1):\n",
    "            rest_max = max(prices[i+1:])\n",
    "            \n",
    "            if prices[i] <= rest_max:\n",
    "                max_profit = max(max_profit, rest_max-prices[i])\n",
    "        return max_profit\n",
    "                \n",
    "                \n",
    "       "
   ]
  },
  {
   "cell_type": "code",
   "execution_count": 32,
   "metadata": {
    "ExecuteTime": {
     "end_time": "2020-12-15T08:14:57.078306Z",
     "start_time": "2020-12-15T08:14:57.072139Z"
    }
   },
   "outputs": [
    {
     "name": "stdout",
     "output_type": "stream",
     "text": [
      "0 [1, 5, 3, 6, 4]\n",
      "1 [5, 3, 6, 4]\n",
      "5\n",
      "2 [3, 6, 4]\n",
      "5\n",
      "3 [6, 4]\n",
      "5\n",
      "4 [4]\n"
     ]
    },
    {
     "data": {
      "text/plain": [
       "5"
      ]
     },
     "execution_count": 32,
     "metadata": {},
     "output_type": "execute_result"
    }
   ],
   "source": [
    "prices = [7,1,5,3,6,4]\n",
    "Solution.maxProfit(Solution, prices)\n"
   ]
  },
  {
   "cell_type": "markdown",
   "metadata": {},
   "source": [
    "# Solution2 : 저점과 현재 값과의 차이 계산\n",
    "- 현재값을 가리키는 포인터가 우측으로 이동하면서 `이전 상태`의 저점을 기준으로 가격차이를 계산하고, 만약 클 경우 최댓값을 계속 교체해나가는 형태"
   ]
  },
  {
   "cell_type": "code",
   "execution_count": 34,
   "metadata": {
    "ExecuteTime": {
     "end_time": "2020-12-15T08:19:57.995826Z",
     "start_time": "2020-12-15T08:19:57.991724Z"
    }
   },
   "outputs": [],
   "source": [
    "class Solution(object):\n",
    "    def maxProfit(self, prices):\n",
    "        \"\"\"\n",
    "        :type prices: List[int]\n",
    "        :rtype: int\n",
    "        \"\"\"\n",
    "        profit = 0\n",
    "        min_price = sys.maxsize\n",
    "        \n",
    "        for price in prices:\n",
    "            min_price = min(min_price, price)\n",
    "            profit = max(profit, price-min_price)\n",
    "            \n",
    "        return profit\n",
    "                \n",
    "       "
   ]
  },
  {
   "cell_type": "code",
   "execution_count": null,
   "metadata": {},
   "outputs": [],
   "source": []
  }
 ],
 "metadata": {
  "hide_input": false,
  "kernelspec": {
   "display_name": "Python 3",
   "language": "python",
   "name": "python3"
  },
  "language_info": {
   "codemirror_mode": {
    "name": "ipython",
    "version": 3
   },
   "file_extension": ".py",
   "mimetype": "text/x-python",
   "name": "python",
   "nbconvert_exporter": "python",
   "pygments_lexer": "ipython3",
   "version": "3.7.4"
  },
  "toc": {
   "base_numbering": 1,
   "nav_menu": {},
   "number_sections": true,
   "sideBar": true,
   "skip_h1_title": false,
   "title_cell": "Table of Contents",
   "title_sidebar": "Contents",
   "toc_cell": false,
   "toc_position": {},
   "toc_section_display": true,
   "toc_window_display": false
  },
  "varInspector": {
   "cols": {
    "lenName": 16,
    "lenType": 16,
    "lenVar": 40
   },
   "kernels_config": {
    "python": {
     "delete_cmd_postfix": "",
     "delete_cmd_prefix": "del ",
     "library": "var_list.py",
     "varRefreshCmd": "print(var_dic_list())"
    },
    "r": {
     "delete_cmd_postfix": ") ",
     "delete_cmd_prefix": "rm(",
     "library": "var_list.r",
     "varRefreshCmd": "cat(var_dic_list()) "
    }
   },
   "types_to_exclude": [
    "module",
    "function",
    "builtin_function_or_method",
    "instance",
    "_Feature"
   ],
   "window_display": false
  }
 },
 "nbformat": 4,
 "nbformat_minor": 2
}
