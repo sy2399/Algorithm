{
 "cells": [
  {
   "cell_type": "markdown",
   "metadata": {},
   "source": [
    "[leetcode 49](https://leetcode.com/problems/group-anagrams/)\n",
    "\n",
    "Given an array of strings strs, group the anagrams together. You can return the answer in any order.   \n",
    "\n",
    "An Anagram is a word or phrase formed by rearranging the letters of a different word or phrase, typically using all the original letters exactly once.   \n",
    "\n",
    "Constraints:\n",
    "\n",
    "- 1 <= strs.length <= 104\n",
    "- 0 <= strs[i].length <= 100\n",
    "- strs[i] consists of lower-case English letters.\n"
   ]
  },
  {
   "cell_type": "markdown",
   "metadata": {},
   "source": [
    "***\n",
    "**풀이과정**\n",
    "- anagram인지 어떻게 확인할까?\n",
    "    - 단어에 포함된 char의 개수 비교? \n",
    "        - collections.Counter 사용해서 각 단어 안에 있는 char 수 비교 가능\n",
    "        - 비교 후에 어떻게 list 에 쌓을 건지\n",
    "            - **`Counter 값을 string 으로 바꿔서...합친 후에 dict의 key로 사용`**\n",
    "            - uniq_k = []   \n",
    "              for key, value in word_counter.items():   \n",
    "                    uniq_k += [str(key)+ str(value)]   \n",
    "\n",
    "                uniq_k.sort()   \n",
    "                uniq_key = ''.join(uniq_k)   \n",
    "                \n",
    "- 주어진 문자가 최대 10^4개"
   ]
  },
  {
   "cell_type": "code",
   "execution_count": 23,
   "metadata": {
    "ExecuteTime": {
     "end_time": "2020-12-03T09:20:36.470293Z",
     "start_time": "2020-12-03T09:20:36.463713Z"
    }
   },
   "outputs": [],
   "source": [
    "import collections\n",
    "\n",
    "class Solution(object):\n",
    "    def groupAnagrams(self, strs):\n",
    "        \"\"\"\n",
    "        :type strs: List[str]\n",
    "        :rtype: List[List[str]]\n",
    "        \"\"\"\n",
    "        tmp_list = []\n",
    "        anagram_dict = {}\n",
    "        for word in strs:\n",
    "            word_counter = collections.Counter(word)\n",
    "            \n",
    "            ### Counter 값을 string 으로 바꿔서...합친 후에 dict의 key로 사용\n",
    "            uniq_k = []\n",
    "            for key, value in word_counter.items():\n",
    "                uniq_k += [str(key)+ str(value)]\n",
    "            \n",
    "            uniq_k.sort()\n",
    "            uniq_key = ''.join(uniq_k)\n",
    "            anagram_dict[uniq_key] = anagram_dict.get(uniq_key, []) + [word]\n",
    "            ###########################\n",
    "            \n",
    "        return list(anagram_dict.values())\n",
    "\n",
    "            \n",
    "        \n",
    "        "
   ]
  },
  {
   "cell_type": "code",
   "execution_count": 26,
   "metadata": {
    "ExecuteTime": {
     "end_time": "2020-12-03T09:20:57.849838Z",
     "start_time": "2020-12-03T09:20:57.844950Z"
    }
   },
   "outputs": [
    {
     "data": {
      "text/plain": [
       "[['a']]"
      ]
     },
     "execution_count": 26,
     "metadata": {},
     "output_type": "execute_result"
    }
   ],
   "source": [
    "strs = [\"a\"]\n",
    "Solution.groupAnagrams(Solution, strs)"
   ]
  },
  {
   "cell_type": "markdown",
   "metadata": {},
   "source": [
    "# Solution : `정렬`하여 딕셔너리에 추가\n",
    "\n",
    "- 애너그램을 판단하는 가장 간단한 방법은 `정렬`하여 비교하는 것\n",
    "    - Counter 쓸 필요 없었다...ㅎ;\n"
   ]
  },
  {
   "cell_type": "code",
   "execution_count": 29,
   "metadata": {
    "ExecuteTime": {
     "end_time": "2020-12-03T09:25:47.543313Z",
     "start_time": "2020-12-03T09:25:47.538577Z"
    }
   },
   "outputs": [],
   "source": [
    "import collections\n",
    "\n",
    "class Solution(object):\n",
    "    def groupAnagrams(self, strs):\n",
    "        \"\"\"\n",
    "        :type strs: List[str]\n",
    "        :rtype: List[List[str]]\n",
    "        \"\"\"\n",
    "        anagrams = collections.defaultdict(list)\n",
    "        \n",
    "        for word in strs:\n",
    "            # 정렬하여 딕셔너리에 추가\n",
    "            anagrams[''.join(sorted(word))].append(word)\n",
    "        return list(anagrams.values())\n",
    "        \n",
    "        \n",
    "        "
   ]
  },
  {
   "cell_type": "code",
   "execution_count": 30,
   "metadata": {
    "ExecuteTime": {
     "end_time": "2020-12-03T09:25:48.032086Z",
     "start_time": "2020-12-03T09:25:48.027037Z"
    }
   },
   "outputs": [
    {
     "data": {
      "text/plain": [
       "[['eat', 'tea', 'ate'], ['tan', 'nat'], ['bat']]"
      ]
     },
     "execution_count": 30,
     "metadata": {},
     "output_type": "execute_result"
    }
   ],
   "source": [
    "strs = [\"eat\",\"tea\",\"tan\",\"ate\",\"nat\",\"bat\"]\n",
    "Solution.groupAnagrams(Solution, strs)"
   ]
  },
  {
   "cell_type": "code",
   "execution_count": null,
   "metadata": {},
   "outputs": [],
   "source": []
  }
 ],
 "metadata": {
  "hide_input": false,
  "kernelspec": {
   "display_name": "Python 3",
   "language": "python",
   "name": "python3"
  },
  "language_info": {
   "codemirror_mode": {
    "name": "ipython",
    "version": 3
   },
   "file_extension": ".py",
   "mimetype": "text/x-python",
   "name": "python",
   "nbconvert_exporter": "python",
   "pygments_lexer": "ipython3",
   "version": "3.7.4"
  },
  "toc": {
   "base_numbering": 1,
   "nav_menu": {},
   "number_sections": true,
   "sideBar": true,
   "skip_h1_title": false,
   "title_cell": "Table of Contents",
   "title_sidebar": "Contents",
   "toc_cell": false,
   "toc_position": {},
   "toc_section_display": true,
   "toc_window_display": false
  },
  "varInspector": {
   "cols": {
    "lenName": 16,
    "lenType": 16,
    "lenVar": 40
   },
   "kernels_config": {
    "python": {
     "delete_cmd_postfix": "",
     "delete_cmd_prefix": "del ",
     "library": "var_list.py",
     "varRefreshCmd": "print(var_dic_list())"
    },
    "r": {
     "delete_cmd_postfix": ") ",
     "delete_cmd_prefix": "rm(",
     "library": "var_list.r",
     "varRefreshCmd": "cat(var_dic_list()) "
    }
   },
   "types_to_exclude": [
    "module",
    "function",
    "builtin_function_or_method",
    "instance",
    "_Feature"
   ],
   "window_display": false
  }
 },
 "nbformat": 4,
 "nbformat_minor": 2
}
