{
 "cells": [
  {
   "cell_type": "markdown",
   "metadata": {},
   "source": [
    "cf. 연결리스트\n",
    "\n",
    "- 연결리스트는 데이터 요소의 선형 집합으로, 데이터의 순서가 메모리에 물리적인 순서대로 저장되지는 않는다\n",
    "- 배열과는 달리 특정 인덱스에 접근하기 위해서는 전체를 순서대로 읽어야 하므로 상수시간에 접근할 수 없다\n",
    "    - 즉, 탐색에는 *O(n)* 이 소요된다.\n",
    "    - 반면, 시작 또는 끝 지점에 아이템을 추가하거나 삭제, 추출하는 작업은 *O(1)* 에 가능하다"
   ]
  },
  {
   "cell_type": "markdown",
   "metadata": {},
   "source": [
    "# 팰린드롬 연결리스트\n",
    "\n",
    "[leetcode 234](https://leetcode.com/problems/palindrome-linked-list/)\n",
    "\n",
    "Given a singly linked list, determine if it is a palindrome.\n",
    "\n",
    "- Input : 1->2\n",
    "\n",
    "Follow up:\n",
    "Could you do it in O(n) time and O(1) space?"
   ]
  },
  {
   "cell_type": "markdown",
   "metadata": {},
   "source": [
    "***\n",
    "- 팰린드롬 여부를 판별하기 위해서는 앞뒤로 모두 추출할 수 있는 자료구조 필요!"
   ]
  },
  {
   "cell_type": "markdown",
   "metadata": {},
   "source": [
    "# Solution1 : 리스트로 변환\n",
    "- q.pop(0)에서 속도 문제\n",
    "    - 동적 배열로 구성된 리스트는 맨 앞 아이템을 가져오기에 적합한 자료형이 아니다 (Shifting으로 인해 시간 복잡도 = *O(n)* )\n",
    "    - python의 Deque는 이중연결리스트 구조로 양쪽 방향 모두 추출하는 데 시간 복잡도 *O(1)* 에 실행된다"
   ]
  },
  {
   "cell_type": "code",
   "execution_count": 3,
   "metadata": {
    "ExecuteTime": {
     "end_time": "2020-12-15T08:48:36.034489Z",
     "start_time": "2020-12-15T08:48:36.029955Z"
    }
   },
   "outputs": [],
   "source": [
    "# Definition for singly-linked list.\n",
    "class ListNode(object):\n",
    "    def __init__(self, val=0, next=None):\n",
    "        self.val = val\n",
    "        self.next = next\n",
    "        \n",
    "class Solution(object):\n",
    "    def isPalindrome(self, head):\n",
    "        \"\"\"\n",
    "        :type head: ListNode\n",
    "        :rtype: bool\n",
    "        \"\"\"\n",
    "        q = list()\n",
    "        \n",
    "        if not head:\n",
    "            return True\n",
    "        \n",
    "        node = head\n",
    "        \n",
    "        while node is not None:\n",
    "            q.append(node.val)\n",
    "            node = node.next\n",
    "            \n",
    "        while len(q)>1:\n",
    "            if q.pop(0) != q.pop():\n",
    "                return False\n",
    "        return True\n",
    "        "
   ]
  },
  {
   "cell_type": "markdown",
   "metadata": {
    "ExecuteTime": {
     "end_time": "2020-12-15T08:53:33.219140Z",
     "start_time": "2020-12-15T08:53:33.215828Z"
    }
   },
   "source": [
    "# Solution2 : deque를 이용한 최적화"
   ]
  },
  {
   "cell_type": "code",
   "execution_count": 9,
   "metadata": {
    "ExecuteTime": {
     "end_time": "2020-12-15T09:19:42.564719Z",
     "start_time": "2020-12-15T09:19:42.557875Z"
    }
   },
   "outputs": [],
   "source": [
    "import collections \n",
    "\n",
    "# Definition for singly-linked list.\n",
    "class ListNode(object):\n",
    "    def __init__(self, val=0, next=None):\n",
    "        self.val = val\n",
    "        self.next = next\n",
    "        \n",
    "class Solution(object):\n",
    "    def isPalindrome(self, head):\n",
    "        \"\"\"\n",
    "        :type head: ListNode\n",
    "        :rtype: bool\n",
    "        \"\"\"\n",
    "        q = collections.deque()\n",
    "        \n",
    "        if not head:\n",
    "            return True\n",
    "        \n",
    "        node = head\n",
    "        \n",
    "        while node is not None:\n",
    "            q.append(node.val)\n",
    "            node = node.next\n",
    "            \n",
    "        while len(q)>1:\n",
    "            if q.popleft() != q.pop():\n",
    "                return False\n",
    "        return True\n",
    "        "
   ]
  },
  {
   "cell_type": "code",
   "execution_count": null,
   "metadata": {},
   "outputs": [],
   "source": []
  }
 ],
 "metadata": {
  "hide_input": false,
  "kernelspec": {
   "display_name": "Python 3",
   "language": "python",
   "name": "python3"
  },
  "language_info": {
   "codemirror_mode": {
    "name": "ipython",
    "version": 3
   },
   "file_extension": ".py",
   "mimetype": "text/x-python",
   "name": "python",
   "nbconvert_exporter": "python",
   "pygments_lexer": "ipython3",
   "version": "3.7.4"
  },
  "toc": {
   "base_numbering": 1,
   "nav_menu": {},
   "number_sections": true,
   "sideBar": true,
   "skip_h1_title": false,
   "title_cell": "Table of Contents",
   "title_sidebar": "Contents",
   "toc_cell": false,
   "toc_position": {},
   "toc_section_display": true,
   "toc_window_display": false
  },
  "varInspector": {
   "cols": {
    "lenName": 16,
    "lenType": 16,
    "lenVar": 40
   },
   "kernels_config": {
    "python": {
     "delete_cmd_postfix": "",
     "delete_cmd_prefix": "del ",
     "library": "var_list.py",
     "varRefreshCmd": "print(var_dic_list())"
    },
    "r": {
     "delete_cmd_postfix": ") ",
     "delete_cmd_prefix": "rm(",
     "library": "var_list.r",
     "varRefreshCmd": "cat(var_dic_list()) "
    }
   },
   "types_to_exclude": [
    "module",
    "function",
    "builtin_function_or_method",
    "instance",
    "_Feature"
   ],
   "window_display": false
  }
 },
 "nbformat": 4,
 "nbformat_minor": 2
}
