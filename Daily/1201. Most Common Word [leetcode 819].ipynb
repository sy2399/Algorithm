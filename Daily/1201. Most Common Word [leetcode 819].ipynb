{
 "cells": [
  {
   "cell_type": "markdown",
   "metadata": {},
   "source": [
    "Given a paragraph and a list of banned words, return the most frequent word that is not in the list of banned words.  It is guaranteed there is at least one word that isn't banned, and that the answer is unique.   \n",
    "\n",
    "Words in the list of banned words are given in lowercase, and free of punctuation.  Words in the paragraph are not case sensitive.  The answer is in lowercase.  \n",
    "\n",
    "Note:\n",
    "\n",
    "- 1 <= paragraph.length <= 1000.\n",
    "- 0 <= banned.length <= 100.\n",
    "- 1 <= banned[i].length <= 10.\n",
    "- The answer is unique, and written in `lowercase` (even if its occurrences in paragraph may have uppercase symbols, and even if it is a proper noun.)\n",
    "- paragraph only consists of letters, spaces, or the punctuation symbols `!?',;.`\n",
    "- There are no hyphens or hyphenated words.\n",
    "- Words only consist of letters, never apostrophes or other punctuation symbols."
   ]
  },
  {
   "cell_type": "markdown",
   "metadata": {},
   "source": [
    "***\n",
    "**풀이과정**\n",
    "- paragraph 안에서 가장 많이 등장한 단어찾기\n",
    "- 단어 간 비교 필요\n",
    "    - 1. 모두 소문자로 바꾸기\n",
    "    - 2. 특수문자 (!?',;.)제거하기\n",
    "- 단어 등장 횟수 세기\n",
    "    - 1) dictionary 이용해서 unique 문자를 Key 로, 문자 하나 등장할 때마다 += 1\n",
    "    - or 2) Collections 라이브러리 사용"
   ]
  },
  {
   "cell_type": "code",
   "execution_count": 50,
   "metadata": {
    "ExecuteTime": {
     "end_time": "2020-12-01T09:14:36.780600Z",
     "start_time": "2020-12-01T09:14:36.775086Z"
    }
   },
   "outputs": [],
   "source": [
    "import re\n",
    "import collections\n",
    "\n",
    "class Solution(object):\n",
    "    def mostCommonWord(self, paragraph, banned):\n",
    "        \"\"\"\n",
    "        :type paragraph: str\n",
    "        :type banned: List[str]\n",
    "        :rtype: str\n",
    "        \"\"\"\n",
    "        count_dict = {}\n",
    "        paragraph = paragraph.lower()\n",
    "        paragraph = re.sub('[!?\\',;.]', ' ', paragraph)\n",
    "        print(paragraph)\n",
    "        \n",
    "        count_dict = collections.Counter(paragraph.split())\n",
    "        most_common = count_dict.most_common()\n",
    "        print(most_common)\n",
    "        \n",
    "        for key, value in most_common:\n",
    "            if key not in banned:\n",
    "                return key\n",
    "\n",
    "        "
   ]
  },
  {
   "cell_type": "code",
   "execution_count": 51,
   "metadata": {
    "ExecuteTime": {
     "end_time": "2020-12-01T09:14:37.791529Z",
     "start_time": "2020-12-01T09:14:37.786578Z"
    }
   },
   "outputs": [
    {
     "name": "stdout",
     "output_type": "stream",
     "text": [
      "bob hit a ball  the hit ball flew far after it was hit \n",
      "[('hit', 3), ('ball', 2), ('bob', 1), ('a', 1), ('the', 1), ('flew', 1), ('far', 1), ('after', 1), ('it', 1), ('was', 1)]\n"
     ]
    },
    {
     "data": {
      "text/plain": [
       "'ball'"
      ]
     },
     "execution_count": 51,
     "metadata": {},
     "output_type": "execute_result"
    }
   ],
   "source": [
    "paragraph = \"Bob hit a ball, the hit BALL flew far after it was hit.\"\n",
    "banned = [\"hit\"]\n",
    "\n",
    "Solution.mostCommonWord(Solution, paragraph, banned)"
   ]
  },
  {
   "cell_type": "code",
   "execution_count": 52,
   "metadata": {
    "ExecuteTime": {
     "end_time": "2020-12-01T09:14:38.447264Z",
     "start_time": "2020-12-01T09:14:38.442482Z"
    }
   },
   "outputs": [
    {
     "name": "stdout",
     "output_type": "stream",
     "text": [
      "a  a  a  a  b b b c  c\n",
      "[('a', 4), ('b', 3), ('c', 2)]\n"
     ]
    },
    {
     "data": {
      "text/plain": [
       "'b'"
      ]
     },
     "execution_count": 52,
     "metadata": {},
     "output_type": "execute_result"
    }
   ],
   "source": [
    "paragraph = \"a, a, a, a, b,b,b,c, c\"\n",
    "banned = [\"a\"]\n",
    "\n",
    "Solution.mostCommonWord(Solution, paragraph, banned)"
   ]
  },
  {
   "cell_type": "markdown",
   "metadata": {},
   "source": [
    "# Solution : 리스트 컴프리헨션, Counter 객체 사용\n",
    "\n",
    "- 입력값에 대소문자가 섞여 있으므로 데이터 클렌징-preprocessing 필요\n",
    "    - 정규표현식 사용\n",
    "- count\n",
    "    - defaultdict or Collections"
   ]
  },
  {
   "cell_type": "code",
   "execution_count": 55,
   "metadata": {
    "ExecuteTime": {
     "end_time": "2020-12-01T09:19:31.936884Z",
     "start_time": "2020-12-01T09:19:31.931563Z"
    }
   },
   "outputs": [],
   "source": [
    "import re\n",
    "import collections\n",
    "\n",
    "class Solution(object):\n",
    "    def mostCommonWord(self, paragraph, banned):\n",
    "        # 한 방에 특수문자 제거, 소문자로, split, banned 제거!😱😱\n",
    "        words = [word for word in re.sub(r'[^W]', ' ', paragraph).lower().split() \n",
    "                if word not in banned]\n",
    "    \n",
    "        counts = collections.defaultdict(int)\n",
    "        for word in words:\n",
    "            counts[word] += 1\n",
    "        return max(counts, key = count.get)"
   ]
  },
  {
   "cell_type": "code",
   "execution_count": 56,
   "metadata": {
    "ExecuteTime": {
     "end_time": "2020-12-01T09:19:32.404315Z",
     "start_time": "2020-12-01T09:19:32.398856Z"
    }
   },
   "outputs": [],
   "source": [
    "import re\n",
    "import collections\n",
    "\n",
    "class Solution(object):\n",
    "    def mostCommonWord(self, paragraph, banned):\n",
    "        # 한 방에 특수문자 제거, 소문자로, split, banned 제거!😱😱\n",
    "        words = [word for word in re.sub(r'[^W]', ' ', paragraph).lower().split()\n",
    "                if word not in banned]\n",
    "    \n",
    "        counts = collections.Counter(words)\n",
    "        return counts.most_common(1)[0][0]\n",
    "        "
   ]
  },
  {
   "cell_type": "code",
   "execution_count": null,
   "metadata": {},
   "outputs": [],
   "source": []
  }
 ],
 "metadata": {
  "hide_input": false,
  "kernelspec": {
   "display_name": "Python 3",
   "language": "python",
   "name": "python3"
  },
  "language_info": {
   "codemirror_mode": {
    "name": "ipython",
    "version": 3
   },
   "file_extension": ".py",
   "mimetype": "text/x-python",
   "name": "python",
   "nbconvert_exporter": "python",
   "pygments_lexer": "ipython3",
   "version": "3.7.4"
  },
  "toc": {
   "base_numbering": 1,
   "nav_menu": {},
   "number_sections": true,
   "sideBar": true,
   "skip_h1_title": false,
   "title_cell": "Table of Contents",
   "title_sidebar": "Contents",
   "toc_cell": false,
   "toc_position": {},
   "toc_section_display": true,
   "toc_window_display": false
  },
  "varInspector": {
   "cols": {
    "lenName": 16,
    "lenType": 16,
    "lenVar": 40
   },
   "kernels_config": {
    "python": {
     "delete_cmd_postfix": "",
     "delete_cmd_prefix": "del ",
     "library": "var_list.py",
     "varRefreshCmd": "print(var_dic_list())"
    },
    "r": {
     "delete_cmd_postfix": ") ",
     "delete_cmd_prefix": "rm(",
     "library": "var_list.r",
     "varRefreshCmd": "cat(var_dic_list()) "
    }
   },
   "types_to_exclude": [
    "module",
    "function",
    "builtin_function_or_method",
    "instance",
    "_Feature"
   ],
   "window_display": false
  }
 },
 "nbformat": 4,
 "nbformat_minor": 2
}
