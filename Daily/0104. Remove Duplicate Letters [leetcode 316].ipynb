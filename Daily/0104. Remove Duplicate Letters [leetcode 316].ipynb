{
 "cells": [
  {
   "cell_type": "markdown",
   "metadata": {},
   "source": [
    "# 중복 문자 제거\n",
    "\n",
    "Given a string s, remove duplicate letters so that every letter appears once and only once. You must make sure your result is the smallest in lexicographical order among all possible results.\n",
    "\n",
    "중복된 문자를 제외하고, 사전식 순서로 나열하라\n",
    "\n",
    "Note: This question is the same as 1081: https://leetcode.com/problems/smallest-subsequence-of-distinct-characters/\n",
    "\n",
    "\n"
   ]
  },
  {
   "cell_type": "markdown",
   "metadata": {},
   "source": [
    "***\n",
    "- ebcabc --> eabc\n",
    "    - e는 사전순으로는 가장 뒤이지만, 중복되지 않은 값이기에 e 위치 변경 불가\n",
    "- ebcabce --> abce\n",
    "***\n",
    "1. collections 라이브러리로 char 별 count 먼저 세고\n",
    "2. 1개만 등장한 char는 stack에, 2번 이상 등장한건 따로?\n",
    "3. 아스키 코드 값 사용해서 stack에 쌓인 값과 비교? ord()\n"
   ]
  },
  {
   "cell_type": "code",
   "execution_count": 9,
   "metadata": {
    "ExecuteTime": {
     "end_time": "2020-12-30T05:59:40.710220Z",
     "start_time": "2020-12-30T05:59:40.704121Z"
    },
    "code_folding": [
     3,
     14
    ]
   },
   "outputs": [],
   "source": [
    "import collections \n",
    "\n",
    "class Solution_Fail(object):\n",
    "    def removeDuplicateLetters(self, s):\n",
    "        \"\"\"\n",
    "        :type s: str\n",
    "        :rtype: str\n",
    "        \"\"\"\n",
    "        count = collections.Counter(s)\n",
    "        print(count)\n",
    "        \n",
    "        result = []\n",
    "        dup = collections.deque([])\n",
    "        \n",
    "        for i in s:\n",
    "            if count[i] == 1:\n",
    "                if len(dup) == 0:\n",
    "                    result.append(i)\n",
    "                else:\n",
    "                    dup_before = len(dup)\n",
    "                    for _ in range(dup_before):\n",
    "                        dup_char = dup.popleft()\n",
    "                        if ord(dup_char) > ord(i):\n",
    "                            result.append(i)\n",
    "                        else:\n",
    "                            result.append(dup_char)\n",
    "            else:\n",
    "                if i not in dup:\n",
    "                    dup.append(i)\n",
    "            \n",
    "            print(\"\\n i\", i)\n",
    "            print(\"result\", result)\n",
    "            print(\"dup\", dup)\n",
    "            \n",
    "            \n",
    "            "
   ]
  },
  {
   "cell_type": "markdown",
   "metadata": {},
   "source": [
    "***\n",
    "- count1짜리 문자 앞의 문자들이 count1짜리보다 사전순으로 앞인지 뒤인지 살펴봐야해\n",
    "- 중복된 문자이고 unique 보다 큰 문자여도, unique 뒤에 없으면 unique보다 앞에 넣어줘야해\n",
    "    - ex) cdadabcc > adbc"
   ]
  },
  {
   "cell_type": "code",
   "execution_count": 104,
   "metadata": {
    "ExecuteTime": {
     "end_time": "2021-01-04T07:44:28.224855Z",
     "start_time": "2021-01-04T07:44:28.214635Z"
    },
    "code_folding": [
     3
    ]
   },
   "outputs": [],
   "source": [
    "import collections \n",
    "\n",
    "class Solution_Fail(object):\n",
    "    def removeDuplicateLetters(self, s):\n",
    "        \"\"\"\n",
    "        :type s: str\n",
    "        :rtype: str\n",
    "        \"\"\"\n",
    "        \n",
    "        count = collections.Counter(s)\n",
    "    \n",
    "        # 예외케이스 - 중복된 문자가 하나도 없을 때\n",
    "        dup_count = sum(1 for i in count.values() if i > 1)\n",
    "        \n",
    "        if (dup_count == 0) or (len(s) == 1):\n",
    "            return s\n",
    "        \n",
    "        \n",
    "        unique = list(count.keys())[list(count.values()).index(1)]\n",
    "        \n",
    "        answer = []\n",
    "        tmp = []\n",
    "        \n",
    "        for i in s:\n",
    "            if count[i] > 1 and i not in tmp and i not in answer:\n",
    "                tmp.append(i)\n",
    "                    \n",
    "            elif count[i] == 1:\n",
    "                while tmp:\n",
    "                    top = tmp[-1]\n",
    "                    \n",
    "                    if top < i:\n",
    "                        answer.append(tmp.pop())\n",
    "                    else:\n",
    "                        # count==1인 문자 뒤에 없는 char 들 먼저 넣어주기 \n",
    "                        current_index = s.index(i)\n",
    "                        for dup_char in tmp:\n",
    "                            if dup_char not in s[current_index+1:] and  dup_char not in answer:\n",
    "                                answer.append(top)\n",
    "                        \n",
    "                        answer.append(i)\n",
    "                        tmp = []\n",
    "                        break\n",
    "\n",
    "                \n",
    "                if i not in answer:\n",
    "                    answer.append(i)\n",
    "                        \n",
    "\n",
    "        answer.extend(tmp)\n",
    "        \n",
    "        return ''.join(answer)\n",
    "                    \n",
    "      "
   ]
  },
  {
   "cell_type": "code",
   "execution_count": 103,
   "metadata": {
    "ExecuteTime": {
     "end_time": "2021-01-04T07:41:31.933403Z",
     "start_time": "2021-01-04T07:41:31.928715Z"
    }
   },
   "outputs": [
    {
     "data": {
      "text/plain": [
       "'ecba'"
      ]
     },
     "execution_count": 103,
     "metadata": {},
     "output_type": "execute_result"
    }
   ],
   "source": [
    "s = \"ecbacba\"\n",
    "Solution.removeDuplicateLetters(Solution, s)"
   ]
  },
  {
   "cell_type": "markdown",
   "metadata": {},
   "source": [
    "# Solution2 : 스택을 이용한 문자 제거\n",
    "\n",
    "1. 스택에 차례대로 문자 넣기\n",
    "2. 만약 현재 문자가 스택에 쌓여 있는 문자이고, 뒤에 다시 붙일 문자가 남아 있다면, 쌓아둔 걸 꺼내서 없앤다\n",
    "\n",
    "***\n",
    "stack에서 빠지지 않고 남아있는 거\n",
    "- 중복된 문자라면 --> 뒤에 다시 붙일 문자가 없을 때\n",
    "- unique한 문자라면 --> counter -=1 이므로 뒤에 다시 붙일 문자가 없음\n",
    "***\n",
    "stack 에 문자를 넣을 때마다, \n",
    "1. stack[-1] vs 문자 비교\n",
    "2. stack[-1]이 뒤에 또 나오는지 확인해서\n",
    "\n",
    "3. stack[-1] > 현재 문자 && count[stack[-1]]>0 이면 stack[-1] 을 빼고\n",
    "4. 문자를 넣는다"
   ]
  },
  {
   "cell_type": "code",
   "execution_count": 117,
   "metadata": {
    "ExecuteTime": {
     "end_time": "2021-01-04T07:56:05.897559Z",
     "start_time": "2021-01-04T07:56:05.891986Z"
    }
   },
   "outputs": [],
   "source": [
    "class Solution(object):\n",
    "    def removeDuplicateLetters(self, s):\n",
    "        \"\"\"\n",
    "        :type s: str\n",
    "        :rtype: str\n",
    "        \"\"\"\n",
    "        count = collections.Counter(s)\n",
    "        stack = []\n",
    "        \n",
    "        for i in s:\n",
    "            print(\"\\n\", i)\n",
    "            # stack에 넣을때마다 count 줄여주기!\n",
    "            count[i] -= 1\n",
    "            \n",
    "            if i in stack:\n",
    "                continue\n",
    "                \n",
    "            while stack and i < stack[-1] and count[stack[-1]] > 0:\n",
    "                print(\"while\")\n",
    "                stack.pop()\n",
    "                \n",
    "            stack.append(i)\n",
    "            \n",
    "        return ''.join(stack)"
   ]
  },
  {
   "cell_type": "code",
   "execution_count": 118,
   "metadata": {
    "ExecuteTime": {
     "end_time": "2021-01-04T07:56:06.136609Z",
     "start_time": "2021-01-04T07:56:06.130906Z"
    }
   },
   "outputs": [
    {
     "name": "stdout",
     "output_type": "stream",
     "text": [
      "\n",
      " c\n",
      "\n",
      " b\n",
      "while\n",
      "\n",
      " a\n",
      "while\n",
      "\n",
      " c\n",
      "\n",
      " d\n",
      "\n",
      " c\n",
      "\n",
      " b\n",
      "\n",
      " c\n"
     ]
    },
    {
     "data": {
      "text/plain": [
       "'acdb'"
      ]
     },
     "execution_count": 118,
     "metadata": {},
     "output_type": "execute_result"
    }
   ],
   "source": [
    "s = \"cbacdcbc\"\n",
    "Solution.removeDuplicateLetters(Solution, s)"
   ]
  },
  {
   "cell_type": "code",
   "execution_count": 30,
   "metadata": {
    "ExecuteTime": {
     "end_time": "2021-01-04T07:11:52.262258Z",
     "start_time": "2021-01-04T07:11:52.259008Z"
    }
   },
   "outputs": [
    {
     "name": "stdout",
     "output_type": "stream",
     "text": [
      "True\n"
     ]
    }
   ],
   "source": [
    "print('ac' < 'b')"
   ]
  },
  {
   "cell_type": "code",
   "execution_count": null,
   "metadata": {},
   "outputs": [],
   "source": []
  }
 ],
 "metadata": {
  "hide_input": false,
  "kernelspec": {
   "display_name": "Python 3",
   "language": "python",
   "name": "python3"
  },
  "language_info": {
   "codemirror_mode": {
    "name": "ipython",
    "version": 3
   },
   "file_extension": ".py",
   "mimetype": "text/x-python",
   "name": "python",
   "nbconvert_exporter": "python",
   "pygments_lexer": "ipython3",
   "version": "3.7.4"
  },
  "toc": {
   "base_numbering": 1,
   "nav_menu": {},
   "number_sections": true,
   "sideBar": true,
   "skip_h1_title": false,
   "title_cell": "Table of Contents",
   "title_sidebar": "Contents",
   "toc_cell": false,
   "toc_position": {},
   "toc_section_display": true,
   "toc_window_display": false
  },
  "varInspector": {
   "cols": {
    "lenName": 16,
    "lenType": 16,
    "lenVar": 40
   },
   "kernels_config": {
    "python": {
     "delete_cmd_postfix": "",
     "delete_cmd_prefix": "del ",
     "library": "var_list.py",
     "varRefreshCmd": "print(var_dic_list())"
    },
    "r": {
     "delete_cmd_postfix": ") ",
     "delete_cmd_prefix": "rm(",
     "library": "var_list.r",
     "varRefreshCmd": "cat(var_dic_list()) "
    }
   },
   "types_to_exclude": [
    "module",
    "function",
    "builtin_function_or_method",
    "instance",
    "_Feature"
   ],
   "window_display": false
  }
 },
 "nbformat": 4,
 "nbformat_minor": 4
}
