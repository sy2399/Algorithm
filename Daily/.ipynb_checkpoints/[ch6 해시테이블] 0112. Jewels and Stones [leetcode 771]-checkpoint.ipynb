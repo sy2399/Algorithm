{
 "cells": [
  {
   "cell_type": "markdown",
   "metadata": {},
   "source": [
    "# 보석과 돌 [ch11. 해시 테이블]\n",
    "[leetcode 771](https://leetcode.com/problems/jewels-and-stones/)\n",
    "\n",
    "You're given strings jewels representing the types of stones that are jewels, and stones representing the stones you have. Each character in stones is a type of stone you have. You want to know how many of the stones you have are also jewels.\n",
    "\n",
    "Letters are case sensitive, so \"a\" is considered a different type of stone from \"A\".\n",
    "\n",
    "\n"
   ]
  },
  {
   "cell_type": "code",
   "execution_count": 23,
   "metadata": {
    "ExecuteTime": {
     "end_time": "2021-01-12T06:12:59.048357Z",
     "start_time": "2021-01-12T06:12:59.044028Z"
    }
   },
   "outputs": [],
   "source": [
    "import collections \n",
    "class Solution(object):\n",
    "    def numJewelsInStones(self, jewels, stones):\n",
    "        \"\"\"\n",
    "        :type jewels: str\n",
    "        :type stones: str\n",
    "        :rtype: int\n",
    "        \"\"\"\n",
    "#         j_dict = collections.defaultdict(int)\n",
    "        result = 0\n",
    "        for i in stones:\n",
    "            if i in jewels:\n",
    "#                 j_dict[i] = j_dict.get(i, 0) + 1\n",
    "                result += 1\n",
    "                \n",
    "#         print(j_dict)\n",
    "#         j_dict.values().sum()\n",
    "        return result\n",
    "            \n",
    "            \n",
    "        "
   ]
  },
  {
   "cell_type": "code",
   "execution_count": 24,
   "metadata": {
    "ExecuteTime": {
     "end_time": "2021-01-12T06:12:59.241303Z",
     "start_time": "2021-01-12T06:12:59.228591Z"
    }
   },
   "outputs": [
    {
     "data": {
      "text/plain": [
       "3"
      ]
     },
     "execution_count": 24,
     "metadata": {},
     "output_type": "execute_result"
    }
   ],
   "source": [
    "jewels=\"aA\"\n",
    "stones = \"aAAbbbb\"\n",
    "Solution.numJewelsInStones(Solution, jewels, stones)"
   ]
  },
  {
   "cell_type": "markdown",
   "metadata": {},
   "source": [
    "# Solution1. 해시 테이블을 이용한 풀이\n",
    "- 갖고 있는 돌s의 각각의 개수 모두 센 후, jewel의 각 요소를 키로 하는 각 개수를 합산"
   ]
  },
  {
   "cell_type": "code",
   "execution_count": 25,
   "metadata": {
    "ExecuteTime": {
     "end_time": "2021-01-12T06:16:01.571347Z",
     "start_time": "2021-01-12T06:16:01.566192Z"
    }
   },
   "outputs": [],
   "source": [
    "import collections \n",
    "class Solution(object):\n",
    "    def numJewelsInStones(self, jewels, stones):\n",
    "        \"\"\"\n",
    "        :type jewels: str\n",
    "        :type stones: str\n",
    "        :rtype: int\n",
    "        \"\"\"\n",
    "        feqs = {}\n",
    "        \n",
    "        for char in stones:\n",
    "            if char not in freqs:\n",
    "                freqs[char] = 1\n",
    "            else:\n",
    "                freqs[char] += 1\n",
    "            \n",
    "        for char in jewels:\n",
    "            if char in frequs:\n",
    "                count += freqs[char]\n",
    "        return count\n",
    "        "
   ]
  },
  {
   "cell_type": "markdown",
   "metadata": {},
   "source": [
    "# Solution2. defaultdict를 이용한 비교 생략"
   ]
  },
  {
   "cell_type": "code",
   "execution_count": 26,
   "metadata": {
    "ExecuteTime": {
     "end_time": "2021-01-12T06:19:44.873266Z",
     "start_time": "2021-01-12T06:19:44.868453Z"
    }
   },
   "outputs": [],
   "source": [
    "import collections \n",
    "\n",
    "class Solution(object):\n",
    "    def numJewelsInStones(self, jewels, stones):\n",
    "        \"\"\"\n",
    "        :type jewels: str\n",
    "        :type stones: str\n",
    "        :rtype: int\n",
    "        \"\"\"\n",
    "        feqs = collections.defaultdict(int)\n",
    "        \n",
    "        for char in stones:\n",
    "            freqs[char] += 1\n",
    "            \n",
    "        for char in jewels:\n",
    "            count += freqs[char]\n",
    "        \n",
    "        return count\n",
    "        "
   ]
  },
  {
   "cell_type": "markdown",
   "metadata": {},
   "source": [
    "# Solution3. Counter 로 계산 생략"
   ]
  },
  {
   "cell_type": "code",
   "execution_count": 27,
   "metadata": {
    "ExecuteTime": {
     "end_time": "2021-01-12T06:20:34.967200Z",
     "start_time": "2021-01-12T06:20:34.962329Z"
    }
   },
   "outputs": [],
   "source": [
    "import collections \n",
    "\n",
    "class Solution(object):\n",
    "    def numJewelsInStones(self, jewels, stones):\n",
    "        \"\"\"\n",
    "        :type jewels: str\n",
    "        :type stones: str\n",
    "        :rtype: int\n",
    "        \"\"\"\n",
    "        freqs = collections.Counter(stones)\n",
    "        count = 0\n",
    "        \n",
    "        for char in jewels:\n",
    "            count += freqs[char]\n",
    "            \n",
    "        return count\n",
    "        "
   ]
  },
  {
   "cell_type": "markdown",
   "metadata": {},
   "source": [
    "# Solution4. 파이썬다운 방식"
   ]
  },
  {
   "cell_type": "code",
   "execution_count": 28,
   "metadata": {
    "ExecuteTime": {
     "end_time": "2021-01-12T06:22:28.699557Z",
     "start_time": "2021-01-12T06:22:28.695915Z"
    }
   },
   "outputs": [],
   "source": [
    "class Solution(object):\n",
    "    def numJewelsInStones(self, jewels, stones):\n",
    "        # s for s in stones : ['a', 'A', 'A', 'b', 'b', 'b', 'b']\n",
    "        # f in jewel for s in stones : [True, True, True, False, False, False]\n",
    "        \n",
    "        return sum(s in jewels for s in stones)"
   ]
  },
  {
   "cell_type": "code",
   "execution_count": null,
   "metadata": {},
   "outputs": [],
   "source": []
  }
 ],
 "metadata": {
  "hide_input": false,
  "kernelspec": {
   "display_name": "Python 3",
   "language": "python",
   "name": "python3"
  },
  "language_info": {
   "codemirror_mode": {
    "name": "ipython",
    "version": 3
   },
   "file_extension": ".py",
   "mimetype": "text/x-python",
   "name": "python",
   "nbconvert_exporter": "python",
   "pygments_lexer": "ipython3",
   "version": "3.7.4"
  },
  "toc": {
   "base_numbering": 1,
   "nav_menu": {},
   "number_sections": true,
   "sideBar": true,
   "skip_h1_title": false,
   "title_cell": "Table of Contents",
   "title_sidebar": "Contents",
   "toc_cell": false,
   "toc_position": {},
   "toc_section_display": true,
   "toc_window_display": false
  },
  "varInspector": {
   "cols": {
    "lenName": 16,
    "lenType": 16,
    "lenVar": 40
   },
   "kernels_config": {
    "python": {
     "delete_cmd_postfix": "",
     "delete_cmd_prefix": "del ",
     "library": "var_list.py",
     "varRefreshCmd": "print(var_dic_list())"
    },
    "r": {
     "delete_cmd_postfix": ") ",
     "delete_cmd_prefix": "rm(",
     "library": "var_list.r",
     "varRefreshCmd": "cat(var_dic_list()) "
    }
   },
   "types_to_exclude": [
    "module",
    "function",
    "builtin_function_or_method",
    "instance",
    "_Feature"
   ],
   "window_display": false
  }
 },
 "nbformat": 4,
 "nbformat_minor": 2
}
