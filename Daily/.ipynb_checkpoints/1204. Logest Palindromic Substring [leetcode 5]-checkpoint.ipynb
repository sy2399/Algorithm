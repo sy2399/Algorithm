{
 "cells": [
  {
   "cell_type": "markdown",
   "metadata": {},
   "source": [
    "[leetcode](https://leetcode.com/problems/longest-palindromic-substring/)\n",
    "\n",
    "Given a string s, return the longest palindromic substring in s.\n",
    "\n",
    "*Constraints:*\n",
    "\n",
    "- 1 <= s.length <= 1000\n",
    "- s consist of only digits and English letters (lower-case and/or upper-case),"
   ]
  },
  {
   "cell_type": "markdown",
   "metadata": {},
   "source": [
    "***\n",
    "**풀이과정**\n",
    "- 가능한 palindrom을 모두 찾아서, 그 중 가장 긴 palindrome을 return 하도록?\n",
    "    - for문 돌면서 1글자, 2글자,,,,len(s)만큼 계속 확인해야 하나?\n",
    "    \n",
    "😱*TIME LIMIT*😱"
   ]
  },
  {
   "cell_type": "code",
   "execution_count": 49,
   "metadata": {
    "ExecuteTime": {
     "end_time": "2020-12-04T08:53:56.487255Z",
     "start_time": "2020-12-04T08:53:56.480658Z"
    }
   },
   "outputs": [],
   "source": [
    "class Solution(object):\n",
    "    def longestPalindrome(self, s):\n",
    "        \"\"\"\n",
    "        :type s: str\n",
    "        :rtype: str\n",
    "        \"\"\"\n",
    "        palind = []\n",
    "        \n",
    "        if len(s) == 1:\n",
    "            return s\n",
    "        \n",
    "        start_idx = 0\n",
    "        \n",
    "        while start_idx < len(s):\n",
    "            \n",
    "            for i in range(start_idx+1, len(s)+1):\n",
    "                text = s[start_idx:i]\n",
    "                reverse = text[::-1]\n",
    "                \n",
    "                if text.lower() == reverse.lower():\n",
    "                    palind.append(text)\n",
    "                \n",
    "            start_idx += 1\n",
    "                \n",
    "        palind.sort(key = lambda x : len(x), reverse = True)\n",
    "        \n",
    "        return palind[0]"
   ]
  },
  {
   "cell_type": "code",
   "execution_count": 50,
   "metadata": {
    "ExecuteTime": {
     "end_time": "2020-12-04T08:53:57.455912Z",
     "start_time": "2020-12-04T08:53:57.451343Z"
    }
   },
   "outputs": [
    {
     "data": {
      "text/plain": [
       "'bbabb'"
      ]
     },
     "execution_count": 50,
     "metadata": {},
     "output_type": "execute_result"
    }
   ],
   "source": [
    "s = \"bbabbccd\"\n",
    "# \"SQQSYYSQQS\"\n",
    "# \"bb\"\n",
    "Solution.longestPalindrome(Solution, s)"
   ]
  },
  {
   "cell_type": "markdown",
   "metadata": {},
   "source": [
    "# Solution : `중앙`을 중심으로 확장하는 풀이\n",
    "\n",
    "- 여러 개의 입력 문자열이 있을 때 서로 공통된 가장 긴 부분 문자열을 찾는 문제\n",
    "    - 다이나믹 프로그래밍으로 풀 수 있는 전형적인 문제\n",
    "- But, 좀 더 직관적이고 성능이 좋은, `투 포인터`가 중앙을 중심으로 확장하는 형태로 풀이\n",
    "    - 2칸, 3칸..으로 구성된 투 포인터가 슬라이딩 윈도우처럼 계속 앞으로 전진\n",
    "    - `슬라이딩 윈도우` : 투 포인터와 비슷하지만, 이와 구분하기 위해 일반적으로 고정 사이즈 윈도우를 사용하는 경우를 슬라이딩 윈도우로 따로 구분하기도 함\n",
    "    - 팰린드롬은 [bb] 처럼 `짝수`일 때도 있고, [bab]처럼 `홀수`일 때도 있다.\n",
    "<br><br>\n",
    "- 속도 향상을 위한 `예외처리`\n",
    "    - 파이썬의 문자열 슬라이싱은 매우 빠르기 때문에 s == s[::-1]로 필터링하는 것만으로도 전체적인 풀이 속도 향상에 매우 큰 도움\n",
    "<br><br>\n",
    "- 주의 : 슬라이싱은 n-1만큼 출력됨\n",
    "\n",
    "*** \n",
    "- **`expand()`** : left, right idx가 같은 문자열일 경우, 윈도우 크기를 `좌우로` 1씩 넓혀 가며 팰린드롬 여부 확인하는 함수\n",
    "    - left가 0보다 크고 right가 글자수보다 작거나 같고 s[왼쪽] == s[오른쪽]이면 반복\n",
    "    - 증앙을 중심으로 확장: `s[left] == s[right]` 의미는 짝수 expand는 bb, 홀수 expand는 bab를 찾기 위함.\n",
    "    - 슬라이싱은 n-1위치 출력, 인덱스는 n 위치 출력\n",
    "        - --> while문 안에선 인덱스로 접근해서 str 비교하고, return 할 땐 슬라이싱이기 때문에 \n",
    "        - while에서 left -= 1 했으면 slicing 에선 left += 1\n",
    "        - right 는 굳이 -1 안해줘도 됨 - 어차피 slicing 은 right -1 까지만 출력하니까\n",
    "    \n",
    "cf. [issue](https://github.com/onlybooks/algorithm-interview/issues/38)"
   ]
  },
  {
   "cell_type": "code",
   "execution_count": 69,
   "metadata": {
    "ExecuteTime": {
     "end_time": "2020-12-04T10:05:18.504041Z",
     "start_time": "2020-12-04T10:05:18.497368Z"
    }
   },
   "outputs": [],
   "source": [
    "class Solution(object):\n",
    "    def longestPalindrome(self, s):\n",
    "        \"\"\"\n",
    "        :type s: str\n",
    "        :rtype: str\n",
    "        \"\"\"\n",
    "        def expand(left, right):\n",
    "            while left >= 0 and right<len(s) and s[left] == s[right]:\n",
    "                left -= 1\n",
    "                right += 1\n",
    "            return s[left+1 : right]\n",
    "        \n",
    "        # 예외 처리\n",
    "        if len(s) < 2 or s == s[::-1]:\n",
    "            return s\n",
    "        \n",
    "        result = ''\n",
    "        \n",
    "        for i in range(len(s)-1):\n",
    "            # max (key = len) : 길이가 가장 긴 것을 찾도록 key 값에 Len !!\n",
    "            result = max(result, expand(i, i+1), expand(i, i+2), key = len)\n",
    "            \n",
    "        return result\n",
    "        "
   ]
  },
  {
   "cell_type": "code",
   "execution_count": 70,
   "metadata": {
    "ExecuteTime": {
     "end_time": "2020-12-04T10:05:18.876023Z",
     "start_time": "2020-12-04T10:05:18.871801Z"
    }
   },
   "outputs": [
    {
     "data": {
      "text/plain": [
       "'bab'"
      ]
     },
     "execution_count": 70,
     "metadata": {},
     "output_type": "execute_result"
    }
   ],
   "source": [
    "s = \"babad\"\n",
    "# \"SQQSYYSQQS\"\n",
    "# \"bb\"\n",
    "Solution.longestPalindrome(Solution, s)"
   ]
  },
  {
   "cell_type": "code",
   "execution_count": null,
   "metadata": {},
   "outputs": [],
   "source": []
  }
 ],
 "metadata": {
  "hide_input": false,
  "kernelspec": {
   "display_name": "Python 3",
   "language": "python",
   "name": "python3"
  },
  "language_info": {
   "codemirror_mode": {
    "name": "ipython",
    "version": 3
   },
   "file_extension": ".py",
   "mimetype": "text/x-python",
   "name": "python",
   "nbconvert_exporter": "python",
   "pygments_lexer": "ipython3",
   "version": "3.7.4"
  },
  "toc": {
   "base_numbering": 1,
   "nav_menu": {},
   "number_sections": true,
   "sideBar": true,
   "skip_h1_title": false,
   "title_cell": "Table of Contents",
   "title_sidebar": "Contents",
   "toc_cell": false,
   "toc_position": {},
   "toc_section_display": true,
   "toc_window_display": false
  },
  "varInspector": {
   "cols": {
    "lenName": 16,
    "lenType": 16,
    "lenVar": 40
   },
   "kernels_config": {
    "python": {
     "delete_cmd_postfix": "",
     "delete_cmd_prefix": "del ",
     "library": "var_list.py",
     "varRefreshCmd": "print(var_dic_list())"
    },
    "r": {
     "delete_cmd_postfix": ") ",
     "delete_cmd_prefix": "rm(",
     "library": "var_list.r",
     "varRefreshCmd": "cat(var_dic_list()) "
    }
   },
   "types_to_exclude": [
    "module",
    "function",
    "builtin_function_or_method",
    "instance",
    "_Feature"
   ],
   "window_display": false
  }
 },
 "nbformat": 4,
 "nbformat_minor": 2
}
