{
 "cells": [
  {
   "cell_type": "markdown",
   "metadata": {},
   "source": [
    "# 두 수의 덧셈\n",
    "\n",
    "[leetcode 2](https://leetcode.com/problems/add-two-numbers/)\n",
    "You are given two non-empty linked lists representing two non-negative integers. The digits are stored in reverse order, and each of their nodes contains a single digit. Add the two numbers and return the sum as a linked list.\n",
    "\n",
    "You may assume the two numbers do not contain any leading zero, except the number 0 itself.\n",
    "\n",
    "![ex](https://assets.leetcode.com/uploads/2020/10/02/addtwonumber1.jpg)"
   ]
  },
  {
   "cell_type": "markdown",
   "metadata": {},
   "source": [
    "***\n",
    "- l1, l2 의 0번째 노드끼리, 1번째 노드 끼리 더해주기\n",
    "- 합이 10이 넘어가면 다음 노드에 반영하기\n",
    "    - tmp 변수 사용\n",
    "    - while 문에서 tmp 변수도 체크해야 해!\n",
    "- **return type 도 LinkedList**\n",
    "    - 시작점을 기억하는 `root` 변수 "
   ]
  },
  {
   "cell_type": "code",
   "execution_count": null,
   "metadata": {},
   "outputs": [],
   "source": [
    "# Definition for singly-linked list.\n",
    "# class ListNode(object):\n",
    "#     def __init__(self, val=0, next=None):\n",
    "#         self.val = val\n",
    "#         self.next = next\n",
    "class Solution(object):\n",
    "    def addTwoNumbers(self, l1, l2):\n",
    "\n",
    "        root = curr = ListNode(0)\n",
    "        tmp = 0\n",
    "        \n",
    "        while l1 and l2 :\n",
    "            sum_value = tmp + l1.val + l2.val\n",
    "\n",
    "            \n",
    "            if sum_value >=10:\n",
    "                curr.next = ListNode(sum_value % 10)\n",
    "                tmp = 1\n",
    "            else:\n",
    "                curr.next = ListNode(sum_value)\n",
    "                \n",
    "            \n",
    "            curr = curr.next\n",
    "            l1 = l1.next\n",
    "            l2 = l2.next\n",
    "        \n",
    "        # print(\"end while - root: \", root)\n",
    "        \n",
    "        ## 이 부분에서도 tmp 변수 고려 필요!!\n",
    "        if l1:\n",
    "            curr.next = l1\n",
    "        elif l2:\n",
    "            curr.next = l2\n",
    "            \n",
    "        return root.next\n",
    "                \n",
    "            \n",
    "            \n",
    "  \n",
    "        "
   ]
  },
  {
   "cell_type": "code",
   "execution_count": 3,
   "metadata": {
    "ExecuteTime": {
     "end_time": "2020-12-23T06:42:01.642570Z",
     "start_time": "2020-12-23T06:42:01.638392Z"
    }
   },
   "outputs": [
    {
     "data": {
      "text/plain": [
       "3"
      ]
     },
     "execution_count": 3,
     "metadata": {},
     "output_type": "execute_result"
    }
   ],
   "source": [
    "# Definition for singly-linked list.\n",
    "# class ListNode(object):\n",
    "#     def __init__(self, val=0, next=None):\n",
    "#         self.val = val\n",
    "#         self.next = next\n",
    "class Solution(object):\n",
    "    def addTwoNumbers(self, l1, l2):\n",
    "\n",
    "        root = curr = ListNode(0)\n",
    "        tmp = 0\n",
    "        \n",
    "        # tmp : 앞 자리수에서 10 이상인 경우 1자리수가 추가될 수 있기 때문에\n",
    "        # while 문 조건에 포함시켜야해!!\n",
    "        while l1 or l2 or tmp:\n",
    "            sum_value = 0\n",
    "            if l1:\n",
    "                sum_value += l1.val\n",
    "                l1 = l1.next\n",
    "            if l2:\n",
    "                sum_value += l2.val\n",
    "                l2 = l2.next\n",
    "\n",
    "            tmp, value = divmod(tmp + sum_value, 10)\n",
    "            curr.next = ListNode(value)\n",
    "            curr = curr.next\n",
    "        \n",
    "        # print(\"end while - root: \", root)\n",
    "\n",
    "        # 시작점을 기억하는 root 노드!!   \n",
    "        return root.next\n",
    "                \n",
    "            \n",
    "            \n",
    "  \n",
    "        "
   ]
  },
  {
   "cell_type": "code",
   "execution_count": null,
   "metadata": {},
   "outputs": [],
   "source": []
  }
 ],
 "metadata": {
  "hide_input": false,
  "kernelspec": {
   "display_name": "Python 3",
   "language": "python",
   "name": "python3"
  },
  "language_info": {
   "codemirror_mode": {
    "name": "ipython",
    "version": 3
   },
   "file_extension": ".py",
   "mimetype": "text/x-python",
   "name": "python",
   "nbconvert_exporter": "python",
   "pygments_lexer": "ipython3",
   "version": "3.7.4"
  },
  "toc": {
   "base_numbering": 1,
   "nav_menu": {},
   "number_sections": true,
   "sideBar": true,
   "skip_h1_title": false,
   "title_cell": "Table of Contents",
   "title_sidebar": "Contents",
   "toc_cell": false,
   "toc_position": {},
   "toc_section_display": true,
   "toc_window_display": false
  },
  "varInspector": {
   "cols": {
    "lenName": 16,
    "lenType": 16,
    "lenVar": 40
   },
   "kernels_config": {
    "python": {
     "delete_cmd_postfix": "",
     "delete_cmd_prefix": "del ",
     "library": "var_list.py",
     "varRefreshCmd": "print(var_dic_list())"
    },
    "r": {
     "delete_cmd_postfix": ") ",
     "delete_cmd_prefix": "rm(",
     "library": "var_list.r",
     "varRefreshCmd": "cat(var_dic_list()) "
    }
   },
   "types_to_exclude": [
    "module",
    "function",
    "builtin_function_or_method",
    "instance",
    "_Feature"
   ],
   "window_display": false
  }
 },
 "nbformat": 4,
 "nbformat_minor": 2
}
