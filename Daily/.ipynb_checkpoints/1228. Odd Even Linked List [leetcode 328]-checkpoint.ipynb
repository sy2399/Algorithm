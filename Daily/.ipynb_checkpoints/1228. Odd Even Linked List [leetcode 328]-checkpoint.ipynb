{
 "cells": [
  {
   "cell_type": "markdown",
   "metadata": {},
   "source": [
    "# 홀짝 연결 리스트\n",
    "\n",
    "[leetcode 328](https://leetcode.com/problems/odd-even-linked-list/)\n",
    "\n",
    "Given a singly linked list, group all odd nodes together followed by the even nodes. Please note here we are talking about the node number and not the value in the nodes.\n",
    "\n",
    "You should try to do it in place. The program should run in O(1) space complexity and O(nodes) time complexity.\n"
   ]
  },
  {
   "cell_type": "markdown",
   "metadata": {},
   "source": [
    "***\n",
    "- 홀수번째 Node는 next.next 노드를 가리키도록\n",
    "- 마지막 홀수번째 Node는 next.next 가 없기에 짝수번째 노드를 가리키도록"
   ]
  },
  {
   "cell_type": "code",
   "execution_count": 1,
   "metadata": {
    "ExecuteTime": {
     "end_time": "2020-12-28T05:46:30.732463Z",
     "start_time": "2020-12-28T05:46:30.728687Z"
    }
   },
   "outputs": [],
   "source": [
    "class ListNode(object):\n",
    "    def __init__(self, val=0, next=None):\n",
    "        self.val = val\n",
    "        self.next = next"
   ]
  },
  {
   "cell_type": "code",
   "execution_count": 159,
   "metadata": {
    "ExecuteTime": {
     "end_time": "2020-12-28T06:51:36.715177Z",
     "start_time": "2020-12-28T06:51:36.708567Z"
    }
   },
   "outputs": [],
   "source": [
    "class Solution(object):\n",
    "    def oddEvenList(self, head):\n",
    "        \"\"\"\n",
    "        :type head: ListNode\n",
    "        :rtype: ListNode\n",
    "        \"\"\"\n",
    "        root_odd = ListNode()\n",
    "        root_odd.next = head\n",
    "        \n",
    "        root_even = even = ListNode()\n",
    "        \n",
    "        even = head.next\n",
    "        root_even.next = even\n",
    "        \n",
    "        # 홀수 Node 연결\n",
    "        while head and head.next:\n",
    "            \n",
    "            head.next = head.next.next\n",
    "            if even and even.next:\n",
    "                even.next = even.next.next\n",
    "                \n",
    "            # node 이동\n",
    "            if head.next:\n",
    "                head = head.next\n",
    "            if even.next:\n",
    "                even = even.next\n",
    "                \n",
    "        if head:\n",
    "            head.next = root_even.next\n",
    "        else:\n",
    "            head = root_even.next\n",
    "            \n",
    "         \n",
    "        return root_odd.next"
   ]
  },
  {
   "cell_type": "code",
   "execution_count": 160,
   "metadata": {
    "ExecuteTime": {
     "end_time": "2020-12-28T06:51:37.192769Z",
     "start_time": "2020-12-28T06:51:37.186943Z"
    }
   },
   "outputs": [
    {
     "name": "stdout",
     "output_type": "stream",
     "text": [
      "1\n",
      "3\n",
      "5\n",
      "7\n",
      "2\n",
      "4\n",
      "6\n",
      "8\n"
     ]
    }
   ],
   "source": [
    "input_data = [1,2,3,4,5,6,7,8]\n",
    "root = head = ListNode(1)\n",
    "\n",
    "for i in input_data[1:]:\n",
    "    head.next = ListNode(i)\n",
    "    head = head.next\n",
    "    \n",
    "result = Solution.oddEvenList(Solution, root)\n",
    "\n",
    "while result:\n",
    "    print(result.val)\n",
    "    result = result.next"
   ]
  },
  {
   "cell_type": "markdown",
   "metadata": {},
   "source": [
    "# Solution : 반복 구조로 홀짝 노드 처리\n",
    "- 홀,짝 노드를 구성한 다음 홀수 노드의 마지막을 짝수 노드의 처음과 이어주기"
   ]
  },
  {
   "cell_type": "code",
   "execution_count": null,
   "metadata": {},
   "outputs": [],
   "source": [
    "class Solution(object):\n",
    "    def oddEvenList(self, head):\n",
    "        \"\"\"\n",
    "        :type head: ListNode\n",
    "        :rtype: ListNode\n",
    "        \"\"\"\n",
    "        if head is None:\n",
    "            return None\n",
    "        \n",
    "        odd = head\n",
    "        even = head.next\n",
    "        even_head = head.next\n",
    "        \n",
    "        while even and even.next:\n",
    "            odd.next, even_next = odd.next.next, even.next.next\n",
    "            odd, even = odd.next, even.next\n",
    "            \n",
    "        odd.next = even_head\n",
    "        return head\n",
    "            "
   ]
  }
 ],
 "metadata": {
  "hide_input": false,
  "kernelspec": {
   "display_name": "Python 3",
   "language": "python",
   "name": "python3"
  },
  "language_info": {
   "codemirror_mode": {
    "name": "ipython",
    "version": 3
   },
   "file_extension": ".py",
   "mimetype": "text/x-python",
   "name": "python",
   "nbconvert_exporter": "python",
   "pygments_lexer": "ipython3",
   "version": "3.7.4"
  },
  "toc": {
   "base_numbering": 1,
   "nav_menu": {},
   "number_sections": true,
   "sideBar": true,
   "skip_h1_title": false,
   "title_cell": "Table of Contents",
   "title_sidebar": "Contents",
   "toc_cell": false,
   "toc_position": {},
   "toc_section_display": true,
   "toc_window_display": false
  },
  "varInspector": {
   "cols": {
    "lenName": 16,
    "lenType": 16,
    "lenVar": 40
   },
   "kernels_config": {
    "python": {
     "delete_cmd_postfix": "",
     "delete_cmd_prefix": "del ",
     "library": "var_list.py",
     "varRefreshCmd": "print(var_dic_list())"
    },
    "r": {
     "delete_cmd_postfix": ") ",
     "delete_cmd_prefix": "rm(",
     "library": "var_list.r",
     "varRefreshCmd": "cat(var_dic_list()) "
    }
   },
   "types_to_exclude": [
    "module",
    "function",
    "builtin_function_or_method",
    "instance",
    "_Feature"
   ],
   "window_display": false
  }
 },
 "nbformat": 4,
 "nbformat_minor": 2
}
