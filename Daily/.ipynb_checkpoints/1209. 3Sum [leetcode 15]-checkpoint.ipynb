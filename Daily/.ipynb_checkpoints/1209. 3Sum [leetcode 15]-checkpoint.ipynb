{
 "cells": [
  {
   "cell_type": "markdown",
   "metadata": {},
   "source": [
    "# 세 수의 합\n",
    "\n",
    "[leetcode 15](https://leetcode.com/problems/3sum/)\n",
    "\n",
    "Given an array nums of n integers, are there elements a, b, c in nums such that a + b + c = 0? Find all unique triplets in the array which gives the sum of zero.\n",
    "\n",
    "Notice that the solution set must not contain duplicate triplets.\n",
    "\n",
    "*Constraints:*\n",
    "- 0 <= nums.length <= 3000\n",
    "- -10^5 <= nums[i] <= 105"
   ]
  },
  {
   "cell_type": "markdown",
   "metadata": {},
   "source": [
    "***\n",
    "😱TIME LIMIT😱   \n",
    "- 합이 0 이되는 세 개의 수 조합 모두 찾기"
   ]
  },
  {
   "cell_type": "code",
   "execution_count": 9,
   "metadata": {
    "ExecuteTime": {
     "end_time": "2020-12-09T08:01:08.028805Z",
     "start_time": "2020-12-09T08:01:08.023971Z"
    }
   },
   "outputs": [],
   "source": [
    "from itertools import combinations\n",
    "\n",
    "class Solution(object):\n",
    "    def threeSum(self, nums):\n",
    "        \"\"\"\n",
    "        :type nums: List[int]\n",
    "        :rtype: List[List[int]]\n",
    "        \"\"\"\n",
    "        answer = []\n",
    "        combis = list(combinations(nums, 3))\n",
    "        \n",
    "        for combi in combis:\n",
    "            combi = sorted(combi)\n",
    "            if combi not in answer and sum(combi) == 0:\n",
    "                answer.append(list(combi))\n",
    "        return answer\n",
    "                "
   ]
  },
  {
   "cell_type": "code",
   "execution_count": 11,
   "metadata": {
    "ExecuteTime": {
     "end_time": "2020-12-09T08:01:23.582733Z",
     "start_time": "2020-12-09T08:01:23.578511Z"
    }
   },
   "outputs": [
    {
     "data": {
      "text/plain": [
       "[]"
      ]
     },
     "execution_count": 11,
     "metadata": {},
     "output_type": "execute_result"
    }
   ],
   "source": [
    "nums = [0]\n",
    "Solution.threeSum(Solution, nums)"
   ]
  },
  {
   "cell_type": "markdown",
   "metadata": {},
   "source": [
    "***\n",
    "- 세 개의 수 조합\n",
    "    - 1) 0 포함\n",
    "    - 2) 0 포함 X\n",
    "        - 음수의 합, 양수의 합 체크\n",
    "- 먼저 Nums sorting?\n",
    "    - CASE1 : **`음수 1개, 0이상의 정수 2개`**\n",
    "        - -15 + [(0, 15), (1, 14), (2, 13),,,,,(7, 8)]\n",
    "        - -14 + [(0, 14), ,,,(7, 7)]\n",
    "        - nums sorting 후 제일 작은 수 기준으로 0 이 되는 수를 만들 수 있는 조합이 있는지 찾기\n",
    "            - [stackoverflow](https://stackoverflow.com/questions/6159313/can-python-test-the-membership-of-multiple-values-in-a-list) chech if list contains multiple values\n",
    "            - set(['a', 'b']).issubset(set(['a', 'b', 'foo', 'bar']))\n",
    "    - CASE2 : **`음수 2개, 양수 1개`**\n",
    "        - [-1, -1, 2]\n",
    "        - [-7, -7, 14(max)], [-7, -6, 13]...\n",
    "        - 주어진 수의 최대값을 확인해야 해 --> [-15, -15, 30], [-15, -14, 29]\n",
    "- 예외 too many..\n",
    "- `투 포인터` 방식 사용해보기"
   ]
  },
  {
   "cell_type": "code",
   "execution_count": 50,
   "metadata": {
    "ExecuteTime": {
     "end_time": "2020-12-09T09:14:35.276833Z",
     "start_time": "2020-12-09T09:14:35.269498Z"
    },
    "code_folding": [
     1
    ]
   },
   "outputs": [],
   "source": [
    "class Solution(object):\n",
    "    def threeSum(self, nums):\n",
    "        \"\"\"\n",
    "        :type nums: List[int]\n",
    "        :rtype: List[List[int]]\n",
    "        \"\"\"\n",
    "        answer = []\n",
    "        uniq_num = list(set(nums))\n",
    "        uniq_num.sort()\n",
    "        \n",
    "        for n in uniq_num:\n",
    "            # n = -15\n",
    "            print(\"\\n\", n)\n",
    "            \n",
    "            # CASE 1\n",
    "            \n",
    "            for i in range(0, abs(n)//2):\n",
    "\n",
    "                # 여기서 찾고자 하는 건 (0, 15), (1, 14)...가 nums에 있는지\n",
    "                if set([i, abs(n)-i]).issubset(nums):\n",
    "                    print([i, abs(n)-i])\n",
    "\n",
    "                    item = sorted([n, i, n-i])\n",
    "                    if item not in answer:\n",
    "                        answer.append(item)\n",
    "                        \n",
    "            if abs(n) <= max(nums)//2 :\n",
    "                print(\"**\", n)\n",
    "                \n",
    "            elif n == 0:\n",
    "                print(\"Bb\")\n",
    "        print(answer)\n",
    "      "
   ]
  },
  {
   "cell_type": "markdown",
   "metadata": {},
   "source": [
    "# Solution1 : 브루트 포스로 계산 \n",
    "- 앞, 뒤로 같은 값이 있을 경우 이를 쉽게 처리하기 위해 먼저 sort함수로 정렬\n",
    "    - python의 sort 함수 :팀소트 --> **O(nlogn)**\n",
    "- i, j, k 세개의 포인터가 계속 이동하면서 i+j+k=0 찾아내는 브루트 포스 방식"
   ]
  },
  {
   "cell_type": "code",
   "execution_count": 52,
   "metadata": {
    "ExecuteTime": {
     "end_time": "2020-12-09T09:24:16.190898Z",
     "start_time": "2020-12-09T09:24:16.183433Z"
    }
   },
   "outputs": [],
   "source": [
    "class Solution:\n",
    "    def threeSum(self, nums):\n",
    "        results = []\n",
    "        nums.sort()\n",
    "\n",
    "        # 브루트 포스 n^3 반복\n",
    "        for i in range(len(nums) - 2):\n",
    "            # 중복된 값 건너뛰기\n",
    "            if i > 0 and nums[i] == nums[i - 1]:\n",
    "                continue\n",
    "            for j in range(i + 1, len(nums) - 1):\n",
    "                if j > i + 1 and nums[j] == nums[j - 1]:\n",
    "                    continue\n",
    "                for k in range(j + 1, len(nums)):\n",
    "                    if k > j + 1 and nums[k] == nums[k - 1]:\n",
    "                        continue\n",
    "                    if nums[i] + nums[j] + nums[k] == 0:\n",
    "                        results.append([nums[i], nums[j], nums[k]])\n",
    "\n",
    "        return results"
   ]
  },
  {
   "cell_type": "markdown",
   "metadata": {},
   "source": [
    "# Solution2 : 투 포인터\n",
    "- solution1과 다르게, i의 다음 지점과 마지막 지점을 left, right 로 설정하고 간격을 좁혀가며 sum을 계산"
   ]
  },
  {
   "cell_type": "code",
   "execution_count": 53,
   "metadata": {
    "ExecuteTime": {
     "end_time": "2020-12-09T09:25:46.241446Z",
     "start_time": "2020-12-09T09:25:46.233502Z"
    }
   },
   "outputs": [],
   "source": [
    "class Solution:\n",
    "    def threeSum(self, nums):\n",
    "        results = []\n",
    "        nums.sort()\n",
    "\n",
    "        for i in range(len(nums) - 2):\n",
    "            # 중복된 값 건너뛰기\n",
    "            if i > 0 and nums[i] == nums[i - 1]:\n",
    "                continue\n",
    "\n",
    "            # 간격을 좁혀가며 합 `sum` 계산\n",
    "            left, right = i + 1, len(nums) - 1\n",
    "            while left < right:\n",
    "                sum = nums[i] + nums[left] + nums[right]\n",
    "                if sum < 0:\n",
    "                    left += 1\n",
    "                elif sum > 0:\n",
    "                    right -= 1\n",
    "                else:\n",
    "                    # `sum = 0`인 경우이므로 정답 및 스킵 처리\n",
    "                    results.append([nums[i], nums[left], nums[right]])\n",
    "\n",
    "                    while left < right and nums[left] == nums[left + 1]:\n",
    "                        left += 1\n",
    "                    while left < right and nums[right] == nums[right - 1]:\n",
    "                        right -= 1\n",
    "                    left += 1\n",
    "                    right -= 1\n",
    "\n",
    "        return results"
   ]
  },
  {
   "cell_type": "code",
   "execution_count": null,
   "metadata": {},
   "outputs": [],
   "source": []
  }
 ],
 "metadata": {
  "hide_input": false,
  "kernelspec": {
   "display_name": "Python 3",
   "language": "python",
   "name": "python3"
  },
  "language_info": {
   "codemirror_mode": {
    "name": "ipython",
    "version": 3
   },
   "file_extension": ".py",
   "mimetype": "text/x-python",
   "name": "python",
   "nbconvert_exporter": "python",
   "pygments_lexer": "ipython3",
   "version": "3.7.4"
  },
  "toc": {
   "base_numbering": 1,
   "nav_menu": {},
   "number_sections": true,
   "sideBar": true,
   "skip_h1_title": false,
   "title_cell": "Table of Contents",
   "title_sidebar": "Contents",
   "toc_cell": false,
   "toc_position": {},
   "toc_section_display": true,
   "toc_window_display": false
  },
  "varInspector": {
   "cols": {
    "lenName": 16,
    "lenType": 16,
    "lenVar": 40
   },
   "kernels_config": {
    "python": {
     "delete_cmd_postfix": "",
     "delete_cmd_prefix": "del ",
     "library": "var_list.py",
     "varRefreshCmd": "print(var_dic_list())"
    },
    "r": {
     "delete_cmd_postfix": ") ",
     "delete_cmd_prefix": "rm(",
     "library": "var_list.r",
     "varRefreshCmd": "cat(var_dic_list()) "
    }
   },
   "types_to_exclude": [
    "module",
    "function",
    "builtin_function_or_method",
    "instance",
    "_Feature"
   ],
   "window_display": false
  }
 },
 "nbformat": 4,
 "nbformat_minor": 2
}
