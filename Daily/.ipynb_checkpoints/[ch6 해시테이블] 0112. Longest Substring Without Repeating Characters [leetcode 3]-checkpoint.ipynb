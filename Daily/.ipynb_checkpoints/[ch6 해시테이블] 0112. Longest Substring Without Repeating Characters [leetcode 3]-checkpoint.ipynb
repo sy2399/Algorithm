{
 "cells": [
  {
   "cell_type": "markdown",
   "metadata": {},
   "source": [
    "# 중복 문자 없는 가장 긴 부분 문자열 [ch6. 해시테이블]\n",
    "\n",
    "[leetcode 3](https://leetcode.com/problems/longest-substring-without-repeating-characters/)\n",
    "\n",
    "Given a string s, find the length of the longest substring without repeating characters.\n",
    "\n",
    "Constraints:\n",
    "- 0 <= s.length <= 5 * 104\n",
    "- s consists of English letters, digits, symbols and spaces.\n"
   ]
  },
  {
   "cell_type": "markdown",
   "metadata": {},
   "source": [
    "***\n",
    "1. 일단 char 별 카운트를 센다음, 1번씩만 등장하면 그냥 return len(s)\n",
    "2. 어떻게 hash table을 쓸지?\n",
    "3. 슬라이딩 윈도우, start_idx & end_idx 사용해서\n",
    "    - a, ab, abc --> bca --> cab --> abc --> "
   ]
  },
  {
   "cell_type": "code",
   "execution_count": 69,
   "metadata": {
    "ExecuteTime": {
     "end_time": "2021-01-12T07:27:03.858641Z",
     "start_time": "2021-01-12T07:27:03.848809Z"
    }
   },
   "outputs": [],
   "source": [
    "import collections\n",
    "\n",
    "class Solution(object):\n",
    "    def lengthOfLongestSubstring(self, s):\n",
    "        \"\"\"\n",
    "        :type s: str\n",
    "        :rtype: int\n",
    "        \"\"\"\n",
    "        counter = collections.Counter(s)\n",
    "#         print(counter)\n",
    "        \n",
    "        if len(s) == 0:\n",
    "            return 0\n",
    "        if len(counter.keys()) == sum(counter.values()):\n",
    "            return len(s)\n",
    "        \n",
    "        s_idx, e_idx = 0, 1\n",
    "        tmp_str = s[s_idx:e_idx]\n",
    "        max_len = len(tmp_str)\n",
    "\n",
    "        for char in s[1:]:\n",
    "            print(\"\\n###\", char)\n",
    "            \n",
    "            if char not in tmp_str:\n",
    "                e_idx += 1\n",
    "                tmp_str = s[s_idx:e_idx]\n",
    "                max_len = max(max_len, len(tmp_str))\n",
    "                \n",
    "            else:\n",
    "                max_len = max(max_len, len(tmp_str))\n",
    "                \n",
    "                # tmp_str에서 중복된 문자의 위치만큼 이동\n",
    "                print(\"$$$$ 중복!!\",char, tmp_str, s_idx, e_idx)\n",
    "                s_idx += (1+tmp_str.index(char))\n",
    "                \n",
    "                tmp_str = s[s_idx:e_idx] + char\n",
    "                print(\"중복 처리\", tmp_str)\n",
    "                e_idx += 1\n",
    "                \n",
    "            print(\"######\", tmp_str)\n",
    "            \n",
    "        \n",
    "        return max_len\n",
    "        "
   ]
  },
  {
   "cell_type": "code",
   "execution_count": 71,
   "metadata": {
    "ExecuteTime": {
     "end_time": "2021-01-12T07:27:25.707484Z",
     "start_time": "2021-01-12T07:27:25.697209Z"
    }
   },
   "outputs": [
    {
     "name": "stdout",
     "output_type": "stream",
     "text": [
      "b\n",
      "\n",
      "### b\n",
      "$$$$ 중복!! b b 0 1\n",
      "중복 처리 b\n",
      "###### b\n",
      "\n",
      "### b\n",
      "$$$$ 중복!! b b 1 2\n",
      "중복 처리 b\n",
      "###### b\n",
      "\n",
      "### b\n",
      "$$$$ 중복!! b b 2 3\n",
      "중복 처리 b\n",
      "###### b\n",
      "defaultdict(<class 'list'>, {1: ['b', 'b', 'b']})\n"
     ]
    },
    {
     "data": {
      "text/plain": [
       "1"
      ]
     },
     "execution_count": 71,
     "metadata": {},
     "output_type": "execute_result"
    }
   ],
   "source": [
    "s = \"bbbb\"\n",
    "Solution.lengthOfLongestSubstring(Solution, s)"
   ]
  },
  {
   "cell_type": "markdown",
   "metadata": {},
   "source": [
    "# Solution1. `슬라이딩 윈도우`와 `투 포인터`로 사이즈 조절\n",
    "- 슬라이딩 윈도우로 한칸씩 우측으로 이동하면서 윈도우 내에 모든 문자가 중복이 없도록 투 포인터로 윈도우 사이즈를 조절\n",
    "- 투 포인터로 문제를 풀이하되, 포인터 2개 모두 왼쪽에서 출발\n",
    "    - 우측 포인터는 계속 오른쪽으로 확장\n",
    "    - 만약 이미 등장한 문자가 나오면, 왼쪽 포인터 이동"
   ]
  },
  {
   "cell_type": "code",
   "execution_count": 72,
   "metadata": {
    "ExecuteTime": {
     "end_time": "2021-01-12T07:32:42.015721Z",
     "start_time": "2021-01-12T07:32:42.010576Z"
    }
   },
   "outputs": [],
   "source": [
    "class Solution(object):\n",
    "    def lengthOfLongestSubstring(self, s):\n",
    "        used = {} # 이미 등장한 문자의 index 저장\n",
    "        max_length = start = 0\n",
    "        \n",
    "        # 투 포인터 : 왼쪽 = start, 오른쪽 = index\n",
    "        for index, char in enumerate(s):\n",
    "            # 이미 등장한 문자라면 start 위치 변경\n",
    "            if char in used and start <= used[char]:\n",
    "                start = used[char] + 1\n",
    "            else:\n",
    "                max_length = max(max_length, index-start+1)\n",
    "                \n",
    "            used[char] = index\n",
    "            \n",
    "        return max_length\n",
    "            "
   ]
  },
  {
   "cell_type": "code",
   "execution_count": null,
   "metadata": {},
   "outputs": [],
   "source": []
  }
 ],
 "metadata": {
  "hide_input": false,
  "kernelspec": {
   "display_name": "Python 3",
   "language": "python",
   "name": "python3"
  },
  "language_info": {
   "codemirror_mode": {
    "name": "ipython",
    "version": 3
   },
   "file_extension": ".py",
   "mimetype": "text/x-python",
   "name": "python",
   "nbconvert_exporter": "python",
   "pygments_lexer": "ipython3",
   "version": "3.7.4"
  },
  "toc": {
   "base_numbering": 1,
   "nav_menu": {},
   "number_sections": true,
   "sideBar": true,
   "skip_h1_title": false,
   "title_cell": "Table of Contents",
   "title_sidebar": "Contents",
   "toc_cell": false,
   "toc_position": {},
   "toc_section_display": true,
   "toc_window_display": false
  },
  "varInspector": {
   "cols": {
    "lenName": 16,
    "lenType": 16,
    "lenVar": 40
   },
   "kernels_config": {
    "python": {
     "delete_cmd_postfix": "",
     "delete_cmd_prefix": "del ",
     "library": "var_list.py",
     "varRefreshCmd": "print(var_dic_list())"
    },
    "r": {
     "delete_cmd_postfix": ") ",
     "delete_cmd_prefix": "rm(",
     "library": "var_list.r",
     "varRefreshCmd": "cat(var_dic_list()) "
    }
   },
   "types_to_exclude": [
    "module",
    "function",
    "builtin_function_or_method",
    "instance",
    "_Feature"
   ],
   "window_display": false
  }
 },
 "nbformat": 4,
 "nbformat_minor": 2
}
