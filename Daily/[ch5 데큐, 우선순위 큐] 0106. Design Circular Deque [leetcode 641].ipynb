{
 "cells": [
  {
   "cell_type": "markdown",
   "metadata": {},
   "source": [
    "Deque : Double-Ended-Queue. 글자 그대로 양쪽 끝은 모두 추출할 수 있는, 큐를 일반화한 형태의 추상 자료형\n",
    "- 스택과 큐의 특징을 모두 갖고 있다\n",
    "- 배열, 연결리스트로 구현 가능\n",
    "- 이중 연결 리스트로 구현시, head와 tail 이라는 이름의 두 포인터를 갖고 있다가 새로운 아이템이 추가될 때마다 앞쪽 또는 뒤쪽으로 연결시켜주기만 하면 된다\n",
    "***"
   ]
  },
  {
   "cell_type": "markdown",
   "metadata": {},
   "source": [
    "# 원형 데크 디자인\n",
    "\n",
    "Design your implementation of the circular double-ended queue (deque).\n",
    "\n",
    "Your implementation should support following operations:\n",
    "\n",
    "- MyCircularDeque(k): Constructor, set the size of the deque to be k.\n",
    "- insertFront(): Adds an item at the front of Deque. Return true if the operation is successful.\n",
    "- insertLast(): Adds an item at the rear of Deque. Return true if the operation is successful.\n",
    "-deleteFront(): Deletes an item from the front of Deque. Return true if the operation is successful.\n",
    "- deleteLast(): Deletes an item from the rear of Deque. Return true if the operation is successful.\n",
    "- getFront(): Gets the front item from the Deque. If the deque is empty, return -1.\n",
    "- getRear(): Gets the last item from Deque. If the deque is empty, return -1.\n",
    "- isEmpty(): Checks whether Deque is empty or not. \n",
    "- isFull(): Checks whether Deque is full or not."
   ]
  },
  {
   "cell_type": "code",
   "execution_count": 1,
   "metadata": {
    "ExecuteTime": {
     "end_time": "2021-01-06T05:18:59.196575Z",
     "start_time": "2021-01-06T05:18:59.193291Z"
    }
   },
   "outputs": [],
   "source": [
    "class ListNode(object):\n",
    "    def __init__(self, val=0, next=None):\n",
    "        self.val = val\n",
    "        self.next = next"
   ]
  },
  {
   "cell_type": "code",
   "execution_count": null,
   "metadata": {
    "code_folding": []
   },
   "outputs": [],
   "source": [
    "class MyCircularDeque(object):\n",
    "\n",
    "    def __init__(self, k):\n",
    "        \"\"\"\n",
    "        Initialize your data structure here. Set the size of the deque to be k.\n",
    "        :type k: int\n",
    "        \"\"\"\n",
    "        self.head, self.tail = ListNode(None), ListNode(None)\n",
    "        self.k, self.len = k, 0 # self.len : 현재 길이 정보를 담는 변수\n",
    "        self.head.right, self.tail.left = self.tail, self.head\n",
    "    \n",
    "    ## 함수 이름 명명 규칙 : 내부에서만 사용할 경우, 밑줄 하나로 시작\n",
    "    def _add(self, node, new):\n",
    "        # 이미 있는 'node'를 찢어내고, 그 사이에 새로운 노드 'new' 를 삽입\n",
    "        n = node.right\n",
    "        node.right = new\n",
    "        new.left, new.right = node, n\n",
    "        n.left = new\n",
    "        \n",
    "    def _del(self, node):\n",
    "        n = node.right.right\n",
    "        node.right = n\n",
    "        n.left = node\n",
    "        \n",
    "    def insertFront(self, value):\n",
    "        \"\"\"\n",
    "        Adds an item at the front of Deque. Return true if the operation is successful.\n",
    "        :type value: int\n",
    "        :rtype: bool\n",
    "        \"\"\"\n",
    "        if self.len == self.k:\n",
    "            return False\n",
    "        \n",
    "        self.len += 1\n",
    "        self._add(self.head, ListNode(value)) # head 위치에 노드 삽입\n",
    "        return True\n",
    "\n",
    "    def insertLast(self, value):\n",
    "        \"\"\"\n",
    "        Adds an item at the rear of Deque. Return true if the operation is successful.\n",
    "        :type value: int\n",
    "        :rtype: bool\n",
    "        \"\"\"\n",
    "        if self.len == self.k:\n",
    "            return False\n",
    "        \n",
    "        self.len += 1\n",
    "        self._add(self.tail.left, ListNode(value)) # tail.left 에 노드 삽입\n",
    "        return True\n",
    "\n",
    "    def deleteFront(self):\n",
    "        \"\"\"\n",
    "        Deletes an item from the front of Deque. Return true if the operation is successful.\n",
    "        :rtype: bool\n",
    "        \"\"\"\n",
    "        if self.len == 0:\n",
    "            return False\n",
    "        \n",
    "        self.len -= 1\n",
    "        self._del(self.head) # head 노드 삭제\n",
    "        return True\n",
    "        \n",
    "\n",
    "    def deleteLast(self):\n",
    "        \"\"\"\n",
    "        Deletes an item from the rear of Deque. Return true if the operation is successful.\n",
    "        :rtype: bool\n",
    "        \"\"\"\n",
    "        if self.len == 0:\n",
    "            return False\n",
    "        \n",
    "        self.len -=1\n",
    "        self._del(self.tail.left.left)\n",
    "        return True\n",
    "\n",
    "    def getFront(self):\n",
    "        \"\"\"\n",
    "        Get the front item from the deque.\n",
    "        :rtype: int\n",
    "        \"\"\"\n",
    "        return self.head.right.val if self.len else -1\n",
    "        \n",
    "\n",
    "    def getRear(self):\n",
    "        \"\"\"\n",
    "        Get the last item from the deque.\n",
    "        :rtype: int\n",
    "        \"\"\"\n",
    "        return self.tail.left.val if self.len else -1\n",
    "    \n",
    "        \n",
    "\n",
    "    def isEmpty(self):\n",
    "        \"\"\"\n",
    "        Checks whether the circular deque is empty or not.\n",
    "        :rtype: bool\n",
    "        \"\"\"\n",
    "        return self.len == 0\n",
    "        \n",
    "\n",
    "    def isFull(self):\n",
    "        \"\"\"\n",
    "        Checks whether the circular deque is full or not.\n",
    "        :rtype: bool\n",
    "        \"\"\"\n",
    "        return self.len == self.k\n",
    "        \n"
   ]
  },
  {
   "cell_type": "code",
   "execution_count": null,
   "metadata": {},
   "outputs": [],
   "source": [
    "MyCircularDeque circularDeque = new MycircularDeque(3); // set the size to be 3\n",
    "circularDeque.insertLast(1); # return true\n",
    "circularDeque.insertLast(2); # return true\n",
    "circularDeque.insertFront(3); # return true\n",
    "circularDeque.insertFront(4); # return false, the queue is full\n",
    "circularDeque.getRear();  # return 2\n",
    "circularDeque.isFull(); # return true\n",
    "circularDeque.deleteLast(); # return true\n",
    "circularDeque.insertFront(4);# return true\n",
    "circularDeque.getFront(); # return 4"
   ]
  }
 ],
 "metadata": {
  "hide_input": false,
  "kernelspec": {
   "display_name": "Python 3",
   "language": "python",
   "name": "python3"
  },
  "language_info": {
   "codemirror_mode": {
    "name": "ipython",
    "version": 3
   },
   "file_extension": ".py",
   "mimetype": "text/x-python",
   "name": "python",
   "nbconvert_exporter": "python",
   "pygments_lexer": "ipython3",
   "version": "3.7.4"
  },
  "toc": {
   "base_numbering": 1,
   "nav_menu": {},
   "number_sections": true,
   "sideBar": true,
   "skip_h1_title": false,
   "title_cell": "Table of Contents",
   "title_sidebar": "Contents",
   "toc_cell": false,
   "toc_position": {},
   "toc_section_display": true,
   "toc_window_display": false
  },
  "varInspector": {
   "cols": {
    "lenName": 16,
    "lenType": 16,
    "lenVar": 40
   },
   "kernels_config": {
    "python": {
     "delete_cmd_postfix": "",
     "delete_cmd_prefix": "del ",
     "library": "var_list.py",
     "varRefreshCmd": "print(var_dic_list())"
    },
    "r": {
     "delete_cmd_postfix": ") ",
     "delete_cmd_prefix": "rm(",
     "library": "var_list.r",
     "varRefreshCmd": "cat(var_dic_list()) "
    }
   },
   "types_to_exclude": [
    "module",
    "function",
    "builtin_function_or_method",
    "instance",
    "_Feature"
   ],
   "window_display": false
  }
 },
 "nbformat": 4,
 "nbformat_minor": 2
}
