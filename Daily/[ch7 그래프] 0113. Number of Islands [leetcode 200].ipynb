{
 "cells": [
  {
   "cell_type": "markdown",
   "metadata": {},
   "source": [
    "# 섬의 개수 [ch7 그래프]\n",
    "[leetcode 200](https://leetcode.com/problems/number-of-islands/)\n",
    "\n",
    "Given an m x n 2d grid map of '1's (land) and '0's (water), return the number of islands.   \n",
    "\n",
    "An island is surrounded by water and is formed by connecting adjacent lands horizontally or vertically. You may assume all four edges of the grid are all surrounded by water.\n",
    "\n",
    "```\n",
    "Input: grid = [\n",
    "  [\"1\",\"1\",\"1\",\"1\",\"0\"],\n",
    "  [\"1\",\"1\",\"0\",\"1\",\"0\"],\n",
    "  [\"1\",\"1\",\"0\",\"0\",\"0\"],\n",
    "  [\"0\",\"0\",\"0\",\"0\",\"0\"]\n",
    "]\n",
    "\n",
    "Output: 1\n",
    "```"
   ]
  },
  {
   "cell_type": "markdown",
   "metadata": {},
   "source": [
    "- subgraph 찾는 문제"
   ]
  },
  {
   "cell_type": "markdown",
   "metadata": {},
   "source": [
    "# Solution : DFS 로 그래프 탐색\n",
    "- 동,서,남,북이 모두 연결된 그래프로 가정하고, 네 방향 각각 DFS 재귀를 이용해, 탐색이 끝나면 1 증가 \n",
    "- 행렬의 입력값인 grid 의 행, 열 단위로 육지인 곳을 찾아 진행하다가 육지를 발견하면, 그때부터 self.dfs() 호출"
   ]
  },
  {
   "cell_type": "code",
   "execution_count": null,
   "metadata": {},
   "outputs": [],
   "source": [
    "class Solution(object):\n",
    "    def dfs(self, grid, i, j):\n",
    "        # 더 이상 땅이 아니면 빠져나가게\n",
    "        if i < 0 or i >= len(grid) or \\\n",
    "            j < 0 or j >= len(grid) or \\\n",
    "            grid[i][j] != \"1\":\n",
    "            \n",
    "            return\n",
    "        grid[i][j] = '#' # 이미 방문한 곳을 마킹\n",
    "        \n",
    "        self.dfs(grid, i+1, j)\n",
    "        self.dfs(grid, i-1, j)\n",
    "        self.dfs(grid, i, j+1)\n",
    "        self.dfs(grid, i, j-1)\n",
    "        \n",
    "\n",
    "        \n",
    "    def numIslands(self, grid):\n",
    "        \"\"\"\n",
    "        :type grid: List[List[str]]\n",
    "        :rtype: int\n",
    "        \"\"\"\n",
    "        # 예외 처리\n",
    "        if not grid:\n",
    "            return 0\n",
    "        \n",
    "        count = 0\n",
    "        for i in range(len(grid)):\n",
    "            for j in range(len(grid[0])):\n",
    "                if grid[i][j] == \"1\":\n",
    "                    self.dfs(i, j)\n",
    "                    count += 1\n",
    "        return count\n",
    "        "
   ]
  },
  {
   "cell_type": "markdown",
   "metadata": {},
   "source": [
    "**코드 개선**\n",
    "- self.dfs() 호출할 때마다 grid 변수를 매번 넘기는 부분\n",
    "    - 클래스 멤버 변수로 grid 선언"
   ]
  },
  {
   "cell_type": "code",
   "execution_count": 3,
   "metadata": {
    "ExecuteTime": {
     "end_time": "2021-01-13T09:58:58.624102Z",
     "start_time": "2021-01-13T09:58:58.615653Z"
    },
    "code_folding": []
   },
   "outputs": [],
   "source": [
    "class Solution(object):\n",
    "    grid = [[]]\n",
    "    \n",
    "    def dfs(self,  i, j):\n",
    "        # 더 이상 땅이 아니면 빠져나가게\n",
    "        if i < 0 or i >= len(grid) or \\\n",
    "            j < 0 or j >= len(grid) or \\\n",
    "            grid[i][j] != \"1\":\n",
    "            \n",
    "            return\n",
    "        grid[i][j] = '#' # 이미 방문한 곳을 마킹\n",
    "        \n",
    "        self.dfs(i+1, j)\n",
    "        self.dfs(i-1, j)\n",
    "        self.dfs(i, j+1)\n",
    "        self.dfs(i, j-1)\n",
    "\n",
    "        \n",
    "    def numIslands(self, grid):\n",
    "        \"\"\"\n",
    "        :type grid: List[List[str]]\n",
    "        :rtype: int\n",
    "        \"\"\"\n",
    "        # 예외 처리\n",
    "        if not grid:\n",
    "            return 0\n",
    "        \n",
    "        count = 0\n",
    "        for i in range(len(grid)):\n",
    "            for j in range(len(grid[0])):\n",
    "                if grid[i][j] == \"1\":\n",
    "                    self.dfs(i, j)\n",
    "                    count += 1\n",
    "        return count\n",
    "        "
   ]
  },
  {
   "cell_type": "markdown",
   "metadata": {},
   "source": [
    "**코드 개선**\n",
    "- dfs 호출할 때마다 self 따라 붙는 코드\n",
    "    - 중첩함수 사용"
   ]
  },
  {
   "cell_type": "code",
   "execution_count": 10,
   "metadata": {
    "ExecuteTime": {
     "end_time": "2021-01-13T10:02:01.353063Z",
     "start_time": "2021-01-13T10:02:01.345318Z"
    }
   },
   "outputs": [],
   "source": [
    "class Solution(object):\n",
    "\n",
    "    def numIslands(self, grid):\n",
    "        \"\"\"\n",
    "        :type grid: List[List[str]]\n",
    "        :rtype: int\n",
    "        \"\"\"\n",
    "        def dfs( i, j):\n",
    "            # 더 이상 땅이 아니면 빠져나가게\n",
    "            if i < 0 or i >= len(grid) or \\\n",
    "                j < 0 or j >= len(grid[0]) or \\\n",
    "                grid[i][j] != \"1\":\n",
    "\n",
    "                return\n",
    "            \n",
    "            grid[i][j] = '#' # 이미 방문한 곳을 마킹\n",
    "\n",
    "            dfs(i+1, j)\n",
    "            dfs(i-1, j)\n",
    "            dfs(i, j+1)\n",
    "            dfs(i, j-1)\n",
    "\n",
    "\n",
    "        count = 0\n",
    "            \n",
    "        for i in range(len(grid)):\n",
    "            for j in range(len(grid[0])):\n",
    "                if grid[i][j] == \"1\":\n",
    "                    dfs(i, j)\n",
    "                    count += 1\n",
    "        return count\n",
    "        "
   ]
  },
  {
   "cell_type": "code",
   "execution_count": 11,
   "metadata": {
    "ExecuteTime": {
     "end_time": "2021-01-13T10:02:01.559778Z",
     "start_time": "2021-01-13T10:02:01.553528Z"
    }
   },
   "outputs": [
    {
     "data": {
      "text/plain": [
       "3"
      ]
     },
     "execution_count": 11,
     "metadata": {},
     "output_type": "execute_result"
    }
   ],
   "source": [
    "grid = [[\"1\",\"1\",\"0\",\"0\",\"0\"],\n",
    "        [\"1\",\"1\",\"0\",\"0\",\"0\"],\n",
    "        [\"0\",\"0\",\"1\",\"0\",\"0\"],\n",
    "        [\"0\",\"0\",\"0\",\"1\",\"1\"]\n",
    "       ]\n",
    "\n",
    "Solution.numIslands(Solution, grid)"
   ]
  },
  {
   "cell_type": "code",
   "execution_count": null,
   "metadata": {},
   "outputs": [],
   "source": []
  }
 ],
 "metadata": {
  "hide_input": false,
  "kernelspec": {
   "display_name": "Python 3",
   "language": "python",
   "name": "python3"
  },
  "language_info": {
   "codemirror_mode": {
    "name": "ipython",
    "version": 3
   },
   "file_extension": ".py",
   "mimetype": "text/x-python",
   "name": "python",
   "nbconvert_exporter": "python",
   "pygments_lexer": "ipython3",
   "version": "3.7.4"
  },
  "toc": {
   "base_numbering": 1,
   "nav_menu": {},
   "number_sections": true,
   "sideBar": true,
   "skip_h1_title": false,
   "title_cell": "Table of Contents",
   "title_sidebar": "Contents",
   "toc_cell": false,
   "toc_position": {},
   "toc_section_display": true,
   "toc_window_display": false
  },
  "varInspector": {
   "cols": {
    "lenName": 16,
    "lenType": 16,
    "lenVar": 40
   },
   "kernels_config": {
    "python": {
     "delete_cmd_postfix": "",
     "delete_cmd_prefix": "del ",
     "library": "var_list.py",
     "varRefreshCmd": "print(var_dic_list())"
    },
    "r": {
     "delete_cmd_postfix": ") ",
     "delete_cmd_prefix": "rm(",
     "library": "var_list.r",
     "varRefreshCmd": "cat(var_dic_list()) "
    }
   },
   "types_to_exclude": [
    "module",
    "function",
    "builtin_function_or_method",
    "instance",
    "_Feature"
   ],
   "window_display": false
  }
 },
 "nbformat": 4,
 "nbformat_minor": 2
}
