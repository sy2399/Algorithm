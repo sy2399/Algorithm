{
 "cells": [
  {
   "cell_type": "markdown",
   "metadata": {},
   "source": [
    "우선순위 큐 : python 에서는 우선순위 큐 관련 문제는 대부분 `heapq`를 사용\n",
    "\n",
    "**heapq**\n",
    "- 우선순위 큐를 위해 만들어진 자료구조\n",
    "    - cf. 큐 : 먼저 들어간 데이터가 먼저 나옴\n",
    "    - cf. 스택 : 나중에 들어간 데이터가 먼저 나옴\n",
    "    - cf. 우선순위 큐 : 우선순위가 높은 데이터가 먼저 나옴\n",
    "        - 배열, 연결리스트, heap 기반으로 구현 가능\n",
    "        - 트래픽 제어, 스케쥴링, 시뮬레이션...\n",
    "- 완전 이진 트리의 일종\n",
    "    - cf. 완전 이진 트리란 ? : 마지막 레벨을 제외한 모든 레벨의 노드가 완전히 채워져 있으며, 마지막 레벨의 노드들은 가능한 한 왼쪽부터 채워져 있는 구조\n",
    "    - 레벨 k에 있는 최대 노드 수 = 2^(k-1)\n",
    "    - 높이가 h인 포화이진트리에 있는 노드의 수는 2^h -1\n",
    "\n",
    "- Heap 의 종류\n",
    "    - max heap : key(부모 노드) >= key(자식 노드)\n",
    "    - min heap : key(부모 노드) <= key(자식 노드)\n",
    "\n",
    "[파이썬 heapq 모듈 사용법](https://www.google.com/search?q=python+heapq&rlz=1C5CHFA_enKR854KR854&oq=python+heapq&aqs=chrome..69i57j0i433l3j69i65j69i60l3.3877j0j1&sourceid=chrome&ie=UTF-8)\n",
    "- Python 에서 heap 적용\n",
    "    - import heapq\n",
    "    - heapq.heapify(L) : 리스트 L 로부터 min heap 구성\n",
    "    - m = heapq.heappop(L) : min heap L 에서 최소값 삭제 & 반환\n",
    "    - heapq.heappush(L, x) : min heap L 에 원소 x 삽입 (삽입 후에도 min heap 구조 유지)\n",
    "***"
   ]
  },
  {
   "cell_type": "markdown",
   "metadata": {},
   "source": [
    "# k개 정렬 리스트 병합\n",
    "\n",
    "[leetcode 23](https://leetcode.com/problems/merge-k-sorted-lists/)\n",
    "\n",
    "You are given an array of k linked-lists lists, each linked-list is sorted in ascending order.\n",
    "\n",
    "Merge all the linked-lists into one sorted linked-list and return it.\n",
    "\n"
   ]
  },
  {
   "cell_type": "markdown",
   "metadata": {},
   "source": [
    "1. 일단 input linked list 의 값들을 리스트에 쌓는다\n",
    "2. 다 쌓이면 heapq.heapify(list)\n",
    "3. heapq.heappop()하면 무조건 list의 남은 값 중 최소값을 반환하니까 리스트에 남은 값이 없을 때까지 heappop"
   ]
  },
  {
   "cell_type": "code",
   "execution_count": null,
   "metadata": {},
   "outputs": [],
   "source": [
    "import heapq\n",
    "\n",
    "# Definition for singly-linked list.\n",
    "# class ListNode(object):\n",
    "#     def __init__(self, val=0, next=None):\n",
    "#         self.val = val\n",
    "#         self.next = next\n",
    "class Solution(object):\n",
    "    def mergeKLists(self, lists):\n",
    "        \"\"\"\n",
    "        :type lists: List[ListNode]\n",
    "        :rtype: ListNode\n",
    "        \"\"\"\n",
    "        answer = []\n",
    "        hq = []\n",
    "        \n",
    "        \n",
    "        for i in lists:\n",
    "            # 1. linked list to list\n",
    "            node = i\n",
    "            \n",
    "            while node is not None:\n",
    "                hq.append(node.val)\n",
    "                node = node.next\n",
    "            \n",
    "        if not hq:\n",
    "            return ListNode(None).next\n",
    "        \n",
    "        heapq.heapify(hq)\n",
    "        min_val = heapq.heappop(hq)\n",
    "        \n",
    "        root = ListNode(None)\n",
    "        head = ListNode(min_val)\n",
    "        root.next = head\n",
    "        \n",
    "        while hq:\n",
    "            min_val = heapq.heappop(hq)\n",
    "            head.next = ListNode(min_val)\n",
    "            head = head.next\n",
    "            \n",
    "        return root.next\n",
    "            \n",
    "        \n",
    "\n",
    "      \n",
    "\n",
    "        "
   ]
  },
  {
   "cell_type": "markdown",
   "metadata": {},
   "source": [
    "# Solution : 우선순위 큐를 이용한 리스트 병함\n",
    "- 내 코드와의 차이\n",
    "    - 내 코드는 연결리스트의 모든 노드를 넣지만, solution은 각 연결 리스트의 head 만 넣는다"
   ]
  },
  {
   "cell_type": "code",
   "execution_count": null,
   "metadata": {},
   "outputs": [],
   "source": [
    "import heapq\n",
    "from typing import List\n",
    "\n",
    "\n",
    "# Definition for singly-linked list.\n",
    "class ListNode:\n",
    "    def __init__(self, x):\n",
    "        self.val = x\n",
    "        self.next = None\n",
    "\n",
    "\n",
    "class Solution:\n",
    "    def mergeKLists(self, lists: List[ListNode]) -> ListNode:\n",
    "        root = result = ListNode(None)\n",
    "        heap = []\n",
    "\n",
    "        # 각 연결 리스트의 루트를 힙에 저장\n",
    "        ## heappush 할 때 중복된 값을 넣을 때 Type Error 가 발생해, 중복된 값을 구분할 수 있는 추가 인자가 필요\n",
    "        ## 에러 방지 용도로 연결 리스트의 순서를 인자로 삽입\n",
    "        for i in range(len(lists)):\n",
    "            if lists[i]:\n",
    "                heapq.heappush(heap, (lists[i].val, i, lists[i]))\n",
    "\n",
    "        # 힙 추출 이후 다음 노드는 다시 저장\n",
    "        while heap:\n",
    "            node = heapq.heappop(heap)\n",
    "            idx = node[1]\n",
    "            result.next = node[2]\n",
    "\n",
    "            result = result.next\n",
    "            if result.next:\n",
    "                heapq.heappush(heap, (result.next.val, idx, result.next))\n",
    "\n",
    "        return root.next\n"
   ]
  }
 ],
 "metadata": {
  "hide_input": false,
  "kernelspec": {
   "display_name": "Python 3",
   "language": "python",
   "name": "python3"
  },
  "language_info": {
   "codemirror_mode": {
    "name": "ipython",
    "version": 3
   },
   "file_extension": ".py",
   "mimetype": "text/x-python",
   "name": "python",
   "nbconvert_exporter": "python",
   "pygments_lexer": "ipython3",
   "version": "3.7.4"
  },
  "toc": {
   "base_numbering": 1,
   "nav_menu": {},
   "number_sections": true,
   "sideBar": true,
   "skip_h1_title": false,
   "title_cell": "Table of Contents",
   "title_sidebar": "Contents",
   "toc_cell": false,
   "toc_position": {},
   "toc_section_display": true,
   "toc_window_display": false
  },
  "varInspector": {
   "cols": {
    "lenName": 16,
    "lenType": 16,
    "lenVar": 40
   },
   "kernels_config": {
    "python": {
     "delete_cmd_postfix": "",
     "delete_cmd_prefix": "del ",
     "library": "var_list.py",
     "varRefreshCmd": "print(var_dic_list())"
    },
    "r": {
     "delete_cmd_postfix": ") ",
     "delete_cmd_prefix": "rm(",
     "library": "var_list.r",
     "varRefreshCmd": "cat(var_dic_list()) "
    }
   },
   "types_to_exclude": [
    "module",
    "function",
    "builtin_function_or_method",
    "instance",
    "_Feature"
   ],
   "window_display": false
  }
 },
 "nbformat": 4,
 "nbformat_minor": 2
}
