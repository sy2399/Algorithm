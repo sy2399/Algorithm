{
 "cells": [
  {
   "cell_type": "markdown",
   "metadata": {},
   "source": [
    "# 일일 온도\n",
    "\n",
    "[leetcode 729](https://leetcode.com/problems/daily-temperatures/)\n",
    "\n",
    "Given a list of daily temperatures T, return a list such that, for each day in the input, tells you how many days you would have to wait until a warmer temperature. If there is no future day for which this is possible, put 0 instead.\n",
    "\n",
    "For example, given the list of temperatures T = [73, 74, 75, 71, 69, 72, 76, 73], your output should be [1, 1, 4, 2, 1, 1, 0, 0].\n",
    "\n",
    "Note: The length of temperatures will be in the range [1, 30000]. Each temperature will be an integer in the range [30, 100]."
   ]
  },
  {
   "cell_type": "markdown",
   "metadata": {},
   "source": [
    "***\n",
    "- Stack을 왜 쓰지?\n",
    "    - 매번 T[index+1:]중에 자기보다 큰게 있는지 확인은 가능\n",
    "        - [(idx, t) for idx, t in enumerate(T[index+1:]) if t > curr]\n",
    "        - But, 매번 나머지 온도와 비교해야 해 Timeout\n",
    "    - 앞에서 이미 비교한 걸 활용해서 시간 줄이기"
   ]
  },
  {
   "cell_type": "markdown",
   "metadata": {},
   "source": [
    "Timeout"
   ]
  },
  {
   "cell_type": "code",
   "execution_count": 10,
   "metadata": {
    "ExecuteTime": {
     "end_time": "2021-01-04T08:58:32.158170Z",
     "start_time": "2021-01-04T08:58:32.151549Z"
    },
    "code_folding": []
   },
   "outputs": [],
   "source": [
    "class Solution(object):\n",
    "    def dailyTemperatures(self, T):\n",
    "        \"\"\"\n",
    "        :type T: List[int]\n",
    "        :rtype: List[int]\n",
    "        \"\"\"\n",
    "        answer = [0]*len(T)\n",
    "        \n",
    "        for index, curr in enumerate(T):\n",
    "            stack = T[index+1:][::-1]\n",
    "            \n",
    "            count = 0\n",
    "            if (stack and max(stack) <= curr) or len(stack)==0:\n",
    "                count = 0\n",
    "            else:\n",
    "                # 시간 줄이기용\n",
    "                if index > 0 and curr == T[index-1]:\n",
    "                    count = answer[index-1]-1\n",
    "                else:\n",
    "                    while stack:\n",
    "                        count += 1\n",
    "                        if stack[-1] <= curr:\n",
    "                            stack.pop()\n",
    "                        elif stack[-1] > curr:\n",
    "                            break\n",
    "            \n",
    "            answer[index] = count\n",
    "        \n",
    "        return answer\n",
    "                \n",
    "        \n",
    "        "
   ]
  },
  {
   "cell_type": "code",
   "execution_count": 11,
   "metadata": {
    "ExecuteTime": {
     "end_time": "2021-01-04T08:58:32.358094Z",
     "start_time": "2021-01-04T08:58:32.351412Z"
    }
   },
   "outputs": [
    {
     "name": "stdout",
     "output_type": "stream",
     "text": [
      "0\n"
     ]
    },
    {
     "data": {
      "text/plain": [
       "[8, 1, 5, 4, 3, -1, 1, 1, 0, 0]"
      ]
     },
     "execution_count": 11,
     "metadata": {},
     "output_type": "execute_result"
    }
   ],
   "source": [
    "T = [89,62,70,58,47,47,46,76,100,70]\n",
    "Solution.dailyTemperatures(Solution, T)"
   ]
  },
  {
   "cell_type": "markdown",
   "metadata": {},
   "source": [
    "***\n",
    "- **Hint** : [`빗물 트래핑`](https://github.com/sy2399/Algorithm/blob/master/Daily/1208.%20Trapping%20Rain%20Water%20%5Bleetcode%2042%5D.ipynb)\n",
    "- 비교 횟수 줄이기\n",
    "    - 일단 stack에 넣어\n",
    "    - 이전값보다 커지면, 비교해\n",
    "    \n",
    "- stack 관련 문제\n",
    "    - stack[-1], stack.pop()을 최대한 활용하기!"
   ]
  },
  {
   "cell_type": "code",
   "execution_count": 23,
   "metadata": {
    "ExecuteTime": {
     "end_time": "2021-01-04T09:22:44.675699Z",
     "start_time": "2021-01-04T09:22:44.669805Z"
    }
   },
   "outputs": [],
   "source": [
    "class Solution(object):\n",
    "    def dailyTemperatures(self, T):\n",
    "        \"\"\"\n",
    "        :type T: List[int]\n",
    "        :rtype: List[int]\n",
    "        \"\"\"\n",
    "        answer = [0]*len(T)\n",
    "        stack = []\n",
    "        \n",
    "        for index, curr in enumerate(T):\n",
    "            while stack and stack[-1][0] < curr:\n",
    "                popped_index = stack[-1][1]\n",
    "                stack.pop()\n",
    "                answer[popped_index] = index - popped_index\n",
    "            \n",
    "        \n",
    "            stack.append([curr, index])\n",
    "            \n",
    "        return answer"
   ]
  },
  {
   "cell_type": "code",
   "execution_count": 24,
   "metadata": {
    "ExecuteTime": {
     "end_time": "2021-01-04T09:22:44.896381Z",
     "start_time": "2021-01-04T09:22:44.891376Z"
    }
   },
   "outputs": [
    {
     "data": {
      "text/plain": [
       "[1, 1, 4, 2, 1, 1, 0, 0]"
      ]
     },
     "execution_count": 24,
     "metadata": {},
     "output_type": "execute_result"
    }
   ],
   "source": [
    "T = [73, 74, 75, 71, 69, 72, 76, 73]\n",
    "Solution.dailyTemperatures(Solution, T)"
   ]
  },
  {
   "cell_type": "code",
   "execution_count": null,
   "metadata": {},
   "outputs": [],
   "source": []
  },
  {
   "cell_type": "code",
   "execution_count": null,
   "metadata": {},
   "outputs": [],
   "source": []
  }
 ],
 "metadata": {
  "hide_input": false,
  "kernelspec": {
   "display_name": "Python 3",
   "language": "python",
   "name": "python3"
  },
  "language_info": {
   "codemirror_mode": {
    "name": "ipython",
    "version": 3
   },
   "file_extension": ".py",
   "mimetype": "text/x-python",
   "name": "python",
   "nbconvert_exporter": "python",
   "pygments_lexer": "ipython3",
   "version": "3.7.4"
  },
  "toc": {
   "base_numbering": 1,
   "nav_menu": {},
   "number_sections": true,
   "sideBar": true,
   "skip_h1_title": false,
   "title_cell": "Table of Contents",
   "title_sidebar": "Contents",
   "toc_cell": false,
   "toc_position": {},
   "toc_section_display": true,
   "toc_window_display": false
  },
  "varInspector": {
   "cols": {
    "lenName": 16,
    "lenType": 16,
    "lenVar": 40
   },
   "kernels_config": {
    "python": {
     "delete_cmd_postfix": "",
     "delete_cmd_prefix": "del ",
     "library": "var_list.py",
     "varRefreshCmd": "print(var_dic_list())"
    },
    "r": {
     "delete_cmd_postfix": ") ",
     "delete_cmd_prefix": "rm(",
     "library": "var_list.r",
     "varRefreshCmd": "cat(var_dic_list()) "
    }
   },
   "types_to_exclude": [
    "module",
    "function",
    "builtin_function_or_method",
    "instance",
    "_Feature"
   ],
   "window_display": false
  }
 },
 "nbformat": 4,
 "nbformat_minor": 2
}
