{
 "cells": [
  {
   "cell_type": "markdown",
   "metadata": {},
   "source": [
    "# 역순 연결 리스트\n",
    "\n",
    "[leetcode 206](https://leetcode.com/problems/reverse-linked-list/)\n",
    "\n",
    "Reverse a singly linked list.\n",
    "\n",
    "Example:\n",
    "\n",
    "- Input: 1->2->3->4->5->NULL\n",
    "- Output: 5->4->3->2->1->NULL\n",
    "\n",
    "Follow up:\n",
    "\n",
    "A linked list can be reversed either iteratively or recursively. Could you implement both?"
   ]
  },
  {
   "cell_type": "markdown",
   "metadata": {},
   "source": [
    "***\n",
    "* 연결 리스트를 뒤집는 문제는 매우 일반적이고 활용도 높음!\n",
    "* `재귀` & `반복` 구조 2가지로 풀이 가능"
   ]
  },
  {
   "cell_type": "markdown",
   "metadata": {},
   "source": [
    "## Solution1. 재귀\n",
    "- 다음 노드 next_node, 현재 노드 curr 를 파라미터로 지정한 함수를 계속해서 재귀 호출\n",
    "- reverse()의 역할1 = 다음 노드로 이동\n",
    "    - `next_node = curr.next` \n",
    "- reverse()의 역할2 = curr.next를 Prev와 연결\n",
    "    - `curr.next = prev` 연결"
   ]
  },
  {
   "cell_type": "code",
   "execution_count": 1,
   "metadata": {
    "ExecuteTime": {
     "end_time": "2020-12-23T07:34:15.675093Z",
     "start_time": "2020-12-23T07:34:15.650024Z"
    }
   },
   "outputs": [],
   "source": [
    "class ListNode(object):\n",
    "    def __init__(self, val=0, next=None):\n",
    "        self.val = val\n",
    "        self.next = next"
   ]
  },
  {
   "cell_type": "code",
   "execution_count": 3,
   "metadata": {
    "ExecuteTime": {
     "end_time": "2020-12-23T07:35:29.833911Z",
     "start_time": "2020-12-23T07:35:29.828684Z"
    }
   },
   "outputs": [],
   "source": [
    "class Solution(object):\n",
    "    def reverseList(self, head):\n",
    "        \"\"\"\n",
    "        :type head: ListNode\n",
    "        :rtype: ListNode\n",
    "        \"\"\"\n",
    "        \n",
    "        def reverse(curr, prev):\n",
    "            if not curr:\n",
    "                return prev\n",
    "            \n",
    "            next_node, curr.next = curr.next, prev\n",
    "            return reverse(next_node, curr)\n",
    "            \n",
    "        return reverse(head,None)\n",
    "            \n",
    "            \n",
    "            \n",
    "            "
   ]
  },
  {
   "cell_type": "code",
   "execution_count": 4,
   "metadata": {
    "ExecuteTime": {
     "end_time": "2020-12-23T07:35:30.173448Z",
     "start_time": "2020-12-23T07:35:30.153172Z"
    }
   },
   "outputs": [
    {
     "data": {
      "text/plain": [
       "<__main__.ListNode at 0x7fbbf6feb090>"
      ]
     },
     "execution_count": 4,
     "metadata": {},
     "output_type": "execute_result"
    }
   ],
   "source": []
  },
  {
   "cell_type": "markdown",
   "metadata": {},
   "source": [
    "## Solution2. 반복\n",
    "- 처음에 curr, prev 변수 초기화 해주기! (Prev = None)\n",
    "- next_node 변수 초기화 해주기!"
   ]
  },
  {
   "cell_type": "code",
   "execution_count": 5,
   "metadata": {
    "ExecuteTime": {
     "end_time": "2020-12-23T07:35:44.223241Z",
     "start_time": "2020-12-23T07:35:44.218849Z"
    }
   },
   "outputs": [],
   "source": [
    "class Solution(object):\n",
    "    def reverseList(self, head):\n",
    "        \"\"\"\n",
    "        :type head: ListNode\n",
    "        :rtype: ListNode\n",
    "        \"\"\"\n",
    "        curr, prev = head, None\n",
    "        while curr:\n",
    "            next_node = curr.next\n",
    "            \n",
    "            # step1 : 현재 노드의 Next를 이전 노드와 연결\n",
    "            curr.next = prev\n",
    "            \n",
    "            # step2 : 다음 노드로 이동\n",
    "            prev = curr\n",
    "            curr = next_node\n",
    "        \n",
    "            \n",
    "        return prev\n",
    "            \n",
    "            \n",
    "            "
   ]
  },
  {
   "cell_type": "code",
   "execution_count": 6,
   "metadata": {
    "ExecuteTime": {
     "end_time": "2020-12-23T07:35:44.422575Z",
     "start_time": "2020-12-23T07:35:44.416018Z"
    }
   },
   "outputs": [
    {
     "data": {
      "text/plain": [
       "<__main__.ListNode at 0x7fbbf7559190>"
      ]
     },
     "execution_count": 6,
     "metadata": {},
     "output_type": "execute_result"
    }
   ],
   "source": [
    "class ListNode(object):\n",
    "    def __init__(self, val=0, next=None):\n",
    "        self.val = val\n",
    "        self.next = next\n",
    "        \n",
    "input_data = [1,2,3,4,5]\n",
    "root = head = ListNode(1)\n",
    "\n",
    "for i in input_data[1:]:\n",
    "    head.next = ListNode(i)\n",
    "    head = head.next\n",
    "    \n",
    "Solution.reverseList(Solution, root)"
   ]
  },
  {
   "cell_type": "code",
   "execution_count": null,
   "metadata": {},
   "outputs": [],
   "source": []
  }
 ],
 "metadata": {
  "hide_input": false,
  "kernelspec": {
   "display_name": "Python 3",
   "language": "python",
   "name": "python3"
  },
  "language_info": {
   "codemirror_mode": {
    "name": "ipython",
    "version": 3
   },
   "file_extension": ".py",
   "mimetype": "text/x-python",
   "name": "python",
   "nbconvert_exporter": "python",
   "pygments_lexer": "ipython3",
   "version": "3.7.4"
  },
  "toc": {
   "base_numbering": 1,
   "nav_menu": {},
   "number_sections": true,
   "sideBar": true,
   "skip_h1_title": false,
   "title_cell": "Table of Contents",
   "title_sidebar": "Contents",
   "toc_cell": false,
   "toc_position": {},
   "toc_section_display": true,
   "toc_window_display": false
  },
  "varInspector": {
   "cols": {
    "lenName": 16,
    "lenType": 16,
    "lenVar": 40
   },
   "kernels_config": {
    "python": {
     "delete_cmd_postfix": "",
     "delete_cmd_prefix": "del ",
     "library": "var_list.py",
     "varRefreshCmd": "print(var_dic_list())"
    },
    "r": {
     "delete_cmd_postfix": ") ",
     "delete_cmd_prefix": "rm(",
     "library": "var_list.r",
     "varRefreshCmd": "cat(var_dic_list()) "
    }
   },
   "types_to_exclude": [
    "module",
    "function",
    "builtin_function_or_method",
    "instance",
    "_Feature"
   ],
   "window_display": false
  }
 },
 "nbformat": 4,
 "nbformat_minor": 2
}
