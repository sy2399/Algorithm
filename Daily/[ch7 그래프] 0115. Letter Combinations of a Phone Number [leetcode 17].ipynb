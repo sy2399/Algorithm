{
 "cells": [
  {
   "cell_type": "markdown",
   "metadata": {},
   "source": [
    "# 전화 번호 문자 조합 [그래프]\n",
    "\n",
    "[leetcode 17](https://leetcode.com/problems/letter-combinations-of-a-phone-number/)\n",
    "\n",
    "Given a string containing digits from 2-9 inclusive, return all possible letter combinations that the number could represent. Return the answer in any order.\n",
    "\n",
    "A mapping of digit to letters (just like on the telephone buttons) is given below. Note that 1 does not map to any letters.\n",
    "\n",
    "전화번호로 조합 가능한 모든 문자 출력\n",
    "![telephone](https://upload.wikimedia.org/wikipedia/commons/thumb/7/73/Telephone-keypad2.svg/200px-Telephone-keypad2.svg.png)"
   ]
  },
  {
   "cell_type": "markdown",
   "metadata": {},
   "source": [
    "***\n",
    "- 왜 그래프 문제일까\n",
    "    - a->d, a->e, a->f, b->d....주어진 digits의 길이만큼의 depth를 가진 그래프\n",
    "- 내가 푼 방법 : 조합 구하는 product 사용"
   ]
  },
  {
   "cell_type": "code",
   "execution_count": 29,
   "metadata": {
    "ExecuteTime": {
     "end_time": "2021-01-15T06:10:08.210329Z",
     "start_time": "2021-01-15T06:10:08.203588Z"
    }
   },
   "outputs": [],
   "source": [
    "from itertools import product\n",
    "\n",
    "  \n",
    "class Solution(object):\n",
    "    def letterCombinations(self, digits):\n",
    "        \"\"\"\n",
    "        :type digits: str\n",
    "        :rtype: List[str]\n",
    "        \"\"\"\n",
    "        if len(digits)==0:\n",
    "            return []\n",
    "        digit_map = {\n",
    "            \"2\":['a','b','c'],\n",
    "            \"3\":['d','e','f'],\n",
    "            \"4\":['g','h','i'],\n",
    "            \"5\":['j','k','l'],\n",
    "            \"6\":['m','n','o'],\n",
    "            \"7\":['p','q','r','s'],\n",
    "            \"8\":['t','u','v'],\n",
    "            \"9\":['w', 'x', 'y', 'z'],\n",
    "        }\n",
    "        \n",
    "        map_list = []\n",
    "        for i in digits:\n",
    "            map_list.append(digit_map[i])\n",
    "        combi = list(''.join(p) for p in product(*map_list))\n",
    "        return combi"
   ]
  },
  {
   "cell_type": "code",
   "execution_count": 30,
   "metadata": {
    "ExecuteTime": {
     "end_time": "2021-01-15T06:10:08.531309Z",
     "start_time": "2021-01-15T06:10:08.526438Z"
    }
   },
   "outputs": [
    {
     "data": {
      "text/plain": [
       "['ad', 'ae', 'af', 'bd', 'be', 'bf', 'cd', 'ce', 'cf']"
      ]
     },
     "execution_count": 30,
     "metadata": {},
     "output_type": "execute_result"
    }
   ],
   "source": [
    "digits = \"23\"\n",
    "Solution.letterCombinations(Solution, digits)"
   ]
  },
  {
   "cell_type": "markdown",
   "metadata": {},
   "source": [
    "# Solution : 모든 조합 탐색\n",
    "- 항상 전체를 탐색해야 하기 때문에, 최적화할 수 있는 문제는 하님\n",
    "\n",
    "- 입력된 숫자에 해당하는 키판 배열을 DFS 로 탐색\n",
    "\n",
    "```\n",
    "## index : digits의 인덱스 - 다음 숫자로 넘어가기 위함\n",
    "## in for loop \n",
    "## - 1. Tree의 가장 위 & 왼쪽부터 아래로 내려감\n",
    "\n",
    "    for i in range(index, len(digits):\n",
    "        for j  in dic[digits[i]]:\n",
    "            dfs(i+1, path+j)\n",
    "```"
   ]
  },
  {
   "cell_type": "code",
   "execution_count": 38,
   "metadata": {
    "ExecuteTime": {
     "end_time": "2021-01-15T06:33:47.744501Z",
     "start_time": "2021-01-15T06:33:47.736826Z"
    }
   },
   "outputs": [],
   "source": [
    "from typing import List\n",
    "\n",
    "\n",
    "class Solution:\n",
    "    def letterCombinations(self, digits: str) -> List[str]:\n",
    "        def dfs(index, path):\n",
    "            print(\"\\n####\", index, path)\n",
    "            \n",
    "            # 끝까지 탐색하면 백트래킹\n",
    "            if len(path) == len(digits):\n",
    "                result.append(path)\n",
    "                print(\"백트래킹 result\", result)\n",
    "                return\n",
    "\n",
    "            # 입력값 자릿수 단위 반복\n",
    "            for i in range(index, len(digits)):\n",
    "                # 숫자에 해당하는 모든 문자열 반복\n",
    "                for j in dic[digits[i]]:\n",
    "                    print(\"재귀 호출\", i+1, path+j)\n",
    "                    dfs(i + 1, path + j)\n",
    "\n",
    "        # 예외 처리\n",
    "        if not digits:\n",
    "            return []\n",
    "\n",
    "        dic = {\"2\": \"abc\", \"3\": \"def\", \"4\": \"ghi\", \"5\": \"jkl\",\n",
    "               \"6\": \"mno\", \"7\": \"pqrs\", \"8\": \"tuv\", \"9\": \"wxyz\"}\n",
    "        result = []\n",
    "        dfs(0, \"\")\n",
    "\n",
    "        return result"
   ]
  },
  {
   "cell_type": "code",
   "execution_count": 39,
   "metadata": {
    "ExecuteTime": {
     "end_time": "2021-01-15T06:33:48.252502Z",
     "start_time": "2021-01-15T06:33:48.244427Z"
    }
   },
   "outputs": [
    {
     "name": "stdout",
     "output_type": "stream",
     "text": [
      "\n",
      "#### 0 \n",
      "재귀 호출 1 a\n",
      "\n",
      "#### 1 a\n",
      "재귀 호출 2 ad\n",
      "\n",
      "#### 2 ad\n",
      "백트래킹 result ['ad']\n",
      "재귀 호출 2 ae\n",
      "\n",
      "#### 2 ae\n",
      "백트래킹 result ['ad', 'ae']\n",
      "재귀 호출 2 af\n",
      "\n",
      "#### 2 af\n",
      "백트래킹 result ['ad', 'ae', 'af']\n",
      "재귀 호출 1 b\n",
      "\n",
      "#### 1 b\n",
      "재귀 호출 2 bd\n",
      "\n",
      "#### 2 bd\n",
      "백트래킹 result ['ad', 'ae', 'af', 'bd']\n",
      "재귀 호출 2 be\n",
      "\n",
      "#### 2 be\n",
      "백트래킹 result ['ad', 'ae', 'af', 'bd', 'be']\n",
      "재귀 호출 2 bf\n",
      "\n",
      "#### 2 bf\n",
      "백트래킹 result ['ad', 'ae', 'af', 'bd', 'be', 'bf']\n",
      "재귀 호출 1 c\n",
      "\n",
      "#### 1 c\n",
      "재귀 호출 2 cd\n",
      "\n",
      "#### 2 cd\n",
      "백트래킹 result ['ad', 'ae', 'af', 'bd', 'be', 'bf', 'cd']\n",
      "재귀 호출 2 ce\n",
      "\n",
      "#### 2 ce\n",
      "백트래킹 result ['ad', 'ae', 'af', 'bd', 'be', 'bf', 'cd', 'ce']\n",
      "재귀 호출 2 cf\n",
      "\n",
      "#### 2 cf\n",
      "백트래킹 result ['ad', 'ae', 'af', 'bd', 'be', 'bf', 'cd', 'ce', 'cf']\n",
      "재귀 호출 2 d\n",
      "\n",
      "#### 2 d\n",
      "재귀 호출 2 e\n",
      "\n",
      "#### 2 e\n",
      "재귀 호출 2 f\n",
      "\n",
      "#### 2 f\n"
     ]
    },
    {
     "data": {
      "text/plain": [
       "['ad', 'ae', 'af', 'bd', 'be', 'bf', 'cd', 'ce', 'cf']"
      ]
     },
     "execution_count": 39,
     "metadata": {},
     "output_type": "execute_result"
    }
   ],
   "source": [
    "digits = \"23\"\n",
    "Solution.letterCombinations(Solution, digits)"
   ]
  },
  {
   "cell_type": "code",
   "execution_count": null,
   "metadata": {},
   "outputs": [],
   "source": []
  }
 ],
 "metadata": {
  "hide_input": false,
  "kernelspec": {
   "display_name": "Python 3",
   "language": "python",
   "name": "python3"
  },
  "language_info": {
   "codemirror_mode": {
    "name": "ipython",
    "version": 3
   },
   "file_extension": ".py",
   "mimetype": "text/x-python",
   "name": "python",
   "nbconvert_exporter": "python",
   "pygments_lexer": "ipython3",
   "version": "3.7.4"
  },
  "toc": {
   "base_numbering": 1,
   "nav_menu": {},
   "number_sections": true,
   "sideBar": true,
   "skip_h1_title": false,
   "title_cell": "Table of Contents",
   "title_sidebar": "Contents",
   "toc_cell": false,
   "toc_position": {},
   "toc_section_display": true,
   "toc_window_display": false
  },
  "varInspector": {
   "cols": {
    "lenName": 16,
    "lenType": 16,
    "lenVar": 40
   },
   "kernels_config": {
    "python": {
     "delete_cmd_postfix": "",
     "delete_cmd_prefix": "del ",
     "library": "var_list.py",
     "varRefreshCmd": "print(var_dic_list())"
    },
    "r": {
     "delete_cmd_postfix": ") ",
     "delete_cmd_prefix": "rm(",
     "library": "var_list.r",
     "varRefreshCmd": "cat(var_dic_list()) "
    }
   },
   "types_to_exclude": [
    "module",
    "function",
    "builtin_function_or_method",
    "instance",
    "_Feature"
   ],
   "window_display": false
  }
 },
 "nbformat": 4,
 "nbformat_minor": 2
}
