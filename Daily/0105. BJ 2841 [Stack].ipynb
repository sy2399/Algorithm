{
 "cells": [
  {
   "cell_type": "markdown",
   "metadata": {},
   "source": [
    "# 백준2841(스택)- 외계인의 기타 연주\n",
    "[BJ](https://www.acmicpc.net/problem/2841)\n",
    "\n",
    "\n",
    "상근이의 상상의 친구 외계인은 손가락을 수십억개 가지고 있다. 어느 날 외계인은 기타가 치고 싶었고, 인터넷에서 간단한 멜로디를 검색했다. 이제 이 기타를 치려고 한다.\n",
    "\n",
    "보통 기타는 1번 줄부터 6번 줄까지 총 6개의 줄이 있고, 각 줄은 P개의 프렛으로 나누어져 있다. 프렛의 번호도 1번부터 P번까지 나누어져 있다.\n",
    "\n",
    "멜로디는 음의 연속이고, 각 음은 줄에서 해당하는 프렛을 누르고 줄을 튕기면 연주할 수 있다. 예를 들면, 4번 줄의 8번 프렛을 누르고 튕길 수 있다. 만약, 어떤 줄의 프렛을 여러 개 누르고 있다면, 가장 높은 프렛의 음이 발생한다.\n",
    "\n",
    "예를 들어, 3번 줄의 5번 프렛을 이미 누르고 있다고 하자. 이때, 7번 프렛을 누른 음을 연주하려면, 5번 프렛을 누르는 손을 떼지 않고 다른 손가락으로 7번 프렛을 누르고 줄을 튕기면 된다. 여기서 2번 프렛의 음을 연주하려고 한다면, 5번과 7번을 누르던 손가락을 뗀 다음에 2번 프렛을 누르고 연주해야 한다.\n",
    "\n",
    "이렇게 손가락으로 프렛을 한 번 누르거나 떼는 것을 손가락을 한 번 움직였다고 한다. 어떤 멜로디가 주어졌을 때, 손가락의 가장 적게 움직이는 회수를 구하는 프로그램을 작성하시오."
   ]
  },
  {
   "cell_type": "code",
   "execution_count": 25,
   "metadata": {
    "ExecuteTime": {
     "end_time": "2021-01-05T06:12:56.823834Z",
     "start_time": "2021-01-05T06:12:40.907247Z"
    },
    "code_folding": [],
    "collapsed": true
   },
   "outputs": [
    {
     "name": "stdout",
     "output_type": "stream",
     "text": [
      "7 15\n",
      "1 5\n",
      "\n",
      " 1 5 []\n",
      "now :  1 5\n",
      "stack [[1, 5]] count 1\n",
      "2 3\n",
      "\n",
      " 2 3 [[1, 5]]\n",
      "now :  2 3\n",
      "stack [[1, 5], [2, 3]] count 2\n",
      "2 5\n",
      "\n",
      " 2 5 [[1, 5], [2, 3]]\n",
      "now :  2 5\n",
      "stack [[1, 5], [2, 3], [2, 5]] count 3\n",
      "2 7\n",
      "\n",
      " 2 7 [[1, 5], [2, 3], [2, 5]]\n",
      "now :  2 7\n",
      "stack [[1, 5], [2, 3], [2, 5], [2, 7]] count 4\n",
      "2 4\n",
      "\n",
      " 2 4 [[1, 5], [2, 3], [2, 5], [2, 7]]\n",
      "now :  2 4\n",
      "stack [[1, 5], [2, 3], [2, 4]] count 7\n",
      "1 5\n",
      "\n",
      " 1 5 [[1, 5], [2, 3], [2, 4]]\n",
      "now :  1 5\n",
      "stack [[1, 5], [2, 3], [2, 4], [1, 5]] count 7\n",
      "1 3\n",
      "\n",
      " 1 3 [[1, 5], [2, 3], [2, 4], [1, 5]]\n",
      "now :  1 3\n",
      "stack [[1, 5], [2, 3], [2, 4], [1, 3]] count 9\n"
     ]
    },
    {
     "ename": "TypeError",
     "evalue": "countMove() missing 3 required positional arguments: 'p', 'stack', and 'count'",
     "output_type": "error",
     "traceback": [
      "\u001b[0;31m---------------------------------------------------------------------------\u001b[0m",
      "\u001b[0;31mTypeError\u001b[0m                                 Traceback (most recent call last)",
      "\u001b[0;32m<ipython-input-25-b1489c667d92>\u001b[0m in \u001b[0;36m<module>\u001b[0;34m\u001b[0m\n\u001b[1;32m     31\u001b[0m         \u001b[0mstack\u001b[0m\u001b[0;34m,\u001b[0m \u001b[0mcount\u001b[0m \u001b[0;34m=\u001b[0m \u001b[0mcountMove\u001b[0m\u001b[0;34m(\u001b[0m\u001b[0mn\u001b[0m\u001b[0;34m,\u001b[0m \u001b[0mp\u001b[0m\u001b[0;34m,\u001b[0m \u001b[0mstack\u001b[0m\u001b[0;34m,\u001b[0m \u001b[0mcount\u001b[0m\u001b[0;34m)\u001b[0m\u001b[0;34m\u001b[0m\u001b[0;34m\u001b[0m\u001b[0m\n\u001b[1;32m     32\u001b[0m \u001b[0;34m\u001b[0m\u001b[0m\n\u001b[0;32m---> 33\u001b[0;31m     \u001b[0mcountMove\u001b[0m\u001b[0;34m(\u001b[0m\u001b[0minput_list\u001b[0m\u001b[0;34m)\u001b[0m\u001b[0;34m\u001b[0m\u001b[0;34m\u001b[0m\u001b[0m\n\u001b[0m\u001b[1;32m     34\u001b[0m \u001b[0;34m\u001b[0m\u001b[0m\n",
      "\u001b[0;31mTypeError\u001b[0m: countMove() missing 3 required positional arguments: 'p', 'stack', and 'count'"
     ]
    }
   ],
   "source": [
    "\n",
    "def countMove(n, p, stack, count):\n",
    "    print(\"now : \", n, p)\n",
    "\n",
    "    while stack and (stack[-1][1] > p) and (stack[-1][0] == n):\n",
    "        count += 1\n",
    "        stack.pop()\n",
    "        \n",
    "    if ([n,p] not in stack):\n",
    "        count += 1\n",
    "        stack.append([n,p])\n",
    "    else:\n",
    "        stack.append([n,p])\n",
    "    \n",
    "    print(\"stack\", stack, \"count\", count)  \n",
    "    return stack, count\n",
    "    \n",
    "\n",
    "\n",
    "if __name__ == \"__main__\":\n",
    "    \n",
    "    first_input = input().split(\" \")\n",
    "    N, P = map(int, sys.stdin.readline().split())\n",
    "    \n",
    "    stack = []\n",
    "    count = 0\n",
    "    for _ in range(N):\n",
    "        other_input = input().split(\" \")\n",
    "        n, p = int(other_input[0]), int(other_input[1])\n",
    "        print(\"\\n\", n, p, stack)\n",
    "        stack, count = countMove(n, p, stack, count)\n",
    "    \n",
    "    return count\n",
    "    "
   ]
  },
  {
   "cell_type": "markdown",
   "metadata": {},
   "source": [
    "Other Solution:\n",
    "\n",
    "**문제에 주어진 조건에, 길이가 정해진 input 이 있으면 list 의 index 사용해서 접근하면 Timeout 해결 가능!**\n",
    "\n",
    "- 음의 수는 6개로 정해져 있기 때문에 길이 (6+1)의 리스르를 만들고\n",
    "- 1번 indexs는 1번 줄 관련 stack\n",
    "- 2번 index는 2번 줄 관련 stack\n",
    "- 3번 index는 3번 줄 관련 stack...\n",
    "\n",
    "*시간초과 에러는 input 때문..* 🤑🤑\n",
    "- 기존 : \n",
    "```\n",
    "other_input = input().split(\" \")\n",
    "n, p = int(other_input[0]), int(other_input[1])\n",
    "```\n",
    "\n",
    "- 변경 후:\n",
    "```\n",
    "n, p = map(int, sys.stdin.readline().split())\n",
    "```"
   ]
  },
  {
   "cell_type": "code",
   "execution_count": 54,
   "metadata": {
    "ExecuteTime": {
     "end_time": "2021-01-05T08:02:38.831315Z",
     "start_time": "2021-01-05T08:02:38.828579Z"
    },
    "code_folding": [
     1
    ]
   },
   "outputs": [],
   "source": [
    "import sys\n",
    "\n",
    "def countMove(n, p, stack, count):\n",
    "#     print(\"now : \", n, p, stack)\n",
    "\n",
    "    while stack and (stack[-1] > p):\n",
    "        count += 1\n",
    "        stack.pop()\n",
    "        \n",
    "    if (p not in stack):\n",
    "        count += 1\n",
    "        stack.append(p)\n",
    "    print(n, p, stack)\n",
    "    return stack, count\n",
    "    \n",
    "\n",
    "\n",
    "if __name__ == \"__main__\":\n",
    "    \n",
    "    N, P = map(int, input().split())\n",
    "\n",
    "    \n",
    "    stack = [[] for i in range(7)]\n",
    "    count = 0\n",
    "    \n",
    "    for i in range(N):\n",
    "        n, p = map(int, sys.stdin.readline().split())\n",
    " # stack[n], count = countMove(n, p, stack[n], count)\n",
    "        while stack[n] and (stack[n][-1] > p):\n",
    "            count += 1\n",
    "            stack[n].pop()\n",
    "\n",
    "        if (p not in stack[n]):\n",
    "            count += 1\n",
    "            stack[n].append(p)\n",
    "\n",
    "    print(count)\n",
    "    "
   ]
  },
  {
   "cell_type": "markdown",
   "metadata": {},
   "source": [
    "7 15\n",
    "1 5\n",
    "2 3\n",
    "2 5\n",
    "2 7\n",
    "2 4\n",
    "1 5\n",
    "1 3\n",
    "9"
   ]
  }
 ],
 "metadata": {
  "hide_input": false,
  "kernelspec": {
   "display_name": "Python 3",
   "language": "python",
   "name": "python3"
  },
  "language_info": {
   "codemirror_mode": {
    "name": "ipython",
    "version": 3
   },
   "file_extension": ".py",
   "mimetype": "text/x-python",
   "name": "python",
   "nbconvert_exporter": "python",
   "pygments_lexer": "ipython3",
   "version": "3.7.4"
  },
  "toc": {
   "base_numbering": 1,
   "nav_menu": {},
   "number_sections": true,
   "sideBar": true,
   "skip_h1_title": false,
   "title_cell": "Table of Contents",
   "title_sidebar": "Contents",
   "toc_cell": false,
   "toc_position": {},
   "toc_section_display": true,
   "toc_window_display": false
  },
  "varInspector": {
   "cols": {
    "lenName": 16,
    "lenType": 16,
    "lenVar": 40
   },
   "kernels_config": {
    "python": {
     "delete_cmd_postfix": "",
     "delete_cmd_prefix": "del ",
     "library": "var_list.py",
     "varRefreshCmd": "print(var_dic_list())"
    },
    "r": {
     "delete_cmd_postfix": ") ",
     "delete_cmd_prefix": "rm(",
     "library": "var_list.r",
     "varRefreshCmd": "cat(var_dic_list()) "
    }
   },
   "types_to_exclude": [
    "module",
    "function",
    "builtin_function_or_method",
    "instance",
    "_Feature"
   ],
   "window_display": false
  }
 },
 "nbformat": 4,
 "nbformat_minor": 2
}
