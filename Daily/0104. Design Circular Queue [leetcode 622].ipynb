{
 "cells": [
  {
   "cell_type": "markdown",
   "metadata": {},
   "source": [
    "# 원형 큐 디자인\n",
    "\n",
    "[leetcode 622](https://leetcode.com/problems/design-circular-queue/)\n",
    "\n",
    "Design your implementation of the circular queue. The circular queue is a linear data structure in which the operations are performed based on FIFO (First In First Out) principle and the last position is connected back to the first position to make a circle. It is also called \"Ring Buffer\".\n",
    "\n",
    "One of the benefits of the circular queue is that we can make use of the spaces in front of the queue. In a normal queue, once the queue becomes full, we cannot insert the next element even if there is a space in front of the queue. But using the circular queue, we can use the space to store new values.\n",
    "\n",
    "Implementation the MyCircularQueue class:\n",
    "\n",
    "- **MyCircularQueue(k)** Initializes the object with the size of the queue to be k.\n",
    "- **int Front()** Gets the front item from the queue. If the queue is empty, return -1.\n",
    "- **int Rear()** Gets the last item from the queue. If the queue is empty, return -1.\n",
    "- **boolean enQueue(int value)** Inserts an element into the circular queue. Return true if the operation is successful.\n",
    "- **boolean deQueue()** Deletes an element from the circular queue. Return true if the operation is successful.\n",
    "- **boolean isEmpty()** Checks whether the circular queue is empty or not.\n",
    "- **boolean isFull()** Checks whether the circular queue is full or not."
   ]
  },
  {
   "cell_type": "markdown",
   "metadata": {},
   "source": [
    "***\n",
    "**원형 큐**\n",
    "![circular q](https://img1.daumcdn.net/thumb/R1280x0/?scode=mtistory2&fname=https%3A%2F%2Fblog.kakaocdn.net%2Fdn%2FmAiv4%2FbtqyfXRxQsU%2FaS7QZ9Xki49reyhmVKkf2k%2Fimg.png)\n",
    "- 선형 큐의 단점 : 선형 큐에서 삽입 및 삭제를 반복하다 보면, rear가 맨 마지막 인덱스를 가리키고, 앞에는 비어 있을 수 있지만 이를 꽉 찼다고 인식합니다. 이는 실제 데이터는 삭제 때마다 한 칸 앞으로 이동시키지 않았고, 인덱스 단위로 큐의 연산을 진행했기 때문입니다.\n",
    "    - 원형 큐는 `잘못된 포화 상태 인식`을 방지하는 보다 효과적인 큐로서 1차원 배열의 처음과 끝이 서로 연결되었다고 본다.\n",
    "        - 인덱스도 이에 따라 변경, %(나머지) 연산 사용\n",
    "    - 잘못된 포화 상태 인식이란, 큐에서 삽입과 삭제를 반복하면서 앞부분에 빈자리가 있어도 rear = n-1 상태이면 포화상태로 인식하고 더 이상의 삽입을 수행하지 않는 것이다. \n",
    "\n",
    "\n",
    "\n",
    "- 원형 큐의 구현\n",
    "    - 동작 원리는 `투포인터`와 비슷 : 마지막 위치와 시작 위치를 연결하는 원형 구조를 만들고, 요소의 시작점과 끝점을 따라 투 포인터가 움직인다\n",
    "    - enQueue() : rear += 1\n",
    "        - 단, 정해진 길이를 벗어나면 안되기 때문에 % (maxlen) 사용\n",
    "    - deQueueO) : front += 1\n",
    "\n",
    "\n",
    "\n",
    "출처: https://ppomelo.tistory.com/59 [ppomelo 🍐]\n",
    "\n"
   ]
  },
  {
   "cell_type": "code",
   "execution_count": 15,
   "metadata": {
    "ExecuteTime": {
     "end_time": "2021-01-04T13:50:54.549817Z",
     "start_time": "2021-01-04T13:50:54.537920Z"
    }
   },
   "outputs": [],
   "source": [
    "class MyCircularQueue(object):\n",
    "\n",
    "    def __init__(self, k):\n",
    "        \"\"\"\n",
    "        :type k: int\n",
    "        \"\"\"\n",
    "        self.cq = [None]* k\n",
    "        self.maxlength = k\n",
    "        self.front = 0\n",
    "        self.rear = 0\n",
    "\n",
    "    def enQueue(self, value):\n",
    "        \"\"\"\n",
    "        :type value: int\n",
    "        :rtype: bool\n",
    "        \"\"\"\n",
    "        if self.cq[self.rear] is None:\n",
    "            self.cq[self.rear] = value\n",
    "            self.rear = (self.rear + 1) % self.maxlength\n",
    "            return True\n",
    "        else:\n",
    "            return False\n",
    "        \n",
    "\n",
    "    def deQueue(self):\n",
    "        \"\"\"\n",
    "        :rtype: bool\n",
    "        \"\"\"\n",
    "        if self.cq[self.front] is not None:\n",
    "            self.cq[self.front] = None\n",
    "            self.front = (self.front + 1) % self.maxlength\n",
    "            return True\n",
    "        else:\n",
    "            return False\n",
    "        \n",
    "    def Front(self):\n",
    "        \"\"\"\n",
    "        :rtype: int\n",
    "        \"\"\"\n",
    "        if self.cq[self.front] is not None:\n",
    "            return self.cq[self.front]\n",
    "        else:\n",
    "            return -1\n",
    "        \n",
    "\n",
    "    def Rear(self):\n",
    "        \"\"\"\n",
    "        :rtype: int\n",
    "        \"\"\"\n",
    "        if self.cq[self.rear-1] is not None:\n",
    "            return self.cq[self.rear-1]\n",
    "        else:\n",
    "            return -1\n",
    "        \n",
    "        \n",
    "    def isEmpty(self):\n",
    "        \"\"\"\n",
    "        :rtype: bool\n",
    "        \"\"\"\n",
    "        if self.cq[self.front] is None:\n",
    "            return True\n",
    "        else:\n",
    "            return False\n",
    "\n",
    "    def isFull(self):\n",
    "        \"\"\"\n",
    "        :rtype: bool\n",
    "        \"\"\"\n",
    "        return (self.front == self.rear) and (self.cq[self.front]!=None)\n"
   ]
  },
  {
   "cell_type": "code",
   "execution_count": 16,
   "metadata": {
    "ExecuteTime": {
     "end_time": "2021-01-04T13:50:54.707854Z",
     "start_time": "2021-01-04T13:50:54.700374Z"
    }
   },
   "outputs": [
    {
     "name": "stdout",
     "output_type": "stream",
     "text": [
      "[1, None, None] 1\n",
      "True\n",
      "[1, 2, None] 2\n",
      "True\n",
      "[1, 2, 3] 0\n",
      "True\n",
      "False\n",
      "[1, 2, 3] 0\n",
      "3\n",
      "True\n",
      "True\n",
      "[4, 2, 3] 1\n",
      "True\n",
      "[4, 2, 3] 1\n",
      "4\n"
     ]
    }
   ],
   "source": [
    "myCircularQueue = MyCircularQueue(6)\n",
    "print(myCircularQueue.enQueue(6)) # return True\n",
    "print(myCircularQueue.enQueue(2)); # return True\n",
    "print(myCircularQueue.enQueue(3)); # return True\n",
    "print(myCircularQueue.enQueue(4)); # return False\n",
    "print(myCircularQueue.Rear());     # return 3\n",
    "print(myCircularQueue.isFull());   #return True\n",
    "print(myCircularQueue.deQueue());  # return True\n",
    "print(myCircularQueue.enQueue(4)); # return True\n",
    "print(myCircularQueue.Rear());     # return 4"
   ]
  },
  {
   "cell_type": "code",
   "execution_count": null,
   "metadata": {},
   "outputs": [],
   "source": []
  }
 ],
 "metadata": {
  "hide_input": false,
  "kernelspec": {
   "display_name": "Python 3",
   "language": "python",
   "name": "python3"
  },
  "language_info": {
   "codemirror_mode": {
    "name": "ipython",
    "version": 3
   },
   "file_extension": ".py",
   "mimetype": "text/x-python",
   "name": "python",
   "nbconvert_exporter": "python",
   "pygments_lexer": "ipython3",
   "version": "3.7.4"
  },
  "toc": {
   "base_numbering": 1,
   "nav_menu": {},
   "number_sections": true,
   "sideBar": true,
   "skip_h1_title": false,
   "title_cell": "Table of Contents",
   "title_sidebar": "Contents",
   "toc_cell": false,
   "toc_position": {},
   "toc_section_display": true,
   "toc_window_display": false
  },
  "varInspector": {
   "cols": {
    "lenName": 16,
    "lenType": 16,
    "lenVar": 40
   },
   "kernels_config": {
    "python": {
     "delete_cmd_postfix": "",
     "delete_cmd_prefix": "del ",
     "library": "var_list.py",
     "varRefreshCmd": "print(var_dic_list())"
    },
    "r": {
     "delete_cmd_postfix": ") ",
     "delete_cmd_prefix": "rm(",
     "library": "var_list.r",
     "varRefreshCmd": "cat(var_dic_list()) "
    }
   },
   "types_to_exclude": [
    "module",
    "function",
    "builtin_function_or_method",
    "instance",
    "_Feature"
   ],
   "window_display": false
  }
 },
 "nbformat": 4,
 "nbformat_minor": 2
}
