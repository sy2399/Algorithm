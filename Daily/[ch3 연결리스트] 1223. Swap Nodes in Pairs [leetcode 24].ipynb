{
 "cells": [
  {
   "cell_type": "markdown",
   "metadata": {},
   "source": [
    "# 페어의 노드 스왑\n",
    "\n",
    "[leetcode 24](https://leetcode.com/problems/swap-nodes-in-pairs/)\n",
    "\n",
    "Given a linked list, swap every two adjacent nodes and return its head.\n",
    "\n",
    "You may not modify the values in the list's nodes. Only nodes itself may be changed.\n",
    "\n",
    "![ex](https://assets.leetcode.com/uploads/2020/10/03/swap_ex1.jpg)"
   ]
  },
  {
   "cell_type": "markdown",
   "metadata": {},
   "source": [
    "## Solution1. 반복구조로 swap\n",
    "- 1->2->3->4->5가 있을 경우\n",
    "    - 3->4를 4->3으로 + 2가 가리키는 값을 5로 뼌경해야 해"
   ]
  },
  {
   "cell_type": "code",
   "execution_count": null,
   "metadata": {},
   "outputs": [],
   "source": [
    "# Definition for singly-linked list.\n",
    "# class ListNode(object):\n",
    "#     def __init__(self, val=0, next=None):\n",
    "#         self.val = val\n",
    "#         self.next = next\n",
    "\n",
    "## a->b->c\n",
    "## b->a->c\n",
    "class Solution(object):\n",
    "    def swapPairs(self, head):\n",
    "        \"\"\"\n",
    "        :type head: ListNode\n",
    "        :rtype: ListNode\n",
    "        \"\"\"\n",
    "        root = prev = ListNode()\n",
    "        prev.next = head\n",
    "        \n",
    "        while head and head.next:\n",
    "            # b가 a를 가리키도록\n",
    "            b = head.next\n",
    "            head.next = b.next\n",
    "            b.next = head\n",
    "            \n",
    "            # prev가 b를 가리키도록\n",
    "            prev.next = b\n",
    "            \n",
    "            # 노드 이동\n",
    "            head = head.next\n",
    "            prev = prev.next.next\n",
    "            \n",
    "         \n",
    "        return root.next\n",
    "            \n",
    "                \n",
    "            "
   ]
  },
  {
   "cell_type": "markdown",
   "metadata": {},
   "source": [
    "## Solution2. 재귀구조로 swap"
   ]
  },
  {
   "cell_type": "code",
   "execution_count": null,
   "metadata": {},
   "outputs": [],
   "source": []
  },
  {
   "cell_type": "code",
   "execution_count": null,
   "metadata": {},
   "outputs": [],
   "source": [
    "class ListNode(object):\n",
    "    def __init__(self, val=0, next=None):\n",
    "        self.val = val\n",
    "        self.next = next\n",
    "        \n",
    "input_data = [1,2,3,4]\n",
    "root = head = ListNode(1)\n",
    "\n",
    "for i in input_data[1:]:\n",
    "    head.next = ListNode(i)\n",
    "    head = head.next\n",
    "    \n",
    "Solution.swapPairs(Solution, root)"
   ]
  }
 ],
 "metadata": {
  "hide_input": false,
  "kernelspec": {
   "display_name": "Python 3",
   "language": "python",
   "name": "python3"
  },
  "language_info": {
   "codemirror_mode": {
    "name": "ipython",
    "version": 3
   },
   "file_extension": ".py",
   "mimetype": "text/x-python",
   "name": "python",
   "nbconvert_exporter": "python",
   "pygments_lexer": "ipython3",
   "version": "3.7.4"
  },
  "toc": {
   "base_numbering": 1,
   "nav_menu": {},
   "number_sections": true,
   "sideBar": true,
   "skip_h1_title": false,
   "title_cell": "Table of Contents",
   "title_sidebar": "Contents",
   "toc_cell": false,
   "toc_position": {},
   "toc_section_display": true,
   "toc_window_display": false
  },
  "varInspector": {
   "cols": {
    "lenName": 16,
    "lenType": 16,
    "lenVar": 40
   },
   "kernels_config": {
    "python": {
     "delete_cmd_postfix": "",
     "delete_cmd_prefix": "del ",
     "library": "var_list.py",
     "varRefreshCmd": "print(var_dic_list())"
    },
    "r": {
     "delete_cmd_postfix": ") ",
     "delete_cmd_prefix": "rm(",
     "library": "var_list.r",
     "varRefreshCmd": "cat(var_dic_list()) "
    }
   },
   "types_to_exclude": [
    "module",
    "function",
    "builtin_function_or_method",
    "instance",
    "_Feature"
   ],
   "window_display": false
  }
 },
 "nbformat": 4,
 "nbformat_minor": 2
}
