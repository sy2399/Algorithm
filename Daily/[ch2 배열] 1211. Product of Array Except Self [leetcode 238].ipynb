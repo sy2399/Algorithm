{
 "cells": [
  {
   "cell_type": "markdown",
   "metadata": {},
   "source": [
    "# 자신을 제외한 배열의 곱\n",
    "\n",
    "[leetcode 238](https://leetcode.com/problems/product-of-array-except-self/)\n",
    "\n",
    "Given an array nums of n integers where n > 1,  return an array output such that output[i] is equal to the product of all the elements of nums except nums[i].\n",
    "\n",
    "- Constraint   \n",
    "It's guaranteed that the product of the elements of any prefix or suffix of the array (including the whole array) fits in a 32 bit integer.\n",
    "\n",
    "- Note: Please solve it **without division** and in O(n).\n",
    "\n",
    "- Follow up:   \n",
    "Could you solve it with constant space complexity? (The output array does not count as extra space for the purpose of space complexity analysis.)"
   ]
  },
  {
   "cell_type": "markdown",
   "metadata": {},
   "source": [
    "***\n",
    "- 나눗셈을 하지 말고!\n",
    "- cf. [Multiply all numbers in list(4 different ways)](https://www.geeksforgeeks.org/python-multiply-numbers-list-3-different-ways/)\n",
    "    - for loop\n",
    "    - numpy.prod()\n",
    "    - functiools.reduct : reduce((lambda x, y: x * y), list1)\n",
    "    - math.prod()\n",
    "\n",
    "- My Sol1 : TIMEOUT : `output[i] = input[:i] * input[i+1:]`\n",
    "- My Sol2 : TIMEOUT : stack or queue 사용\n",
    "    - 1) stack = [1, 2, 3, 4] --> popped = pop(0) --> stack = [2,3,4] --> product(stack) = 24 --> append (popped) --> [2,3,4,1]\n",
    "    - 2) stack = [2,3,4,1] --> popped...\n",
    "- exception \n",
    "    - 0 이 있을 때\n",
    "    - -1, 1\n"
   ]
  },
  {
   "cell_type": "code",
   "execution_count": 32,
   "metadata": {
    "ExecuteTime": {
     "end_time": "2020-12-11T06:04:49.075763Z",
     "start_time": "2020-12-11T06:04:49.065904Z"
    }
   },
   "outputs": [],
   "source": [
    "import numpy\n",
    "\n",
    "class Solution(object):\n",
    "    def productExceptSelf(self, nums):\n",
    "        \"\"\"\n",
    "        :type nums: List[int]\n",
    "        :rtype: List[int]\n",
    "        \"\"\"\n",
    "        output = []\n",
    "        for i in range(len(nums)):\n",
    "            output.append(int(numpy.prod(nums[:i]) * numpy.prod(nums[i+1:])))\n",
    "            \n",
    "        return output"
   ]
  },
  {
   "cell_type": "code",
   "execution_count": 33,
   "metadata": {
    "ExecuteTime": {
     "end_time": "2020-12-11T06:04:49.314084Z",
     "start_time": "2020-12-11T06:04:49.305176Z"
    }
   },
   "outputs": [
    {
     "data": {
      "text/plain": [
       "[24, 12, 8, 6]"
      ]
     },
     "execution_count": 33,
     "metadata": {},
     "output_type": "execute_result"
    }
   ],
   "source": [
    "nums = [1,2,3,4]\n",
    "Solution.productExceptSelf(Solution, nums)"
   ]
  },
  {
   "cell_type": "markdown",
   "metadata": {},
   "source": [
    "# Solution : 왼쪽 곱셈 결과에 오른쪽 값을 차례대로 곱셈\n",
    "- MySol1 `output[i] = input[:i] * input[i+1:]` 을 좀 더 빠르게 \n",
    "- 자기 자신을 제외하고 왼쪽의 곱셈 결과와 오른쪽의 곱셈 결과를 곱하기\n",
    "\n",
    "- ex) [1,2,3,4], p(임시 변수) = 1\n",
    "1) 왼쪽의 곱셈 (마지막 값 제외) : \n",
    "    - p = p X nums[i]\n",
    "    - [p, p X 1 = 1, (p X 1) X 2 = 2, (p X 1 X 2) X 3 = 6]\n",
    "    - [1,1,2,6]\n",
    "2) 왼쪽의 곱셈 값(거꾸로) * 오른쪽의 값"
   ]
  },
  {
   "cell_type": "code",
   "execution_count": 34,
   "metadata": {
    "ExecuteTime": {
     "end_time": "2020-12-11T06:43:59.837329Z",
     "start_time": "2020-12-11T06:43:59.831872Z"
    }
   },
   "outputs": [],
   "source": [
    "class Solution(object):\n",
    "    def productExceptSelf(self, nums):\n",
    "        \"\"\"\n",
    "        :type nums: List[int]\n",
    "        :rtype: List[int]\n",
    "        \"\"\"\n",
    "        out = []\n",
    "        p = 1 ## 임시 변수 (첫번째 값은 왼쪽에 아무 값도 없으니, 영향을 주지 않기 위해 1이라는 초기값 사용)\n",
    "        \n",
    "        # 왼쪽 곱\n",
    "        for i in range(0, len(nums)):\n",
    "            out.append(p)\n",
    "            p = p * nums[i]\n",
    "        \n",
    "        p = 1 ## 임시 변수 (마지막 값은 오른쪽에 아무 값도 없으니, 영향을 주지 않기 위해 1이라는 초기값 사용)\n",
    "        \n",
    "        # 왼쪽 곱 결과에 오른쪽 값을 차례대로 곱하기\n",
    "        for i in range(len(nums)-1, 0-1, -1):\n",
    "            out[i] = out[i] * p\n",
    "            p = p * nums[i]\n",
    "        return out\n",
    "            "
   ]
  },
  {
   "cell_type": "code",
   "execution_count": null,
   "metadata": {},
   "outputs": [],
   "source": []
  }
 ],
 "metadata": {
  "hide_input": false,
  "kernelspec": {
   "display_name": "Python 3",
   "language": "python",
   "name": "python3"
  },
  "language_info": {
   "codemirror_mode": {
    "name": "ipython",
    "version": 3
   },
   "file_extension": ".py",
   "mimetype": "text/x-python",
   "name": "python",
   "nbconvert_exporter": "python",
   "pygments_lexer": "ipython3",
   "version": "3.7.4"
  },
  "toc": {
   "base_numbering": 1,
   "nav_menu": {},
   "number_sections": true,
   "sideBar": true,
   "skip_h1_title": false,
   "title_cell": "Table of Contents",
   "title_sidebar": "Contents",
   "toc_cell": false,
   "toc_position": {},
   "toc_section_display": true,
   "toc_window_display": false
  },
  "varInspector": {
   "cols": {
    "lenName": 16,
    "lenType": 16,
    "lenVar": 40
   },
   "kernels_config": {
    "python": {
     "delete_cmd_postfix": "",
     "delete_cmd_prefix": "del ",
     "library": "var_list.py",
     "varRefreshCmd": "print(var_dic_list())"
    },
    "r": {
     "delete_cmd_postfix": ") ",
     "delete_cmd_prefix": "rm(",
     "library": "var_list.r",
     "varRefreshCmd": "cat(var_dic_list()) "
    }
   },
   "types_to_exclude": [
    "module",
    "function",
    "builtin_function_or_method",
    "instance",
    "_Feature"
   ],
   "window_display": false
  }
 },
 "nbformat": 4,
 "nbformat_minor": 2
}
