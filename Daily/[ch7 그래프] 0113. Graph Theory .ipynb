{
 "cells": [
  {
   "cell_type": "markdown",
   "metadata": {},
   "source": [
    "# 12장. 그래프\n"
   ]
  },
  {
   "cell_type": "markdown",
   "metadata": {},
   "source": [
    "**그래프 : 객체의 일부 쌍 Pair 들이 `연관되어`있는 객체 집합 구조**\n",
    "1. 오일러 경로 (한붓그리기) : 모든 간선을 한 번씩 방문하는 유한 그래프 \n",
    "    - 모든 정점이 짝수 개의 차수를 갖는다면, 모든 다리를 한 번씩만 건너서 도달하는 것이 성립\n",
    "2. 해밀턴 경로 (외판원 문제 Traveling Sales Person): 각 정점을 한 번씩 방문하는 무향 또는 `유향`그래프 경로\n",
    "\n",
    "*`오일러 경로는 간선을 기준으로 하고, 해밀턴 경로는 정점을 기준으로 한다`*\n",
    "\n",
    "3. 그래프 순회 (Search)\n",
    "    - 3-1. DFS, Depth-First-Search\n",
    "        - 스택 or 재귀로 구현\n",
    "        - 백트래킹\n",
    "    - 3-2. BFS, Breadth-First-Search\n",
    "        - 큐로 구현\n",
    "        - 그래프의 최단 경로 구하는 문제\n",
    "        \n",
    "*`그래프 표현 방법 : 인접 행렬 or 인접 리스트 (파이썬의 dictionary 로)`*\n",
    "\n",
    "1. 그래프 순회 - DFS, BFS\n",
    "    - DFS (재귀) : 모든 인접 간선들에 대해 재귀함수 호출\n",
    "    - DFS(스택을 이용한 반복) : 스택을 이용해 모든 인접 간선을 추출하고 다시 도착점인 정점을 스택에 삽입하는 구조\n",
    "    - BFS(큐를 이용한 반복) : 모든 인접 간선을 추출하고 도착점인 정점을 큐에 삽입\n",
    "2. 백트래킹"
   ]
  },
  {
   "cell_type": "markdown",
   "metadata": {},
   "source": [
    "# 1. 그래프 순회 - DFS, BFS\n",
    "## 1-1. DFS\n",
    "코딩 테스트 시에는 재귀 구현이 더 선호되는 편\n",
    "\n",
    "1. 재귀 구조로 DFS 구현\n",
    "2. Stack 을 이용한 반복 구조로 구현"
   ]
  },
  {
   "cell_type": "markdown",
   "metadata": {},
   "source": [
    "### 1) 재귀 구조로 DFS 구현"
   ]
  },
  {
   "cell_type": "raw",
   "metadata": {
    "ExecuteTime": {
     "end_time": "2020-11-30T09:28:30.037703Z",
     "start_time": "2020-11-30T09:28:30.033318Z"
    }
   },
   "source": [
    "## 수도코드\n",
    "def DFS (G, v):\n",
    "    label v as discovered\n",
    "    for all directed edges from v to w that are in G.adjacentEdges(v) do\n",
    "        if vertex w is not labeled as discovered then\n",
    "            recursively call DFS(G, v)"
   ]
  },
  {
   "cell_type": "code",
   "execution_count": 2,
   "metadata": {
    "ExecuteTime": {
     "end_time": "2020-11-30T09:33:07.641247Z",
     "start_time": "2020-11-30T09:33:07.637564Z"
    }
   },
   "outputs": [],
   "source": [
    "def recursive_dfs(v, discovered =[]):\n",
    "    discovered.append(v)\n",
    "    for w in graph[v]:\n",
    "        for w in graph[v]:\n",
    "            if not w in discovered:\n",
    "                discovered = recursive_dfs(w, discovered)\n",
    "    return discovered"
   ]
  },
  {
   "cell_type": "code",
   "execution_count": 3,
   "metadata": {
    "ExecuteTime": {
     "end_time": "2020-11-30T09:34:27.541739Z",
     "start_time": "2020-11-30T09:34:27.529963Z"
    }
   },
   "outputs": [
    {
     "data": {
      "text/plain": [
       "[1, 2, 5, 6, 7, 3, 4]"
      ]
     },
     "execution_count": 3,
     "metadata": {},
     "output_type": "execute_result"
    }
   ],
   "source": [
    "graph = {\n",
    "    1 : [2,3,4],\n",
    "    2 : [5],\n",
    "    3 : [5],\n",
    "    4 : [],\n",
    "    5 : [6, 7],\n",
    "    6 : [],\n",
    "    7 : [3],\n",
    "}\n",
    "\n",
    "recursive_dfs(1, [])"
   ]
  },
  {
   "cell_type": "markdown",
   "metadata": {},
   "source": [
    "### 2) stack을 이용한 반복구조로 DFS 구현\n",
    "\n",
    "* 스택을 이용해 모든 인접 간선을 추출하고 다시 도착점인 정점을 스택에 삽입하는 구조"
   ]
  },
  {
   "cell_type": "raw",
   "metadata": {},
   "source": [
    "## 수도코드\n",
    "def DFS-iterative(G, v):\n",
    "    let S be a stack\n",
    "    S.push(v)\n",
    "    while S is not empty do\n",
    "        v = S.pop()\n",
    "        if v is not labeled as discovere then\n",
    "            label v as discovered\n",
    "            for all edges from v to w in G.adjacentEdges(v) do\n",
    "                S.push()        "
   ]
  },
  {
   "cell_type": "code",
   "execution_count": 4,
   "metadata": {
    "ExecuteTime": {
     "end_time": "2020-11-30T09:53:04.382463Z",
     "start_time": "2020-11-30T09:53:04.378179Z"
    }
   },
   "outputs": [],
   "source": [
    "def iterative_dfs(start_v):\n",
    "    discovered = []\n",
    "    stack = [start_v]\n",
    "    while stack:\n",
    "        v = stack.pop()\n",
    "        if v not in discovered:\n",
    "            discovered.append(v)\n",
    "            for w in graph[v]:\n",
    "                stack.append(w)\n",
    "    return discovered"
   ]
  },
  {
   "cell_type": "markdown",
   "metadata": {},
   "source": [
    "stack 으로 구현하기 때문에, 가장 마지막에 삽입된 노드부터 꺼내어 재귀 DFS 와 return 값의 순서가 다름"
   ]
  },
  {
   "cell_type": "code",
   "execution_count": 5,
   "metadata": {
    "ExecuteTime": {
     "end_time": "2020-11-30T09:53:10.847982Z",
     "start_time": "2020-11-30T09:53:10.842984Z"
    }
   },
   "outputs": [
    {
     "data": {
      "text/plain": [
       "[1, 4, 3, 5, 7, 6, 2]"
      ]
     },
     "execution_count": 5,
     "metadata": {},
     "output_type": "execute_result"
    }
   ],
   "source": [
    "iterative_dfs(1)"
   ]
  },
  {
   "cell_type": "markdown",
   "metadata": {},
   "source": [
    "## 1-2. BFS\n",
    "\n",
    "최단 경로를 찾는 다익스트라 알고리즘 등에 매우 유용\n",
    "1. 큐를 이용한 반복 구조로 구현 : 모든 인접 간선을 추출하고 도착점인 정점을 큐에 삽입\n"
   ]
  },
  {
   "cell_type": "code",
   "execution_count": 1,
   "metadata": {
    "ExecuteTime": {
     "end_time": "2021-01-13T09:21:34.785293Z",
     "start_time": "2021-01-13T09:21:34.780870Z"
    }
   },
   "outputs": [],
   "source": [
    "def iterative_bfs(start_v):\n",
    "    discovered = [start_v]\n",
    "    queue = [start_v]\n",
    "\n",
    "    while queue:\n",
    "        v = queue.pop(0)\n",
    "        for w in graph[v]:\n",
    "            if not w in discovered:\n",
    "                discovered.append(w)\n",
    "                queue.append(w)\n",
    "    return discovered"
   ]
  },
  {
   "cell_type": "markdown",
   "metadata": {},
   "source": [
    "## DFS vs BFS\n",
    "\n",
    "||DFS|BFS|\n",
    "|------|------|------|\n",
    "|discovered 초기화|[  ]|[start_v]|\n",
    "|v|stack.pop()|queue.pop(0)|\n",
    "|1st 작업|if v not in discovered|for w in graph[v]|\n",
    "|2nd |for w in graph[v]|if not w in discovered|\n",
    "|discover에 값 추가|discover.append(v)| discover.append(w)|"
   ]
  },
  {
   "cell_type": "markdown",
   "metadata": {},
   "source": [
    "# 백트래킹\n",
    "- 백트래킹은 해결책에 대한 후보를 구축해 나아가다 가능성이 없다고 판단되는 즉시 후보를 포기(backtrack)해 정답을 찾아가는 알고리즘\n",
    "- `제약 충족` 문제에 특히 유용"
   ]
  },
  {
   "cell_type": "code",
   "execution_count": null,
   "metadata": {},
   "outputs": [],
   "source": []
  }
 ],
 "metadata": {
  "hide_input": false,
  "kernelspec": {
   "display_name": "Python 3",
   "language": "python",
   "name": "python3"
  },
  "language_info": {
   "codemirror_mode": {
    "name": "ipython",
    "version": 3
   },
   "file_extension": ".py",
   "mimetype": "text/x-python",
   "name": "python",
   "nbconvert_exporter": "python",
   "pygments_lexer": "ipython3",
   "version": "3.7.4"
  },
  "toc": {
   "base_numbering": 1,
   "nav_menu": {},
   "number_sections": true,
   "sideBar": true,
   "skip_h1_title": false,
   "title_cell": "Table of Contents",
   "title_sidebar": "Contents",
   "toc_cell": false,
   "toc_position": {},
   "toc_section_display": true,
   "toc_window_display": false
  },
  "varInspector": {
   "cols": {
    "lenName": 16,
    "lenType": 16,
    "lenVar": 40
   },
   "kernels_config": {
    "python": {
     "delete_cmd_postfix": "",
     "delete_cmd_prefix": "del ",
     "library": "var_list.py",
     "varRefreshCmd": "print(var_dic_list())"
    },
    "r": {
     "delete_cmd_postfix": ") ",
     "delete_cmd_prefix": "rm(",
     "library": "var_list.r",
     "varRefreshCmd": "cat(var_dic_list()) "
    }
   },
   "types_to_exclude": [
    "module",
    "function",
    "builtin_function_or_method",
    "instance",
    "_Feature"
   ],
   "window_display": false
  }
 },
 "nbformat": 4,
 "nbformat_minor": 2
}
