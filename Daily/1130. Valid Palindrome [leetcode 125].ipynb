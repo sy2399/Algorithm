{
 "cells": [
  {
   "cell_type": "markdown",
   "metadata": {},
   "source": [
    "\n",
    "[leetcode](https://leetcode.com/problems/valid-palindrome/)\n",
    "\n",
    "Given a string, determine if it is a palindrome, considering only alphanumeric characters and ignoring cases.\n",
    "\n",
    "* Note: For the purpose of this problem, we define empty string as valid palindrome.\n",
    "\n",
    "* Example 1:\n",
    "\n",
    "Input: \"A man, a plan, a canal: Panama\"   \n",
    "Output: true   \n",
    "\n",
    "* Example 2:   \n",
    "\n",
    "Input: \"race a car\"   \n",
    "Output: false   \n",
    " \n",
    "\n",
    "* Constraints:   \n",
    "\n",
    "s consists only of printable ASCII characters."
   ]
  },
  {
   "cell_type": "markdown",
   "metadata": {},
   "source": [
    "***\n",
    "# My Solution : Solution3 슬라이싱 사용\n",
    "**풀이과정**\n",
    "\n",
    "1. palindrom 은 뒤집어서 같은지 확인하는 거니까 python str[::-1] 사용\n",
    "2. 특수문자를 제거하고, 대문자를 소문자로 바꿔야 뒤집어도 같아지니까 정규표현식 사용\n",
    "    - 대문자 to 소문자 : `origin_s = s.lower()`\n",
    "    - 문자 & 숫자만 남기는 정규표현식 : `re.sub('[^A-Za-z0-9]', '', origin_s)`"
   ]
  },
  {
   "cell_type": "code",
   "execution_count": 50,
   "metadata": {
    "ExecuteTime": {
     "end_time": "2020-11-30T03:50:13.317777Z",
     "start_time": "2020-11-30T03:50:13.313226Z"
    }
   },
   "outputs": [],
   "source": [
    "import re\n",
    "\n",
    "class Solution(object):\n",
    "    def isPalindrome(self, s):\n",
    "        \"\"\"\n",
    "        :type s: str\n",
    "        :rtype: bool\n",
    "        \"\"\"\n",
    "        \n",
    "        # 대문자 to 소문자\n",
    "        origin_s = s.lower()\n",
    "        \n",
    "        # remain only alphabet : https://stackoverflow.com/questions/34214139/python-keep-only-letters-in-string\n",
    "        #origin_s = ''.join(x for x in origin_s if x.isalpha())\n",
    "        \n",
    "        # 정규표현식 : https://wikidocs.net/4308\n",
    "        # \\w - 문자+숫자(alphanumeric)와 매치, [a-zA-Z0-9_]와 동일한 표현식이다.\n",
    "        origin_s = re.sub('[^A-Za-z0-9]', '', origin_s)\n",
    "                \n",
    "        # For the purpose of this problem, we define empty string as valid palindrome\n",
    "        if origin_s == \"\":\n",
    "            return True\n",
    "        \n",
    "        palind = origin_s[::-1]\n",
    "        \n",
    "        return (origin_s == palind)\n",
    "       \n"
   ]
  },
  {
   "cell_type": "code",
   "execution_count": 53,
   "metadata": {
    "ExecuteTime": {
     "end_time": "2020-11-30T04:46:55.176748Z",
     "start_time": "2020-11-30T04:46:55.170754Z"
    }
   },
   "outputs": [
    {
     "name": "stdout",
     "output_type": "stream",
     "text": [
      "CPU times: user 19 µs, sys: 0 ns, total: 19 µs\n",
      "Wall time: 42 µs\n"
     ]
    },
    {
     "data": {
      "text/plain": [
       "True"
      ]
     },
     "execution_count": 53,
     "metadata": {},
     "output_type": "execute_result"
    }
   ],
   "source": [
    "s = \"A man, a plan, a canal: Panama!!\"\n",
    "\n",
    "%time Solution.isPalindrome(Solution, s)"
   ]
  },
  {
   "cell_type": "markdown",
   "metadata": {},
   "source": [
    "# Solution1 : 리스트로 변환\n",
    "\n",
    "1. 문자열 전처리 : 대소문자 구분 X, 영문자 & 숫자만\n",
    "    - `isalnum()` : 영문자, 숫자 여부 판별\n",
    "2. 팰린드롬 여부 판별\n",
    "    - 스트링 리스트에섯 `pop(0)` vs `pop()` 으로 맨앞, 맨 뒤 요소 비교"
   ]
  },
  {
   "cell_type": "code",
   "execution_count": 54,
   "metadata": {
    "ExecuteTime": {
     "end_time": "2020-11-30T04:47:03.673294Z",
     "start_time": "2020-11-30T04:47:03.668651Z"
    }
   },
   "outputs": [],
   "source": [
    "class Solution(object):\n",
    "        strs = []\n",
    "        for char in s:\n",
    "            if char.isalnum():\n",
    "                strs.append(char.lower())\n",
    "                \n",
    "        while len(strs)>1:\n",
    "            if strs.pop(0) != strs.pop():\n",
    "                return False\n",
    "            \n",
    "        return True"
   ]
  },
  {
   "cell_type": "code",
   "execution_count": 56,
   "metadata": {
    "ExecuteTime": {
     "end_time": "2020-11-30T04:48:29.659662Z",
     "start_time": "2020-11-30T04:48:29.654011Z"
    }
   },
   "outputs": [
    {
     "name": "stdout",
     "output_type": "stream",
     "text": [
      "CPU times: user 15 µs, sys: 0 ns, total: 15 µs\n",
      "Wall time: 17.2 µs\n"
     ]
    },
    {
     "data": {
      "text/plain": [
       "True"
      ]
     },
     "execution_count": 56,
     "metadata": {},
     "output_type": "execute_result"
    }
   ],
   "source": [
    "s = \"A man, a plan, a canal: Panama!!\"\n",
    "\n",
    "%time Solution.isPalindrome(Solution, s)"
   ]
  },
  {
   "cell_type": "markdown",
   "metadata": {},
   "source": [
    "# Solution2 : Deque 자료형을 이용한 최적화\n",
    "\n",
    "- Deque.popleft() : O(1)\n",
    "- str.pop(0) : O(n)"
   ]
  },
  {
   "cell_type": "code",
   "execution_count": 57,
   "metadata": {
    "ExecuteTime": {
     "end_time": "2020-11-30T04:48:30.666896Z",
     "start_time": "2020-11-30T04:48:30.662246Z"
    }
   },
   "outputs": [],
   "source": [
    "import collections\n",
    "\n",
    "class Solution(object):\n",
    "    def isPalindrome(self, s):\n",
    "        strs = collections.deque()\n",
    "        \n",
    "        for char in s:\n",
    "            if char.isalnum():\n",
    "                strs.append(char.lower())\n",
    "        while len(strs)>1:\n",
    "            if strs.popleft() != strs.pop():\n",
    "                return False\n",
    "        return True"
   ]
  },
  {
   "cell_type": "code",
   "execution_count": 58,
   "metadata": {
    "ExecuteTime": {
     "end_time": "2020-11-30T04:48:32.073915Z",
     "start_time": "2020-11-30T04:48:32.068281Z"
    }
   },
   "outputs": [
    {
     "name": "stdout",
     "output_type": "stream",
     "text": [
      "CPU times: user 19 µs, sys: 14 µs, total: 33 µs\n",
      "Wall time: 37 µs\n"
     ]
    },
    {
     "data": {
      "text/plain": [
       "True"
      ]
     },
     "execution_count": 58,
     "metadata": {},
     "output_type": "execute_result"
    }
   ],
   "source": [
    "s = \"A man, a plan, a canal: Panama!!\"\n",
    "\n",
    "%time Solution.isPalindrome(Solution, s)"
   ]
  },
  {
   "cell_type": "markdown",
   "metadata": {},
   "source": [
    "# Solution3 : 슬라이싱 사용\n",
    "\n",
    "* 문자열 슬라이싱\n",
    "- 내부적으로 빠르게 동작 --> 문자열 조작시엔 항상 슬라이싱을 우선으로 사용하는 편이 속도 개선에 유리\n",
    "    - 위치 지정시, 해당 위치의 배열 포인터를 얻게 되며, 이를 통해 연결된 객체를 찾기 때문에 매우 빠름\n"
   ]
  }
 ],
 "metadata": {
  "hide_input": false,
  "kernelspec": {
   "display_name": "Python 3",
   "language": "python",
   "name": "python3"
  },
  "language_info": {
   "codemirror_mode": {
    "name": "ipython",
    "version": 3
   },
   "file_extension": ".py",
   "mimetype": "text/x-python",
   "name": "python",
   "nbconvert_exporter": "python",
   "pygments_lexer": "ipython3",
   "version": "3.7.4"
  },
  "toc": {
   "base_numbering": 1,
   "nav_menu": {},
   "number_sections": true,
   "sideBar": true,
   "skip_h1_title": false,
   "title_cell": "Table of Contents",
   "title_sidebar": "Contents",
   "toc_cell": false,
   "toc_position": {},
   "toc_section_display": true,
   "toc_window_display": false
  },
  "varInspector": {
   "cols": {
    "lenName": 16,
    "lenType": 16,
    "lenVar": 40
   },
   "kernels_config": {
    "python": {
     "delete_cmd_postfix": "",
     "delete_cmd_prefix": "del ",
     "library": "var_list.py",
     "varRefreshCmd": "print(var_dic_list())"
    },
    "r": {
     "delete_cmd_postfix": ") ",
     "delete_cmd_prefix": "rm(",
     "library": "var_list.r",
     "varRefreshCmd": "cat(var_dic_list()) "
    }
   },
   "types_to_exclude": [
    "module",
    "function",
    "builtin_function_or_method",
    "instance",
    "_Feature"
   ],
   "window_display": false
  }
 },
 "nbformat": 4,
 "nbformat_minor": 2
}
