{
 "cells": [
  {
   "cell_type": "markdown",
   "metadata": {},
   "source": [
    "# Hash\n",
    "hash : key-value 쌍으로 데이터를 저장하는 자료구조\n",
    "\n",
    "- [x]  Lv1 : 완주하지 못한 선수 \n",
    "- [x]  Lv2 : 전화번호 목록\n",
    "- [x]  Lv2 : 위장\n",
    "- [ ]  Lv3 : 베스트앨범 \n",
    "\n",
    "출처 : https://programmers.co.kr/learn/courses/30/parts/12077\n",
    "\n",
    "***\n",
    "\n",
    "***Tips***\n",
    "- collections 라이브러리\n",
    "- python 으로 조합 구하기 \n",
    "    - itertools.permutations\n",
    "    - itertools.combinations\n",
    "    - itertools.product\n",
    "- functools.reduce\n"
   ]
  },
  {
   "cell_type": "markdown",
   "metadata": {},
   "source": [
    "## Lv1. 완주하지 못한 선수\n",
    "\n",
    "수많은 마라톤 선수들이 마라톤에 참여하였습니다. 단 한 명의 선수를 제외하고는 모든 선수가 마라톤을 완주하였습니다.\n",
    "\n",
    "마라톤에 참여한 선수들의 이름이 담긴 배열 participant와 완주한 선수들의 이름이 담긴 배열 completion이 주어질 때, 완주하지 못한 선수의 이름을 return 하도록 solution 함수를 작성해주세요.\n",
    "\n",
    "***\n",
    "- 조건\n",
    "    - ***동명이인 있음!***\n",
    "\n",
    "***\n",
    "효율성 체크!\n",
    "\n",
    "이때 문제의 조건에는 없지만, 완주하지 못한 선수는 항상 한명!\n",
    "때문에 participant, completion 을 sorting 한 후 비교하면 for 문을 한번만 사용하면 댐"
   ]
  },
  {
   "cell_type": "code",
   "execution_count": 1,
   "metadata": {
    "ExecuteTime": {
     "end_time": "2020-03-23T04:04:51.694944Z",
     "start_time": "2020-03-23T04:04:51.682383Z"
    }
   },
   "outputs": [
    {
     "data": {
      "text/plain": [
       "'mislav'"
      ]
     },
     "execution_count": 1,
     "metadata": {},
     "output_type": "execute_result"
    }
   ],
   "source": [
    "def solution(participant, completion):\n",
    "    answer = \"\"\n",
    "    participant.sort()\n",
    "    completion.sort()\n",
    "    \n",
    "    for idx, c in enumerate(completion):\n",
    "        if participant[idx] != c:\n",
    "            answer = participant[idx]\n",
    "            break\n",
    "        \n",
    "\n",
    "    return answer\n",
    "\n",
    "participant = [\"mislav\", \"stanko\", \"mislav\", \"ana\"]\n",
    "completion = [\"stanko\", \"ana\", \"mislav\"]\n",
    "\n",
    "solution(participant, completion)"
   ]
  },
  {
   "cell_type": "markdown",
   "metadata": {},
   "source": [
    "***collection 라이브러리 사용하기***\n",
    "\n",
    "\n",
    "보다 간단한 방법...collection 라이브러리 사용하기!"
   ]
  },
  {
   "cell_type": "code",
   "execution_count": 7,
   "metadata": {
    "ExecuteTime": {
     "end_time": "2020-03-23T04:07:36.233089Z",
     "start_time": "2020-03-23T04:07:36.228950Z"
    }
   },
   "outputs": [],
   "source": [
    "## collection 라이브러리 사용하기\n",
    "import collections\n",
    "\n",
    "def solution(participant, completion):\n",
    "    answer = collections.Counter(participant) - collections.Counter(completion)\n",
    "    \n",
    "    print(collections.Counter(participant))\n",
    "    print(collections.Counter(completion))\n",
    "    \n",
    "    print(answer)\n",
    "    return list(answer.keys())[0]"
   ]
  },
  {
   "cell_type": "code",
   "execution_count": 8,
   "metadata": {
    "ExecuteTime": {
     "end_time": "2020-03-23T04:07:40.517409Z",
     "start_time": "2020-03-23T04:07:40.512897Z"
    }
   },
   "outputs": [
    {
     "name": "stdout",
     "output_type": "stream",
     "text": [
      "Counter({'mislav': 2, 'ana': 1, 'stanko': 1})\n",
      "Counter({'ana': 1, 'mislav': 1, 'stanko': 1})\n",
      "Counter({'mislav': 1})\n"
     ]
    },
    {
     "data": {
      "text/plain": [
       "'mislav'"
      ]
     },
     "execution_count": 8,
     "metadata": {},
     "output_type": "execute_result"
    }
   ],
   "source": [
    "solution(participant, completion)"
   ]
  },
  {
   "cell_type": "markdown",
   "metadata": {},
   "source": [
    "## Lv2. 전화번호 목록\n",
    "\n",
    "전화번호부에 적힌 전화번호 중, 한 번호가 다른 번호의 접두어인 경우가 있는지 확인하려 합니다.\n",
    "전화번호가 다음과 같을 경우, 구조대 전화번호는 영석이의 전화번호의 접두사입니다.\n",
    "\n",
    "- 구조대 : 119\n",
    "- 박준영 : 97 674 223\n",
    "- 지영석 : 11 9552 4421\n",
    "\n",
    "\n",
    "전화번호부에 적힌 전화번호를 담은 배열 phone_book 이 solution 함수의 매개변수로 주어질 때, 어떤 번호가 다른 번호의 접두어인 경우가 있으면 false를 그렇지 않으면 true를 return 하도록 solution 함수를 작성해주세요."
   ]
  },
  {
   "cell_type": "markdown",
   "metadata": {},
   "source": [
    "### Try1. timeout...\n",
    "\n",
    "### Try2.\n",
    "- 시간 줄이기\n",
    "    - 제일 짧은 폰번호부터 체크?, 제일 긴 번호는 무시?\n",
    "    - --> 그러기 위해 sorting 하고 비교하면 빨라짐!\n",
    "    - phone_book.sort(key = len)\n"
   ]
  },
  {
   "cell_type": "code",
   "execution_count": 17,
   "metadata": {
    "ExecuteTime": {
     "end_time": "2020-03-23T04:43:41.505056Z",
     "start_time": "2020-03-23T04:43:41.500581Z"
    }
   },
   "outputs": [],
   "source": [
    "def solution(phone_book):\n",
    "    answer = True\n",
    "    phone_book.sort(key = len)\n",
    "    for idx, pnumber in enumerate(phone_book):\n",
    "        len_p = len(pnumber)\n",
    "        \n",
    "        for compare_p in phone_book[idx+1:]:\n",
    "            print(\"compare_p\", compare_p, compare_p[:len_p])\n",
    "            if pnumber == compare_p[:len_p]:\n",
    "                answer = False\n",
    "                break\n",
    "                \n",
    "        if answer == False:\n",
    "            break\n",
    "        \n",
    "        \n",
    "    return answer"
   ]
  },
  {
   "cell_type": "code",
   "execution_count": 20,
   "metadata": {
    "ExecuteTime": {
     "end_time": "2020-03-23T05:06:45.517319Z",
     "start_time": "2020-03-23T05:06:45.511897Z"
    }
   },
   "outputs": [
    {
     "name": "stdout",
     "output_type": "stream",
     "text": [
      "['119', '97674223', '1195524421']\n",
      "compare_p 97674223 976\n",
      "compare_p 1195524421 119\n",
      "compare_p 1195524421 11955244\n"
     ]
    },
    {
     "data": {
      "text/plain": [
       "True"
      ]
     },
     "execution_count": 20,
     "metadata": {},
     "output_type": "execute_result"
    }
   ],
   "source": [
    "phone_book = [\"119\", \"97674223\", \"1195524421\"]\n",
    "phone_book.sort(key = len)\n",
    "print(phone_book)\n",
    "solution(phone_book)"
   ]
  },
  {
   "cell_type": "markdown",
   "metadata": {},
   "source": [
    "## 위장\n",
    "\n",
    "스파이들은 매일 다른 옷을 조합하여 입어 자신을 위장합니다.\n",
    "\n",
    "예를 들어 스파이가 가진 옷이 아래와 같고 오늘 스파이가 동그란 안경, 긴 코트, 파란색 티셔츠를 입었다면 다음날은 청바지를 추가로 입거나 동그란 안경 대신 검정 선글라스를 착용하거나 해야 합니다.\n",
    "\n",
    "- 종류\t: 이름\n",
    "- 얼굴\t: 동그란 안경, 검정 선글라스\n",
    "- 상의\t: 파란색 티셔츠\n",
    "- 하의\t: 청바지\n",
    "- 겉옷\t: 긴 코트\n",
    "\n",
    "스파이가 가진 의상들이 담긴 2차원 배열 clothes가 주어질 때 서로 다른 옷의 조합의 수를 return 하도록 solution 함수를 작성해주세요.\n",
    "\n",
    "***\n",
    "ex) [a1, a2, a3], [b1, b2], [c1, c2]\n",
    "\n",
    "- 1개 선택하는 경우 : 7가지\n",
    "- 2개 선택하는 경우 : [a, b] 6 + [a, c] 6 + [b, c] 4 = 16 가지\n",
    "\n"
   ]
  },
  {
   "cell_type": "markdown",
   "metadata": {},
   "source": [
    "***cf. python으로 조합구하기***\n",
    "\n",
    "출처 : https://ourcstory.tistory.com/414"
   ]
  },
  {
   "cell_type": "code",
   "execution_count": 45,
   "metadata": {
    "ExecuteTime": {
     "end_time": "2020-03-23T05:39:01.778180Z",
     "start_time": "2020-03-23T05:39:01.770484Z"
    }
   },
   "outputs": [
    {
     "name": "stdout",
     "output_type": "stream",
     "text": [
      "* 하나의 리스트에서 모든 조합 구하기(순서 고려 O) - permutations\n",
      "[(1, 2), (1, 3), (1, 4), (1, 5), (2, 1), (2, 3), (2, 4), (2, 5), (3, 1), (3, 2), (3, 4), (3, 5), (4, 1), (4, 2), (4, 3), (4, 5), (5, 1), (5, 2), (5, 3), (5, 4)]\n",
      "\n",
      "* 하나의 리스트에서 모든 조합 구하기(순서 고려 X) - combinations\n",
      "[(1, 2), (1, 3), (1, 4), (1, 5), (2, 3), (2, 4), (2, 5), (3, 4), (3, 5), (4, 5)]\n",
      "\n",
      "* 두개 이상의 리스트에서 모든 조합 구하기 - product [('a', 1), ('a', 2), ('a', 3), ('b', 1), ('b', 2), ('b', 3), ('c', 1), ('c', 2), ('c', 3)]\n"
     ]
    }
   ],
   "source": [
    "items = [1,2,3,4,5]\n",
    "\n",
    "## 하나의 리스트에서 모든 조합 구하기\n",
    "\n",
    "from itertools import permutations\n",
    "\n",
    "print(\"* 하나의 리스트에서 모든 조합 구하기(순서 고려 O) - permutations\")\n",
    "print(list(permutations(items, 2)))\n",
    "print()\n",
    "from itertools import combinations\n",
    "print(\"* 하나의 리스트에서 모든 조합 구하기(순서 고려 X) - combinations\")\n",
    "print(list(combinations(items, 2)))\n",
    "print()\n",
    "## 두개 이상의 리스트에서 모든 조합 구하기\n",
    "items2 = [['a', 'b', 'c'], [1, 2, 3]]\n",
    "\n",
    "from itertools import product\n",
    "print(\"* 두개 이상의 리스트에서 모든 조합 구하기 - product\", list(product(*items2)))\n"
   ]
  },
  {
   "cell_type": "markdown",
   "metadata": {},
   "source": [
    "### Try1 - testcase 1개 timeout"
   ]
  },
  {
   "cell_type": "code",
   "execution_count": 74,
   "metadata": {
    "ExecuteTime": {
     "end_time": "2020-03-23T06:07:28.663931Z",
     "start_time": "2020-03-23T06:07:28.656594Z"
    }
   },
   "outputs": [],
   "source": [
    "from itertools import combinations\n",
    "\n",
    "def solution(clothes):\n",
    "    answer = 0\n",
    "    spy_dict = {}\n",
    "    \n",
    "    # 의상의 종류가 같은것끼리 묶어 dict 만들기\n",
    "    for clo in clothes:\n",
    "        if clo[1] not in spy_dict.keys():\n",
    "            spy_dict[clo[1]] = [clo[0]]\n",
    "        else:\n",
    "            spy_dict[clo[1]].append(clo[0])\n",
    "    \n",
    "    # 스파이가 선택할 수 있는 의상의 수는 최대 spy_dict.keys() - 옷의 종류의 수\n",
    "    for i in range(1, len(spy_dict.keys())+1):\n",
    "        if i == 1:\n",
    "            answer += len(clothes)\n",
    "            \n",
    "        if i > 1 and i <= len(spy_dict.keys()):\n",
    "            # 의상 종류 중 2개 이상 선택할 때, 조합 구하기\n",
    "            comb = list(combinations(spy_dict.keys(), i))\n",
    "            for c in comb:\n",
    "                tmp = 1\n",
    "                for j in range(i):\n",
    "                    tmp *= len(spy_dict[c[j]])\n",
    "                answer += tmp\n",
    "  \n",
    "    return answer"
   ]
  },
  {
   "cell_type": "markdown",
   "metadata": {},
   "source": [
    "### Try2\n",
    "- dict 초기화를 defaultdict 를 이용해서!\n",
    "- functools.reduce \n",
    "    - reduce(function, iterable, initializer=None) : iterable 의 요소들을 function 에 대입하여 하나의 결과값을 리턴해주는 함수!!\n",
    "   \n",
    "- ***각 옷의 종류의 수 +1 해주기 (안입는 경우)***\n",
    "- 마지막에 모든 옷 안입은 경우 1개 빼주기\n",
    "\n",
    "참고 : https://itholic.github.io/kata-camouflage/"
   ]
  },
  {
   "cell_type": "code",
   "execution_count": 81,
   "metadata": {
    "ExecuteTime": {
     "end_time": "2020-03-23T06:24:14.505161Z",
     "start_time": "2020-03-23T06:24:14.499720Z"
    }
   },
   "outputs": [],
   "source": [
    "from itertools import combinations\n",
    "from collections import defaultdict\n",
    "from functools import reduce\n",
    "from operator import mul\n",
    "\n",
    "def solution(clothes):\n",
    "    answer = 0\n",
    "    spy_dict = defaultdict(int) # 초기화 개수 모를땐 defaultdict 사용하기\n",
    "    \n",
    "    # 의상의 종류가 같은것끼리 묶어 dict 만들기\n",
    "    for name, kind in clothes:\n",
    "        \n",
    "        spy_dict[kind] += 1 \n",
    "        \n",
    "    print(\"dict\", spy_dict)\n",
    "    \n",
    "    # +1 해주는 이유 : 해당 kind 의 옷을 안입는 경우의 수 하나 더해주기\n",
    "    tmp = [num+1 for num in spy_dict.values()]\n",
    "    print(\"tmp\", tmp)\n",
    "    \n",
    "    answer = reduce(mul, tmp)\n",
    "    answer -= 1 # 모든 옷 안고른 경우 하나 제거\n",
    "    return answer"
   ]
  },
  {
   "cell_type": "code",
   "execution_count": 82,
   "metadata": {
    "ExecuteTime": {
     "end_time": "2020-03-23T06:24:15.678743Z",
     "start_time": "2020-03-23T06:24:15.673514Z"
    }
   },
   "outputs": [
    {
     "name": "stdout",
     "output_type": "stream",
     "text": [
      "dict defaultdict(<class 'int'>, {'headgear': 2, 'eyewear': 1})\n",
      "tmp [3, 2]\n"
     ]
    },
    {
     "data": {
      "text/plain": [
       "5"
      ]
     },
     "execution_count": 82,
     "metadata": {},
     "output_type": "execute_result"
    }
   ],
   "source": [
    "# clothes의 각 행은 [의상의 이름, 의상의 종류]로 이루어져 있습니다.\n",
    "clothes = [[\"yellow_hat\", \"headgear\"], \n",
    "           [\"blue_sunglasses\", \"eyewear\"], \n",
    "           [\"green_turban\", \"headgear\"],\n",
    "            ]\n",
    "\n",
    "\n",
    "    \n",
    "solution(clothes)"
   ]
  },
  {
   "cell_type": "code",
   "execution_count": null,
   "metadata": {},
   "outputs": [],
   "source": []
  }
 ],
 "metadata": {
  "kernelspec": {
   "display_name": "Python 3",
   "language": "python",
   "name": "python3"
  },
  "language_info": {
   "codemirror_mode": {
    "name": "ipython",
    "version": 3
   },
   "file_extension": ".py",
   "mimetype": "text/x-python",
   "name": "python",
   "nbconvert_exporter": "python",
   "pygments_lexer": "ipython3",
   "version": "3.7.4"
  },
  "toc": {
   "base_numbering": 1,
   "nav_menu": {},
   "number_sections": true,
   "sideBar": true,
   "skip_h1_title": false,
   "title_cell": "Table of Contents",
   "title_sidebar": "Contents",
   "toc_cell": false,
   "toc_position": {},
   "toc_section_display": true,
   "toc_window_display": false
  },
  "varInspector": {
   "cols": {
    "lenName": 16,
    "lenType": 16,
    "lenVar": 40
   },
   "kernels_config": {
    "python": {
     "delete_cmd_postfix": "",
     "delete_cmd_prefix": "del ",
     "library": "var_list.py",
     "varRefreshCmd": "print(var_dic_list())"
    },
    "r": {
     "delete_cmd_postfix": ") ",
     "delete_cmd_prefix": "rm(",
     "library": "var_list.r",
     "varRefreshCmd": "cat(var_dic_list()) "
    }
   },
   "types_to_exclude": [
    "module",
    "function",
    "builtin_function_or_method",
    "instance",
    "_Feature"
   ],
   "window_display": false
  }
 },
 "nbformat": 4,
 "nbformat_minor": 2
}
