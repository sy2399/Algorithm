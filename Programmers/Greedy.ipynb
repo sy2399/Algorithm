{
 "cells": [
  {
   "cell_type": "markdown",
   "metadata": {},
   "source": [
    "# 조이스틱\n",
    "\n",
    "조이스틱으로 알파벳 이름을 완성하세요. 맨 처음엔 A로만 이루어져 있습니다.   \n",
    "ex) 완성해야 하는 이름이 세 글자면 AAA, 네 글자면 AAAA   \n",
    "\n",
    "조이스틱을 각 방향으로 움직이면 아래와 같습니다.   \n",
    " \n",
    "▲ - 다음 알파벳   \n",
    "▼ - 이전 알파벳 (A에서 아래쪽으로 이동하면 Z로)   \n",
    "◀ - 커서를 왼쪽으로 이동 (첫 번째 위치에서 왼쪽으로 이동하면 마지막 문자에 커서)   \n",
    "▶ - 커서를 오른쪽으로 이동   \n",
    "예를 들어 아래의 방법으로 JAZ를 만들 수 있습니다.   \n",
    "\n",
    "- 첫 번째 위치에서 조이스틱을 위로 9번 조작하여 J를 완성합니다.\n",
    "- 조이스틱을 왼쪽으로 1번 조작하여 커서를 마지막 문자 위치로 이동시킵니다.\n",
    "- 마지막 위치에서 조이스틱을 아래로 1번 조작하여 Z를 완성합니다.   \n",
    "따라서 11번 이동시켜 \"JAZ\"를 만들 수 있고, 이때가 최소 이동입니다.\n",
    "\n",
    "\n",
    "만들고자 하는 이름 name이 매개변수로 주어질 때, 이름에 대해 조이스틱 조작 횟수의 최솟값을 return 하도록 solution 함수를 만드세요.\n",
    "\n",
    "\n",
    "\n",
    "\n",
    "https://programmers.co.kr/learn/courses/30/lessons/42860"
   ]
  },
  {
   "cell_type": "markdown",
   "metadata": {},
   "source": [
    "***\n",
    "**Thinking**\n",
    "\n",
    "1. ▲, ▼\n",
    "    * [B:M] 은 ▲ 가 이득, [N:Z]는 ▼ 가 이득\n",
    "2. ◀, ▶\n",
    "    - 마지막으로 바꾼 문자부터 현재문자까지의 길이를 구해야 함\n",
    "    - 오른쪽으로 커서 이동했을 때, 왼쪽으로 커서 이동했을 때의 길이 비교해야 함\n",
    "    - 마지막으로 바꾼 문자는 index 로 체크\n",
    "***\n",
    "**Exception.. ◀, ▶**\n",
    "- **뒤부터 가는 경우** \"JAAAAAAIN\"\n",
    "    - 😱왼쪽으로 커서 이동했으면,,뒤에서부터 오는경우...왼쪽 이동이 중복 처리 되는 문제 발생 \n",
    "    - answer += min(abs(changed_idx-idx), abs(len(names)-idx))\n",
    "\n",
    "\n",
    "- **중간에 멈추고 돌아가서 계산하는 경우** \"BBAAAAABA\"\n",
    "    - 돌아서서 가는 경우, 오른쪽 & 왼쪽 이동 모두 해야 함\n",
    "    \n",
    "- 테스트 4, 7, 8"
   ]
  },
  {
   "cell_type": "code",
   "execution_count": 63,
   "metadata": {
    "ExecuteTime": {
     "end_time": "2020-10-14T06:13:46.247632Z",
     "start_time": "2020-10-14T06:13:46.240150Z"
    }
   },
   "outputs": [],
   "source": [
    "def solution(name):\n",
    "    answer = 0\n",
    "    names = [x for x in name]\n",
    "\n",
    "    changed_idx = 0\n",
    "    left_flag = False\n",
    "    for idx, ch in enumerate(names):\n",
    "        \n",
    "        diff = ord(ch)-ord('A')\n",
    "        print(\"\\n\", idx, ch, diff, \"////\", changed_idx)\n",
    "        # A가 아닐때\n",
    "        if diff != 0:  \n",
    "            \n",
    "            #-------------------------------\n",
    "            # ▲, ▼\n",
    "            answer += min(diff, 26-diff)\n",
    "            \n",
    "            #-------------------------------    \n",
    "            # ◀, ▶\n",
    "            right_cnt = abs(changed_idx-idx)\n",
    "            left_cnt = abs(len(names)-idx) + changed_idx\n",
    "            print(\"▶\", right_cnt)\n",
    "            # + changed_idx : 갔다가 되돌아 오는 경우\n",
    "            print(\"◀\", left_cnt) \n",
    "#             \n",
    "            if right_cnt <= left_cnt: \n",
    "                if left_flag == False: \n",
    "                # 만약 left_flag == True 이면 앞선 문자열을 바꿀 때 이미 뒤에서 왔기 때문에 \n",
    "                    answer += right_cnt\n",
    "                \n",
    "            else: \n",
    "                left_flag = True\n",
    "                answer += left_cnt\n",
    "                \n",
    "            print(\"Answer\", answer)   \n",
    "#             answer += min(abs(changed_idx-idx), abs(len(names)-idx))\n",
    "            \n",
    "            changed_idx = idx\n",
    "            \n",
    "\n",
    "    return answer"
   ]
  },
  {
   "cell_type": "code",
   "execution_count": 64,
   "metadata": {
    "ExecuteTime": {
     "end_time": "2020-10-14T06:13:46.771399Z",
     "start_time": "2020-10-14T06:13:46.764476Z"
    }
   },
   "outputs": [
    {
     "name": "stdout",
     "output_type": "stream",
     "text": [
      "\n",
      " 0 A 0 //// 0\n",
      "\n",
      " 1 A 0 //// 0\n",
      "\n",
      " 2 A 0 //// 0\n",
      "\n",
      " 3 B 1 //// 0\n",
      "▶ 3\n",
      "◀ 6\n",
      "Answer 4\n",
      "\n",
      " 4 A 0 //// 3\n",
      "\n",
      " 5 A 0 //// 3\n",
      "\n",
      " 6 A 0 //// 3\n",
      "\n",
      " 7 A 0 //// 3\n",
      "\n",
      " 8 B 1 //// 3\n",
      "▶ 5\n",
      "◀ 4\n",
      "Answer 9\n"
     ]
    },
    {
     "data": {
      "text/plain": [
       "9"
      ]
     },
     "execution_count": 64,
     "metadata": {},
     "output_type": "execute_result"
    }
   ],
   "source": [
    "name = \"AAABAAAA\"\n",
    "solution(name)"
   ]
  },
  {
   "cell_type": "code",
   "execution_count": null,
   "metadata": {},
   "outputs": [],
   "source": []
  }
 ],
 "metadata": {
  "hide_input": false,
  "kernelspec": {
   "display_name": "Python 3",
   "language": "python",
   "name": "python3"
  },
  "language_info": {
   "codemirror_mode": {
    "name": "ipython",
    "version": 3
   },
   "file_extension": ".py",
   "mimetype": "text/x-python",
   "name": "python",
   "nbconvert_exporter": "python",
   "pygments_lexer": "ipython3",
   "version": "3.7.4"
  },
  "toc": {
   "base_numbering": 1,
   "nav_menu": {},
   "number_sections": true,
   "sideBar": true,
   "skip_h1_title": false,
   "title_cell": "Table of Contents",
   "title_sidebar": "Contents",
   "toc_cell": false,
   "toc_position": {},
   "toc_section_display": true,
   "toc_window_display": false
  },
  "varInspector": {
   "cols": {
    "lenName": 16,
    "lenType": 16,
    "lenVar": 40
   },
   "kernels_config": {
    "python": {
     "delete_cmd_postfix": "",
     "delete_cmd_prefix": "del ",
     "library": "var_list.py",
     "varRefreshCmd": "print(var_dic_list())"
    },
    "r": {
     "delete_cmd_postfix": ") ",
     "delete_cmd_prefix": "rm(",
     "library": "var_list.r",
     "varRefreshCmd": "cat(var_dic_list()) "
    }
   },
   "types_to_exclude": [
    "module",
    "function",
    "builtin_function_or_method",
    "instance",
    "_Feature"
   ],
   "window_display": false
  }
 },
 "nbformat": 4,
 "nbformat_minor": 2
}
