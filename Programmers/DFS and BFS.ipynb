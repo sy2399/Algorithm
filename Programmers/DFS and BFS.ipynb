{
 "cells": [
  {
   "cell_type": "markdown",
   "metadata": {},
   "source": [
    "# DFS and BFS\n",
    "\n",
    "- [ ] 타겟넘버\n",
    "- [ ] 네트워크\n",
    "- [ ] 단어 변환\n",
    "- [ ] 여행경로"
   ]
  },
  {
   "cell_type": "markdown",
   "metadata": {},
   "source": [
    "## 타겟넘버 \n",
    "\n",
    "[Programmers](https://programmers.co.kr/learn/courses/30/lessons/43165)\n",
    "\n",
    "**문제 설명**   \n",
    "n개의 음이 아닌 정수가 있습니다. 이 수를 적절히 더하거나 빼서 타겟 넘버를 만들려고 합니다. 예를 들어 [1, 1, 1, 1, 1]로 숫자 3을 만들려면 다음 다섯 방법을 쓸 수 있습니다.\n",
    "\n",
    "* -1+1+1+1+1 = 3   \n",
    "* +1-1+1+1+1 = 3\n",
    "* +1+1-1+1+1 = 3\n",
    "* +1+1+1-1+1 = 3\n",
    "* +1+1+1+1-1 = 3 \n",
    "\n",
    "사용할 수 있는 숫자가 담긴 배열 numbers, 타겟 넘버 target이 매개변수로 주어질 때 숫자를 적절히 더하고 빼서 타겟 넘버를 만드는 방법의 수를 return 하도록 solution 함수를 작성해주세요.\n",
    "\n",
    "**제한사항**   \n",
    "주어지는 숫자의 개수는 2개 이상 20개 이하입니다.\n",
    "각 숫자는 1 이상 50 이하인 자연수입니다.\n",
    "타겟 넘버는 1 이상 1000 이하인 자연수입니다.\n",
    "\n"
   ]
  },
  {
   "cell_type": "markdown",
   "metadata": {},
   "source": [
    "***\n",
    "🧐🤔이게 왜 DFS/BFS 문제일까?\n",
    "\n",
    "* Queue or Stack 을 이용하는 문제?\n",
    "* **DFS 문제는 Stack 또는 재귀를 통해 풀이가 가능하다**\n",
    "* 결국은 배열에 있는 요소가 하나의 노드라고 비유한다면, 배열의 인덱스는 깊이라고 비유할 수 있다. 결국은 각 깊이에 대해 모두 탐색하게 되고, 모든 경우의 수를 모두 탐색하게 된다.\n",
    "***\n",
    "- 1이 5개, target 의 값은 3, 부호가 들어갈 수 있는 자리는 5개\n",
    "- 맨 앞에도 부호가 들어갈 수 있음\n",
    "- 주어진 수를 모두 써야하나?\n",
    "- 모두 같은 수라면, '-' 부호 한개는 주어진 수 중 두개를 없애는 것과 동일\n",
    "\n",
    "***\n",
    "**[Simple Solution](https://train-validation-test.tistory.com/entry/Programmers-level-2-%ED%83%80%EA%B2%9F-%EB%84%98%EB%B2%84-python)**\n",
    "\n",
    "트리가 있다고 가정할 때, 트리를 한층 한층 밑으로 만들어 나가는 느낌이라고 보면될 것 같다. 한 노드에 숫자를 빼고 더한 결과를 자식 노드로 쌓는다."
   ]
  },
  {
   "cell_type": "code",
   "execution_count": 6,
   "metadata": {
    "ExecuteTime": {
     "end_time": "2020-11-11T05:56:20.999941Z",
     "start_time": "2020-11-11T05:56:20.995137Z"
    }
   },
   "outputs": [],
   "source": [
    "def solution(numbers, target):\n",
    "    answer = 0\n",
    "    exp = [0]\n",
    "    for i in numbers:\n",
    "        sub = []\n",
    "        for j in exp:\n",
    "            sub.append(j+i)\n",
    "            sub.append(j-i)\n",
    "            \n",
    "#         print(\"\\nSub tree : \", sub)\n",
    "        \n",
    "        exp = sub\n",
    "        \n",
    "    return exp.count(target)"
   ]
  },
  {
   "cell_type": "markdown",
   "metadata": {},
   "source": [
    "**😱[Recursive](https://velog.io/@leesj8115/%ED%94%84%EB%A1%9C%EA%B7%B8%EB%9E%98%EB%A8%B8%EC%8A%A4-43165)**\n",
    "\n",
    "![Tree](https://t1.daumcdn.net/cfile/tistory/99B7003A5C0D2D4039)\n",
    "\n",
    "1. numbers가 비었으며(= 모든 수를 계산했으며) target이 0일 때\n",
    "    - = target에 맞는 연산이므로 return 1\n",
    "2. number가 비었지만 target이 값이 0이 아닐 경우 (= 더하고 빼는 과정에서 target과 다른 값이 나왔을 경우)\n",
    "    - = target을 구하지 못했으므로 return 0\n",
    "3. 아직 numbers가 남아있을 경우\n",
    "    - = numbers가 남았다는 것은 모든 수를 연산하지 않았다는 것이므로, target에 대해 +- numbers[0] 연산을 하고, numbers[1:]으로 계속해서 재귀를 실행한다."
   ]
  },
  {
   "cell_type": "code",
   "execution_count": 38,
   "metadata": {
    "ExecuteTime": {
     "end_time": "2020-11-11T06:13:33.247104Z",
     "start_time": "2020-11-11T06:13:33.241147Z"
    }
   },
   "outputs": [],
   "source": [
    "def solution(numbers, target):\n",
    "    # not numbers : 비어있는지 체크\n",
    "    if not numbers and target == 0 :\n",
    "        print(\"**1\")\n",
    "        return 1\n",
    "    elif not numbers:\n",
    "        print(\"******0\")\n",
    "        return 0\n",
    "    else:\n",
    "        print()\n",
    "        print(numbers[1:], target-numbers[0]) \n",
    "        print(numbers[1:], target+numbers[0])\n",
    "        print(\"solution 호출\")\n",
    "        return solution(numbers[1:], target-numbers[0]) \\\n",
    "                        + solution(numbers[1:], target+numbers[0])\n",
    "    \n",
    "    "
   ]
  },
  {
   "cell_type": "code",
   "execution_count": 39,
   "metadata": {
    "ExecuteTime": {
     "end_time": "2020-11-11T06:13:33.439781Z",
     "start_time": "2020-11-11T06:13:33.429518Z"
    }
   },
   "outputs": [
    {
     "name": "stdout",
     "output_type": "stream",
     "text": [
      "\n",
      "[1, 1, 1, 1] 2\n",
      "[1, 1, 1, 1] 4\n",
      "solution 호출\n",
      "\n",
      "[1, 1, 1] 1\n",
      "[1, 1, 1] 3\n",
      "solution 호출\n",
      "\n",
      "[1, 1] 0\n",
      "[1, 1] 2\n",
      "solution 호출\n",
      "\n",
      "[1] -1\n",
      "[1] 1\n",
      "solution 호출\n",
      "\n",
      "[] -2\n",
      "[] 0\n",
      "solution 호출\n",
      "******0\n",
      "**1\n",
      "\n",
      "[] 0\n",
      "[] 2\n",
      "solution 호출\n",
      "**1\n",
      "******0\n",
      "\n",
      "[1] 1\n",
      "[1] 3\n",
      "solution 호출\n",
      "\n",
      "[] 0\n",
      "[] 2\n",
      "solution 호출\n",
      "**1\n",
      "******0\n",
      "\n",
      "[] 2\n",
      "[] 4\n",
      "solution 호출\n",
      "******0\n",
      "******0\n",
      "\n",
      "[1, 1] 2\n",
      "[1, 1] 4\n",
      "solution 호출\n",
      "\n",
      "[1] 1\n",
      "[1] 3\n",
      "solution 호출\n",
      "\n",
      "[] 0\n",
      "[] 2\n",
      "solution 호출\n",
      "**1\n",
      "******0\n",
      "\n",
      "[] 2\n",
      "[] 4\n",
      "solution 호출\n",
      "******0\n",
      "******0\n",
      "\n",
      "[1] 3\n",
      "[1] 5\n",
      "solution 호출\n",
      "\n",
      "[] 2\n",
      "[] 4\n",
      "solution 호출\n",
      "******0\n",
      "******0\n",
      "\n",
      "[] 4\n",
      "[] 6\n",
      "solution 호출\n",
      "******0\n",
      "******0\n",
      "\n",
      "[1, 1, 1] 3\n",
      "[1, 1, 1] 5\n",
      "solution 호출\n",
      "\n",
      "[1, 1] 2\n",
      "[1, 1] 4\n",
      "solution 호출\n",
      "\n",
      "[1] 1\n",
      "[1] 3\n",
      "solution 호출\n",
      "\n",
      "[] 0\n",
      "[] 2\n",
      "solution 호출\n",
      "**1\n",
      "******0\n",
      "\n",
      "[] 2\n",
      "[] 4\n",
      "solution 호출\n",
      "******0\n",
      "******0\n",
      "\n",
      "[1] 3\n",
      "[1] 5\n",
      "solution 호출\n",
      "\n",
      "[] 2\n",
      "[] 4\n",
      "solution 호출\n",
      "******0\n",
      "******0\n",
      "\n",
      "[] 4\n",
      "[] 6\n",
      "solution 호출\n",
      "******0\n",
      "******0\n",
      "\n",
      "[1, 1] 4\n",
      "[1, 1] 6\n",
      "solution 호출\n",
      "\n",
      "[1] 3\n",
      "[1] 5\n",
      "solution 호출\n",
      "\n",
      "[] 2\n",
      "[] 4\n",
      "solution 호출\n",
      "******0\n",
      "******0\n",
      "\n",
      "[] 4\n",
      "[] 6\n",
      "solution 호출\n",
      "******0\n",
      "******0\n",
      "\n",
      "[1] 5\n",
      "[1] 7\n",
      "solution 호출\n",
      "\n",
      "[] 4\n",
      "[] 6\n",
      "solution 호출\n",
      "******0\n",
      "******0\n",
      "\n",
      "[] 6\n",
      "[] 8\n",
      "solution 호출\n",
      "******0\n",
      "******0\n"
     ]
    },
    {
     "data": {
      "text/plain": [
       "5"
      ]
     },
     "execution_count": 39,
     "metadata": {},
     "output_type": "execute_result"
    }
   ],
   "source": [
    "numbers = [1,1,1,1,1]\n",
    "target = 3\n",
    "solution(numbers, target)"
   ]
  },
  {
   "cell_type": "code",
   "execution_count": null,
   "metadata": {},
   "outputs": [],
   "source": []
  }
 ],
 "metadata": {
  "hide_input": false,
  "kernelspec": {
   "display_name": "Python 3",
   "language": "python",
   "name": "python3"
  },
  "language_info": {
   "codemirror_mode": {
    "name": "ipython",
    "version": 3
   },
   "file_extension": ".py",
   "mimetype": "text/x-python",
   "name": "python",
   "nbconvert_exporter": "python",
   "pygments_lexer": "ipython3",
   "version": "3.7.4"
  },
  "toc": {
   "base_numbering": 1,
   "nav_menu": {},
   "number_sections": true,
   "sideBar": true,
   "skip_h1_title": false,
   "title_cell": "Table of Contents",
   "title_sidebar": "Contents",
   "toc_cell": false,
   "toc_position": {},
   "toc_section_display": true,
   "toc_window_display": false
  },
  "varInspector": {
   "cols": {
    "lenName": 16,
    "lenType": 16,
    "lenVar": 40
   },
   "kernels_config": {
    "python": {
     "delete_cmd_postfix": "",
     "delete_cmd_prefix": "del ",
     "library": "var_list.py",
     "varRefreshCmd": "print(var_dic_list())"
    },
    "r": {
     "delete_cmd_postfix": ") ",
     "delete_cmd_prefix": "rm(",
     "library": "var_list.r",
     "varRefreshCmd": "cat(var_dic_list()) "
    }
   },
   "types_to_exclude": [
    "module",
    "function",
    "builtin_function_or_method",
    "instance",
    "_Feature"
   ],
   "window_display": false
  }
 },
 "nbformat": 4,
 "nbformat_minor": 2
}
